{
  "nbformat": 4,
  "nbformat_minor": 0,
  "metadata": {
    "kernelspec": {
      "display_name": "Python 3",
      "language": "python",
      "name": "python3"
    },
    "language_info": {
      "codemirror_mode": {
        "name": "ipython",
        "version": 3
      },
      "file_extension": ".py",
      "mimetype": "text/x-python",
      "name": "python",
      "nbconvert_exporter": "python",
      "pygments_lexer": "ipython3",
      "version": "3.7.0"
    },
    "colab": {
      "name": "02A_H2OAutoml.ipynb",
      "provenance": [],
      "include_colab_link": true
    }
  },
  "cells": [
    {
      "cell_type": "markdown",
      "metadata": {
        "id": "view-in-github",
        "colab_type": "text"
      },
      "source": [
        "<a href=\"https://colab.research.google.com/github/raffieeey/MasterResearchAutoML/blob/master/02A_H2OAutoml_Regres.ipynb\" target=\"_parent\"><img src=\"https://colab.research.google.com/assets/colab-badge.svg\" alt=\"Open In Colab\"/></a>"
      ]
    },
    {
      "cell_type": "markdown",
      "metadata": {
        "id": "9oybUxHpDAhG",
        "colab_type": "text"
      },
      "source": [
        "#Installing dependecies for H2O automl"
      ]
    },
    {
      "cell_type": "code",
      "metadata": {
        "id": "T08L4fWu722_",
        "colab_type": "code",
        "outputId": "a3dccc0c-4d09-4dfa-bd15-e2f5c2eefe1d",
        "colab": {
          "base_uri": "https://localhost:8080/",
          "height": 510
        }
      },
      "source": [
        "!pip install pmlb\n",
        "!pip install requests\n",
        "!pip install tabulate\n",
        "!pip install \"colorama>=0.3.8\"\n",
        "!pip install future\n",
        "!pip install pytictoc"
      ],
      "execution_count": 1,
      "outputs": [
        {
          "output_type": "stream",
          "text": [
            "Collecting pmlb\n",
            "  Downloading https://files.pythonhosted.org/packages/0d/38/bb7bf1785add978af1e6c2bd27926405959c71ebaeefa6ff610bf53d8b25/pmlb-0.3.tar.gz\n",
            "Requirement already satisfied: pandas in /usr/local/lib/python3.6/dist-packages (from pmlb) (0.24.2)\n",
            "Requirement already satisfied: python-dateutil>=2.5.0 in /usr/local/lib/python3.6/dist-packages (from pandas->pmlb) (2.5.3)\n",
            "Requirement already satisfied: pytz>=2011k in /usr/local/lib/python3.6/dist-packages (from pandas->pmlb) (2018.9)\n",
            "Requirement already satisfied: numpy>=1.12.0 in /usr/local/lib/python3.6/dist-packages (from pandas->pmlb) (1.16.5)\n",
            "Requirement already satisfied: six>=1.5 in /usr/local/lib/python3.6/dist-packages (from python-dateutil>=2.5.0->pandas->pmlb) (1.12.0)\n",
            "Building wheels for collected packages: pmlb\n",
            "  Building wheel for pmlb (setup.py) ... \u001b[?25l\u001b[?25hdone\n",
            "  Created wheel for pmlb: filename=pmlb-0.3-cp36-none-any.whl size=11918 sha256=09e90ca85e977b672969a6ffe5b2c46deb3048e4ac23081b547639c9969a224c\n",
            "  Stored in directory: /root/.cache/pip/wheels/5a/c7/a4/be59e63a2cb56f6c58f068305b95c212e0aac1a930fd77d6b0\n",
            "Successfully built pmlb\n",
            "Installing collected packages: pmlb\n",
            "Successfully installed pmlb-0.3\n",
            "Requirement already satisfied: requests in /usr/local/lib/python3.6/dist-packages (2.21.0)\n",
            "Requirement already satisfied: certifi>=2017.4.17 in /usr/local/lib/python3.6/dist-packages (from requests) (2019.6.16)\n",
            "Requirement already satisfied: urllib3<1.25,>=1.21.1 in /usr/local/lib/python3.6/dist-packages (from requests) (1.24.3)\n",
            "Requirement already satisfied: idna<2.9,>=2.5 in /usr/local/lib/python3.6/dist-packages (from requests) (2.8)\n",
            "Requirement already satisfied: chardet<3.1.0,>=3.0.2 in /usr/local/lib/python3.6/dist-packages (from requests) (3.0.4)\n",
            "Requirement already satisfied: tabulate in /usr/local/lib/python3.6/dist-packages (0.8.3)\n",
            "Collecting colorama>=0.3.8\n",
            "  Downloading https://files.pythonhosted.org/packages/4f/a6/728666f39bfff1719fc94c481890b2106837da9318031f71a8424b662e12/colorama-0.4.1-py2.py3-none-any.whl\n",
            "Installing collected packages: colorama\n",
            "Successfully installed colorama-0.4.1\n",
            "Requirement already satisfied: future in /usr/local/lib/python3.6/dist-packages (0.16.0)\n",
            "Collecting pytictoc\n",
            "  Downloading https://files.pythonhosted.org/packages/d5/cf/87661e4a929be7023172b7684a704df8379d78a2ed1b86cc01a6cd32cd11/pytictoc-1.5.0-py2.py3-none-any.whl\n",
            "Installing collected packages: pytictoc\n",
            "Successfully installed pytictoc-1.5.0\n"
          ],
          "name": "stdout"
        }
      ]
    },
    {
      "cell_type": "code",
      "metadata": {
        "id": "OQzfHPmW723D",
        "colab_type": "code",
        "colab": {}
      },
      "source": [
        "#!pip uninstall h2o -y"
      ],
      "execution_count": 0,
      "outputs": []
    },
    {
      "cell_type": "markdown",
      "metadata": {
        "id": "dsuBpRx1DU_Q",
        "colab_type": "text"
      },
      "source": [
        "## Installing H2O"
      ]
    },
    {
      "cell_type": "code",
      "metadata": {
        "id": "5kOTV6Zi723F",
        "colab_type": "code",
        "outputId": "ca0c757f-f704-48bd-ca5c-81aa93efb3ea",
        "colab": {
          "base_uri": "https://localhost:8080/",
          "height": 377
        }
      },
      "source": [
        "!pip install -f http://h2o-release.s3.amazonaws.com/h2o/latest_stable_Py.html h2o"
      ],
      "execution_count": 3,
      "outputs": [
        {
          "output_type": "stream",
          "text": [
            "Looking in links: http://h2o-release.s3.amazonaws.com/h2o/latest_stable_Py.html\n",
            "Collecting h2o\n",
            "\u001b[33m  WARNING: The repository located at h2o-release.s3.amazonaws.com is not a trusted or secure host and is being ignored. If this repository is available via HTTPS we recommend you use HTTPS instead, otherwise you may silence this warning and allow it anyway with '--trusted-host h2o-release.s3.amazonaws.com'.\u001b[0m\n",
            "\u001b[?25l  Downloading https://files.pythonhosted.org/packages/43/e5/3d75dfc75f7ef5018acf4f1f2e73cdd6ac41eca44a6908f20dd1be71acb6/h2o-3.26.0.5.tar.gz (123.6MB)\n",
            "\u001b[K     |████████████████████████████████| 123.6MB 133kB/s \n",
            "\u001b[?25hRequirement already satisfied: requests in /usr/local/lib/python3.6/dist-packages (from h2o) (2.21.0)\n",
            "Requirement already satisfied: tabulate in /usr/local/lib/python3.6/dist-packages (from h2o) (0.8.3)\n",
            "Requirement already satisfied: future in /usr/local/lib/python3.6/dist-packages (from h2o) (0.16.0)\n",
            "Requirement already satisfied: colorama>=0.3.8 in /usr/local/lib/python3.6/dist-packages (from h2o) (0.4.1)\n",
            "Requirement already satisfied: certifi>=2017.4.17 in /usr/local/lib/python3.6/dist-packages (from requests->h2o) (2019.6.16)\n",
            "Requirement already satisfied: urllib3<1.25,>=1.21.1 in /usr/local/lib/python3.6/dist-packages (from requests->h2o) (1.24.3)\n",
            "Requirement already satisfied: chardet<3.1.0,>=3.0.2 in /usr/local/lib/python3.6/dist-packages (from requests->h2o) (3.0.4)\n",
            "Requirement already satisfied: idna<2.9,>=2.5 in /usr/local/lib/python3.6/dist-packages (from requests->h2o) (2.8)\n",
            "Building wheels for collected packages: h2o\n",
            "  Building wheel for h2o (setup.py) ... \u001b[?25l\u001b[?25hdone\n",
            "  Created wheel for h2o: filename=h2o-3.26.0.5-py2.py3-none-any.whl size=123672284 sha256=9429089d5def1f5e780367c34b4edf5ad554eeb6bdde2beddbe36c14008bbc19\n",
            "  Stored in directory: /root/.cache/pip/wheels/c9/d2/24/eeb5f07ff6826ea23325338cd3fb5754b99592a3f2b4e67f27\n",
            "Successfully built h2o\n",
            "Installing collected packages: h2o\n",
            "Successfully installed h2o-3.26.0.5\n"
          ],
          "name": "stdout"
        }
      ]
    },
    {
      "cell_type": "markdown",
      "metadata": {
        "id": "rOq9n7WjzGkm",
        "colab_type": "text"
      },
      "source": [
        "## Getting the number of Cores"
      ]
    },
    {
      "cell_type": "code",
      "metadata": {
        "id": "6iRoIwaLx6Bc",
        "colab_type": "code",
        "outputId": "f2756161-97d4-4dc7-b557-e315d07141c7",
        "colab": {
          "base_uri": "https://localhost:8080/",
          "height": 955
        }
      },
      "source": [
        "!cat /proc/cpuinfo"
      ],
      "execution_count": 4,
      "outputs": [
        {
          "output_type": "stream",
          "text": [
            "processor\t: 0\n",
            "vendor_id\t: GenuineIntel\n",
            "cpu family\t: 6\n",
            "model\t\t: 79\n",
            "model name\t: Intel(R) Xeon(R) CPU @ 2.20GHz\n",
            "stepping\t: 0\n",
            "microcode\t: 0x1\n",
            "cpu MHz\t\t: 2200.000\n",
            "cache size\t: 56320 KB\n",
            "physical id\t: 0\n",
            "siblings\t: 2\n",
            "core id\t\t: 0\n",
            "cpu cores\t: 1\n",
            "apicid\t\t: 0\n",
            "initial apicid\t: 0\n",
            "fpu\t\t: yes\n",
            "fpu_exception\t: yes\n",
            "cpuid level\t: 13\n",
            "wp\t\t: yes\n",
            "flags\t\t: fpu vme de pse tsc msr pae mce cx8 apic sep mtrr pge mca cmov pat pse36 clflush mmx fxsr sse sse2 ss ht syscall nx pdpe1gb rdtscp lm constant_tsc rep_good nopl xtopology nonstop_tsc cpuid tsc_known_freq pni pclmulqdq ssse3 fma cx16 pcid sse4_1 sse4_2 x2apic movbe popcnt aes xsave avx f16c rdrand hypervisor lahf_lm abm 3dnowprefetch invpcid_single ssbd ibrs ibpb stibp fsgsbase tsc_adjust bmi1 hle avx2 smep bmi2 erms invpcid rtm rdseed adx smap xsaveopt arat md_clear arch_capabilities\n",
            "bugs\t\t: cpu_meltdown spectre_v1 spectre_v2 spec_store_bypass l1tf mds swapgs\n",
            "bogomips\t: 4400.00\n",
            "clflush size\t: 64\n",
            "cache_alignment\t: 64\n",
            "address sizes\t: 46 bits physical, 48 bits virtual\n",
            "power management:\n",
            "\n",
            "processor\t: 1\n",
            "vendor_id\t: GenuineIntel\n",
            "cpu family\t: 6\n",
            "model\t\t: 79\n",
            "model name\t: Intel(R) Xeon(R) CPU @ 2.20GHz\n",
            "stepping\t: 0\n",
            "microcode\t: 0x1\n",
            "cpu MHz\t\t: 2200.000\n",
            "cache size\t: 56320 KB\n",
            "physical id\t: 0\n",
            "siblings\t: 2\n",
            "core id\t\t: 0\n",
            "cpu cores\t: 1\n",
            "apicid\t\t: 1\n",
            "initial apicid\t: 1\n",
            "fpu\t\t: yes\n",
            "fpu_exception\t: yes\n",
            "cpuid level\t: 13\n",
            "wp\t\t: yes\n",
            "flags\t\t: fpu vme de pse tsc msr pae mce cx8 apic sep mtrr pge mca cmov pat pse36 clflush mmx fxsr sse sse2 ss ht syscall nx pdpe1gb rdtscp lm constant_tsc rep_good nopl xtopology nonstop_tsc cpuid tsc_known_freq pni pclmulqdq ssse3 fma cx16 pcid sse4_1 sse4_2 x2apic movbe popcnt aes xsave avx f16c rdrand hypervisor lahf_lm abm 3dnowprefetch invpcid_single ssbd ibrs ibpb stibp fsgsbase tsc_adjust bmi1 hle avx2 smep bmi2 erms invpcid rtm rdseed adx smap xsaveopt arat md_clear arch_capabilities\n",
            "bugs\t\t: cpu_meltdown spectre_v1 spectre_v2 spec_store_bypass l1tf mds swapgs\n",
            "bogomips\t: 4400.00\n",
            "clflush size\t: 64\n",
            "cache_alignment\t: 64\n",
            "address sizes\t: 46 bits physical, 48 bits virtual\n",
            "power management:\n",
            "\n"
          ],
          "name": "stdout"
        }
      ]
    },
    {
      "cell_type": "markdown",
      "metadata": {
        "id": "ii1wM5mLDa7Q",
        "colab_type": "text"
      },
      "source": [
        "##Starting H2O"
      ]
    },
    {
      "cell_type": "code",
      "metadata": {
        "id": "DvpyYQTa723H",
        "colab_type": "code",
        "colab": {}
      },
      "source": [
        "import h2o"
      ],
      "execution_count": 0,
      "outputs": []
    },
    {
      "cell_type": "code",
      "metadata": {
        "id": "xqc5HsNy723J",
        "colab_type": "code",
        "outputId": "1c7f4a84-b41f-460a-ca4c-2b15a2ca1a48",
        "colab": {
          "base_uri": "https://localhost:8080/",
          "height": 508
        }
      },
      "source": [
        "h2o.init(nthreads=2,\n",
        "                 min_mem_size=\"2048M\",\n",
        "                 max_mem_size=\"2048M\")"
      ],
      "execution_count": 6,
      "outputs": [
        {
          "output_type": "stream",
          "text": [
            "Checking whether there is an H2O instance running at http://localhost:54321 ..... not found.\n",
            "Attempting to start a local H2O server...\n",
            "  Java Version: openjdk version \"11.0.4\" 2019-07-16; OpenJDK Runtime Environment (build 11.0.4+11-post-Ubuntu-1ubuntu218.04.3); OpenJDK 64-Bit Server VM (build 11.0.4+11-post-Ubuntu-1ubuntu218.04.3, mixed mode, sharing)\n",
            "  Starting server from /usr/local/lib/python3.6/dist-packages/h2o/backend/bin/h2o.jar\n",
            "  Ice root: /tmp/tmptpdk6ygy\n",
            "  JVM stdout: /tmp/tmptpdk6ygy/h2o_unknownUser_started_from_python.out\n",
            "  JVM stderr: /tmp/tmptpdk6ygy/h2o_unknownUser_started_from_python.err\n",
            "  Server is running at http://127.0.0.1:54321\n",
            "Connecting to H2O server at http://127.0.0.1:54321 ... successful.\n"
          ],
          "name": "stdout"
        },
        {
          "output_type": "display_data",
          "data": {
            "text/html": [
              "<div style=\"overflow:auto\"><table style=\"width:50%\"><tr><td>H2O cluster uptime:</td>\n",
              "<td>02 secs</td></tr>\n",
              "<tr><td>H2O cluster timezone:</td>\n",
              "<td>Etc/UTC</td></tr>\n",
              "<tr><td>H2O data parsing timezone:</td>\n",
              "<td>UTC</td></tr>\n",
              "<tr><td>H2O cluster version:</td>\n",
              "<td>3.26.0.5</td></tr>\n",
              "<tr><td>H2O cluster version age:</td>\n",
              "<td>8 days </td></tr>\n",
              "<tr><td>H2O cluster name:</td>\n",
              "<td>H2O_from_python_unknownUser_mo3tpn</td></tr>\n",
              "<tr><td>H2O cluster total nodes:</td>\n",
              "<td>1</td></tr>\n",
              "<tr><td>H2O cluster free memory:</td>\n",
              "<td>2 Gb</td></tr>\n",
              "<tr><td>H2O cluster total cores:</td>\n",
              "<td>2</td></tr>\n",
              "<tr><td>H2O cluster allowed cores:</td>\n",
              "<td>2</td></tr>\n",
              "<tr><td>H2O cluster status:</td>\n",
              "<td>accepting new members, healthy</td></tr>\n",
              "<tr><td>H2O connection url:</td>\n",
              "<td>http://127.0.0.1:54321</td></tr>\n",
              "<tr><td>H2O connection proxy:</td>\n",
              "<td>None</td></tr>\n",
              "<tr><td>H2O internal security:</td>\n",
              "<td>False</td></tr>\n",
              "<tr><td>H2O API Extensions:</td>\n",
              "<td>Amazon S3, XGBoost, Algos, AutoML, Core V3, TargetEncoder, Core V4</td></tr>\n",
              "<tr><td>Python version:</td>\n",
              "<td>3.6.8 final</td></tr></table></div>"
            ],
            "text/plain": [
              "--------------------------  ------------------------------------------------------------------\n",
              "H2O cluster uptime:         02 secs\n",
              "H2O cluster timezone:       Etc/UTC\n",
              "H2O data parsing timezone:  UTC\n",
              "H2O cluster version:        3.26.0.5\n",
              "H2O cluster version age:    8 days\n",
              "H2O cluster name:           H2O_from_python_unknownUser_mo3tpn\n",
              "H2O cluster total nodes:    1\n",
              "H2O cluster free memory:    2 Gb\n",
              "H2O cluster total cores:    2\n",
              "H2O cluster allowed cores:  2\n",
              "H2O cluster status:         accepting new members, healthy\n",
              "H2O connection url:         http://127.0.0.1:54321\n",
              "H2O connection proxy:\n",
              "H2O internal security:      False\n",
              "H2O API Extensions:         Amazon S3, XGBoost, Algos, AutoML, Core V3, TargetEncoder, Core V4\n",
              "Python version:             3.6.8 final\n",
              "--------------------------  ------------------------------------------------------------------"
            ]
          },
          "metadata": {
            "tags": []
          }
        }
      ]
    },
    {
      "cell_type": "markdown",
      "metadata": {
        "id": "GsEUX9Sa8TsZ",
        "colab_type": "text"
      },
      "source": [
        "## Creating all the metrics for Regression algorithm"
      ]
    },
    {
      "cell_type": "code",
      "metadata": {
        "id": "Q0BTp81w_vcL",
        "colab_type": "code",
        "colab": {}
      },
      "source": [
        "from sklearn.metrics import mean_absolute_error, mean_squared_error, mean_squared_log_error, r2_score\n",
        "import math\n",
        "import numpy as np\n",
        "\n",
        "class MetricsCalc:\n",
        "\n",
        "    def __init__(self, truth, predictions):\n",
        "        self.truth = truth.as_data_frame()\n",
        "        self.predictions = predictions\n",
        "        self._type = 'regression'\n",
        "\n",
        "    def mae(self):\n",
        "        return float(mean_absolute_error(self.truth, self.predictions))\n",
        "\n",
        "    def mse(self):\n",
        "        return float(mean_squared_error(self.truth, self.predictions))\n",
        "\n",
        "    def msle(self):\n",
        "      try:\n",
        "        return float(mean_squared_log_error(self.truth, self.predictions))\n",
        "      except:\n",
        "        return np.nan\n",
        "    \n",
        "    def rmse(self):\n",
        "        return math.sqrt(self.mse())\n",
        "\n",
        "    def rmsle(self):\n",
        "        return math.sqrt(self.msle())\n",
        "\n",
        "    def r2(self):\n",
        "        return float(r2_score(self.truth, self.predictions))"
      ],
      "execution_count": 0,
      "outputs": []
    },
    {
      "cell_type": "markdown",
      "metadata": {
        "id": "6XG_0zgR8cqZ",
        "colab_type": "text"
      },
      "source": [
        "## Running H2O autoML with \n",
        "- 120 seconds\n",
        "- Seed 69\n",
        "- 2 Cores\n",
        "- 2GB memory\n",
        "\n",
        "- Tested for metrics: \n",
        "> - Deviance\n",
        "> - Mean Squared error\n",
        "> - Root Mean Squared error\n",
        "> - Mean Absolute error\n",
        "> - Root Mean Squared Logarithmic Error\n",
        "\n",
        "- Recorded for metrics: \n",
        "> - Mean Absolute error\n",
        "> - Mean Squared error\n",
        "> - Mean Squared Logarithmic Error\n",
        "> - Root Mean Squared error\n",
        "> - Root Mean Squared Logarithmic Error\n",
        "> - r2"
      ]
    },
    {
      "cell_type": "code",
      "metadata": {
        "id": "Qutk8kEF723M",
        "colab_type": "code",
        "outputId": "ec0ca087-dd28-414e-acff-9bd7bc38cf81",
        "colab": {
          "base_uri": "https://localhost:8080/",
          "height": 1000
        }
      },
      "source": [
        "from pmlb import classification_dataset_names, regression_dataset_names,fetch_data\n",
        "from h2o.automl import H2OAutoML\n",
        "from sklearn.model_selection import train_test_split\n",
        "from pytictoc import TicToc\n",
        "import pandas as pd\n",
        "\n",
        "df_result = pd.DataFrame(columns=[\"dataset_name\", \"metrics_recorded\", \"MAE\", \"MSE\",\"MSLE\", \"RMSE\", \"RMSLE\", \"r2\"])\n",
        "preds = {}\n",
        "top_algo = {}\n",
        "t = TicToc()\n",
        "\n",
        "\n",
        "sel_clss_dtst = ['adult','agaricus-lepiota', 'churn', 'nursery', 'satimage','texture']\n",
        "sel_rgrs_dtst = ['294_satellite_image','218_house_8L', '227_cpu_small', '503_wind', '344_mv','215_2dplanes']\n",
        "\n",
        "ix = 0\n",
        "\n",
        "for rgrs_dtst in sel_rgrs_dtst:\n",
        "  for metrics_recorded in ['RMSLE', 'MAE', 'RMSE', 'MSE', 'deviance']:\n",
        "        df_result.loc[ix,'dataset_name'] = rgrs_dtst\n",
        "        df_result.loc[ix,'metrics_recorded'] = metrics_recorded\n",
        "        print(\"_\"*80)\n",
        "        print(f\"*** Dataset Name: {rgrs_dtst} ***\")\n",
        "        X, y = fetch_data(rgrs_dtst, return_X_y=True)\n",
        "        X_train, X_test, y_train, y_test = train_test_split(X, y, test_size=0.1, random_state=69)\n",
        "        X_train = h2o.H2OFrame(X_train)\n",
        "        X_test = h2o.H2OFrame(X_test)\n",
        "        y_train = h2o.H2OFrame(y_train)\n",
        "        y_test = h2o.H2OFrame(y_test)\n",
        "        aml = H2OAutoML(seed=69, max_runtime_secs=120,sort_metric=metrics_test)\n",
        "        t.tic()\n",
        "        aml.train(x=X_train.columns, y=X_train.cbind(y_train)[:,-1].columns[0], training_frame=X_train.cbind(y_train))\n",
        "        t.toc()    \n",
        "        lb = aml.leaderboard\n",
        "        top_algo[rgrs_dtst] = lb.head(5)\n",
        "        print(\"*** Top algorithm: ***\", lb.head(5))\n",
        "        preds[rgrs_dtst] = aml.leader.predict(X_test).as_data_frame()\n",
        "        p = MetricsCalc(y_test,preds[rgrs_dtst])\n",
        "        df_result.loc[ix,'MAE'] = p.mae()\n",
        "        df_result.loc[ix,'MSE'] = p.mse()\n",
        "        df_result.loc[ix,'MSLE'] = p.msle()\n",
        "        df_result.loc[ix,'RMSE'] = p.rmse()\n",
        "        df_result.loc[ix,'RMSLE'] = p.rmsle()\n",
        "        df_result.loc[ix,'r2'] = p.r2()\n",
        "        ix+=1"
      ],
      "execution_count": 42,
      "outputs": [
        {
          "output_type": "stream",
          "text": [
            "________________________________________________________________________________\n",
            "*** Dataset Name: 294_satellite_image ***\n",
            "Parse progress: |█████████████████████████████████████████████████████████| 100%\n",
            "Parse progress: |█████████████████████████████████████████████████████████| 100%\n",
            "Parse progress: |█████████████████████████████████████████████████████████| 100%\n",
            "Parse progress: |█████████████████████████████████████████████████████████| 100%\n",
            "AutoML progress: |████████████████████████████████████████████████████████| 100%\n",
            "Elapsed time is 122.699425 seconds.\n",
            "*** Top algorithm: *** "
          ],
          "name": "stdout"
        },
        {
          "output_type": "display_data",
          "data": {
            "text/html": [
              "<table>\n",
              "<thead>\n",
              "<tr><th>model_id                                           </th><th style=\"text-align: right;\">  mean_residual_deviance</th><th style=\"text-align: right;\">    rmse</th><th style=\"text-align: right;\">     mse</th><th style=\"text-align: right;\">     mae</th><th style=\"text-align: right;\">   rmsle</th></tr>\n",
              "</thead>\n",
              "<tbody>\n",
              "<tr><td>StackedEnsemble_AllModels_AutoML_20190925_062059   </td><td style=\"text-align: right;\">                0.435182</td><td style=\"text-align: right;\">0.659684</td><td style=\"text-align: right;\">0.435182</td><td style=\"text-align: right;\">0.345599</td><td style=\"text-align: right;\">0.139374</td></tr>\n",
              "<tr><td>XGBoost_1_AutoML_20190925_062059                   </td><td style=\"text-align: right;\">                0.448831</td><td style=\"text-align: right;\">0.669948</td><td style=\"text-align: right;\">0.448831</td><td style=\"text-align: right;\">0.346144</td><td style=\"text-align: right;\">0.141641</td></tr>\n",
              "<tr><td>XGBoost_2_AutoML_20190925_062059                   </td><td style=\"text-align: right;\">                0.441276</td><td style=\"text-align: right;\">0.664286</td><td style=\"text-align: right;\">0.441276</td><td style=\"text-align: right;\">0.348864</td><td style=\"text-align: right;\">0.140782</td></tr>\n",
              "<tr><td>StackedEnsemble_BestOfFamily_AutoML_20190925_062059</td><td style=\"text-align: right;\">                0.448563</td><td style=\"text-align: right;\">0.669749</td><td style=\"text-align: right;\">0.448563</td><td style=\"text-align: right;\">0.352014</td><td style=\"text-align: right;\">0.141763</td></tr>\n",
              "<tr><td>GBM_1_AutoML_20190925_062059                       </td><td style=\"text-align: right;\">                0.505172</td><td style=\"text-align: right;\">0.710754</td><td style=\"text-align: right;\">0.505172</td><td style=\"text-align: right;\">0.377299</td><td style=\"text-align: right;\">0.153004</td></tr>\n",
              "</tbody>\n",
              "</table>"
            ]
          },
          "metadata": {
            "tags": []
          }
        },
        {
          "output_type": "stream",
          "text": [
            "\n",
            "stackedensemble prediction progress: |████████████████████████████████████| 100%\n",
            "________________________________________________________________________________\n",
            "*** Dataset Name: 294_satellite_image ***\n",
            "Parse progress: |█████████████████████████████████████████████████████████| 100%\n",
            "Parse progress: |█████████████████████████████████████████████████████████| 100%\n",
            "Parse progress: |█████████████████████████████████████████████████████████| 100%\n",
            "Parse progress: |█████████████████████████████████████████████████████████| 100%\n",
            "AutoML progress: |████████████████████████████████████████████████████████| 100%\n",
            "Elapsed time is 122.737213 seconds.\n",
            "*** Top algorithm: *** "
          ],
          "name": "stdout"
        },
        {
          "output_type": "display_data",
          "data": {
            "text/html": [
              "<table>\n",
              "<thead>\n",
              "<tr><th>model_id                                           </th><th style=\"text-align: right;\">  mean_residual_deviance</th><th style=\"text-align: right;\">    rmse</th><th style=\"text-align: right;\">     mse</th><th style=\"text-align: right;\">     mae</th><th style=\"text-align: right;\">   rmsle</th></tr>\n",
              "</thead>\n",
              "<tbody>\n",
              "<tr><td>StackedEnsemble_AllModels_AutoML_20190925_062303   </td><td style=\"text-align: right;\">                0.43518 </td><td style=\"text-align: right;\">0.659682</td><td style=\"text-align: right;\">0.43518 </td><td style=\"text-align: right;\">0.345559</td><td style=\"text-align: right;\">0.139411</td></tr>\n",
              "<tr><td>XGBoost_1_AutoML_20190925_062303                   </td><td style=\"text-align: right;\">                0.448831</td><td style=\"text-align: right;\">0.669948</td><td style=\"text-align: right;\">0.448831</td><td style=\"text-align: right;\">0.346144</td><td style=\"text-align: right;\">0.141641</td></tr>\n",
              "<tr><td>XGBoost_2_AutoML_20190925_062303                   </td><td style=\"text-align: right;\">                0.441276</td><td style=\"text-align: right;\">0.664286</td><td style=\"text-align: right;\">0.441276</td><td style=\"text-align: right;\">0.348864</td><td style=\"text-align: right;\">0.140782</td></tr>\n",
              "<tr><td>StackedEnsemble_BestOfFamily_AutoML_20190925_062303</td><td style=\"text-align: right;\">                0.448106</td><td style=\"text-align: right;\">0.669407</td><td style=\"text-align: right;\">0.448106</td><td style=\"text-align: right;\">0.351698</td><td style=\"text-align: right;\">0.141756</td></tr>\n",
              "<tr><td>GBM_1_AutoML_20190925_062303                       </td><td style=\"text-align: right;\">                0.500762</td><td style=\"text-align: right;\">0.707645</td><td style=\"text-align: right;\">0.500762</td><td style=\"text-align: right;\">0.375574</td><td style=\"text-align: right;\">0.152452</td></tr>\n",
              "</tbody>\n",
              "</table>"
            ]
          },
          "metadata": {
            "tags": []
          }
        },
        {
          "output_type": "stream",
          "text": [
            "\n",
            "stackedensemble prediction progress: |████████████████████████████████████| 100%\n",
            "________________________________________________________________________________\n",
            "*** Dataset Name: 294_satellite_image ***\n",
            "Parse progress: |█████████████████████████████████████████████████████████| 100%\n",
            "Parse progress: |█████████████████████████████████████████████████████████| 100%\n",
            "Parse progress: |█████████████████████████████████████████████████████████| 100%\n",
            "Parse progress: |█████████████████████████████████████████████████████████| 100%\n",
            "AutoML progress: |████████████████████████████████████████████████████████| 100%\n",
            "Elapsed time is 122.383861 seconds.\n",
            "*** Top algorithm: *** "
          ],
          "name": "stdout"
        },
        {
          "output_type": "display_data",
          "data": {
            "text/html": [
              "<table>\n",
              "<thead>\n",
              "<tr><th>model_id                                           </th><th style=\"text-align: right;\">  mean_residual_deviance</th><th style=\"text-align: right;\">    rmse</th><th style=\"text-align: right;\">     mse</th><th style=\"text-align: right;\">     mae</th><th style=\"text-align: right;\">   rmsle</th></tr>\n",
              "</thead>\n",
              "<tbody>\n",
              "<tr><td>StackedEnsemble_AllModels_AutoML_20190925_062508   </td><td style=\"text-align: right;\">                0.435121</td><td style=\"text-align: right;\">0.659637</td><td style=\"text-align: right;\">0.435121</td><td style=\"text-align: right;\">0.345541</td><td style=\"text-align: right;\">0.139403</td></tr>\n",
              "<tr><td>XGBoost_1_AutoML_20190925_062508                   </td><td style=\"text-align: right;\">                0.448831</td><td style=\"text-align: right;\">0.669948</td><td style=\"text-align: right;\">0.448831</td><td style=\"text-align: right;\">0.346144</td><td style=\"text-align: right;\">0.141641</td></tr>\n",
              "<tr><td>XGBoost_2_AutoML_20190925_062508                   </td><td style=\"text-align: right;\">                0.441276</td><td style=\"text-align: right;\">0.664286</td><td style=\"text-align: right;\">0.441276</td><td style=\"text-align: right;\">0.348864</td><td style=\"text-align: right;\">0.140782</td></tr>\n",
              "<tr><td>StackedEnsemble_BestOfFamily_AutoML_20190925_062508</td><td style=\"text-align: right;\">                0.448106</td><td style=\"text-align: right;\">0.669407</td><td style=\"text-align: right;\">0.448106</td><td style=\"text-align: right;\">0.351698</td><td style=\"text-align: right;\">0.141756</td></tr>\n",
              "<tr><td>GBM_1_AutoML_20190925_062508                       </td><td style=\"text-align: right;\">                0.500762</td><td style=\"text-align: right;\">0.707645</td><td style=\"text-align: right;\">0.500762</td><td style=\"text-align: right;\">0.375574</td><td style=\"text-align: right;\">0.152452</td></tr>\n",
              "</tbody>\n",
              "</table>"
            ]
          },
          "metadata": {
            "tags": []
          }
        },
        {
          "output_type": "stream",
          "text": [
            "\n",
            "stackedensemble prediction progress: |████████████████████████████████████| 100%\n",
            "________________________________________________________________________________\n",
            "*** Dataset Name: 294_satellite_image ***\n",
            "Parse progress: |█████████████████████████████████████████████████████████| 100%\n",
            "Parse progress: |█████████████████████████████████████████████████████████| 100%\n",
            "Parse progress: |█████████████████████████████████████████████████████████| 100%\n",
            "Parse progress: |█████████████████████████████████████████████████████████| 100%\n",
            "AutoML progress: |████████████████████████████████████████████████████████| 100%\n",
            "Elapsed time is 122.657596 seconds.\n",
            "*** Top algorithm: *** "
          ],
          "name": "stdout"
        },
        {
          "output_type": "display_data",
          "data": {
            "text/html": [
              "<table>\n",
              "<thead>\n",
              "<tr><th>model_id                                           </th><th style=\"text-align: right;\">  mean_residual_deviance</th><th style=\"text-align: right;\">    rmse</th><th style=\"text-align: right;\">     mse</th><th style=\"text-align: right;\">     mae</th><th style=\"text-align: right;\">   rmsle</th></tr>\n",
              "</thead>\n",
              "<tbody>\n",
              "<tr><td>StackedEnsemble_AllModels_AutoML_20190925_062711   </td><td style=\"text-align: right;\">                0.4348  </td><td style=\"text-align: right;\">0.659394</td><td style=\"text-align: right;\">0.4348  </td><td style=\"text-align: right;\">0.345507</td><td style=\"text-align: right;\">0.13927 </td></tr>\n",
              "<tr><td>XGBoost_1_AutoML_20190925_062711                   </td><td style=\"text-align: right;\">                0.448831</td><td style=\"text-align: right;\">0.669948</td><td style=\"text-align: right;\">0.448831</td><td style=\"text-align: right;\">0.346144</td><td style=\"text-align: right;\">0.141641</td></tr>\n",
              "<tr><td>XGBoost_2_AutoML_20190925_062711                   </td><td style=\"text-align: right;\">                0.441276</td><td style=\"text-align: right;\">0.664286</td><td style=\"text-align: right;\">0.441276</td><td style=\"text-align: right;\">0.348864</td><td style=\"text-align: right;\">0.140782</td></tr>\n",
              "<tr><td>StackedEnsemble_BestOfFamily_AutoML_20190925_062711</td><td style=\"text-align: right;\">                0.449057</td><td style=\"text-align: right;\">0.670117</td><td style=\"text-align: right;\">0.449057</td><td style=\"text-align: right;\">0.352655</td><td style=\"text-align: right;\">0.141695</td></tr>\n",
              "<tr><td>DRF_1_AutoML_20190925_062711                       </td><td style=\"text-align: right;\">                0.506311</td><td style=\"text-align: right;\">0.711555</td><td style=\"text-align: right;\">0.506311</td><td style=\"text-align: right;\">0.377664</td><td style=\"text-align: right;\">0.152054</td></tr>\n",
              "</tbody>\n",
              "</table>"
            ]
          },
          "metadata": {
            "tags": []
          }
        },
        {
          "output_type": "stream",
          "text": [
            "\n",
            "stackedensemble prediction progress: |████████████████████████████████████| 100%\n",
            "________________________________________________________________________________\n",
            "*** Dataset Name: 294_satellite_image ***\n",
            "Parse progress: |█████████████████████████████████████████████████████████| 100%\n",
            "Parse progress: |█████████████████████████████████████████████████████████| 100%\n",
            "Parse progress: |█████████████████████████████████████████████████████████| 100%\n",
            "Parse progress: |█████████████████████████████████████████████████████████| 100%\n",
            "AutoML progress: |████████████████████████████████████████████████████████| 100%\n",
            "Elapsed time is 123.046248 seconds.\n",
            "*** Top algorithm: *** "
          ],
          "name": "stdout"
        },
        {
          "output_type": "display_data",
          "data": {
            "text/html": [
              "<table>\n",
              "<thead>\n",
              "<tr><th>model_id                                           </th><th style=\"text-align: right;\">  mean_residual_deviance</th><th style=\"text-align: right;\">    rmse</th><th style=\"text-align: right;\">     mse</th><th style=\"text-align: right;\">     mae</th><th style=\"text-align: right;\">   rmsle</th></tr>\n",
              "</thead>\n",
              "<tbody>\n",
              "<tr><td>StackedEnsemble_AllModels_AutoML_20190925_062915   </td><td style=\"text-align: right;\">                0.435119</td><td style=\"text-align: right;\">0.659635</td><td style=\"text-align: right;\">0.435119</td><td style=\"text-align: right;\">0.345608</td><td style=\"text-align: right;\">0.139346</td></tr>\n",
              "<tr><td>XGBoost_1_AutoML_20190925_062915                   </td><td style=\"text-align: right;\">                0.448831</td><td style=\"text-align: right;\">0.669948</td><td style=\"text-align: right;\">0.448831</td><td style=\"text-align: right;\">0.346144</td><td style=\"text-align: right;\">0.141641</td></tr>\n",
              "<tr><td>XGBoost_2_AutoML_20190925_062915                   </td><td style=\"text-align: right;\">                0.441276</td><td style=\"text-align: right;\">0.664286</td><td style=\"text-align: right;\">0.441276</td><td style=\"text-align: right;\">0.348864</td><td style=\"text-align: right;\">0.140782</td></tr>\n",
              "<tr><td>StackedEnsemble_BestOfFamily_AutoML_20190925_062915</td><td style=\"text-align: right;\">                0.448615</td><td style=\"text-align: right;\">0.669787</td><td style=\"text-align: right;\">0.448615</td><td style=\"text-align: right;\">0.352136</td><td style=\"text-align: right;\">0.141732</td></tr>\n",
              "<tr><td>DRF_1_AutoML_20190925_062915                       </td><td style=\"text-align: right;\">                0.506311</td><td style=\"text-align: right;\">0.711555</td><td style=\"text-align: right;\">0.506311</td><td style=\"text-align: right;\">0.377664</td><td style=\"text-align: right;\">0.152054</td></tr>\n",
              "</tbody>\n",
              "</table>"
            ]
          },
          "metadata": {
            "tags": []
          }
        },
        {
          "output_type": "stream",
          "text": [
            "\n",
            "stackedensemble prediction progress: |████████████████████████████████████| 100%\n",
            "________________________________________________________________________________\n",
            "*** Dataset Name: 218_house_8L ***\n",
            "Parse progress: |█████████████████████████████████████████████████████████| 100%\n",
            "Parse progress: |█████████████████████████████████████████████████████████| 100%\n",
            "Parse progress: |█████████████████████████████████████████████████████████| 100%\n",
            "Parse progress: |█████████████████████████████████████████████████████████| 100%\n",
            "AutoML progress: |████████████████████████████████████████████████████████| 100%\n",
            "Elapsed time is 125.143753 seconds.\n",
            "*** Top algorithm: *** "
          ],
          "name": "stdout"
        },
        {
          "output_type": "display_data",
          "data": {
            "text/html": [
              "<table>\n",
              "<thead>\n",
              "<tr><th>model_id                                           </th><th style=\"text-align: right;\">  mean_residual_deviance</th><th style=\"text-align: right;\">   rmse</th><th style=\"text-align: right;\">        mse</th><th style=\"text-align: right;\">    mae</th><th style=\"text-align: right;\">   rmsle</th></tr>\n",
              "</thead>\n",
              "<tbody>\n",
              "<tr><td>XGBoost_1_AutoML_20190925_063121                   </td><td style=\"text-align: right;\">             8.87088e+08</td><td style=\"text-align: right;\">29784  </td><td style=\"text-align: right;\">8.87088e+08</td><td style=\"text-align: right;\">15391.1</td><td style=\"text-align: right;\">0.622207</td></tr>\n",
              "<tr><td>XGBoost_2_AutoML_20190925_063121                   </td><td style=\"text-align: right;\">             8.89982e+08</td><td style=\"text-align: right;\">29832.6</td><td style=\"text-align: right;\">8.89982e+08</td><td style=\"text-align: right;\">15440.5</td><td style=\"text-align: right;\">0.621009</td></tr>\n",
              "<tr><td>XGBoost_3_AutoML_20190925_063121                   </td><td style=\"text-align: right;\">             9.2866e+08 </td><td style=\"text-align: right;\">30473.9</td><td style=\"text-align: right;\">9.2866e+08 </td><td style=\"text-align: right;\">15971.4</td><td style=\"text-align: right;\">0.631805</td></tr>\n",
              "<tr><td>StackedEnsemble_AllModels_AutoML_20190925_063121   </td><td style=\"text-align: right;\">             2.62171e+09</td><td style=\"text-align: right;\">51202.7</td><td style=\"text-align: right;\">2.62171e+09</td><td style=\"text-align: right;\">31192.2</td><td style=\"text-align: right;\">0.911072</td></tr>\n",
              "<tr><td>StackedEnsemble_BestOfFamily_AutoML_20190925_063121</td><td style=\"text-align: right;\">             2.74687e+09</td><td style=\"text-align: right;\">52410.6</td><td style=\"text-align: right;\">2.74687e+09</td><td style=\"text-align: right;\">32066.7</td><td style=\"text-align: right;\">0.92781 </td></tr>\n",
              "</tbody>\n",
              "</table>"
            ]
          },
          "metadata": {
            "tags": []
          }
        },
        {
          "output_type": "stream",
          "text": [
            "\n",
            "xgboost prediction progress: |████████████████████████████████████████████| 100%\n",
            "________________________________________________________________________________\n",
            "*** Dataset Name: 218_house_8L ***\n",
            "Parse progress: |█████████████████████████████████████████████████████████| 100%\n",
            "Parse progress: |█████████████████████████████████████████████████████████| 100%\n",
            "Parse progress: |█████████████████████████████████████████████████████████| 100%\n",
            "Parse progress: |█████████████████████████████████████████████████████████| 100%\n",
            "AutoML progress: |████████████████████████████████████████████████████████| 100%\n",
            "Elapsed time is 125.157463 seconds.\n",
            "*** Top algorithm: *** "
          ],
          "name": "stdout"
        },
        {
          "output_type": "display_data",
          "data": {
            "text/html": [
              "<table>\n",
              "<thead>\n",
              "<tr><th>model_id                                           </th><th style=\"text-align: right;\">  mean_residual_deviance</th><th style=\"text-align: right;\">   rmse</th><th style=\"text-align: right;\">        mse</th><th style=\"text-align: right;\">    mae</th><th style=\"text-align: right;\">   rmsle</th></tr>\n",
              "</thead>\n",
              "<tbody>\n",
              "<tr><td>XGBoost_1_AutoML_20190925_063328                   </td><td style=\"text-align: right;\">             8.87088e+08</td><td style=\"text-align: right;\">29784  </td><td style=\"text-align: right;\">8.87088e+08</td><td style=\"text-align: right;\">15391.1</td><td style=\"text-align: right;\">0.622207</td></tr>\n",
              "<tr><td>XGBoost_2_AutoML_20190925_063328                   </td><td style=\"text-align: right;\">             8.90866e+08</td><td style=\"text-align: right;\">29847.4</td><td style=\"text-align: right;\">8.90866e+08</td><td style=\"text-align: right;\">15438.4</td><td style=\"text-align: right;\">0.620941</td></tr>\n",
              "<tr><td>XGBoost_3_AutoML_20190925_063328                   </td><td style=\"text-align: right;\">             9.14522e+08</td><td style=\"text-align: right;\">30241.1</td><td style=\"text-align: right;\">9.14522e+08</td><td style=\"text-align: right;\">15990.6</td><td style=\"text-align: right;\">0.631381</td></tr>\n",
              "<tr><td>StackedEnsemble_AllModels_AutoML_20190925_063328   </td><td style=\"text-align: right;\">             2.6215e+09 </td><td style=\"text-align: right;\">51200.6</td><td style=\"text-align: right;\">2.6215e+09 </td><td style=\"text-align: right;\">31192.3</td><td style=\"text-align: right;\">0.911061</td></tr>\n",
              "<tr><td>StackedEnsemble_BestOfFamily_AutoML_20190925_063328</td><td style=\"text-align: right;\">             2.74687e+09</td><td style=\"text-align: right;\">52410.6</td><td style=\"text-align: right;\">2.74687e+09</td><td style=\"text-align: right;\">32066.7</td><td style=\"text-align: right;\">0.92781 </td></tr>\n",
              "</tbody>\n",
              "</table>"
            ]
          },
          "metadata": {
            "tags": []
          }
        },
        {
          "output_type": "stream",
          "text": [
            "\n",
            "xgboost prediction progress: |████████████████████████████████████████████| 100%\n",
            "________________________________________________________________________________\n",
            "*** Dataset Name: 218_house_8L ***\n",
            "Parse progress: |█████████████████████████████████████████████████████████| 100%\n",
            "Parse progress: |█████████████████████████████████████████████████████████| 100%\n",
            "Parse progress: |█████████████████████████████████████████████████████████| 100%\n",
            "Parse progress: |█████████████████████████████████████████████████████████| 100%\n",
            "AutoML progress: |████████████████████████████████████████████████████████| 100%\n",
            "Elapsed time is 125.106536 seconds.\n",
            "*** Top algorithm: *** "
          ],
          "name": "stdout"
        },
        {
          "output_type": "display_data",
          "data": {
            "text/html": [
              "<table>\n",
              "<thead>\n",
              "<tr><th>model_id                                           </th><th style=\"text-align: right;\">  mean_residual_deviance</th><th style=\"text-align: right;\">   rmse</th><th style=\"text-align: right;\">        mse</th><th style=\"text-align: right;\">    mae</th><th style=\"text-align: right;\">   rmsle</th></tr>\n",
              "</thead>\n",
              "<tbody>\n",
              "<tr><td>XGBoost_1_AutoML_20190925_063535                   </td><td style=\"text-align: right;\">             8.87088e+08</td><td style=\"text-align: right;\">29784  </td><td style=\"text-align: right;\">8.87088e+08</td><td style=\"text-align: right;\">15391.1</td><td style=\"text-align: right;\">0.622207</td></tr>\n",
              "<tr><td>XGBoost_2_AutoML_20190925_063535                   </td><td style=\"text-align: right;\">             8.89982e+08</td><td style=\"text-align: right;\">29832.6</td><td style=\"text-align: right;\">8.89982e+08</td><td style=\"text-align: right;\">15440.5</td><td style=\"text-align: right;\">0.621009</td></tr>\n",
              "<tr><td>XGBoost_3_AutoML_20190925_063535                   </td><td style=\"text-align: right;\">             9.14522e+08</td><td style=\"text-align: right;\">30241.1</td><td style=\"text-align: right;\">9.14522e+08</td><td style=\"text-align: right;\">15990.6</td><td style=\"text-align: right;\">0.631381</td></tr>\n",
              "<tr><td>StackedEnsemble_AllModels_AutoML_20190925_063535   </td><td style=\"text-align: right;\">             2.62148e+09</td><td style=\"text-align: right;\">51200.4</td><td style=\"text-align: right;\">2.62148e+09</td><td style=\"text-align: right;\">31192.4</td><td style=\"text-align: right;\">0.91106 </td></tr>\n",
              "<tr><td>StackedEnsemble_BestOfFamily_AutoML_20190925_063535</td><td style=\"text-align: right;\">             2.74687e+09</td><td style=\"text-align: right;\">52410.6</td><td style=\"text-align: right;\">2.74687e+09</td><td style=\"text-align: right;\">32066.7</td><td style=\"text-align: right;\">0.92781 </td></tr>\n",
              "</tbody>\n",
              "</table>"
            ]
          },
          "metadata": {
            "tags": []
          }
        },
        {
          "output_type": "stream",
          "text": [
            "\n",
            "xgboost prediction progress: |████████████████████████████████████████████| 100%\n",
            "________________________________________________________________________________\n",
            "*** Dataset Name: 218_house_8L ***\n",
            "Parse progress: |█████████████████████████████████████████████████████████| 100%\n",
            "Parse progress: |█████████████████████████████████████████████████████████| 100%\n",
            "Parse progress: |█████████████████████████████████████████████████████████| 100%\n",
            "Parse progress: |█████████████████████████████████████████████████████████| 100%\n",
            "AutoML progress: |████████████████████████████████████████████████████████| 100%\n",
            "Elapsed time is 124.893452 seconds.\n",
            "*** Top algorithm: *** "
          ],
          "name": "stdout"
        },
        {
          "output_type": "display_data",
          "data": {
            "text/html": [
              "<table>\n",
              "<thead>\n",
              "<tr><th>model_id                                           </th><th style=\"text-align: right;\">  mean_residual_deviance</th><th style=\"text-align: right;\">   rmse</th><th style=\"text-align: right;\">        mse</th><th style=\"text-align: right;\">    mae</th><th style=\"text-align: right;\">   rmsle</th></tr>\n",
              "</thead>\n",
              "<tbody>\n",
              "<tr><td>XGBoost_1_AutoML_20190925_063742                   </td><td style=\"text-align: right;\">             8.87088e+08</td><td style=\"text-align: right;\">29784  </td><td style=\"text-align: right;\">8.87088e+08</td><td style=\"text-align: right;\">15391.1</td><td style=\"text-align: right;\">0.622207</td></tr>\n",
              "<tr><td>XGBoost_2_AutoML_20190925_063742                   </td><td style=\"text-align: right;\">             8.89982e+08</td><td style=\"text-align: right;\">29832.6</td><td style=\"text-align: right;\">8.89982e+08</td><td style=\"text-align: right;\">15440.5</td><td style=\"text-align: right;\">0.621009</td></tr>\n",
              "<tr><td>XGBoost_3_AutoML_20190925_063742                   </td><td style=\"text-align: right;\">             9.14522e+08</td><td style=\"text-align: right;\">30241.1</td><td style=\"text-align: right;\">9.14522e+08</td><td style=\"text-align: right;\">15990.6</td><td style=\"text-align: right;\">0.631381</td></tr>\n",
              "<tr><td>StackedEnsemble_AllModels_AutoML_20190925_063742   </td><td style=\"text-align: right;\">             2.62148e+09</td><td style=\"text-align: right;\">51200.4</td><td style=\"text-align: right;\">2.62148e+09</td><td style=\"text-align: right;\">31192.4</td><td style=\"text-align: right;\">0.91106 </td></tr>\n",
              "<tr><td>StackedEnsemble_BestOfFamily_AutoML_20190925_063742</td><td style=\"text-align: right;\">             2.74687e+09</td><td style=\"text-align: right;\">52410.6</td><td style=\"text-align: right;\">2.74687e+09</td><td style=\"text-align: right;\">32066.7</td><td style=\"text-align: right;\">0.92781 </td></tr>\n",
              "</tbody>\n",
              "</table>"
            ]
          },
          "metadata": {
            "tags": []
          }
        },
        {
          "output_type": "stream",
          "text": [
            "\n",
            "xgboost prediction progress: |████████████████████████████████████████████| 100%\n",
            "________________________________________________________________________________\n",
            "*** Dataset Name: 218_house_8L ***\n",
            "Parse progress: |█████████████████████████████████████████████████████████| 100%\n",
            "Parse progress: |█████████████████████████████████████████████████████████| 100%\n",
            "Parse progress: |█████████████████████████████████████████████████████████| 100%\n",
            "Parse progress: |█████████████████████████████████████████████████████████| 100%\n",
            "AutoML progress: |████████████████████████████████████████████████████████| 100%\n",
            "Elapsed time is 124.940196 seconds.\n",
            "*** Top algorithm: *** "
          ],
          "name": "stdout"
        },
        {
          "output_type": "display_data",
          "data": {
            "text/html": [
              "<table>\n",
              "<thead>\n",
              "<tr><th>model_id                                           </th><th style=\"text-align: right;\">  mean_residual_deviance</th><th style=\"text-align: right;\">   rmse</th><th style=\"text-align: right;\">        mse</th><th style=\"text-align: right;\">    mae</th><th style=\"text-align: right;\">   rmsle</th></tr>\n",
              "</thead>\n",
              "<tbody>\n",
              "<tr><td>XGBoost_1_AutoML_20190925_063949                   </td><td style=\"text-align: right;\">             8.87088e+08</td><td style=\"text-align: right;\">29784  </td><td style=\"text-align: right;\">8.87088e+08</td><td style=\"text-align: right;\">15391.1</td><td style=\"text-align: right;\">0.622207</td></tr>\n",
              "<tr><td>XGBoost_2_AutoML_20190925_063949                   </td><td style=\"text-align: right;\">             8.89982e+08</td><td style=\"text-align: right;\">29832.6</td><td style=\"text-align: right;\">8.89982e+08</td><td style=\"text-align: right;\">15440.5</td><td style=\"text-align: right;\">0.621009</td></tr>\n",
              "<tr><td>XGBoost_3_AutoML_20190925_063949                   </td><td style=\"text-align: right;\">             9.18089e+08</td><td style=\"text-align: right;\">30300  </td><td style=\"text-align: right;\">9.18089e+08</td><td style=\"text-align: right;\">15992.3</td><td style=\"text-align: right;\">0.631602</td></tr>\n",
              "<tr><td>StackedEnsemble_AllModels_AutoML_20190925_063949   </td><td style=\"text-align: right;\">             2.62156e+09</td><td style=\"text-align: right;\">51201.1</td><td style=\"text-align: right;\">2.62156e+09</td><td style=\"text-align: right;\">31192.2</td><td style=\"text-align: right;\">0.911061</td></tr>\n",
              "<tr><td>StackedEnsemble_BestOfFamily_AutoML_20190925_063949</td><td style=\"text-align: right;\">             2.74687e+09</td><td style=\"text-align: right;\">52410.6</td><td style=\"text-align: right;\">2.74687e+09</td><td style=\"text-align: right;\">32066.7</td><td style=\"text-align: right;\">0.92781 </td></tr>\n",
              "</tbody>\n",
              "</table>"
            ]
          },
          "metadata": {
            "tags": []
          }
        },
        {
          "output_type": "stream",
          "text": [
            "\n",
            "xgboost prediction progress: |████████████████████████████████████████████| 100%\n",
            "________________________________________________________________________________\n",
            "*** Dataset Name: 227_cpu_small ***\n",
            "Parse progress: |█████████████████████████████████████████████████████████| 100%\n",
            "Parse progress: |█████████████████████████████████████████████████████████| 100%\n",
            "Parse progress: |█████████████████████████████████████████████████████████| 100%\n",
            "Parse progress: |█████████████████████████████████████████████████████████| 100%\n",
            "AutoML progress: |████████████████████████████████████████████████████████| 100%\n",
            "Elapsed time is 123.973066 seconds.\n",
            "*** Top algorithm: *** "
          ],
          "name": "stdout"
        },
        {
          "output_type": "display_data",
          "data": {
            "text/html": [
              "<table>\n",
              "<thead>\n",
              "<tr><th>model_id                                           </th><th style=\"text-align: right;\">  mean_residual_deviance</th><th style=\"text-align: right;\">   rmse</th><th style=\"text-align: right;\">    mse</th><th style=\"text-align: right;\">    mae</th><th style=\"text-align: right;\">      rmsle</th></tr>\n",
              "</thead>\n",
              "<tbody>\n",
              "<tr><td>XGBoost_1_AutoML_20190925_064155                   </td><td style=\"text-align: right;\">                 6.96306</td><td style=\"text-align: right;\">2.63876</td><td style=\"text-align: right;\">6.96306</td><td style=\"text-align: right;\">1.83179</td><td style=\"text-align: right;\">  0.0909504</td></tr>\n",
              "<tr><td>XGBoost_2_AutoML_20190925_064155                   </td><td style=\"text-align: right;\">                 7.03657</td><td style=\"text-align: right;\">2.65265</td><td style=\"text-align: right;\">7.03657</td><td style=\"text-align: right;\">1.83733</td><td style=\"text-align: right;\">nan        </td></tr>\n",
              "<tr><td>StackedEnsemble_AllModels_AutoML_20190925_064155   </td><td style=\"text-align: right;\">                 7.03028</td><td style=\"text-align: right;\">2.65147</td><td style=\"text-align: right;\">7.03028</td><td style=\"text-align: right;\">1.86787</td><td style=\"text-align: right;\">nan        </td></tr>\n",
              "<tr><td>StackedEnsemble_BestOfFamily_AutoML_20190925_064155</td><td style=\"text-align: right;\">                 7.38521</td><td style=\"text-align: right;\">2.71757</td><td style=\"text-align: right;\">7.38521</td><td style=\"text-align: right;\">1.95488</td><td style=\"text-align: right;\">nan        </td></tr>\n",
              "<tr><td>XGBoost_3_AutoML_20190925_064155                   </td><td style=\"text-align: right;\">                 7.72235</td><td style=\"text-align: right;\">2.77891</td><td style=\"text-align: right;\">7.72235</td><td style=\"text-align: right;\">1.96725</td><td style=\"text-align: right;\">nan        </td></tr>\n",
              "</tbody>\n",
              "</table>"
            ]
          },
          "metadata": {
            "tags": []
          }
        },
        {
          "output_type": "stream",
          "text": [
            "\n",
            "xgboost prediction progress: |████████████████████████████████████████████| 100%\n",
            "________________________________________________________________________________\n",
            "*** Dataset Name: 227_cpu_small ***\n",
            "Parse progress: |█████████████████████████████████████████████████████████| 100%\n",
            "Parse progress: |█████████████████████████████████████████████████████████| 100%\n",
            "Parse progress: |█████████████████████████████████████████████████████████| 100%\n",
            "Parse progress: |█████████████████████████████████████████████████████████| 100%\n",
            "AutoML progress: |████████████████████████████████████████████████████████| 100%\n",
            "Elapsed time is 122.627653 seconds.\n",
            "*** Top algorithm: *** "
          ],
          "name": "stdout"
        },
        {
          "output_type": "display_data",
          "data": {
            "text/html": [
              "<table>\n",
              "<thead>\n",
              "<tr><th>model_id                                           </th><th style=\"text-align: right;\">  mean_residual_deviance</th><th style=\"text-align: right;\">   rmse</th><th style=\"text-align: right;\">    mse</th><th style=\"text-align: right;\">    mae</th><th style=\"text-align: right;\">      rmsle</th></tr>\n",
              "</thead>\n",
              "<tbody>\n",
              "<tr><td>XGBoost_1_AutoML_20190925_064400                   </td><td style=\"text-align: right;\">                 6.96306</td><td style=\"text-align: right;\">2.63876</td><td style=\"text-align: right;\">6.96306</td><td style=\"text-align: right;\">1.83179</td><td style=\"text-align: right;\">  0.0909504</td></tr>\n",
              "<tr><td>XGBoost_2_AutoML_20190925_064400                   </td><td style=\"text-align: right;\">                 7.03657</td><td style=\"text-align: right;\">2.65265</td><td style=\"text-align: right;\">7.03657</td><td style=\"text-align: right;\">1.83733</td><td style=\"text-align: right;\">nan        </td></tr>\n",
              "<tr><td>StackedEnsemble_AllModels_AutoML_20190925_064400   </td><td style=\"text-align: right;\">                 7.10679</td><td style=\"text-align: right;\">2.66586</td><td style=\"text-align: right;\">7.10679</td><td style=\"text-align: right;\">1.86777</td><td style=\"text-align: right;\">nan        </td></tr>\n",
              "<tr><td>StackedEnsemble_BestOfFamily_AutoML_20190925_064400</td><td style=\"text-align: right;\">                 7.53299</td><td style=\"text-align: right;\">2.74463</td><td style=\"text-align: right;\">7.53299</td><td style=\"text-align: right;\">1.9445 </td><td style=\"text-align: right;\">nan        </td></tr>\n",
              "<tr><td>XGBoost_3_AutoML_20190925_064400                   </td><td style=\"text-align: right;\">                 7.61765</td><td style=\"text-align: right;\">2.76001</td><td style=\"text-align: right;\">7.61765</td><td style=\"text-align: right;\">1.94611</td><td style=\"text-align: right;\">nan        </td></tr>\n",
              "</tbody>\n",
              "</table>"
            ]
          },
          "metadata": {
            "tags": []
          }
        },
        {
          "output_type": "stream",
          "text": [
            "\n",
            "xgboost prediction progress: |████████████████████████████████████████████| 100%\n",
            "________________________________________________________________________________\n",
            "*** Dataset Name: 227_cpu_small ***\n",
            "Parse progress: |█████████████████████████████████████████████████████████| 100%\n",
            "Parse progress: |█████████████████████████████████████████████████████████| 100%\n",
            "Parse progress: |█████████████████████████████████████████████████████████| 100%\n",
            "Parse progress: |█████████████████████████████████████████████████████████| 100%\n",
            "AutoML progress: |████████████████████████████████████████████████████████| 100%\n",
            "Elapsed time is 122.984019 seconds.\n",
            "*** Top algorithm: *** "
          ],
          "name": "stdout"
        },
        {
          "output_type": "display_data",
          "data": {
            "text/html": [
              "<table>\n",
              "<thead>\n",
              "<tr><th>model_id                                           </th><th style=\"text-align: right;\">  mean_residual_deviance</th><th style=\"text-align: right;\">   rmse</th><th style=\"text-align: right;\">    mse</th><th style=\"text-align: right;\">    mae</th><th style=\"text-align: right;\">      rmsle</th></tr>\n",
              "</thead>\n",
              "<tbody>\n",
              "<tr><td>XGBoost_1_AutoML_20190925_064604                   </td><td style=\"text-align: right;\">                 6.96306</td><td style=\"text-align: right;\">2.63876</td><td style=\"text-align: right;\">6.96306</td><td style=\"text-align: right;\">1.83179</td><td style=\"text-align: right;\">  0.0909504</td></tr>\n",
              "<tr><td>XGBoost_2_AutoML_20190925_064604                   </td><td style=\"text-align: right;\">                 7.03657</td><td style=\"text-align: right;\">2.65265</td><td style=\"text-align: right;\">7.03657</td><td style=\"text-align: right;\">1.83733</td><td style=\"text-align: right;\">nan        </td></tr>\n",
              "<tr><td>StackedEnsemble_AllModels_AutoML_20190925_064604   </td><td style=\"text-align: right;\">                 7.11006</td><td style=\"text-align: right;\">2.66647</td><td style=\"text-align: right;\">7.11006</td><td style=\"text-align: right;\">1.87586</td><td style=\"text-align: right;\">nan        </td></tr>\n",
              "<tr><td>XGBoost_3_AutoML_20190925_064604                   </td><td style=\"text-align: right;\">                 7.62856</td><td style=\"text-align: right;\">2.76198</td><td style=\"text-align: right;\">7.62856</td><td style=\"text-align: right;\">1.94706</td><td style=\"text-align: right;\">nan        </td></tr>\n",
              "<tr><td>StackedEnsemble_BestOfFamily_AutoML_20190925_064604</td><td style=\"text-align: right;\">                 7.66743</td><td style=\"text-align: right;\">2.76901</td><td style=\"text-align: right;\">7.66743</td><td style=\"text-align: right;\">1.98045</td><td style=\"text-align: right;\">nan        </td></tr>\n",
              "</tbody>\n",
              "</table>"
            ]
          },
          "metadata": {
            "tags": []
          }
        },
        {
          "output_type": "stream",
          "text": [
            "\n",
            "xgboost prediction progress: |████████████████████████████████████████████| 100%\n",
            "________________________________________________________________________________\n",
            "*** Dataset Name: 227_cpu_small ***\n",
            "Parse progress: |█████████████████████████████████████████████████████████| 100%\n",
            "Parse progress: |█████████████████████████████████████████████████████████| 100%\n",
            "Parse progress: |█████████████████████████████████████████████████████████| 100%\n",
            "Parse progress: |█████████████████████████████████████████████████████████| 100%\n",
            "AutoML progress: |████████████████████████████████████████████████████████| 100%\n",
            "Elapsed time is 124.238192 seconds.\n",
            "*** Top algorithm: *** "
          ],
          "name": "stdout"
        },
        {
          "output_type": "display_data",
          "data": {
            "text/html": [
              "<table>\n",
              "<thead>\n",
              "<tr><th>model_id                                           </th><th style=\"text-align: right;\">  mean_residual_deviance</th><th style=\"text-align: right;\">   rmse</th><th style=\"text-align: right;\">    mse</th><th style=\"text-align: right;\">    mae</th><th style=\"text-align: right;\">      rmsle</th></tr>\n",
              "</thead>\n",
              "<tbody>\n",
              "<tr><td>XGBoost_1_AutoML_20190925_064809                   </td><td style=\"text-align: right;\">                 6.96306</td><td style=\"text-align: right;\">2.63876</td><td style=\"text-align: right;\">6.96306</td><td style=\"text-align: right;\">1.83179</td><td style=\"text-align: right;\">  0.0909504</td></tr>\n",
              "<tr><td>XGBoost_2_AutoML_20190925_064809                   </td><td style=\"text-align: right;\">                 7.03647</td><td style=\"text-align: right;\">2.65264</td><td style=\"text-align: right;\">7.03647</td><td style=\"text-align: right;\">1.83738</td><td style=\"text-align: right;\">nan        </td></tr>\n",
              "<tr><td>StackedEnsemble_AllModels_AutoML_20190925_064809   </td><td style=\"text-align: right;\">                 7.02399</td><td style=\"text-align: right;\">2.65028</td><td style=\"text-align: right;\">7.02399</td><td style=\"text-align: right;\">1.86645</td><td style=\"text-align: right;\">nan        </td></tr>\n",
              "<tr><td>XGBoost_3_AutoML_20190925_064809                   </td><td style=\"text-align: right;\">                 7.66205</td><td style=\"text-align: right;\">2.76804</td><td style=\"text-align: right;\">7.66205</td><td style=\"text-align: right;\">1.95226</td><td style=\"text-align: right;\">nan        </td></tr>\n",
              "<tr><td>StackedEnsemble_BestOfFamily_AutoML_20190925_064809</td><td style=\"text-align: right;\">                 7.38521</td><td style=\"text-align: right;\">2.71757</td><td style=\"text-align: right;\">7.38521</td><td style=\"text-align: right;\">1.95488</td><td style=\"text-align: right;\">nan        </td></tr>\n",
              "</tbody>\n",
              "</table>"
            ]
          },
          "metadata": {
            "tags": []
          }
        },
        {
          "output_type": "stream",
          "text": [
            "\n",
            "xgboost prediction progress: |████████████████████████████████████████████| 100%\n",
            "________________________________________________________________________________\n",
            "*** Dataset Name: 227_cpu_small ***\n",
            "Parse progress: |█████████████████████████████████████████████████████████| 100%\n",
            "Parse progress: |█████████████████████████████████████████████████████████| 100%\n",
            "Parse progress: |█████████████████████████████████████████████████████████| 100%\n",
            "Parse progress: |█████████████████████████████████████████████████████████| 100%\n",
            "AutoML progress: |████████████████████████████████████████████████████████| 100%\n",
            "Elapsed time is 123.989166 seconds.\n",
            "*** Top algorithm: *** "
          ],
          "name": "stdout"
        },
        {
          "output_type": "display_data",
          "data": {
            "text/html": [
              "<table>\n",
              "<thead>\n",
              "<tr><th>model_id                                           </th><th style=\"text-align: right;\">  mean_residual_deviance</th><th style=\"text-align: right;\">   rmse</th><th style=\"text-align: right;\">    mse</th><th style=\"text-align: right;\">    mae</th><th style=\"text-align: right;\">      rmsle</th></tr>\n",
              "</thead>\n",
              "<tbody>\n",
              "<tr><td>XGBoost_1_AutoML_20190925_065015                   </td><td style=\"text-align: right;\">                 6.96306</td><td style=\"text-align: right;\">2.63876</td><td style=\"text-align: right;\">6.96306</td><td style=\"text-align: right;\">1.83179</td><td style=\"text-align: right;\">  0.0909504</td></tr>\n",
              "<tr><td>XGBoost_2_AutoML_20190925_065015                   </td><td style=\"text-align: right;\">                 7.03657</td><td style=\"text-align: right;\">2.65265</td><td style=\"text-align: right;\">7.03657</td><td style=\"text-align: right;\">1.83733</td><td style=\"text-align: right;\">nan        </td></tr>\n",
              "<tr><td>StackedEnsemble_AllModels_AutoML_20190925_065015   </td><td style=\"text-align: right;\">                 7.01014</td><td style=\"text-align: right;\">2.64767</td><td style=\"text-align: right;\">7.01014</td><td style=\"text-align: right;\">1.86436</td><td style=\"text-align: right;\">nan        </td></tr>\n",
              "<tr><td>XGBoost_3_AutoML_20190925_065015                   </td><td style=\"text-align: right;\">                 7.59275</td><td style=\"text-align: right;\">2.75549</td><td style=\"text-align: right;\">7.59275</td><td style=\"text-align: right;\">1.94118</td><td style=\"text-align: right;\">nan        </td></tr>\n",
              "<tr><td>StackedEnsemble_BestOfFamily_AutoML_20190925_065015</td><td style=\"text-align: right;\">                 7.38521</td><td style=\"text-align: right;\">2.71757</td><td style=\"text-align: right;\">7.38521</td><td style=\"text-align: right;\">1.95488</td><td style=\"text-align: right;\">nan        </td></tr>\n",
              "</tbody>\n",
              "</table>"
            ]
          },
          "metadata": {
            "tags": []
          }
        },
        {
          "output_type": "stream",
          "text": [
            "\n",
            "xgboost prediction progress: |████████████████████████████████████████████| 100%\n",
            "________________________________________________________________________________\n",
            "*** Dataset Name: 503_wind ***\n",
            "Parse progress: |█████████████████████████████████████████████████████████| 100%\n",
            "Parse progress: |█████████████████████████████████████████████████████████| 100%\n",
            "Parse progress: |█████████████████████████████████████████████████████████| 100%\n",
            "Parse progress: |█████████████████████████████████████████████████████████| 100%\n",
            "AutoML progress: |████████████████████████████████████████████████████████| 100%\n",
            "Elapsed time is 123.874497 seconds.\n",
            "*** Top algorithm: *** "
          ],
          "name": "stdout"
        },
        {
          "output_type": "display_data",
          "data": {
            "text/html": [
              "<table>\n",
              "<thead>\n",
              "<tr><th>model_id                                           </th><th style=\"text-align: right;\">  mean_residual_deviance</th><th style=\"text-align: right;\">   rmse</th><th style=\"text-align: right;\">    mse</th><th style=\"text-align: right;\">    mae</th><th style=\"text-align: right;\">   rmsle</th></tr>\n",
              "</thead>\n",
              "<tbody>\n",
              "<tr><td>StackedEnsemble_AllModels_AutoML_20190925_065220   </td><td style=\"text-align: right;\">                 9.25575</td><td style=\"text-align: right;\">3.04233</td><td style=\"text-align: right;\">9.25575</td><td style=\"text-align: right;\">2.32099</td><td style=\"text-align: right;\">0.214474</td></tr>\n",
              "<tr><td>StackedEnsemble_BestOfFamily_AutoML_20190925_065220</td><td style=\"text-align: right;\">                 9.39517</td><td style=\"text-align: right;\">3.06515</td><td style=\"text-align: right;\">9.39517</td><td style=\"text-align: right;\">2.33752</td><td style=\"text-align: right;\">0.215683</td></tr>\n",
              "<tr><td>XGBoost_3_AutoML_20190925_065220                   </td><td style=\"text-align: right;\">                 9.46312</td><td style=\"text-align: right;\">3.07622</td><td style=\"text-align: right;\">9.46312</td><td style=\"text-align: right;\">2.35013</td><td style=\"text-align: right;\">0.216929</td></tr>\n",
              "<tr><td>XGBoost_1_AutoML_20190925_065220                   </td><td style=\"text-align: right;\">                 9.56284</td><td style=\"text-align: right;\">3.09238</td><td style=\"text-align: right;\">9.56284</td><td style=\"text-align: right;\">2.3571 </td><td style=\"text-align: right;\">0.217846</td></tr>\n",
              "<tr><td>XGBoost_2_AutoML_20190925_065220                   </td><td style=\"text-align: right;\">                 9.51857</td><td style=\"text-align: right;\">3.08522</td><td style=\"text-align: right;\">9.51857</td><td style=\"text-align: right;\">2.35735</td><td style=\"text-align: right;\">0.217348</td></tr>\n",
              "</tbody>\n",
              "</table>"
            ]
          },
          "metadata": {
            "tags": []
          }
        },
        {
          "output_type": "stream",
          "text": [
            "\n",
            "stackedensemble prediction progress: |████████████████████████████████████| 100%\n",
            "________________________________________________________________________________\n",
            "*** Dataset Name: 503_wind ***\n",
            "Parse progress: |█████████████████████████████████████████████████████████| 100%\n",
            "Parse progress: |█████████████████████████████████████████████████████████| 100%\n",
            "Parse progress: |█████████████████████████████████████████████████████████| 100%\n",
            "Parse progress: |█████████████████████████████████████████████████████████| 100%\n",
            "AutoML progress: |████████████████████████████████████████████████████████| 100%\n",
            "Elapsed time is 124.842886 seconds.\n",
            "*** Top algorithm: *** "
          ],
          "name": "stdout"
        },
        {
          "output_type": "display_data",
          "data": {
            "text/html": [
              "<table>\n",
              "<thead>\n",
              "<tr><th>model_id                                           </th><th style=\"text-align: right;\">  mean_residual_deviance</th><th style=\"text-align: right;\">   rmse</th><th style=\"text-align: right;\">    mse</th><th style=\"text-align: right;\">    mae</th><th style=\"text-align: right;\">   rmsle</th></tr>\n",
              "</thead>\n",
              "<tbody>\n",
              "<tr><td>StackedEnsemble_AllModels_AutoML_20190925_065425   </td><td style=\"text-align: right;\">                 9.22172</td><td style=\"text-align: right;\">3.03673</td><td style=\"text-align: right;\">9.22172</td><td style=\"text-align: right;\">2.31636</td><td style=\"text-align: right;\">0.214186</td></tr>\n",
              "<tr><td>StackedEnsemble_BestOfFamily_AutoML_20190925_065425</td><td style=\"text-align: right;\">                 9.35256</td><td style=\"text-align: right;\">3.0582 </td><td style=\"text-align: right;\">9.35256</td><td style=\"text-align: right;\">2.33208</td><td style=\"text-align: right;\">0.215357</td></tr>\n",
              "<tr><td>XGBoost_3_AutoML_20190925_065425                   </td><td style=\"text-align: right;\">                 9.46312</td><td style=\"text-align: right;\">3.07622</td><td style=\"text-align: right;\">9.46312</td><td style=\"text-align: right;\">2.35013</td><td style=\"text-align: right;\">0.216929</td></tr>\n",
              "<tr><td>XGBoost_1_AutoML_20190925_065425                   </td><td style=\"text-align: right;\">                 9.56284</td><td style=\"text-align: right;\">3.09238</td><td style=\"text-align: right;\">9.56284</td><td style=\"text-align: right;\">2.3571 </td><td style=\"text-align: right;\">0.217846</td></tr>\n",
              "<tr><td>XGBoost_2_AutoML_20190925_065425                   </td><td style=\"text-align: right;\">                 9.51857</td><td style=\"text-align: right;\">3.08522</td><td style=\"text-align: right;\">9.51857</td><td style=\"text-align: right;\">2.35735</td><td style=\"text-align: right;\">0.217348</td></tr>\n",
              "</tbody>\n",
              "</table>"
            ]
          },
          "metadata": {
            "tags": []
          }
        },
        {
          "output_type": "stream",
          "text": [
            "\n",
            "stackedensemble prediction progress: |████████████████████████████████████| 100%\n",
            "________________________________________________________________________________\n",
            "*** Dataset Name: 503_wind ***\n",
            "Parse progress: |█████████████████████████████████████████████████████████| 100%\n",
            "Parse progress: |█████████████████████████████████████████████████████████| 100%\n",
            "Parse progress: |█████████████████████████████████████████████████████████| 100%\n",
            "Parse progress: |█████████████████████████████████████████████████████████| 100%\n",
            "AutoML progress: |████████████████████████████████████████████████████████| 100%\n",
            "Elapsed time is 122.472687 seconds.\n",
            "*** Top algorithm: *** "
          ],
          "name": "stdout"
        },
        {
          "output_type": "display_data",
          "data": {
            "text/html": [
              "<table>\n",
              "<thead>\n",
              "<tr><th>model_id                                           </th><th style=\"text-align: right;\">  mean_residual_deviance</th><th style=\"text-align: right;\">   rmse</th><th style=\"text-align: right;\">    mse</th><th style=\"text-align: right;\">    mae</th><th style=\"text-align: right;\">   rmsle</th></tr>\n",
              "</thead>\n",
              "<tbody>\n",
              "<tr><td>StackedEnsemble_AllModels_AutoML_20190925_065632   </td><td style=\"text-align: right;\">                 9.22181</td><td style=\"text-align: right;\">3.03674</td><td style=\"text-align: right;\">9.22181</td><td style=\"text-align: right;\">2.31571</td><td style=\"text-align: right;\">0.214328</td></tr>\n",
              "<tr><td>StackedEnsemble_BestOfFamily_AutoML_20190925_065632</td><td style=\"text-align: right;\">                 9.35524</td><td style=\"text-align: right;\">3.05863</td><td style=\"text-align: right;\">9.35524</td><td style=\"text-align: right;\">2.33111</td><td style=\"text-align: right;\">0.215597</td></tr>\n",
              "<tr><td>XGBoost_3_AutoML_20190925_065632                   </td><td style=\"text-align: right;\">                 9.46312</td><td style=\"text-align: right;\">3.07622</td><td style=\"text-align: right;\">9.46312</td><td style=\"text-align: right;\">2.35013</td><td style=\"text-align: right;\">0.216929</td></tr>\n",
              "<tr><td>XGBoost_1_AutoML_20190925_065632                   </td><td style=\"text-align: right;\">                 9.56284</td><td style=\"text-align: right;\">3.09238</td><td style=\"text-align: right;\">9.56284</td><td style=\"text-align: right;\">2.3571 </td><td style=\"text-align: right;\">0.217846</td></tr>\n",
              "<tr><td>XGBoost_2_AutoML_20190925_065632                   </td><td style=\"text-align: right;\">                 9.51857</td><td style=\"text-align: right;\">3.08522</td><td style=\"text-align: right;\">9.51857</td><td style=\"text-align: right;\">2.35735</td><td style=\"text-align: right;\">0.217348</td></tr>\n",
              "</tbody>\n",
              "</table>"
            ]
          },
          "metadata": {
            "tags": []
          }
        },
        {
          "output_type": "stream",
          "text": [
            "\n",
            "stackedensemble prediction progress: |████████████████████████████████████| 100%\n",
            "________________________________________________________________________________\n",
            "*** Dataset Name: 503_wind ***\n",
            "Parse progress: |█████████████████████████████████████████████████████████| 100%\n",
            "Parse progress: |█████████████████████████████████████████████████████████| 100%\n",
            "Parse progress: |█████████████████████████████████████████████████████████| 100%\n",
            "Parse progress: |█████████████████████████████████████████████████████████| 100%\n",
            "AutoML progress: |████████████████████████████████████████████████████████| 100%\n",
            "Elapsed time is 124.064074 seconds.\n",
            "*** Top algorithm: *** "
          ],
          "name": "stdout"
        },
        {
          "output_type": "display_data",
          "data": {
            "text/html": [
              "<table>\n",
              "<thead>\n",
              "<tr><th>model_id                                           </th><th style=\"text-align: right;\">  mean_residual_deviance</th><th style=\"text-align: right;\">   rmse</th><th style=\"text-align: right;\">    mse</th><th style=\"text-align: right;\">    mae</th><th style=\"text-align: right;\">   rmsle</th></tr>\n",
              "</thead>\n",
              "<tbody>\n",
              "<tr><td>StackedEnsemble_AllModels_AutoML_20190925_065836   </td><td style=\"text-align: right;\">                 9.1992 </td><td style=\"text-align: right;\">3.03302</td><td style=\"text-align: right;\">9.1992 </td><td style=\"text-align: right;\">2.31186</td><td style=\"text-align: right;\">0.214124</td></tr>\n",
              "<tr><td>StackedEnsemble_BestOfFamily_AutoML_20190925_065836</td><td style=\"text-align: right;\">                 9.3286 </td><td style=\"text-align: right;\">3.05428</td><td style=\"text-align: right;\">9.3286 </td><td style=\"text-align: right;\">2.32696</td><td style=\"text-align: right;\">0.215329</td></tr>\n",
              "<tr><td>XGBoost_3_AutoML_20190925_065836                   </td><td style=\"text-align: right;\">                 9.46312</td><td style=\"text-align: right;\">3.07622</td><td style=\"text-align: right;\">9.46312</td><td style=\"text-align: right;\">2.35013</td><td style=\"text-align: right;\">0.216929</td></tr>\n",
              "<tr><td>XGBoost_1_AutoML_20190925_065836                   </td><td style=\"text-align: right;\">                 9.56284</td><td style=\"text-align: right;\">3.09238</td><td style=\"text-align: right;\">9.56284</td><td style=\"text-align: right;\">2.3571 </td><td style=\"text-align: right;\">0.217846</td></tr>\n",
              "<tr><td>XGBoost_2_AutoML_20190925_065836                   </td><td style=\"text-align: right;\">                 9.51857</td><td style=\"text-align: right;\">3.08522</td><td style=\"text-align: right;\">9.51857</td><td style=\"text-align: right;\">2.35735</td><td style=\"text-align: right;\">0.217348</td></tr>\n",
              "</tbody>\n",
              "</table>"
            ]
          },
          "metadata": {
            "tags": []
          }
        },
        {
          "output_type": "stream",
          "text": [
            "\n",
            "stackedensemble prediction progress: |████████████████████████████████████| 100%\n",
            "________________________________________________________________________________\n",
            "*** Dataset Name: 503_wind ***\n",
            "Parse progress: |█████████████████████████████████████████████████████████| 100%\n",
            "Parse progress: |█████████████████████████████████████████████████████████| 100%\n",
            "Parse progress: |█████████████████████████████████████████████████████████| 100%\n",
            "Parse progress: |█████████████████████████████████████████████████████████| 100%\n",
            "AutoML progress: |████████████████████████████████████████████████████████| 100%\n",
            "Elapsed time is 123.881734 seconds.\n",
            "*** Top algorithm: *** "
          ],
          "name": "stdout"
        },
        {
          "output_type": "display_data",
          "data": {
            "text/html": [
              "<table>\n",
              "<thead>\n",
              "<tr><th>model_id                                           </th><th style=\"text-align: right;\">  mean_residual_deviance</th><th style=\"text-align: right;\">   rmse</th><th style=\"text-align: right;\">    mse</th><th style=\"text-align: right;\">    mae</th><th style=\"text-align: right;\">   rmsle</th></tr>\n",
              "</thead>\n",
              "<tbody>\n",
              "<tr><td>StackedEnsemble_AllModels_AutoML_20190925_070041   </td><td style=\"text-align: right;\">                 9.1998 </td><td style=\"text-align: right;\">3.03312</td><td style=\"text-align: right;\">9.1998 </td><td style=\"text-align: right;\">2.31219</td><td style=\"text-align: right;\">0.214304</td></tr>\n",
              "<tr><td>StackedEnsemble_BestOfFamily_AutoML_20190925_070041</td><td style=\"text-align: right;\">                 9.33088</td><td style=\"text-align: right;\">3.05465</td><td style=\"text-align: right;\">9.33088</td><td style=\"text-align: right;\">2.32738</td><td style=\"text-align: right;\">0.215564</td></tr>\n",
              "<tr><td>XGBoost_3_AutoML_20190925_070041                   </td><td style=\"text-align: right;\">                 9.46312</td><td style=\"text-align: right;\">3.07622</td><td style=\"text-align: right;\">9.46312</td><td style=\"text-align: right;\">2.35013</td><td style=\"text-align: right;\">0.216929</td></tr>\n",
              "<tr><td>XGBoost_1_AutoML_20190925_070041                   </td><td style=\"text-align: right;\">                 9.56284</td><td style=\"text-align: right;\">3.09238</td><td style=\"text-align: right;\">9.56284</td><td style=\"text-align: right;\">2.3571 </td><td style=\"text-align: right;\">0.217846</td></tr>\n",
              "<tr><td>XGBoost_2_AutoML_20190925_070041                   </td><td style=\"text-align: right;\">                 9.51857</td><td style=\"text-align: right;\">3.08522</td><td style=\"text-align: right;\">9.51857</td><td style=\"text-align: right;\">2.35735</td><td style=\"text-align: right;\">0.217348</td></tr>\n",
              "</tbody>\n",
              "</table>"
            ]
          },
          "metadata": {
            "tags": []
          }
        },
        {
          "output_type": "stream",
          "text": [
            "\n",
            "stackedensemble prediction progress: |████████████████████████████████████| 100%\n",
            "________________________________________________________________________________\n",
            "*** Dataset Name: 344_mv ***\n",
            "Parse progress: |█████████████████████████████████████████████████████████| 100%\n",
            "Parse progress: |█████████████████████████████████████████████████████████| 100%\n",
            "Parse progress: |█████████████████████████████████████████████████████████| 100%\n",
            "Parse progress: |█████████████████████████████████████████████████████████| 100%\n",
            "AutoML progress: |████████████████████████████████████████████████████████| 100%\n",
            "Elapsed time is 121.971483 seconds.\n",
            "*** Top algorithm: *** "
          ],
          "name": "stdout"
        },
        {
          "output_type": "display_data",
          "data": {
            "text/html": [
              "<table>\n",
              "<thead>\n",
              "<tr><th>model_id                        </th><th style=\"text-align: right;\">  mean_residual_deviance</th><th style=\"text-align: right;\">    rmse</th><th style=\"text-align: right;\">     mse</th><th style=\"text-align: right;\">     mae</th><th style=\"text-align: right;\">  rmsle</th></tr>\n",
              "</thead>\n",
              "<tbody>\n",
              "<tr><td>XGBoost_1_AutoML_20190925_070249</td><td style=\"text-align: right;\">                0.110706</td><td style=\"text-align: right;\">0.332726</td><td style=\"text-align: right;\">0.110706</td><td style=\"text-align: right;\">0.209237</td><td style=\"text-align: right;\">    nan</td></tr>\n",
              "</tbody>\n",
              "</table>"
            ]
          },
          "metadata": {
            "tags": []
          }
        },
        {
          "output_type": "stream",
          "text": [
            "\n",
            "xgboost prediction progress: |████████████████████████████████████████████| 100%\n",
            "________________________________________________________________________________\n",
            "*** Dataset Name: 344_mv ***\n",
            "Parse progress: |█████████████████████████████████████████████████████████| 100%\n",
            "Parse progress: |█████████████████████████████████████████████████████████| 100%\n",
            "Parse progress: |█████████████████████████████████████████████████████████| 100%\n",
            "Parse progress: |█████████████████████████████████████████████████████████| 100%\n",
            "AutoML progress: |████████████████████████████████████████████████████████| 100%\n",
            "Elapsed time is 121.879901 seconds.\n",
            "*** Top algorithm: *** "
          ],
          "name": "stdout"
        },
        {
          "output_type": "display_data",
          "data": {
            "text/html": [
              "<table>\n",
              "<thead>\n",
              "<tr><th>model_id                        </th><th style=\"text-align: right;\">  mean_residual_deviance</th><th style=\"text-align: right;\">    rmse</th><th style=\"text-align: right;\">   mse</th><th style=\"text-align: right;\">     mae</th><th style=\"text-align: right;\">  rmsle</th></tr>\n",
              "</thead>\n",
              "<tbody>\n",
              "<tr><td>XGBoost_1_AutoML_20190925_070454</td><td style=\"text-align: right;\">                  0.1065</td><td style=\"text-align: right;\">0.326344</td><td style=\"text-align: right;\">0.1065</td><td style=\"text-align: right;\">0.205498</td><td style=\"text-align: right;\">    nan</td></tr>\n",
              "</tbody>\n",
              "</table>"
            ]
          },
          "metadata": {
            "tags": []
          }
        },
        {
          "output_type": "stream",
          "text": [
            "\n",
            "xgboost prediction progress: |████████████████████████████████████████████| 100%\n",
            "________________________________________________________________________________\n",
            "*** Dataset Name: 344_mv ***\n",
            "Parse progress: |█████████████████████████████████████████████████████████| 100%\n",
            "Parse progress: |█████████████████████████████████████████████████████████| 100%\n",
            "Parse progress: |█████████████████████████████████████████████████████████| 100%\n",
            "Parse progress: |█████████████████████████████████████████████████████████| 100%\n",
            "AutoML progress: |████████████████████████████████████████████████████████| 100%\n",
            "Elapsed time is 122.192743 seconds.\n",
            "*** Top algorithm: *** "
          ],
          "name": "stdout"
        },
        {
          "output_type": "display_data",
          "data": {
            "text/html": [
              "<table>\n",
              "<thead>\n",
              "<tr><th>model_id                        </th><th style=\"text-align: right;\">  mean_residual_deviance</th><th style=\"text-align: right;\">    rmse</th><th style=\"text-align: right;\">     mse</th><th style=\"text-align: right;\">     mae</th><th style=\"text-align: right;\">  rmsle</th></tr>\n",
              "</thead>\n",
              "<tbody>\n",
              "<tr><td>XGBoost_1_AutoML_20190925_070658</td><td style=\"text-align: right;\">                0.106696</td><td style=\"text-align: right;\">0.326644</td><td style=\"text-align: right;\">0.106696</td><td style=\"text-align: right;\">0.206096</td><td style=\"text-align: right;\">    nan</td></tr>\n",
              "</tbody>\n",
              "</table>"
            ]
          },
          "metadata": {
            "tags": []
          }
        },
        {
          "output_type": "stream",
          "text": [
            "\n",
            "xgboost prediction progress: |████████████████████████████████████████████| 100%\n",
            "________________________________________________________________________________\n",
            "*** Dataset Name: 344_mv ***\n",
            "Parse progress: |█████████████████████████████████████████████████████████| 100%\n",
            "Parse progress: |█████████████████████████████████████████████████████████| 100%\n",
            "Parse progress: |█████████████████████████████████████████████████████████| 100%\n",
            "Parse progress: |█████████████████████████████████████████████████████████| 100%\n",
            "AutoML progress: |████████████████████████████████████████████████████████| 100%\n",
            "Elapsed time is 121.862556 seconds.\n",
            "*** Top algorithm: *** "
          ],
          "name": "stdout"
        },
        {
          "output_type": "display_data",
          "data": {
            "text/html": [
              "<table>\n",
              "<thead>\n",
              "<tr><th>model_id                        </th><th style=\"text-align: right;\">  mean_residual_deviance</th><th style=\"text-align: right;\">    rmse</th><th style=\"text-align: right;\">     mse</th><th style=\"text-align: right;\">     mae</th><th style=\"text-align: right;\">  rmsle</th></tr>\n",
              "</thead>\n",
              "<tbody>\n",
              "<tr><td>XGBoost_1_AutoML_20190925_070903</td><td style=\"text-align: right;\">                0.109618</td><td style=\"text-align: right;\">0.331085</td><td style=\"text-align: right;\">0.109618</td><td style=\"text-align: right;\">0.208844</td><td style=\"text-align: right;\">    nan</td></tr>\n",
              "</tbody>\n",
              "</table>"
            ]
          },
          "metadata": {
            "tags": []
          }
        },
        {
          "output_type": "stream",
          "text": [
            "\n",
            "xgboost prediction progress: |████████████████████████████████████████████| 100%\n",
            "________________________________________________________________________________\n",
            "*** Dataset Name: 344_mv ***\n",
            "Parse progress: |█████████████████████████████████████████████████████████| 100%\n",
            "Parse progress: |█████████████████████████████████████████████████████████| 100%\n",
            "Parse progress: |█████████████████████████████████████████████████████████| 100%\n",
            "Parse progress: |█████████████████████████████████████████████████████████| 100%\n",
            "AutoML progress: |████████████████████████████████████████████████████████| 100%\n",
            "Elapsed time is 121.946240 seconds.\n",
            "*** Top algorithm: *** "
          ],
          "name": "stdout"
        },
        {
          "output_type": "display_data",
          "data": {
            "text/html": [
              "<table>\n",
              "<thead>\n",
              "<tr><th>model_id                        </th><th style=\"text-align: right;\">  mean_residual_deviance</th><th style=\"text-align: right;\">    rmse</th><th style=\"text-align: right;\">     mse</th><th style=\"text-align: right;\">     mae</th><th style=\"text-align: right;\">  rmsle</th></tr>\n",
              "</thead>\n",
              "<tbody>\n",
              "<tr><td>XGBoost_1_AutoML_20190925_071108</td><td style=\"text-align: right;\">                0.112725</td><td style=\"text-align: right;\">0.335746</td><td style=\"text-align: right;\">0.112725</td><td style=\"text-align: right;\">0.211459</td><td style=\"text-align: right;\">    nan</td></tr>\n",
              "</tbody>\n",
              "</table>"
            ]
          },
          "metadata": {
            "tags": []
          }
        },
        {
          "output_type": "stream",
          "text": [
            "\n",
            "xgboost prediction progress: |████████████████████████████████████████████| 100%\n",
            "________________________________________________________________________________\n",
            "*** Dataset Name: 215_2dplanes ***\n",
            "Parse progress: |█████████████████████████████████████████████████████████| 100%\n",
            "Parse progress: |█████████████████████████████████████████████████████████| 100%\n",
            "Parse progress: |█████████████████████████████████████████████████████████| 100%\n",
            "Parse progress: |█████████████████████████████████████████████████████████| 100%\n",
            "AutoML progress: |████████████████████████████████████████████████████████| 100%\n",
            "Elapsed time is 121.914782 seconds.\n",
            "*** Top algorithm: *** "
          ],
          "name": "stdout"
        },
        {
          "output_type": "display_data",
          "data": {
            "text/html": [
              "<table>\n",
              "<thead>\n",
              "<tr><th>model_id                        </th><th style=\"text-align: right;\">  mean_residual_deviance</th><th style=\"text-align: right;\">   rmse</th><th style=\"text-align: right;\">    mse</th><th style=\"text-align: right;\">     mae</th><th style=\"text-align: right;\">  rmsle</th></tr>\n",
              "</thead>\n",
              "<tbody>\n",
              "<tr><td>XGBoost_1_AutoML_20190925_071312</td><td style=\"text-align: right;\">                 1.09749</td><td style=\"text-align: right;\">1.04761</td><td style=\"text-align: right;\">1.09749</td><td style=\"text-align: right;\">0.835384</td><td style=\"text-align: right;\">    nan</td></tr>\n",
              "</tbody>\n",
              "</table>"
            ]
          },
          "metadata": {
            "tags": []
          }
        },
        {
          "output_type": "stream",
          "text": [
            "\n",
            "xgboost prediction progress: |████████████████████████████████████████████| 100%\n",
            "________________________________________________________________________________\n",
            "*** Dataset Name: 215_2dplanes ***\n",
            "Parse progress: |█████████████████████████████████████████████████████████| 100%\n",
            "Parse progress: |█████████████████████████████████████████████████████████| 100%\n",
            "Parse progress: |█████████████████████████████████████████████████████████| 100%\n",
            "Parse progress: |█████████████████████████████████████████████████████████| 100%\n",
            "AutoML progress: |████████████████████████████████████████████████████████| 100%\n",
            "Elapsed time is 121.792294 seconds.\n",
            "*** Top algorithm: *** "
          ],
          "name": "stdout"
        },
        {
          "output_type": "display_data",
          "data": {
            "text/html": [
              "<table>\n",
              "<thead>\n",
              "<tr><th>model_id                        </th><th style=\"text-align: right;\">  mean_residual_deviance</th><th style=\"text-align: right;\">   rmse</th><th style=\"text-align: right;\">    mse</th><th style=\"text-align: right;\">     mae</th><th style=\"text-align: right;\">  rmsle</th></tr>\n",
              "</thead>\n",
              "<tbody>\n",
              "<tr><td>XGBoost_1_AutoML_20190925_071516</td><td style=\"text-align: right;\">                 1.09331</td><td style=\"text-align: right;\">1.04562</td><td style=\"text-align: right;\">1.09331</td><td style=\"text-align: right;\">0.833768</td><td style=\"text-align: right;\">    nan</td></tr>\n",
              "</tbody>\n",
              "</table>"
            ]
          },
          "metadata": {
            "tags": []
          }
        },
        {
          "output_type": "stream",
          "text": [
            "\n",
            "xgboost prediction progress: |████████████████████████████████████████████| 100%\n",
            "________________________________________________________________________________\n",
            "*** Dataset Name: 215_2dplanes ***\n",
            "Parse progress: |█████████████████████████████████████████████████████████| 100%\n",
            "Parse progress: |█████████████████████████████████████████████████████████| 100%\n",
            "Parse progress: |█████████████████████████████████████████████████████████| 100%\n",
            "Parse progress: |█████████████████████████████████████████████████████████| 100%\n",
            "AutoML progress: |████████████████████████████████████████████████████████| 100%\n",
            "Elapsed time is 122.097480 seconds.\n",
            "*** Top algorithm: *** "
          ],
          "name": "stdout"
        },
        {
          "output_type": "display_data",
          "data": {
            "text/html": [
              "<table>\n",
              "<thead>\n",
              "<tr><th>model_id                        </th><th style=\"text-align: right;\">  mean_residual_deviance</th><th style=\"text-align: right;\">  rmse</th><th style=\"text-align: right;\">    mse</th><th style=\"text-align: right;\">     mae</th><th style=\"text-align: right;\">  rmsle</th></tr>\n",
              "</thead>\n",
              "<tbody>\n",
              "<tr><td>XGBoost_1_AutoML_20190925_071719</td><td style=\"text-align: right;\">                 1.09161</td><td style=\"text-align: right;\">1.0448</td><td style=\"text-align: right;\">1.09161</td><td style=\"text-align: right;\">0.833033</td><td style=\"text-align: right;\">    nan</td></tr>\n",
              "</tbody>\n",
              "</table>"
            ]
          },
          "metadata": {
            "tags": []
          }
        },
        {
          "output_type": "stream",
          "text": [
            "\n",
            "xgboost prediction progress: |████████████████████████████████████████████| 100%\n",
            "________________________________________________________________________________\n",
            "*** Dataset Name: 215_2dplanes ***\n",
            "Parse progress: |█████████████████████████████████████████████████████████| 100%\n",
            "Parse progress: |█████████████████████████████████████████████████████████| 100%\n",
            "Parse progress: |█████████████████████████████████████████████████████████| 100%\n",
            "Parse progress: |█████████████████████████████████████████████████████████| 100%\n",
            "AutoML progress: |████████████████████████████████████████████████████████| 100%\n",
            "Elapsed time is 121.909246 seconds.\n",
            "*** Top algorithm: *** "
          ],
          "name": "stdout"
        },
        {
          "output_type": "display_data",
          "data": {
            "text/html": [
              "<table>\n",
              "<thead>\n",
              "<tr><th>model_id                        </th><th style=\"text-align: right;\">  mean_residual_deviance</th><th style=\"text-align: right;\">   rmse</th><th style=\"text-align: right;\">    mse</th><th style=\"text-align: right;\">     mae</th><th style=\"text-align: right;\">  rmsle</th></tr>\n",
              "</thead>\n",
              "<tbody>\n",
              "<tr><td>XGBoost_1_AutoML_20190925_071924</td><td style=\"text-align: right;\">                 1.09062</td><td style=\"text-align: right;\">1.04433</td><td style=\"text-align: right;\">1.09062</td><td style=\"text-align: right;\">0.832636</td><td style=\"text-align: right;\">    nan</td></tr>\n",
              "</tbody>\n",
              "</table>"
            ]
          },
          "metadata": {
            "tags": []
          }
        },
        {
          "output_type": "stream",
          "text": [
            "\n",
            "xgboost prediction progress: |████████████████████████████████████████████| 100%\n",
            "________________________________________________________________________________\n",
            "*** Dataset Name: 215_2dplanes ***\n",
            "Parse progress: |█████████████████████████████████████████████████████████| 100%\n",
            "Parse progress: |█████████████████████████████████████████████████████████| 100%\n",
            "Parse progress: |█████████████████████████████████████████████████████████| 100%\n",
            "Parse progress: |█████████████████████████████████████████████████████████| 100%\n",
            "AutoML progress: |████████████████████████████████████████████████████████| 100%\n",
            "Elapsed time is 121.856833 seconds.\n",
            "*** Top algorithm: *** "
          ],
          "name": "stdout"
        },
        {
          "output_type": "display_data",
          "data": {
            "text/html": [
              "<table>\n",
              "<thead>\n",
              "<tr><th>model_id                        </th><th style=\"text-align: right;\">  mean_residual_deviance</th><th style=\"text-align: right;\">   rmse</th><th style=\"text-align: right;\">    mse</th><th style=\"text-align: right;\">     mae</th><th style=\"text-align: right;\">  rmsle</th></tr>\n",
              "</thead>\n",
              "<tbody>\n",
              "<tr><td>XGBoost_1_AutoML_20190925_072128</td><td style=\"text-align: right;\">                 1.09245</td><td style=\"text-align: right;\">1.04521</td><td style=\"text-align: right;\">1.09245</td><td style=\"text-align: right;\">0.833416</td><td style=\"text-align: right;\">    nan</td></tr>\n",
              "</tbody>\n",
              "</table>"
            ]
          },
          "metadata": {
            "tags": []
          }
        },
        {
          "output_type": "stream",
          "text": [
            "\n",
            "xgboost prediction progress: |████████████████████████████████████████████| 100%\n"
          ],
          "name": "stdout"
        }
      ]
    },
    {
      "cell_type": "markdown",
      "metadata": {
        "id": "yZ8HfEvy9mF5",
        "colab_type": "text"
      },
      "source": [
        "## Looking at the predictions"
      ]
    },
    {
      "cell_type": "code",
      "metadata": {
        "id": "fr3jMCKTkJYb",
        "colab_type": "code",
        "outputId": "bd35d614-7b87-4be2-bb03-2248e9fe464f",
        "colab": {
          "base_uri": "https://localhost:8080/",
          "height": 1000
        }
      },
      "source": [
        "preds"
      ],
      "execution_count": 46,
      "outputs": [
        {
          "output_type": "execute_result",
          "data": {
            "text/plain": [
              "{'215_2dplanes':        predict\n",
              " 0    -1.157418\n",
              " 1    -0.676852\n",
              " 2    -6.867717\n",
              " 3    -2.746616\n",
              " 4    -4.920313\n",
              " 5    -2.841637\n",
              " 6    -3.757914\n",
              " 7     6.851336\n",
              " 8    -3.567621\n",
              " 9     4.948258\n",
              " 10    2.655684\n",
              " 11    4.352353\n",
              " 12   -0.044295\n",
              " 13    1.007499\n",
              " 14    2.568168\n",
              " 15    2.943497\n",
              " 16    3.223058\n",
              " 17   -2.062057\n",
              " 18    8.297565\n",
              " 19   -4.553700\n",
              " 20   -0.846332\n",
              " 21    6.337327\n",
              " 22    4.461475\n",
              " 23    4.843818\n",
              " 24   -5.389386\n",
              " 25   -0.107938\n",
              " 26   -0.501622\n",
              " 27    1.457880\n",
              " 28   -2.748125\n",
              " 29   -0.647506\n",
              " ...        ...\n",
              " 4047  0.890552\n",
              " 4048  1.065534\n",
              " 4049 -3.622949\n",
              " 4050 -1.098540\n",
              " 4051 -3.802915\n",
              " 4052 -2.576834\n",
              " 4053 -0.393100\n",
              " 4054 -0.957409\n",
              " 4055  8.923175\n",
              " 4056 -1.104411\n",
              " 4057 -2.769584\n",
              " 4058  0.824721\n",
              " 4059 -2.991873\n",
              " 4060  3.114316\n",
              " 4061  0.787614\n",
              " 4062  3.862248\n",
              " 4063 -2.461978\n",
              " 4064  2.561393\n",
              " 4065 -3.917459\n",
              " 4066 -2.627966\n",
              " 4067  1.153885\n",
              " 4068  3.534601\n",
              " 4069 -4.683108\n",
              " 4070 -5.076747\n",
              " 4071  0.178314\n",
              " 4072  3.851251\n",
              " 4073  1.172846\n",
              " 4074  0.703836\n",
              " 4075  8.722471\n",
              " 4076  0.870880\n",
              " \n",
              " [4077 rows x 1 columns], '218_house_8L':             predict\n",
              " 0      59149.628906\n",
              " 1      26832.322266\n",
              " 2      19045.533203\n",
              " 3      28846.941406\n",
              " 4      22552.583984\n",
              " 5      35205.011719\n",
              " 6     288815.187500\n",
              " 7      37637.304688\n",
              " 8      15299.583008\n",
              " 9      51357.808594\n",
              " 10     16481.169922\n",
              " 11     27886.492188\n",
              " 12     78773.453125\n",
              " 13     61565.351562\n",
              " 14     63933.332031\n",
              " 15     42452.417969\n",
              " 16     29759.171875\n",
              " 17     34159.691406\n",
              " 18     27352.712891\n",
              " 19     19577.128906\n",
              " 20     52945.128906\n",
              " 21    108791.796875\n",
              " 22    105627.757812\n",
              " 23     33201.792969\n",
              " 24     17557.152344\n",
              " 25     35619.953125\n",
              " 26     57050.929688\n",
              " 27     40927.355469\n",
              " 28     51292.203125\n",
              " 29     28345.019531\n",
              " ...             ...\n",
              " 2249   70872.945312\n",
              " 2250  106554.109375\n",
              " 2251   61664.093750\n",
              " 2252   48208.144531\n",
              " 2253   36707.425781\n",
              " 2254   16208.083984\n",
              " 2255   52426.031250\n",
              " 2256   18918.785156\n",
              " 2257   30646.236328\n",
              " 2258   31304.935547\n",
              " 2259   34663.988281\n",
              " 2260   30337.960938\n",
              " 2261   21940.736328\n",
              " 2262   39248.953125\n",
              " 2263  126125.703125\n",
              " 2264   23696.177734\n",
              " 2265  130615.867188\n",
              " 2266   19044.990234\n",
              " 2267   31388.115234\n",
              " 2268   32119.082031\n",
              " 2269   70503.656250\n",
              " 2270   20212.039062\n",
              " 2271  131861.406250\n",
              " 2272   80060.921875\n",
              " 2273   17884.843750\n",
              " 2274   52842.742188\n",
              " 2275   54117.753906\n",
              " 2276   20505.615234\n",
              " 2277   30904.644531\n",
              " 2278   35270.769531\n",
              " \n",
              " [2279 rows x 1 columns], '227_cpu_small':        predict\n",
              " 0    94.815102\n",
              " 1    90.137947\n",
              " 2    85.345863\n",
              " 3    94.155090\n",
              " 4    91.122169\n",
              " 5    87.344215\n",
              " 6    95.850250\n",
              " 7    89.236679\n",
              " 8    92.247940\n",
              " 9    94.881996\n",
              " 10   93.288986\n",
              " 11   87.033379\n",
              " 12   97.258774\n",
              " 13   84.060799\n",
              " 14   72.198807\n",
              " 15   89.442963\n",
              " 16   89.405220\n",
              " 17   75.068748\n",
              " 18   95.782097\n",
              " 19   93.053253\n",
              " 20   96.179924\n",
              " 21   65.951004\n",
              " 22   91.272850\n",
              " 23   83.722702\n",
              " 24   97.015266\n",
              " 25   86.306267\n",
              " 26   91.886353\n",
              " 27   67.824501\n",
              " 28   84.416527\n",
              " 29   97.925804\n",
              " ..         ...\n",
              " 790  91.635742\n",
              " 791  96.917168\n",
              " 792  85.644485\n",
              " 793  96.109772\n",
              " 794  88.144844\n",
              " 795  90.935371\n",
              " 796  85.446159\n",
              " 797  86.269432\n",
              " 798  80.585701\n",
              " 799  80.716438\n",
              " 800  83.297585\n",
              " 801  80.879814\n",
              " 802  93.604904\n",
              " 803  86.253510\n",
              " 804  76.543159\n",
              " 805  95.446701\n",
              " 806  71.952087\n",
              " 807  68.882584\n",
              " 808  97.193573\n",
              " 809  90.868401\n",
              " 810  96.668190\n",
              " 811  90.019440\n",
              " 812  92.186157\n",
              " 813  97.675056\n",
              " 814  80.718323\n",
              " 815  89.341499\n",
              " 816  94.514351\n",
              " 817  88.239548\n",
              " 818  95.030670\n",
              " 819  86.581726\n",
              " \n",
              " [820 rows x 1 columns], '294_satellite_image':       predict\n",
              " 0    7.036018\n",
              " 1    0.994108\n",
              " 2    0.950057\n",
              " 3    5.874035\n",
              " 4    5.139425\n",
              " 5    2.944160\n",
              " 6    0.964060\n",
              " 7    0.935878\n",
              " 8    3.508697\n",
              " 9    2.657180\n",
              " 10   7.040819\n",
              " 11   1.109351\n",
              " 12   5.680064\n",
              " 13   1.968085\n",
              " 14   1.977004\n",
              " 15   4.995951\n",
              " 16   1.976983\n",
              " 17   4.484129\n",
              " 18   0.854457\n",
              " 19   3.023463\n",
              " 20   3.064931\n",
              " 21   6.537679\n",
              " 22   0.950053\n",
              " 23   3.047518\n",
              " 24   0.959999\n",
              " 25   3.072847\n",
              " 26   5.336412\n",
              " 27   0.938946\n",
              " 28   7.053587\n",
              " 29   2.958065\n",
              " ..        ...\n",
              " 614  5.939456\n",
              " 615  3.027310\n",
              " 616  5.677085\n",
              " 617  0.956103\n",
              " 618  1.975712\n",
              " 619  3.486836\n",
              " 620  1.061253\n",
              " 621  0.963485\n",
              " 622  1.977135\n",
              " 623  3.074859\n",
              " 624  5.029633\n",
              " 625  1.008061\n",
              " 626  3.191674\n",
              " 627  6.966479\n",
              " 628  6.098759\n",
              " 629  4.973200\n",
              " 630  4.799668\n",
              " 631  7.074951\n",
              " 632  0.949778\n",
              " 633  5.925677\n",
              " 634  7.081180\n",
              " 635  1.973617\n",
              " 636  6.231668\n",
              " 637  7.077830\n",
              " 638  5.207868\n",
              " 639  0.963117\n",
              " 640  0.945605\n",
              " 641  2.083658\n",
              " 642  7.026343\n",
              " 643  5.708673\n",
              " \n",
              " [644 rows x 1 columns], '344_mv':         predict\n",
              " 0     -3.202060\n",
              " 1     -0.686787\n",
              " 2      2.105121\n",
              " 3    -26.579390\n",
              " 4      0.708593\n",
              " 5     -5.829944\n",
              " 6    -20.026525\n",
              " 7     -4.551264\n",
              " 8     -2.292677\n",
              " 9    -23.166252\n",
              " 10     0.406497\n",
              " 11    -5.052221\n",
              " 12     0.816315\n",
              " 13     1.348624\n",
              " 14   -16.877411\n",
              " 15     2.307503\n",
              " 16    -8.045886\n",
              " 17   -18.039131\n",
              " 18     1.694417\n",
              " 19    -3.420124\n",
              " 20     0.491813\n",
              " 21     2.096585\n",
              " 22   -24.265285\n",
              " 23    -1.959109\n",
              " 24   -13.062978\n",
              " 25     1.769652\n",
              " 26     0.881243\n",
              " 27   -17.599495\n",
              " 28   -15.685696\n",
              " 29   -38.216122\n",
              " ...         ...\n",
              " 4047 -21.159817\n",
              " 4048 -17.844542\n",
              " 4049  -6.460837\n",
              " 4050  -3.634359\n",
              " 4051 -19.152029\n",
              " 4052  -8.966371\n",
              " 4053  -0.048936\n",
              " 4054  -7.906292\n",
              " 4055 -28.463924\n",
              " 4056  -9.987743\n",
              " 4057   0.816062\n",
              " 4058  -0.374275\n",
              " 4059 -13.320487\n",
              " 4060   2.406728\n",
              " 4061 -10.736571\n",
              " 4062   1.004246\n",
              " 4063 -20.188658\n",
              " 4064 -14.511933\n",
              " 4065   1.181604\n",
              " 4066 -15.188241\n",
              " 4067  -0.750253\n",
              " 4068  -2.574511\n",
              " 4069  -6.444028\n",
              " 4070  -2.485971\n",
              " 4071  -8.322890\n",
              " 4072   1.372638\n",
              " 4073  -4.421386\n",
              " 4074 -18.044638\n",
              " 4075 -12.985168\n",
              " 4076  -8.513889\n",
              " \n",
              " [4077 rows x 1 columns], '503_wind':        predict\n",
              " 0    18.506295\n",
              " 1    21.171758\n",
              " 2     9.656404\n",
              " 3    18.150762\n",
              " 4    19.753148\n",
              " 5    15.785690\n",
              " 6    14.938723\n",
              " 7    23.757604\n",
              " 8     8.874044\n",
              " 9    30.032393\n",
              " 10   11.957023\n",
              " 11   21.172148\n",
              " 12   14.784953\n",
              " 13   13.677759\n",
              " 14    9.284371\n",
              " 15   12.184889\n",
              " 16   14.566968\n",
              " 17   10.235531\n",
              " 18   20.853426\n",
              " 19   25.049651\n",
              " 20   18.771254\n",
              " 21   17.108879\n",
              " 22   18.552074\n",
              " 23   20.074617\n",
              " 24   20.374665\n",
              " 25   15.630273\n",
              " 26   10.287410\n",
              " 27   13.712792\n",
              " 28   18.064533\n",
              " 29   10.087754\n",
              " ..         ...\n",
              " 628  26.006126\n",
              " 629  13.062399\n",
              " 630  10.356403\n",
              " 631  10.699909\n",
              " 632  27.040902\n",
              " 633  19.665582\n",
              " 634  11.876997\n",
              " 635  17.549397\n",
              " 636  11.306538\n",
              " 637  15.235807\n",
              " 638   8.127723\n",
              " 639  14.018242\n",
              " 640  12.787166\n",
              " 641   8.721905\n",
              " 642  12.488184\n",
              " 643  16.245367\n",
              " 644  12.751428\n",
              " 645   8.581494\n",
              " 646  24.409680\n",
              " 647  34.821857\n",
              " 648  10.328547\n",
              " 649  12.182877\n",
              " 650   7.398670\n",
              " 651   9.916271\n",
              " 652   7.001034\n",
              " 653  18.042013\n",
              " 654  16.584116\n",
              " 655  17.270377\n",
              " 656   8.236681\n",
              " 657  15.537880\n",
              " \n",
              " [658 rows x 1 columns]}"
            ]
          },
          "metadata": {
            "tags": []
          },
          "execution_count": 46
        }
      ]
    },
    {
      "cell_type": "markdown",
      "metadata": {
        "id": "b5P6Ym2R9q9L",
        "colab_type": "text"
      },
      "source": [
        "## Saving the predictions"
      ]
    },
    {
      "cell_type": "code",
      "metadata": {
        "id": "_nq6Z5ZnhbvK",
        "colab_type": "code",
        "colab": {}
      },
      "source": [
        "for i, val in enumerate(preds):\n",
        "  preds[val].to_csv(f\"{val}.csv\")"
      ],
      "execution_count": 0,
      "outputs": []
    },
    {
      "cell_type": "markdown",
      "metadata": {
        "id": "atPPsPY-9v80",
        "colab_type": "text"
      },
      "source": [
        "## Looking at the AUC"
      ]
    },
    {
      "cell_type": "code",
      "metadata": {
        "id": "D6MDJzUMevkl",
        "colab_type": "code",
        "outputId": "825f43da-01f2-46af-ebf4-2ab91d24a47b",
        "colab": {
          "base_uri": "https://localhost:8080/",
          "height": 979
        }
      },
      "source": [
        "df_result"
      ],
      "execution_count": 44,
      "outputs": [
        {
          "output_type": "execute_result",
          "data": {
            "text/html": [
              "<div>\n",
              "<style scoped>\n",
              "    .dataframe tbody tr th:only-of-type {\n",
              "        vertical-align: middle;\n",
              "    }\n",
              "\n",
              "    .dataframe tbody tr th {\n",
              "        vertical-align: top;\n",
              "    }\n",
              "\n",
              "    .dataframe thead th {\n",
              "        text-align: right;\n",
              "    }\n",
              "</style>\n",
              "<table border=\"1\" class=\"dataframe\">\n",
              "  <thead>\n",
              "    <tr style=\"text-align: right;\">\n",
              "      <th></th>\n",
              "      <th>dataset_name</th>\n",
              "      <th>metrics_recorded</th>\n",
              "      <th>MAE</th>\n",
              "      <th>MSE</th>\n",
              "      <th>MSLE</th>\n",
              "      <th>RMSE</th>\n",
              "      <th>RMSLE</th>\n",
              "      <th>r2</th>\n",
              "    </tr>\n",
              "  </thead>\n",
              "  <tbody>\n",
              "    <tr>\n",
              "      <th>0</th>\n",
              "      <td>294_satellite_image</td>\n",
              "      <td>RMSLE</td>\n",
              "      <td>0.340757</td>\n",
              "      <td>0.44905</td>\n",
              "      <td>0.018749</td>\n",
              "      <td>0.670112</td>\n",
              "      <td>0.136927</td>\n",
              "      <td>0.907185</td>\n",
              "    </tr>\n",
              "    <tr>\n",
              "      <th>1</th>\n",
              "      <td>294_satellite_image</td>\n",
              "      <td>MAE</td>\n",
              "      <td>0.340461</td>\n",
              "      <td>0.44923</td>\n",
              "      <td>0.0187606</td>\n",
              "      <td>0.670246</td>\n",
              "      <td>0.136969</td>\n",
              "      <td>0.907148</td>\n",
              "    </tr>\n",
              "    <tr>\n",
              "      <th>2</th>\n",
              "      <td>294_satellite_image</td>\n",
              "      <td>RMSE</td>\n",
              "      <td>0.340461</td>\n",
              "      <td>0.44923</td>\n",
              "      <td>0.0187606</td>\n",
              "      <td>0.670246</td>\n",
              "      <td>0.136969</td>\n",
              "      <td>0.907148</td>\n",
              "    </tr>\n",
              "    <tr>\n",
              "      <th>3</th>\n",
              "      <td>294_satellite_image</td>\n",
              "      <td>MSE</td>\n",
              "      <td>0.340962</td>\n",
              "      <td>0.448516</td>\n",
              "      <td>0.0187266</td>\n",
              "      <td>0.669713</td>\n",
              "      <td>0.136845</td>\n",
              "      <td>0.907295</td>\n",
              "    </tr>\n",
              "    <tr>\n",
              "      <th>4</th>\n",
              "      <td>294_satellite_image</td>\n",
              "      <td>deviance</td>\n",
              "      <td>0.340938</td>\n",
              "      <td>0.448842</td>\n",
              "      <td>0.0187389</td>\n",
              "      <td>0.669957</td>\n",
              "      <td>0.13689</td>\n",
              "      <td>0.907228</td>\n",
              "    </tr>\n",
              "    <tr>\n",
              "      <th>5</th>\n",
              "      <td>218_house_8L</td>\n",
              "      <td>RMSLE</td>\n",
              "      <td>15343.4</td>\n",
              "      <td>8.32224e+08</td>\n",
              "      <td>0.386895</td>\n",
              "      <td>28848.3</td>\n",
              "      <td>0.622009</td>\n",
              "      <td>0.678455</td>\n",
              "    </tr>\n",
              "    <tr>\n",
              "      <th>6</th>\n",
              "      <td>218_house_8L</td>\n",
              "      <td>MAE</td>\n",
              "      <td>15343.4</td>\n",
              "      <td>8.32224e+08</td>\n",
              "      <td>0.386895</td>\n",
              "      <td>28848.3</td>\n",
              "      <td>0.622009</td>\n",
              "      <td>0.678455</td>\n",
              "    </tr>\n",
              "    <tr>\n",
              "      <th>7</th>\n",
              "      <td>218_house_8L</td>\n",
              "      <td>RMSE</td>\n",
              "      <td>15343.4</td>\n",
              "      <td>8.32224e+08</td>\n",
              "      <td>0.386895</td>\n",
              "      <td>28848.3</td>\n",
              "      <td>0.622009</td>\n",
              "      <td>0.678455</td>\n",
              "    </tr>\n",
              "    <tr>\n",
              "      <th>8</th>\n",
              "      <td>218_house_8L</td>\n",
              "      <td>MSE</td>\n",
              "      <td>15343.4</td>\n",
              "      <td>8.32224e+08</td>\n",
              "      <td>0.386895</td>\n",
              "      <td>28848.3</td>\n",
              "      <td>0.622009</td>\n",
              "      <td>0.678455</td>\n",
              "    </tr>\n",
              "    <tr>\n",
              "      <th>9</th>\n",
              "      <td>218_house_8L</td>\n",
              "      <td>deviance</td>\n",
              "      <td>15343.4</td>\n",
              "      <td>8.32224e+08</td>\n",
              "      <td>0.386895</td>\n",
              "      <td>28848.3</td>\n",
              "      <td>0.622009</td>\n",
              "      <td>0.678455</td>\n",
              "    </tr>\n",
              "    <tr>\n",
              "      <th>10</th>\n",
              "      <td>227_cpu_small</td>\n",
              "      <td>RMSLE</td>\n",
              "      <td>1.81089</td>\n",
              "      <td>6.59189</td>\n",
              "      <td>NaN</td>\n",
              "      <td>2.56747</td>\n",
              "      <td>NaN</td>\n",
              "      <td>0.979221</td>\n",
              "    </tr>\n",
              "    <tr>\n",
              "      <th>11</th>\n",
              "      <td>227_cpu_small</td>\n",
              "      <td>MAE</td>\n",
              "      <td>1.81089</td>\n",
              "      <td>6.59189</td>\n",
              "      <td>NaN</td>\n",
              "      <td>2.56747</td>\n",
              "      <td>NaN</td>\n",
              "      <td>0.979221</td>\n",
              "    </tr>\n",
              "    <tr>\n",
              "      <th>12</th>\n",
              "      <td>227_cpu_small</td>\n",
              "      <td>RMSE</td>\n",
              "      <td>1.81089</td>\n",
              "      <td>6.59189</td>\n",
              "      <td>NaN</td>\n",
              "      <td>2.56747</td>\n",
              "      <td>NaN</td>\n",
              "      <td>0.979221</td>\n",
              "    </tr>\n",
              "    <tr>\n",
              "      <th>13</th>\n",
              "      <td>227_cpu_small</td>\n",
              "      <td>MSE</td>\n",
              "      <td>1.81089</td>\n",
              "      <td>6.59189</td>\n",
              "      <td>NaN</td>\n",
              "      <td>2.56747</td>\n",
              "      <td>NaN</td>\n",
              "      <td>0.979221</td>\n",
              "    </tr>\n",
              "    <tr>\n",
              "      <th>14</th>\n",
              "      <td>227_cpu_small</td>\n",
              "      <td>deviance</td>\n",
              "      <td>1.81089</td>\n",
              "      <td>6.59189</td>\n",
              "      <td>NaN</td>\n",
              "      <td>2.56747</td>\n",
              "      <td>NaN</td>\n",
              "      <td>0.979221</td>\n",
              "    </tr>\n",
              "    <tr>\n",
              "      <th>15</th>\n",
              "      <td>503_wind</td>\n",
              "      <td>RMSLE</td>\n",
              "      <td>2.22235</td>\n",
              "      <td>8.42564</td>\n",
              "      <td>0.0472858</td>\n",
              "      <td>2.90269</td>\n",
              "      <td>0.217453</td>\n",
              "      <td>0.809516</td>\n",
              "    </tr>\n",
              "    <tr>\n",
              "      <th>16</th>\n",
              "      <td>503_wind</td>\n",
              "      <td>MAE</td>\n",
              "      <td>2.21866</td>\n",
              "      <td>8.35595</td>\n",
              "      <td>0.0466385</td>\n",
              "      <td>2.89067</td>\n",
              "      <td>0.215959</td>\n",
              "      <td>0.811092</td>\n",
              "    </tr>\n",
              "    <tr>\n",
              "      <th>17</th>\n",
              "      <td>503_wind</td>\n",
              "      <td>RMSE</td>\n",
              "      <td>2.21711</td>\n",
              "      <td>8.34434</td>\n",
              "      <td>0.0468062</td>\n",
              "      <td>2.88866</td>\n",
              "      <td>0.216347</td>\n",
              "      <td>0.811354</td>\n",
              "    </tr>\n",
              "    <tr>\n",
              "      <th>18</th>\n",
              "      <td>503_wind</td>\n",
              "      <td>MSE</td>\n",
              "      <td>2.22047</td>\n",
              "      <td>8.39256</td>\n",
              "      <td>0.0474706</td>\n",
              "      <td>2.89699</td>\n",
              "      <td>0.217878</td>\n",
              "      <td>0.810264</td>\n",
              "    </tr>\n",
              "    <tr>\n",
              "      <th>19</th>\n",
              "      <td>503_wind</td>\n",
              "      <td>deviance</td>\n",
              "      <td>2.22724</td>\n",
              "      <td>8.41982</td>\n",
              "      <td>0.0476213</td>\n",
              "      <td>2.90169</td>\n",
              "      <td>0.218223</td>\n",
              "      <td>0.809648</td>\n",
              "    </tr>\n",
              "    <tr>\n",
              "      <th>20</th>\n",
              "      <td>344_mv</td>\n",
              "      <td>RMSLE</td>\n",
              "      <td>0.15434</td>\n",
              "      <td>0.0619955</td>\n",
              "      <td>NaN</td>\n",
              "      <td>0.248989</td>\n",
              "      <td>NaN</td>\n",
              "      <td>0.999421</td>\n",
              "    </tr>\n",
              "    <tr>\n",
              "      <th>21</th>\n",
              "      <td>344_mv</td>\n",
              "      <td>MAE</td>\n",
              "      <td>0.152432</td>\n",
              "      <td>0.0605833</td>\n",
              "      <td>NaN</td>\n",
              "      <td>0.246137</td>\n",
              "      <td>NaN</td>\n",
              "      <td>0.999434</td>\n",
              "    </tr>\n",
              "    <tr>\n",
              "      <th>22</th>\n",
              "      <td>344_mv</td>\n",
              "      <td>RMSE</td>\n",
              "      <td>0.15434</td>\n",
              "      <td>0.0619955</td>\n",
              "      <td>NaN</td>\n",
              "      <td>0.248989</td>\n",
              "      <td>NaN</td>\n",
              "      <td>0.999421</td>\n",
              "    </tr>\n",
              "    <tr>\n",
              "      <th>23</th>\n",
              "      <td>344_mv</td>\n",
              "      <td>MSE</td>\n",
              "      <td>0.15434</td>\n",
              "      <td>0.0619955</td>\n",
              "      <td>NaN</td>\n",
              "      <td>0.248989</td>\n",
              "      <td>NaN</td>\n",
              "      <td>0.999421</td>\n",
              "    </tr>\n",
              "    <tr>\n",
              "      <th>24</th>\n",
              "      <td>344_mv</td>\n",
              "      <td>deviance</td>\n",
              "      <td>0.156477</td>\n",
              "      <td>0.0636233</td>\n",
              "      <td>NaN</td>\n",
              "      <td>0.252237</td>\n",
              "      <td>NaN</td>\n",
              "      <td>0.999406</td>\n",
              "    </tr>\n",
              "    <tr>\n",
              "      <th>25</th>\n",
              "      <td>215_2dplanes</td>\n",
              "      <td>RMSLE</td>\n",
              "      <td>0.82181</td>\n",
              "      <td>1.07041</td>\n",
              "      <td>NaN</td>\n",
              "      <td>1.03461</td>\n",
              "      <td>NaN</td>\n",
              "      <td>0.94397</td>\n",
              "    </tr>\n",
              "    <tr>\n",
              "      <th>26</th>\n",
              "      <td>215_2dplanes</td>\n",
              "      <td>MAE</td>\n",
              "      <td>0.82061</td>\n",
              "      <td>1.06726</td>\n",
              "      <td>NaN</td>\n",
              "      <td>1.03308</td>\n",
              "      <td>NaN</td>\n",
              "      <td>0.944135</td>\n",
              "    </tr>\n",
              "    <tr>\n",
              "      <th>27</th>\n",
              "      <td>215_2dplanes</td>\n",
              "      <td>RMSE</td>\n",
              "      <td>0.81989</td>\n",
              "      <td>1.06507</td>\n",
              "      <td>NaN</td>\n",
              "      <td>1.03202</td>\n",
              "      <td>NaN</td>\n",
              "      <td>0.944249</td>\n",
              "    </tr>\n",
              "    <tr>\n",
              "      <th>28</th>\n",
              "      <td>215_2dplanes</td>\n",
              "      <td>MSE</td>\n",
              "      <td>0.820068</td>\n",
              "      <td>1.06553</td>\n",
              "      <td>NaN</td>\n",
              "      <td>1.03225</td>\n",
              "      <td>NaN</td>\n",
              "      <td>0.944225</td>\n",
              "    </tr>\n",
              "    <tr>\n",
              "      <th>29</th>\n",
              "      <td>215_2dplanes</td>\n",
              "      <td>deviance</td>\n",
              "      <td>0.81989</td>\n",
              "      <td>1.06507</td>\n",
              "      <td>NaN</td>\n",
              "      <td>1.03202</td>\n",
              "      <td>NaN</td>\n",
              "      <td>0.944249</td>\n",
              "    </tr>\n",
              "  </tbody>\n",
              "</table>\n",
              "</div>"
            ],
            "text/plain": [
              "           dataset_name metrics_recorded  ...     RMSLE        r2\n",
              "0   294_satellite_image            RMSLE  ...  0.136927  0.907185\n",
              "1   294_satellite_image              MAE  ...  0.136969  0.907148\n",
              "2   294_satellite_image             RMSE  ...  0.136969  0.907148\n",
              "3   294_satellite_image              MSE  ...  0.136845  0.907295\n",
              "4   294_satellite_image         deviance  ...   0.13689  0.907228\n",
              "5          218_house_8L            RMSLE  ...  0.622009  0.678455\n",
              "6          218_house_8L              MAE  ...  0.622009  0.678455\n",
              "7          218_house_8L             RMSE  ...  0.622009  0.678455\n",
              "8          218_house_8L              MSE  ...  0.622009  0.678455\n",
              "9          218_house_8L         deviance  ...  0.622009  0.678455\n",
              "10        227_cpu_small            RMSLE  ...       NaN  0.979221\n",
              "11        227_cpu_small              MAE  ...       NaN  0.979221\n",
              "12        227_cpu_small             RMSE  ...       NaN  0.979221\n",
              "13        227_cpu_small              MSE  ...       NaN  0.979221\n",
              "14        227_cpu_small         deviance  ...       NaN  0.979221\n",
              "15             503_wind            RMSLE  ...  0.217453  0.809516\n",
              "16             503_wind              MAE  ...  0.215959  0.811092\n",
              "17             503_wind             RMSE  ...  0.216347  0.811354\n",
              "18             503_wind              MSE  ...  0.217878  0.810264\n",
              "19             503_wind         deviance  ...  0.218223  0.809648\n",
              "20               344_mv            RMSLE  ...       NaN  0.999421\n",
              "21               344_mv              MAE  ...       NaN  0.999434\n",
              "22               344_mv             RMSE  ...       NaN  0.999421\n",
              "23               344_mv              MSE  ...       NaN  0.999421\n",
              "24               344_mv         deviance  ...       NaN  0.999406\n",
              "25         215_2dplanes            RMSLE  ...       NaN   0.94397\n",
              "26         215_2dplanes              MAE  ...       NaN  0.944135\n",
              "27         215_2dplanes             RMSE  ...       NaN  0.944249\n",
              "28         215_2dplanes              MSE  ...       NaN  0.944225\n",
              "29         215_2dplanes         deviance  ...       NaN  0.944249\n",
              "\n",
              "[30 rows x 8 columns]"
            ]
          },
          "metadata": {
            "tags": []
          },
          "execution_count": 44
        }
      ]
    },
    {
      "cell_type": "markdown",
      "metadata": {
        "id": "1DhtQWqA90Xf",
        "colab_type": "text"
      },
      "source": [
        "## Looking at the mean per class error"
      ]
    },
    {
      "cell_type": "markdown",
      "metadata": {
        "id": "6uJyyXSn-pYJ",
        "colab_type": "text"
      },
      "source": [
        "## Looking at the top algorithm used by the AutoML"
      ]
    },
    {
      "cell_type": "code",
      "metadata": {
        "id": "xKEz9ChYe65R",
        "colab_type": "code",
        "outputId": "a0d46d7a-4828-4a61-862d-ade2832b40b3",
        "colab": {
          "base_uri": "https://localhost:8080/",
          "height": 719
        }
      },
      "source": [
        "top_algo"
      ],
      "execution_count": 45,
      "outputs": [
        {
          "output_type": "display_data",
          "data": {
            "text/html": [
              "<table>\n",
              "<thead>\n",
              "<tr><th>model_id                        </th><th style=\"text-align: right;\">  mean_residual_deviance</th><th style=\"text-align: right;\">   rmse</th><th style=\"text-align: right;\">    mse</th><th style=\"text-align: right;\">     mae</th><th style=\"text-align: right;\">  rmsle</th></tr>\n",
              "</thead>\n",
              "<tbody>\n",
              "<tr><td>XGBoost_1_AutoML_20190925_072128</td><td style=\"text-align: right;\">                 1.09245</td><td style=\"text-align: right;\">1.04521</td><td style=\"text-align: right;\">1.09245</td><td style=\"text-align: right;\">0.833416</td><td style=\"text-align: right;\">    nan</td></tr>\n",
              "</tbody>\n",
              "</table>"
            ]
          },
          "metadata": {
            "tags": []
          }
        },
        {
          "output_type": "display_data",
          "data": {
            "text/html": [
              "<table>\n",
              "<thead>\n",
              "<tr><th>model_id                                           </th><th style=\"text-align: right;\">  mean_residual_deviance</th><th style=\"text-align: right;\">   rmse</th><th style=\"text-align: right;\">        mse</th><th style=\"text-align: right;\">    mae</th><th style=\"text-align: right;\">   rmsle</th></tr>\n",
              "</thead>\n",
              "<tbody>\n",
              "<tr><td>XGBoost_1_AutoML_20190925_063949                   </td><td style=\"text-align: right;\">             8.87088e+08</td><td style=\"text-align: right;\">29784  </td><td style=\"text-align: right;\">8.87088e+08</td><td style=\"text-align: right;\">15391.1</td><td style=\"text-align: right;\">0.622207</td></tr>\n",
              "<tr><td>XGBoost_2_AutoML_20190925_063949                   </td><td style=\"text-align: right;\">             8.89982e+08</td><td style=\"text-align: right;\">29832.6</td><td style=\"text-align: right;\">8.89982e+08</td><td style=\"text-align: right;\">15440.5</td><td style=\"text-align: right;\">0.621009</td></tr>\n",
              "<tr><td>XGBoost_3_AutoML_20190925_063949                   </td><td style=\"text-align: right;\">             9.18089e+08</td><td style=\"text-align: right;\">30300  </td><td style=\"text-align: right;\">9.18089e+08</td><td style=\"text-align: right;\">15992.3</td><td style=\"text-align: right;\">0.631602</td></tr>\n",
              "<tr><td>StackedEnsemble_AllModels_AutoML_20190925_063949   </td><td style=\"text-align: right;\">             2.62156e+09</td><td style=\"text-align: right;\">51201.1</td><td style=\"text-align: right;\">2.62156e+09</td><td style=\"text-align: right;\">31192.2</td><td style=\"text-align: right;\">0.911061</td></tr>\n",
              "<tr><td>StackedEnsemble_BestOfFamily_AutoML_20190925_063949</td><td style=\"text-align: right;\">             2.74687e+09</td><td style=\"text-align: right;\">52410.6</td><td style=\"text-align: right;\">2.74687e+09</td><td style=\"text-align: right;\">32066.7</td><td style=\"text-align: right;\">0.92781 </td></tr>\n",
              "</tbody>\n",
              "</table>"
            ]
          },
          "metadata": {
            "tags": []
          }
        },
        {
          "output_type": "display_data",
          "data": {
            "text/html": [
              "<table>\n",
              "<thead>\n",
              "<tr><th>model_id                                           </th><th style=\"text-align: right;\">  mean_residual_deviance</th><th style=\"text-align: right;\">   rmse</th><th style=\"text-align: right;\">    mse</th><th style=\"text-align: right;\">    mae</th><th style=\"text-align: right;\">      rmsle</th></tr>\n",
              "</thead>\n",
              "<tbody>\n",
              "<tr><td>XGBoost_1_AutoML_20190925_065015                   </td><td style=\"text-align: right;\">                 6.96306</td><td style=\"text-align: right;\">2.63876</td><td style=\"text-align: right;\">6.96306</td><td style=\"text-align: right;\">1.83179</td><td style=\"text-align: right;\">  0.0909504</td></tr>\n",
              "<tr><td>XGBoost_2_AutoML_20190925_065015                   </td><td style=\"text-align: right;\">                 7.03657</td><td style=\"text-align: right;\">2.65265</td><td style=\"text-align: right;\">7.03657</td><td style=\"text-align: right;\">1.83733</td><td style=\"text-align: right;\">nan        </td></tr>\n",
              "<tr><td>StackedEnsemble_AllModels_AutoML_20190925_065015   </td><td style=\"text-align: right;\">                 7.01014</td><td style=\"text-align: right;\">2.64767</td><td style=\"text-align: right;\">7.01014</td><td style=\"text-align: right;\">1.86436</td><td style=\"text-align: right;\">nan        </td></tr>\n",
              "<tr><td>XGBoost_3_AutoML_20190925_065015                   </td><td style=\"text-align: right;\">                 7.59275</td><td style=\"text-align: right;\">2.75549</td><td style=\"text-align: right;\">7.59275</td><td style=\"text-align: right;\">1.94118</td><td style=\"text-align: right;\">nan        </td></tr>\n",
              "<tr><td>StackedEnsemble_BestOfFamily_AutoML_20190925_065015</td><td style=\"text-align: right;\">                 7.38521</td><td style=\"text-align: right;\">2.71757</td><td style=\"text-align: right;\">7.38521</td><td style=\"text-align: right;\">1.95488</td><td style=\"text-align: right;\">nan        </td></tr>\n",
              "</tbody>\n",
              "</table>"
            ]
          },
          "metadata": {
            "tags": []
          }
        },
        {
          "output_type": "display_data",
          "data": {
            "text/html": [
              "<table>\n",
              "<thead>\n",
              "<tr><th>model_id                                           </th><th style=\"text-align: right;\">  mean_residual_deviance</th><th style=\"text-align: right;\">    rmse</th><th style=\"text-align: right;\">     mse</th><th style=\"text-align: right;\">     mae</th><th style=\"text-align: right;\">   rmsle</th></tr>\n",
              "</thead>\n",
              "<tbody>\n",
              "<tr><td>StackedEnsemble_AllModels_AutoML_20190925_062915   </td><td style=\"text-align: right;\">                0.435119</td><td style=\"text-align: right;\">0.659635</td><td style=\"text-align: right;\">0.435119</td><td style=\"text-align: right;\">0.345608</td><td style=\"text-align: right;\">0.139346</td></tr>\n",
              "<tr><td>XGBoost_1_AutoML_20190925_062915                   </td><td style=\"text-align: right;\">                0.448831</td><td style=\"text-align: right;\">0.669948</td><td style=\"text-align: right;\">0.448831</td><td style=\"text-align: right;\">0.346144</td><td style=\"text-align: right;\">0.141641</td></tr>\n",
              "<tr><td>XGBoost_2_AutoML_20190925_062915                   </td><td style=\"text-align: right;\">                0.441276</td><td style=\"text-align: right;\">0.664286</td><td style=\"text-align: right;\">0.441276</td><td style=\"text-align: right;\">0.348864</td><td style=\"text-align: right;\">0.140782</td></tr>\n",
              "<tr><td>StackedEnsemble_BestOfFamily_AutoML_20190925_062915</td><td style=\"text-align: right;\">                0.448615</td><td style=\"text-align: right;\">0.669787</td><td style=\"text-align: right;\">0.448615</td><td style=\"text-align: right;\">0.352136</td><td style=\"text-align: right;\">0.141732</td></tr>\n",
              "<tr><td>DRF_1_AutoML_20190925_062915                       </td><td style=\"text-align: right;\">                0.506311</td><td style=\"text-align: right;\">0.711555</td><td style=\"text-align: right;\">0.506311</td><td style=\"text-align: right;\">0.377664</td><td style=\"text-align: right;\">0.152054</td></tr>\n",
              "</tbody>\n",
              "</table>"
            ]
          },
          "metadata": {
            "tags": []
          }
        },
        {
          "output_type": "display_data",
          "data": {
            "text/html": [
              "<table>\n",
              "<thead>\n",
              "<tr><th>model_id                        </th><th style=\"text-align: right;\">  mean_residual_deviance</th><th style=\"text-align: right;\">    rmse</th><th style=\"text-align: right;\">     mse</th><th style=\"text-align: right;\">     mae</th><th style=\"text-align: right;\">  rmsle</th></tr>\n",
              "</thead>\n",
              "<tbody>\n",
              "<tr><td>XGBoost_1_AutoML_20190925_071108</td><td style=\"text-align: right;\">                0.112725</td><td style=\"text-align: right;\">0.335746</td><td style=\"text-align: right;\">0.112725</td><td style=\"text-align: right;\">0.211459</td><td style=\"text-align: right;\">    nan</td></tr>\n",
              "</tbody>\n",
              "</table>"
            ]
          },
          "metadata": {
            "tags": []
          }
        },
        {
          "output_type": "display_data",
          "data": {
            "text/html": [
              "<table>\n",
              "<thead>\n",
              "<tr><th>model_id                                           </th><th style=\"text-align: right;\">  mean_residual_deviance</th><th style=\"text-align: right;\">   rmse</th><th style=\"text-align: right;\">    mse</th><th style=\"text-align: right;\">    mae</th><th style=\"text-align: right;\">   rmsle</th></tr>\n",
              "</thead>\n",
              "<tbody>\n",
              "<tr><td>StackedEnsemble_AllModels_AutoML_20190925_070041   </td><td style=\"text-align: right;\">                 9.1998 </td><td style=\"text-align: right;\">3.03312</td><td style=\"text-align: right;\">9.1998 </td><td style=\"text-align: right;\">2.31219</td><td style=\"text-align: right;\">0.214304</td></tr>\n",
              "<tr><td>StackedEnsemble_BestOfFamily_AutoML_20190925_070041</td><td style=\"text-align: right;\">                 9.33088</td><td style=\"text-align: right;\">3.05465</td><td style=\"text-align: right;\">9.33088</td><td style=\"text-align: right;\">2.32738</td><td style=\"text-align: right;\">0.215564</td></tr>\n",
              "<tr><td>XGBoost_3_AutoML_20190925_070041                   </td><td style=\"text-align: right;\">                 9.46312</td><td style=\"text-align: right;\">3.07622</td><td style=\"text-align: right;\">9.46312</td><td style=\"text-align: right;\">2.35013</td><td style=\"text-align: right;\">0.216929</td></tr>\n",
              "<tr><td>XGBoost_1_AutoML_20190925_070041                   </td><td style=\"text-align: right;\">                 9.56284</td><td style=\"text-align: right;\">3.09238</td><td style=\"text-align: right;\">9.56284</td><td style=\"text-align: right;\">2.3571 </td><td style=\"text-align: right;\">0.217846</td></tr>\n",
              "<tr><td>XGBoost_2_AutoML_20190925_070041                   </td><td style=\"text-align: right;\">                 9.51857</td><td style=\"text-align: right;\">3.08522</td><td style=\"text-align: right;\">9.51857</td><td style=\"text-align: right;\">2.35735</td><td style=\"text-align: right;\">0.217348</td></tr>\n",
              "</tbody>\n",
              "</table>"
            ]
          },
          "metadata": {
            "tags": []
          }
        },
        {
          "output_type": "execute_result",
          "data": {
            "text/plain": [
              "{'215_2dplanes': ,\n",
              " '218_house_8L': ,\n",
              " '227_cpu_small': ,\n",
              " '294_satellite_image': ,\n",
              " '344_mv': ,\n",
              " '503_wind': }"
            ]
          },
          "metadata": {
            "tags": []
          },
          "execution_count": 45
        }
      ]
    }
  ]
}

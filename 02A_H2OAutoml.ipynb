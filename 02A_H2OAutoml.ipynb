{
  "nbformat": 4,
  "nbformat_minor": 0,
  "metadata": {
    "kernelspec": {
      "display_name": "Python 3",
      "language": "python",
      "name": "python3"
    },
    "language_info": {
      "codemirror_mode": {
        "name": "ipython",
        "version": 3
      },
      "file_extension": ".py",
      "mimetype": "text/x-python",
      "name": "python",
      "nbconvert_exporter": "python",
      "pygments_lexer": "ipython3",
      "version": "3.7.0"
    },
    "colab": {
      "name": "02A_H2OAutoml.ipynb",
      "provenance": [],
      "include_colab_link": true
    }
  },
  "cells": [
    {
      "cell_type": "markdown",
      "metadata": {
        "id": "view-in-github",
        "colab_type": "text"
      },
      "source": [
        "<a href=\"https://colab.research.google.com/github/raffieeey/MasterResearchAutoML/blob/master/02A_H2OAutoml.ipynb\" target=\"_parent\"><img src=\"https://colab.research.google.com/assets/colab-badge.svg\" alt=\"Open In Colab\"/></a>"
      ]
    },
    {
      "cell_type": "markdown",
      "metadata": {
        "id": "9oybUxHpDAhG",
        "colab_type": "text"
      },
      "source": [
        "#Installing dependecies for H2O automl"
      ]
    },
    {
      "cell_type": "code",
      "metadata": {
        "id": "T08L4fWu722_",
        "colab_type": "code",
        "colab": {
          "base_uri": "https://localhost:8080/",
          "height": 510
        },
        "outputId": "b6e21ffc-a28e-445f-b511-4a6554f53d3b"
      },
      "source": [
        "!pip install pmlb\n",
        "!pip install requests\n",
        "!pip install tabulate\n",
        "!pip install \"colorama>=0.3.8\"\n",
        "!pip install future\n",
        "!pip install pytictoc"
      ],
      "execution_count": 1,
      "outputs": [
        {
          "output_type": "stream",
          "text": [
            "Collecting pmlb\n",
            "  Downloading https://files.pythonhosted.org/packages/0d/38/bb7bf1785add978af1e6c2bd27926405959c71ebaeefa6ff610bf53d8b25/pmlb-0.3.tar.gz\n",
            "Requirement already satisfied: pandas in /usr/local/lib/python3.6/dist-packages (from pmlb) (0.24.2)\n",
            "Requirement already satisfied: pytz>=2011k in /usr/local/lib/python3.6/dist-packages (from pandas->pmlb) (2018.9)\n",
            "Requirement already satisfied: numpy>=1.12.0 in /usr/local/lib/python3.6/dist-packages (from pandas->pmlb) (1.16.5)\n",
            "Requirement already satisfied: python-dateutil>=2.5.0 in /usr/local/lib/python3.6/dist-packages (from pandas->pmlb) (2.5.3)\n",
            "Requirement already satisfied: six>=1.5 in /usr/local/lib/python3.6/dist-packages (from python-dateutil>=2.5.0->pandas->pmlb) (1.12.0)\n",
            "Building wheels for collected packages: pmlb\n",
            "  Building wheel for pmlb (setup.py) ... \u001b[?25l\u001b[?25hdone\n",
            "  Created wheel for pmlb: filename=pmlb-0.3-cp36-none-any.whl size=11918 sha256=5a357c4345df996422a7a1705b005a422311de467c0b847e7733838e6f5794b2\n",
            "  Stored in directory: /root/.cache/pip/wheels/5a/c7/a4/be59e63a2cb56f6c58f068305b95c212e0aac1a930fd77d6b0\n",
            "Successfully built pmlb\n",
            "Installing collected packages: pmlb\n",
            "Successfully installed pmlb-0.3\n",
            "Requirement already satisfied: requests in /usr/local/lib/python3.6/dist-packages (2.21.0)\n",
            "Requirement already satisfied: certifi>=2017.4.17 in /usr/local/lib/python3.6/dist-packages (from requests) (2019.6.16)\n",
            "Requirement already satisfied: chardet<3.1.0,>=3.0.2 in /usr/local/lib/python3.6/dist-packages (from requests) (3.0.4)\n",
            "Requirement already satisfied: idna<2.9,>=2.5 in /usr/local/lib/python3.6/dist-packages (from requests) (2.8)\n",
            "Requirement already satisfied: urllib3<1.25,>=1.21.1 in /usr/local/lib/python3.6/dist-packages (from requests) (1.24.3)\n",
            "Requirement already satisfied: tabulate in /usr/local/lib/python3.6/dist-packages (0.8.3)\n",
            "Collecting colorama>=0.3.8\n",
            "  Downloading https://files.pythonhosted.org/packages/4f/a6/728666f39bfff1719fc94c481890b2106837da9318031f71a8424b662e12/colorama-0.4.1-py2.py3-none-any.whl\n",
            "Installing collected packages: colorama\n",
            "Successfully installed colorama-0.4.1\n",
            "Requirement already satisfied: future in /usr/local/lib/python3.6/dist-packages (0.16.0)\n",
            "Collecting pytictoc\n",
            "  Downloading https://files.pythonhosted.org/packages/d5/cf/87661e4a929be7023172b7684a704df8379d78a2ed1b86cc01a6cd32cd11/pytictoc-1.5.0-py2.py3-none-any.whl\n",
            "Installing collected packages: pytictoc\n",
            "Successfully installed pytictoc-1.5.0\n"
          ],
          "name": "stdout"
        }
      ]
    },
    {
      "cell_type": "code",
      "metadata": {
        "id": "OQzfHPmW723D",
        "colab_type": "code",
        "colab": {},
        "outputId": "f6a80810-2fd3-4c48-b21f-6e3509f23ab5"
      },
      "source": [
        "#!pip uninstall h2o -y"
      ],
      "execution_count": 0,
      "outputs": [
        {
          "output_type": "stream",
          "text": [
            "Uninstalling h2o-3.26.0.2:\r\n",
            "  Successfully uninstalled h2o-3.26.0.2\r\n"
          ],
          "name": "stdout"
        }
      ]
    },
    {
      "cell_type": "markdown",
      "metadata": {
        "id": "dsuBpRx1DU_Q",
        "colab_type": "text"
      },
      "source": [
        "## Installing H2O"
      ]
    },
    {
      "cell_type": "code",
      "metadata": {
        "id": "5kOTV6Zi723F",
        "colab_type": "code",
        "colab": {
          "base_uri": "https://localhost:8080/",
          "height": 377
        },
        "outputId": "4c6ef941-fc9e-43c3-b279-9e4755825ac6"
      },
      "source": [
        "!pip install -f http://h2o-release.s3.amazonaws.com/h2o/latest_stable_Py.html h2o"
      ],
      "execution_count": 2,
      "outputs": [
        {
          "output_type": "stream",
          "text": [
            "Looking in links: http://h2o-release.s3.amazonaws.com/h2o/latest_stable_Py.html\n",
            "Collecting h2o\n",
            "\u001b[33m  WARNING: The repository located at h2o-release.s3.amazonaws.com is not a trusted or secure host and is being ignored. If this repository is available via HTTPS we recommend you use HTTPS instead, otherwise you may silence this warning and allow it anyway with '--trusted-host h2o-release.s3.amazonaws.com'.\u001b[0m\n",
            "\u001b[?25l  Downloading https://files.pythonhosted.org/packages/43/e5/3d75dfc75f7ef5018acf4f1f2e73cdd6ac41eca44a6908f20dd1be71acb6/h2o-3.26.0.5.tar.gz (123.6MB)\n",
            "\u001b[K     |████████████████████████████████| 123.6MB 172kB/s \n",
            "\u001b[?25hRequirement already satisfied: requests in /usr/local/lib/python3.6/dist-packages (from h2o) (2.21.0)\n",
            "Requirement already satisfied: tabulate in /usr/local/lib/python3.6/dist-packages (from h2o) (0.8.3)\n",
            "Requirement already satisfied: future in /usr/local/lib/python3.6/dist-packages (from h2o) (0.16.0)\n",
            "Requirement already satisfied: colorama>=0.3.8 in /usr/local/lib/python3.6/dist-packages (from h2o) (0.4.1)\n",
            "Requirement already satisfied: certifi>=2017.4.17 in /usr/local/lib/python3.6/dist-packages (from requests->h2o) (2019.6.16)\n",
            "Requirement already satisfied: chardet<3.1.0,>=3.0.2 in /usr/local/lib/python3.6/dist-packages (from requests->h2o) (3.0.4)\n",
            "Requirement already satisfied: idna<2.9,>=2.5 in /usr/local/lib/python3.6/dist-packages (from requests->h2o) (2.8)\n",
            "Requirement already satisfied: urllib3<1.25,>=1.21.1 in /usr/local/lib/python3.6/dist-packages (from requests->h2o) (1.24.3)\n",
            "Building wheels for collected packages: h2o\n",
            "  Building wheel for h2o (setup.py) ... \u001b[?25l\u001b[?25hdone\n",
            "  Created wheel for h2o: filename=h2o-3.26.0.5-py2.py3-none-any.whl size=123672284 sha256=b60965ec944aae116d92b6d26d98c15f49f22ed4aded938f52f2867a5a8317a7\n",
            "  Stored in directory: /root/.cache/pip/wheels/c9/d2/24/eeb5f07ff6826ea23325338cd3fb5754b99592a3f2b4e67f27\n",
            "Successfully built h2o\n",
            "Installing collected packages: h2o\n",
            "Successfully installed h2o-3.26.0.5\n"
          ],
          "name": "stdout"
        }
      ]
    },
    {
      "cell_type": "markdown",
      "metadata": {
        "id": "ii1wM5mLDa7Q",
        "colab_type": "text"
      },
      "source": [
        "##Starting H2O"
      ]
    },
    {
      "cell_type": "code",
      "metadata": {
        "id": "DvpyYQTa723H",
        "colab_type": "code",
        "colab": {}
      },
      "source": [
        "import h2o"
      ],
      "execution_count": 0,
      "outputs": []
    },
    {
      "cell_type": "code",
      "metadata": {
        "id": "xqc5HsNy723J",
        "colab_type": "code",
        "colab": {
          "base_uri": "https://localhost:8080/",
          "height": 508
        },
        "outputId": "48300019-8906-45e7-87a4-cecc6278bf5d"
      },
      "source": [
        "h2o.init(nthreads=2,\n",
        "                 min_mem_size=\"2048M\",\n",
        "                 max_mem_size=\"2048M\")"
      ],
      "execution_count": 4,
      "outputs": [
        {
          "output_type": "stream",
          "text": [
            "Checking whether there is an H2O instance running at http://localhost:54321 ..... not found.\n",
            "Attempting to start a local H2O server...\n",
            "  Java Version: openjdk version \"11.0.4\" 2019-07-16; OpenJDK Runtime Environment (build 11.0.4+11-post-Ubuntu-1ubuntu218.04.3); OpenJDK 64-Bit Server VM (build 11.0.4+11-post-Ubuntu-1ubuntu218.04.3, mixed mode, sharing)\n",
            "  Starting server from /usr/local/lib/python3.6/dist-packages/h2o/backend/bin/h2o.jar\n",
            "  Ice root: /tmp/tmphezrzgkm\n",
            "  JVM stdout: /tmp/tmphezrzgkm/h2o_unknownUser_started_from_python.out\n",
            "  JVM stderr: /tmp/tmphezrzgkm/h2o_unknownUser_started_from_python.err\n",
            "  Server is running at http://127.0.0.1:54321\n",
            "Connecting to H2O server at http://127.0.0.1:54321 ... successful.\n"
          ],
          "name": "stdout"
        },
        {
          "output_type": "display_data",
          "data": {
            "text/html": [
              "<div style=\"overflow:auto\"><table style=\"width:50%\"><tr><td>H2O cluster uptime:</td>\n",
              "<td>02 secs</td></tr>\n",
              "<tr><td>H2O cluster timezone:</td>\n",
              "<td>Etc/UTC</td></tr>\n",
              "<tr><td>H2O data parsing timezone:</td>\n",
              "<td>UTC</td></tr>\n",
              "<tr><td>H2O cluster version:</td>\n",
              "<td>3.26.0.5</td></tr>\n",
              "<tr><td>H2O cluster version age:</td>\n",
              "<td>1 day </td></tr>\n",
              "<tr><td>H2O cluster name:</td>\n",
              "<td>H2O_from_python_unknownUser_virr70</td></tr>\n",
              "<tr><td>H2O cluster total nodes:</td>\n",
              "<td>1</td></tr>\n",
              "<tr><td>H2O cluster free memory:</td>\n",
              "<td>2 Gb</td></tr>\n",
              "<tr><td>H2O cluster total cores:</td>\n",
              "<td>2</td></tr>\n",
              "<tr><td>H2O cluster allowed cores:</td>\n",
              "<td>2</td></tr>\n",
              "<tr><td>H2O cluster status:</td>\n",
              "<td>accepting new members, healthy</td></tr>\n",
              "<tr><td>H2O connection url:</td>\n",
              "<td>http://127.0.0.1:54321</td></tr>\n",
              "<tr><td>H2O connection proxy:</td>\n",
              "<td>None</td></tr>\n",
              "<tr><td>H2O internal security:</td>\n",
              "<td>False</td></tr>\n",
              "<tr><td>H2O API Extensions:</td>\n",
              "<td>Amazon S3, XGBoost, Algos, AutoML, Core V3, TargetEncoder, Core V4</td></tr>\n",
              "<tr><td>Python version:</td>\n",
              "<td>3.6.8 final</td></tr></table></div>"
            ],
            "text/plain": [
              "--------------------------  ------------------------------------------------------------------\n",
              "H2O cluster uptime:         02 secs\n",
              "H2O cluster timezone:       Etc/UTC\n",
              "H2O data parsing timezone:  UTC\n",
              "H2O cluster version:        3.26.0.5\n",
              "H2O cluster version age:    1 day\n",
              "H2O cluster name:           H2O_from_python_unknownUser_virr70\n",
              "H2O cluster total nodes:    1\n",
              "H2O cluster free memory:    2 Gb\n",
              "H2O cluster total cores:    2\n",
              "H2O cluster allowed cores:  2\n",
              "H2O cluster status:         accepting new members, healthy\n",
              "H2O connection url:         http://127.0.0.1:54321\n",
              "H2O connection proxy:\n",
              "H2O internal security:      False\n",
              "H2O API Extensions:         Amazon S3, XGBoost, Algos, AutoML, Core V3, TargetEncoder, Core V4\n",
              "Python version:             3.6.8 final\n",
              "--------------------------  ------------------------------------------------------------------"
            ]
          },
          "metadata": {
            "tags": []
          }
        }
      ]
    },
    {
      "cell_type": "code",
      "metadata": {
        "id": "Hk-y7kSQ-A6Q",
        "colab_type": "code",
        "colab": {
          "base_uri": "https://localhost:8080/",
          "height": 34
        },
        "outputId": "705b6a13-be6a-49ab-b309-e06cd3e47e60"
      },
      "source": [
        "%matplotlib inline\n",
        "from sklearn.metrics import roc_curve, precision_recall_curve, auc\n",
        "import matplotlib.pyplot as plt\n",
        "import numpy as np\n",
        "\n",
        "\n",
        "\n",
        "def get_auc(labels, scores):\n",
        "    fpr, tpr, thresholds = roc_curve(labels, scores)\n",
        "    auc_score = auc(fpr, tpr)\n",
        "    return fpr, tpr, auc_score\n",
        "\n",
        "\n",
        "def get_aucpr(labels, scores):\n",
        "    precision, recall, th = precision_recall_curve(labels, scores)\n",
        "    aucpr_score = np.trapz(recall, precision)\n",
        "    return precision, recall, aucpr_score\n",
        "\n",
        "\n",
        "def plot_metric(ax, x, y, x_label, y_label, plot_label, style=\"-\"):\n",
        "    ax.plot(x, y, style, label=plot_label)\n",
        "    ax.legend()\n",
        "    \n",
        "    ax.set_ylabel(x_label)\n",
        "    ax.set_xlabel(y_label)\n",
        "\n",
        "\n",
        "def prediction_summary(labels, predicted_score, info, plot_baseline=True, axes=None):\n",
        "    if axes is None:\n",
        "        axes = [plt.subplot(1, 2, 1), plt.subplot(1, 2, 2)]\n",
        "\n",
        "    fpr, tpr, auc_score = get_auc(labels, predicted_score)\n",
        "    plot_metric(axes[0], fpr, tpr, \"False positive rate\",\"True positive rate\", \"{} AUC = {:.4f}\".format(info, auc_score))\n",
        "    if plot_baseline:\n",
        "        plot_metric(axes[0], [0, 1], [0, 1], \"False positive rate\",\"True positive rate\", \"baseline AUC = 0.5\", \"r--\")\n",
        "\n",
        "    precision, recall, aucpr_score = get_aucpr(labels, predicted_score)\n",
        "    plot_metric(axes[1], recall, precision, \"Recall\",\"Precision\", \"{} AUCPR = {:.4f}\".format(info, aucpr_score))\n",
        "    if plot_baseline:\n",
        "        thr = (np.sum(labels)/len(labels))[0]\n",
        "        plot_metric(axes[1], [0, 1], [thr, thr], \"Recall\",\"Precision\", \"baseline AUCPR = {:.4f}\".format(thr), \"r--\")\n",
        "\n",
        "    plt.show()\n",
        "    return axes\n",
        "\n",
        "\n",
        "def figure():\n",
        "    fig_size = 4.5\n",
        "    f = plt.figure()\n",
        "    f.set_figheight(fig_size)\n",
        "    f.set_figwidth(fig_size*2)\n",
        "\n",
        "figure()"
      ],
      "execution_count": 5,
      "outputs": [
        {
          "output_type": "display_data",
          "data": {
            "text/plain": [
              "<Figure size 648x324 with 0 Axes>"
            ]
          },
          "metadata": {
            "tags": []
          }
        }
      ]
    },
    {
      "cell_type": "code",
      "metadata": {
        "id": "cSYXGJV_Gdtq",
        "colab_type": "code",
        "colab": {}
      },
      "source": [
        "from sklearn.metrics import accuracy_score, roc_auc_score , log_loss\n",
        "import numpy as np\n",
        "\n",
        "def acc(truth, predictions):\n",
        "        return float(accuracy_score(truth, predictions))\n",
        "\n",
        "def auc(truth, predictions):\n",
        "        return float(roc_auc_score(truth, np.max(predictions.iloc[:,1:], axis=1)))\n",
        "\n",
        "def logloss(truth, predictions):\n",
        "        return float(log_loss(truth, np.max(predictions.iloc[:,1:], axis=1)))"
      ],
      "execution_count": 0,
      "outputs": []
    },
    {
      "cell_type": "code",
      "metadata": {
        "id": "Qutk8kEF723M",
        "colab_type": "code",
        "colab": {
          "base_uri": "https://localhost:8080/",
          "height": 1000
        },
        "outputId": "d2fa95a9-4afe-4ecc-9f04-d53d9a086fa7"
      },
      "source": [
        "from pmlb import classification_dataset_names, regression_dataset_names,fetch_data\n",
        "from h2o.automl import H2OAutoML\n",
        "from sklearn.model_selection import train_test_split\n",
        "from pytictoc import TicToc\n",
        "\n",
        "\n",
        "preds = {}\n",
        "score_preds = {}\n",
        "t = TicToc()\n",
        "\n",
        "sel_clss_dtst = ['adult','agaricus-lepiota', 'churn', 'nursery', 'satimage','texture']\n",
        "sel_rgrs_dtst = ['294_satellite_image','218_house_8L', '227_cpu_small', '503_wind', '344_mv','215_2dplanes']\n",
        "\n",
        "for metrics_test in  ['mean_per_class_error', 'AUC', 'logloss']:\n",
        "  for class_dtst in sel_clss_dtst:\n",
        "      if class_dtst in (\"nursery\", \"satimage\", \"texture\") and metrics_test in  ['mean_per_class_error', 'logloss'] : #For rank/non-binary classification data\n",
        "        print(\"_\"*80)\n",
        "        print(f\"*** Dataset Name: {class_dtst} ***\")\n",
        "        X, y = fetch_data(class_dtst, return_X_y=True)\n",
        "        X_train, X_test, y_train, y_test = train_test_split(X, y, test_size=0.1, random_state=69, stratify=y)\n",
        "        X_train = h2o.H2OFrame(X_train)\n",
        "        X_test = h2o.H2OFrame(X_test)\n",
        "        y_train = h2o.H2OFrame(y_train).asfactor()\n",
        "        y_test = h2o.H2OFrame(y_test).asfactor()\n",
        "        aml = H2OAutoML(seed=69, max_runtime_secs=60,sort_metric=metrics_test)\n",
        "        t.tic()\n",
        "        aml.train(x=X_train.columns, y=X_train.cbind(y_train)[:,-1].columns[0], training_frame=X_train.cbind(y_train))\n",
        "        t.toc()    \n",
        "        lb = aml.leaderboard\n",
        "        print(\"*** Top algorithm: ***\", lb.head(5))\n",
        "        preds[class_dtst] = aml.leader.predict(X_test).as_data_frame()\n",
        "        #prediction_summary( y_test.as_data_frame(), preds[class_dtst].iloc[:,0], \"h2o\")\n",
        "        if metrics_test == 'mean_per_class_error':\n",
        "      acc(truth, predictions):\n",
        "\n",
        "\n",
        "\n",
        "      elif class_dtst not in (\"nursery\", \"satimage\", \"texture\") and metrics_test in  ['mean_per_class_error', 'AUC'] : #For binary classification data\n",
        "        print(\"_\"*80)\n",
        "        print(f\"*** Dataset Name: {class_dtst} ***\")\n",
        "        X, y = fetch_data(class_dtst, return_X_y=True)\n",
        "        X_train, X_test, y_train, y_test = train_test_split(X, y, test_size=0.1, random_state=69, stratify=y)\n",
        "        X_train = h2o.H2OFrame(X_train)\n",
        "        X_test = h2o.H2OFrame(X_test)\n",
        "        y_train = h2o.H2OFrame(y_train).asfactor()\n",
        "        y_test = h2o.H2OFrame(y_test).asfactor()\n",
        "        aml = H2OAutoML(seed=69, max_runtime_secs=60,sort_metric=metrics_test)\n",
        "        t.tic()\n",
        "        aml.train(x=X_train.columns, y=X_train.cbind(y_train)[:,-1].columns[0], training_frame=X_train.cbind(y_train))\n",
        "        t.toc()    \n",
        "        lb = aml.leaderboard\n",
        "        print(\"*** Top algorithm: ***\", lb.head(5))\n",
        "        preds[class_dtst] = aml.leader.predict(X_test).as_data_frame()\n",
        "        prediction_summary( y_test.as_data_frame(), preds[class_dtst].iloc[:,0], \"h2o\")"
      ],
      "execution_count": 10,
      "outputs": [
        {
          "output_type": "stream",
          "text": [
            "________________________________________________________________________________\n",
            "*** Dataset Name: adult ***\n",
            "Parse progress: |█████████████████████████████████████████████████████████| 100%\n",
            "Parse progress: |█████████████████████████████████████████████████████████| 100%\n",
            "Parse progress: |█████████████████████████████████████████████████████████| 100%\n",
            "Parse progress: |█████████████████████████████████████████████████████████| 100%\n",
            "AutoML progress: |████████████████████████████████████████████████████████| 100%\n",
            "Elapsed time is 62.080076 seconds.\n",
            "*** Top 5 algorithm: *** "
          ],
          "name": "stdout"
        },
        {
          "output_type": "display_data",
          "data": {
            "text/html": [
              "<table>\n",
              "<thead>\n",
              "<tr><th>model_id                        </th><th style=\"text-align: right;\">     auc</th><th style=\"text-align: right;\">  logloss</th><th style=\"text-align: right;\">  mean_per_class_error</th><th style=\"text-align: right;\">    rmse</th><th style=\"text-align: right;\">      mse</th></tr>\n",
              "</thead>\n",
              "<tbody>\n",
              "<tr><td>XGBoost_1_AutoML_20190918_065112</td><td style=\"text-align: right;\">0.921289</td><td style=\"text-align: right;\"> 0.299269</td><td style=\"text-align: right;\">               0.22054</td><td style=\"text-align: right;\">0.304149</td><td style=\"text-align: right;\">0.0925067</td></tr>\n",
              "</tbody>\n",
              "</table>"
            ]
          },
          "metadata": {
            "tags": []
          }
        },
        {
          "output_type": "stream",
          "text": [
            "\n",
            "xgboost prediction progress: |████████████████████████████████████████████| 100%\n"
          ],
          "name": "stdout"
        },
        {
          "output_type": "display_data",
          "data": {
            "image/png": "[encoded data removed]",
            "text/plain": [
              "<Figure size 432x288 with 2 Axes>"
            ]
          },
          "metadata": {
            "tags": []
          }
        },
        {
          "output_type": "stream",
          "text": [
            "________________________________________________________________________________\n",
            "*** Dataset Name: agaricus-lepiota ***\n",
            "Parse progress: |█████████████████████████████████████████████████████████| 100%\n",
            "Parse progress: |█████████████████████████████████████████████████████████| 100%\n",
            "Parse progress: |█████████████████████████████████████████████████████████| 100%\n",
            "Parse progress: |█████████████████████████████████████████████████████████| 100%\n",
            "AutoML progress: |████████████████████████████████████████████████████████| 100%\n",
            "Elapsed time is 65.055109 seconds.\n",
            "*** Top 5 algorithm: *** "
          ],
          "name": "stdout"
        },
        {
          "output_type": "display_data",
          "data": {
            "text/html": [
              "<table>\n",
              "<thead>\n",
              "<tr><th>model_id                                           </th><th style=\"text-align: right;\">  auc</th><th style=\"text-align: right;\">   logloss</th><th style=\"text-align: right;\">  mean_per_class_error</th><th style=\"text-align: right;\">      rmse</th><th style=\"text-align: right;\">        mse</th></tr>\n",
              "</thead>\n",
              "<tbody>\n",
              "<tr><td>GBM_2_AutoML_20190918_065216                       </td><td style=\"text-align: right;\">    1</td><td style=\"text-align: right;\">0.0276882 </td><td style=\"text-align: right;\">                     0</td><td style=\"text-align: right;\">0.0312407 </td><td style=\"text-align: right;\">0.000975979</td></tr>\n",
              "<tr><td>StackedEnsemble_AllModels_AutoML_20190918_065216   </td><td style=\"text-align: right;\">    1</td><td style=\"text-align: right;\">0.00146358</td><td style=\"text-align: right;\">                     0</td><td style=\"text-align: right;\">0.00505005</td><td style=\"text-align: right;\">2.5503e-05 </td></tr>\n",
              "<tr><td>XGBoost_1_AutoML_20190918_065216                   </td><td style=\"text-align: right;\">    1</td><td style=\"text-align: right;\">0.0211753 </td><td style=\"text-align: right;\">                     0</td><td style=\"text-align: right;\">0.0370433 </td><td style=\"text-align: right;\">0.00137221 </td></tr>\n",
              "<tr><td>StackedEnsemble_BestOfFamily_AutoML_20190918_065216</td><td style=\"text-align: right;\">    1</td><td style=\"text-align: right;\">0.00198669</td><td style=\"text-align: right;\">                     0</td><td style=\"text-align: right;\">0.00455818</td><td style=\"text-align: right;\">2.0777e-05 </td></tr>\n",
              "<tr><td>GBM_1_AutoML_20190918_065216                       </td><td style=\"text-align: right;\">    1</td><td style=\"text-align: right;\">0.0270824 </td><td style=\"text-align: right;\">                     0</td><td style=\"text-align: right;\">0.0292845 </td><td style=\"text-align: right;\">0.000857581</td></tr>\n",
              "</tbody>\n",
              "</table>"
            ]
          },
          "metadata": {
            "tags": []
          }
        },
        {
          "output_type": "stream",
          "text": [
            "\n",
            "gbm prediction progress: |████████████████████████████████████████████████| 100%\n"
          ],
          "name": "stdout"
        },
        {
          "output_type": "display_data",
          "data": {
            "image/png": "[encoded data removed]",
            "text/plain": [
              "<Figure size 432x288 with 2 Axes>"
            ]
          },
          "metadata": {
            "tags": []
          }
        },
        {
          "output_type": "stream",
          "text": [
            "________________________________________________________________________________\n",
            "*** Dataset Name: churn ***\n",
            "Parse progress: |█████████████████████████████████████████████████████████| 100%\n",
            "Parse progress: |█████████████████████████████████████████████████████████| 100%\n",
            "Parse progress: |█████████████████████████████████████████████████████████| 100%\n",
            "Parse progress: |█████████████████████████████████████████████████████████| 100%\n",
            "AutoML progress: |████████████████████████████████████████████████████████| 100%\n",
            "Elapsed time is 63.249606 seconds.\n",
            "*** Top 5 algorithm: *** "
          ],
          "name": "stdout"
        },
        {
          "output_type": "display_data",
          "data": {
            "text/html": [
              "<table>\n",
              "<thead>\n",
              "<tr><th>model_id                                           </th><th style=\"text-align: right;\">     auc</th><th style=\"text-align: right;\">  logloss</th><th style=\"text-align: right;\">  mean_per_class_error</th><th style=\"text-align: right;\">    rmse</th><th style=\"text-align: right;\">      mse</th></tr>\n",
              "</thead>\n",
              "<tbody>\n",
              "<tr><td>XGBoost_3_AutoML_20190918_065323                   </td><td style=\"text-align: right;\">0.920028</td><td style=\"text-align: right;\"> 0.159413</td><td style=\"text-align: right;\">             0.0997353</td><td style=\"text-align: right;\">0.192539</td><td style=\"text-align: right;\">0.0370714</td></tr>\n",
              "<tr><td>StackedEnsemble_BestOfFamily_AutoML_20190918_065323</td><td style=\"text-align: right;\">0.917157</td><td style=\"text-align: right;\"> 0.139533</td><td style=\"text-align: right;\">             0.0997549</td><td style=\"text-align: right;\">0.182737</td><td style=\"text-align: right;\">0.0333927</td></tr>\n",
              "<tr><td>StackedEnsemble_AllModels_AutoML_20190918_065323   </td><td style=\"text-align: right;\">0.91645 </td><td style=\"text-align: right;\"> 0.138705</td><td style=\"text-align: right;\">             0.100939 </td><td style=\"text-align: right;\">0.182171</td><td style=\"text-align: right;\">0.0331862</td></tr>\n",
              "<tr><td>GBM_3_AutoML_20190918_065323                       </td><td style=\"text-align: right;\">0.924024</td><td style=\"text-align: right;\"> 0.149247</td><td style=\"text-align: right;\">             0.106174 </td><td style=\"text-align: right;\">0.186926</td><td style=\"text-align: right;\">0.0349413</td></tr>\n",
              "<tr><td>DRF_1_AutoML_20190918_065323                       </td><td style=\"text-align: right;\">0.917876</td><td style=\"text-align: right;\"> 0.327322</td><td style=\"text-align: right;\">             0.10694  </td><td style=\"text-align: right;\">0.206446</td><td style=\"text-align: right;\">0.04262  </td></tr>\n",
              "</tbody>\n",
              "</table>"
            ]
          },
          "metadata": {
            "tags": []
          }
        },
        {
          "output_type": "stream",
          "text": [
            "\n",
            "xgboost prediction progress: |████████████████████████████████████████████| 100%\n"
          ],
          "name": "stdout"
        },
        {
          "output_type": "display_data",
          "data": {
            "image/png": "[encoded data removed]",
            "text/plain": [
              "<Figure size 432x288 with 2 Axes>"
            ]
          },
          "metadata": {
            "tags": []
          }
        },
        {
          "output_type": "stream",
          "text": [
            "________________________________________________________________________________\n",
            "*** Dataset Name: nursery ***\n",
            "Parse progress: |█████████████████████████████████████████████████████████| 100%\n",
            "Parse progress: |█████████████████████████████████████████████████████████| 100%\n",
            "Parse progress: |█████████████████████████████████████████████████████████| 100%\n",
            "Parse progress: |█████████████████████████████████████████████████████████| 100%\n",
            "AutoML progress: |████████████████████████████████████████████████████████| 100%\n",
            "Elapsed time is 62.155702 seconds.\n",
            "*** Top algorithm: *** "
          ],
          "name": "stdout"
        },
        {
          "output_type": "display_data",
          "data": {
            "text/html": [
              "<table>\n",
              "<thead>\n",
              "<tr><th>model_id                        </th><th style=\"text-align: right;\">  mean_per_class_error</th><th style=\"text-align: right;\">  logloss</th><th style=\"text-align: right;\">    rmse</th><th style=\"text-align: right;\">      mse</th></tr>\n",
              "</thead>\n",
              "<tbody>\n",
              "<tr><td>XGBoost_1_AutoML_20190918_065428</td><td style=\"text-align: right;\">             0.0582827</td><td style=\"text-align: right;\">  0.12034</td><td style=\"text-align: right;\">0.157675</td><td style=\"text-align: right;\">0.0248614</td></tr>\n",
              "</tbody>\n",
              "</table>"
            ]
          },
          "metadata": {
            "tags": []
          }
        },
        {
          "output_type": "stream",
          "text": [
            "\n",
            "xgboost prediction progress: |████████████████████████████████████████████| 100%\n"
          ],
          "name": "stdout"
        },
        {
          "output_type": "error",
          "ename": "ValueError",
          "evalue": "ignored",
          "traceback": [
            "\u001b[0;31m---------------------------------------------------------------------------\u001b[0m",
            "\u001b[0;31mValueError\u001b[0m                                Traceback (most recent call last)",
            "\u001b[0;32m<ipython-input-10-07e92ba60f4e>\u001b[0m in \u001b[0;36m<module>\u001b[0;34m()\u001b[0m\n\u001b[1;32m     29\u001b[0m         \u001b[0mprint\u001b[0m\u001b[0;34m(\u001b[0m\u001b[0;34m\"*** Top algorithm: ***\"\u001b[0m\u001b[0;34m,\u001b[0m \u001b[0mlb\u001b[0m\u001b[0;34m.\u001b[0m\u001b[0mhead\u001b[0m\u001b[0;34m(\u001b[0m\u001b[0;36m5\u001b[0m\u001b[0;34m)\u001b[0m\u001b[0;34m)\u001b[0m\u001b[0;34m\u001b[0m\u001b[0;34m\u001b[0m\u001b[0m\n\u001b[1;32m     30\u001b[0m         \u001b[0mpreds\u001b[0m\u001b[0;34m[\u001b[0m\u001b[0mclass_dtst\u001b[0m\u001b[0;34m]\u001b[0m \u001b[0;34m=\u001b[0m \u001b[0maml\u001b[0m\u001b[0;34m.\u001b[0m\u001b[0mleader\u001b[0m\u001b[0;34m.\u001b[0m\u001b[0mpredict\u001b[0m\u001b[0;34m(\u001b[0m\u001b[0mX_test\u001b[0m\u001b[0;34m)\u001b[0m\u001b[0;34m.\u001b[0m\u001b[0mas_data_frame\u001b[0m\u001b[0;34m(\u001b[0m\u001b[0;34m)\u001b[0m\u001b[0;34m\u001b[0m\u001b[0;34m\u001b[0m\u001b[0m\n\u001b[0;32m---> 31\u001b[0;31m         \u001b[0mprediction_summary\u001b[0m\u001b[0;34m(\u001b[0m \u001b[0my_test\u001b[0m\u001b[0;34m.\u001b[0m\u001b[0mas_data_frame\u001b[0m\u001b[0;34m(\u001b[0m\u001b[0;34m)\u001b[0m\u001b[0;34m,\u001b[0m \u001b[0mpreds\u001b[0m\u001b[0;34m[\u001b[0m\u001b[0mclass_dtst\u001b[0m\u001b[0;34m]\u001b[0m\u001b[0;34m.\u001b[0m\u001b[0miloc\u001b[0m\u001b[0;34m[\u001b[0m\u001b[0;34m:\u001b[0m\u001b[0;34m,\u001b[0m\u001b[0;36m0\u001b[0m\u001b[0;34m]\u001b[0m\u001b[0;34m,\u001b[0m \u001b[0;34m\"h2o\"\u001b[0m\u001b[0;34m)\u001b[0m\u001b[0;34m\u001b[0m\u001b[0;34m\u001b[0m\u001b[0m\n\u001b[0m\u001b[1;32m     32\u001b[0m       \u001b[0;32melif\u001b[0m \u001b[0mclass_dtst\u001b[0m \u001b[0;32mnot\u001b[0m \u001b[0;32min\u001b[0m \u001b[0;34m(\u001b[0m\u001b[0;34m\"nursery\"\u001b[0m\u001b[0;34m,\u001b[0m \u001b[0;34m\"satimage\"\u001b[0m\u001b[0;34m,\u001b[0m \u001b[0;34m\"texture\"\u001b[0m\u001b[0;34m)\u001b[0m \u001b[0;32mand\u001b[0m \u001b[0mmetrics_test\u001b[0m \u001b[0;32min\u001b[0m  \u001b[0;34m[\u001b[0m\u001b[0;34m'mean_per_class_error'\u001b[0m\u001b[0;34m,\u001b[0m \u001b[0;34m'AUC'\u001b[0m\u001b[0;34m]\u001b[0m \u001b[0;34m:\u001b[0m \u001b[0;31m#For binary classification data\u001b[0m\u001b[0;34m\u001b[0m\u001b[0;34m\u001b[0m\u001b[0m\n\u001b[1;32m     33\u001b[0m         \u001b[0mprint\u001b[0m\u001b[0;34m(\u001b[0m\u001b[0;34m\"_\"\u001b[0m\u001b[0;34m*\u001b[0m\u001b[0;36m80\u001b[0m\u001b[0;34m)\u001b[0m\u001b[0;34m\u001b[0m\u001b[0;34m\u001b[0m\u001b[0m\n",
            "\u001b[0;32m<ipython-input-5-80e9182a63c0>\u001b[0m in \u001b[0;36mprediction_summary\u001b[0;34m(labels, predicted_score, info, plot_baseline, axes)\u001b[0m\n\u001b[1;32m     30\u001b[0m         \u001b[0maxes\u001b[0m \u001b[0;34m=\u001b[0m \u001b[0;34m[\u001b[0m\u001b[0mplt\u001b[0m\u001b[0;34m.\u001b[0m\u001b[0msubplot\u001b[0m\u001b[0;34m(\u001b[0m\u001b[0;36m1\u001b[0m\u001b[0;34m,\u001b[0m \u001b[0;36m2\u001b[0m\u001b[0;34m,\u001b[0m \u001b[0;36m1\u001b[0m\u001b[0;34m)\u001b[0m\u001b[0;34m,\u001b[0m \u001b[0mplt\u001b[0m\u001b[0;34m.\u001b[0m\u001b[0msubplot\u001b[0m\u001b[0;34m(\u001b[0m\u001b[0;36m1\u001b[0m\u001b[0;34m,\u001b[0m \u001b[0;36m2\u001b[0m\u001b[0;34m,\u001b[0m \u001b[0;36m2\u001b[0m\u001b[0;34m)\u001b[0m\u001b[0;34m]\u001b[0m\u001b[0;34m\u001b[0m\u001b[0;34m\u001b[0m\u001b[0m\n\u001b[1;32m     31\u001b[0m \u001b[0;34m\u001b[0m\u001b[0m\n\u001b[0;32m---> 32\u001b[0;31m     \u001b[0mfpr\u001b[0m\u001b[0;34m,\u001b[0m \u001b[0mtpr\u001b[0m\u001b[0;34m,\u001b[0m \u001b[0mauc_score\u001b[0m \u001b[0;34m=\u001b[0m \u001b[0mget_auc\u001b[0m\u001b[0;34m(\u001b[0m\u001b[0mlabels\u001b[0m\u001b[0;34m,\u001b[0m \u001b[0mpredicted_score\u001b[0m\u001b[0;34m)\u001b[0m\u001b[0;34m\u001b[0m\u001b[0;34m\u001b[0m\u001b[0m\n\u001b[0m\u001b[1;32m     33\u001b[0m     \u001b[0mplot_metric\u001b[0m\u001b[0;34m(\u001b[0m\u001b[0maxes\u001b[0m\u001b[0;34m[\u001b[0m\u001b[0;36m0\u001b[0m\u001b[0;34m]\u001b[0m\u001b[0;34m,\u001b[0m \u001b[0mfpr\u001b[0m\u001b[0;34m,\u001b[0m \u001b[0mtpr\u001b[0m\u001b[0;34m,\u001b[0m \u001b[0;34m\"False positive rate\"\u001b[0m\u001b[0;34m,\u001b[0m\u001b[0;34m\"True positive rate\"\u001b[0m\u001b[0;34m,\u001b[0m \u001b[0;34m\"{} AUC = {:.4f}\"\u001b[0m\u001b[0;34m.\u001b[0m\u001b[0mformat\u001b[0m\u001b[0;34m(\u001b[0m\u001b[0minfo\u001b[0m\u001b[0;34m,\u001b[0m \u001b[0mauc_score\u001b[0m\u001b[0;34m)\u001b[0m\u001b[0;34m)\u001b[0m\u001b[0;34m\u001b[0m\u001b[0;34m\u001b[0m\u001b[0m\n\u001b[1;32m     34\u001b[0m     \u001b[0;32mif\u001b[0m \u001b[0mplot_baseline\u001b[0m\u001b[0;34m:\u001b[0m\u001b[0;34m\u001b[0m\u001b[0;34m\u001b[0m\u001b[0m\n",
            "\u001b[0;32m<ipython-input-5-80e9182a63c0>\u001b[0m in \u001b[0;36mget_auc\u001b[0;34m(labels, scores)\u001b[0m\n\u001b[1;32m      7\u001b[0m \u001b[0;34m\u001b[0m\u001b[0m\n\u001b[1;32m      8\u001b[0m \u001b[0;32mdef\u001b[0m \u001b[0mget_auc\u001b[0m\u001b[0;34m(\u001b[0m\u001b[0mlabels\u001b[0m\u001b[0;34m,\u001b[0m \u001b[0mscores\u001b[0m\u001b[0;34m)\u001b[0m\u001b[0;34m:\u001b[0m\u001b[0;34m\u001b[0m\u001b[0;34m\u001b[0m\u001b[0m\n\u001b[0;32m----> 9\u001b[0;31m     \u001b[0mfpr\u001b[0m\u001b[0;34m,\u001b[0m \u001b[0mtpr\u001b[0m\u001b[0;34m,\u001b[0m \u001b[0mthresholds\u001b[0m \u001b[0;34m=\u001b[0m \u001b[0mroc_curve\u001b[0m\u001b[0;34m(\u001b[0m\u001b[0mlabels\u001b[0m\u001b[0;34m,\u001b[0m \u001b[0mscores\u001b[0m\u001b[0;34m)\u001b[0m\u001b[0;34m\u001b[0m\u001b[0;34m\u001b[0m\u001b[0m\n\u001b[0m\u001b[1;32m     10\u001b[0m     \u001b[0mauc_score\u001b[0m \u001b[0;34m=\u001b[0m \u001b[0mauc\u001b[0m\u001b[0;34m(\u001b[0m\u001b[0mfpr\u001b[0m\u001b[0;34m,\u001b[0m \u001b[0mtpr\u001b[0m\u001b[0;34m)\u001b[0m\u001b[0;34m\u001b[0m\u001b[0;34m\u001b[0m\u001b[0m\n\u001b[1;32m     11\u001b[0m     \u001b[0;32mreturn\u001b[0m \u001b[0mfpr\u001b[0m\u001b[0;34m,\u001b[0m \u001b[0mtpr\u001b[0m\u001b[0;34m,\u001b[0m \u001b[0mauc_score\u001b[0m\u001b[0;34m\u001b[0m\u001b[0;34m\u001b[0m\u001b[0m\n",
            "\u001b[0;32m/usr/local/lib/python3.6/dist-packages/sklearn/metrics/ranking.py\u001b[0m in \u001b[0;36mroc_curve\u001b[0;34m(y_true, y_score, pos_label, sample_weight, drop_intermediate)\u001b[0m\n\u001b[1;32m    620\u001b[0m     \"\"\"\n\u001b[1;32m    621\u001b[0m     fps, tps, thresholds = _binary_clf_curve(\n\u001b[0;32m--> 622\u001b[0;31m         y_true, y_score, pos_label=pos_label, sample_weight=sample_weight)\n\u001b[0m\u001b[1;32m    623\u001b[0m \u001b[0;34m\u001b[0m\u001b[0m\n\u001b[1;32m    624\u001b[0m     \u001b[0;31m# Attempt to drop thresholds corresponding to points in between and\u001b[0m\u001b[0;34m\u001b[0m\u001b[0;34m\u001b[0m\u001b[0;34m\u001b[0m\u001b[0m\n",
            "\u001b[0;32m/usr/local/lib/python3.6/dist-packages/sklearn/metrics/ranking.py\u001b[0m in \u001b[0;36m_binary_clf_curve\u001b[0;34m(y_true, y_score, pos_label, sample_weight)\u001b[0m\n\u001b[1;32m    394\u001b[0m     if not (y_type == \"binary\" or\n\u001b[1;32m    395\u001b[0m             (y_type == \"multiclass\" and pos_label is not None)):\n\u001b[0;32m--> 396\u001b[0;31m         \u001b[0;32mraise\u001b[0m \u001b[0mValueError\u001b[0m\u001b[0;34m(\u001b[0m\u001b[0;34m\"{0} format is not supported\"\u001b[0m\u001b[0;34m.\u001b[0m\u001b[0mformat\u001b[0m\u001b[0;34m(\u001b[0m\u001b[0my_type\u001b[0m\u001b[0;34m)\u001b[0m\u001b[0;34m)\u001b[0m\u001b[0;34m\u001b[0m\u001b[0;34m\u001b[0m\u001b[0m\n\u001b[0m\u001b[1;32m    397\u001b[0m \u001b[0;34m\u001b[0m\u001b[0m\n\u001b[1;32m    398\u001b[0m     \u001b[0mcheck_consistent_length\u001b[0m\u001b[0;34m(\u001b[0m\u001b[0my_true\u001b[0m\u001b[0;34m,\u001b[0m \u001b[0my_score\u001b[0m\u001b[0;34m,\u001b[0m \u001b[0msample_weight\u001b[0m\u001b[0;34m)\u001b[0m\u001b[0;34m\u001b[0m\u001b[0;34m\u001b[0m\u001b[0m\n",
            "\u001b[0;31mValueError\u001b[0m: multiclass format is not supported"
          ]
        },
        {
          "output_type": "display_data",
          "data": {
            "image/png": "[encoded data removed]",
            "text/plain": [
              "<Figure size 432x288 with 2 Axes>"
            ]
          },
          "metadata": {
            "tags": []
          }
        }
      ]
    },
    {
      "cell_type": "code",
      "metadata": {
        "id": "Aef-IC-rLBue",
        "colab_type": "code",
        "colab": {
          "base_uri": "https://localhost:8080/",
          "height": 1000
        },
        "outputId": "8e1e1ac0-1ba6-4c28-f5e5-4865094db7e4"
      },
      "source": [
        "np.max(preds['nursery'].iloc[:,1:], axis=1)"
      ],
      "execution_count": 18,
      "outputs": [
        {
          "output_type": "execute_result",
          "data": {
            "text/plain": [
              "0       0.567654\n",
              "1       0.978929\n",
              "2       0.980671\n",
              "3       0.893168\n",
              "4       0.846555\n",
              "5       0.986398\n",
              "6       0.965499\n",
              "7       0.799209\n",
              "8       0.946575\n",
              "9       0.979404\n",
              "10      0.673100\n",
              "11      0.911560\n",
              "12      0.982237\n",
              "13      0.761678\n",
              "14      0.941966\n",
              "15      0.919045\n",
              "16      0.978701\n",
              "17      0.596010\n",
              "18      0.944259\n",
              "19      0.981063\n",
              "20      0.980282\n",
              "21      0.938716\n",
              "22      0.979809\n",
              "23      0.816034\n",
              "24      0.845121\n",
              "25      0.980545\n",
              "26      0.981201\n",
              "27      0.847741\n",
              "28      0.979344\n",
              "29      0.979930\n",
              "          ...   \n",
              "1266    0.977145\n",
              "1267    0.954127\n",
              "1268    0.953903\n",
              "1269    0.838168\n",
              "1270    0.911758\n",
              "1271    0.934535\n",
              "1272    0.776918\n",
              "1273    0.978118\n",
              "1274    0.765211\n",
              "1275    0.953496\n",
              "1276    0.554882\n",
              "1277    0.949693\n",
              "1278    0.948923\n",
              "1279    0.682126\n",
              "1280    0.619087\n",
              "1281    0.978321\n",
              "1282    0.878301\n",
              "1283    0.961342\n",
              "1284    0.980576\n",
              "1285    0.953832\n",
              "1286    0.965008\n",
              "1287    0.926417\n",
              "1288    0.981348\n",
              "1289    0.962626\n",
              "1290    0.978623\n",
              "1291    0.978211\n",
              "1292    0.554608\n",
              "1293    0.844851\n",
              "1294    0.772686\n",
              "1295    0.978545\n",
              "Length: 1296, dtype: float64"
            ]
          },
          "metadata": {
            "tags": []
          },
          "execution_count": 18
        }
      ]
    },
    {
      "cell_type": "code",
      "metadata": {
        "id": "gJwWZECiNdzN",
        "colab_type": "code",
        "colab": {
          "base_uri": "https://localhost:8080/",
          "height": 1000
        },
        "outputId": "aca2ec76-90c0-441d-8065-f08a95040141"
      },
      "source": [
        "preds['nursery'].iloc[:,1:]"
      ],
      "execution_count": 19,
      "outputs": [
        {
          "output_type": "execute_result",
          "data": {
            "text/html": [
              "<div>\n",
              "<style scoped>\n",
              "    .dataframe tbody tr th:only-of-type {\n",
              "        vertical-align: middle;\n",
              "    }\n",
              "\n",
              "    .dataframe tbody tr th {\n",
              "        vertical-align: top;\n",
              "    }\n",
              "\n",
              "    .dataframe thead th {\n",
              "        text-align: right;\n",
              "    }\n",
              "</style>\n",
              "<table border=\"1\" class=\"dataframe\">\n",
              "  <thead>\n",
              "    <tr style=\"text-align: right;\">\n",
              "      <th></th>\n",
              "      <th>p0</th>\n",
              "      <th>p1</th>\n",
              "      <th>p3</th>\n",
              "      <th>p4</th>\n",
              "    </tr>\n",
              "  </thead>\n",
              "  <tbody>\n",
              "    <tr>\n",
              "      <th>0</th>\n",
              "      <td>0.026653</td>\n",
              "      <td>0.345048</td>\n",
              "      <td>0.567654</td>\n",
              "      <td>0.060645</td>\n",
              "    </tr>\n",
              "    <tr>\n",
              "      <th>1</th>\n",
              "      <td>0.978929</td>\n",
              "      <td>0.003959</td>\n",
              "      <td>0.013972</td>\n",
              "      <td>0.003140</td>\n",
              "    </tr>\n",
              "    <tr>\n",
              "      <th>2</th>\n",
              "      <td>0.980671</td>\n",
              "      <td>0.007117</td>\n",
              "      <td>0.008915</td>\n",
              "      <td>0.003296</td>\n",
              "    </tr>\n",
              "    <tr>\n",
              "      <th>3</th>\n",
              "      <td>0.015715</td>\n",
              "      <td>0.081953</td>\n",
              "      <td>0.893168</td>\n",
              "      <td>0.009164</td>\n",
              "    </tr>\n",
              "    <tr>\n",
              "      <th>4</th>\n",
              "      <td>0.020956</td>\n",
              "      <td>0.118277</td>\n",
              "      <td>0.846555</td>\n",
              "      <td>0.014212</td>\n",
              "    </tr>\n",
              "    <tr>\n",
              "      <th>5</th>\n",
              "      <td>0.004968</td>\n",
              "      <td>0.005773</td>\n",
              "      <td>0.986398</td>\n",
              "      <td>0.002861</td>\n",
              "    </tr>\n",
              "    <tr>\n",
              "      <th>6</th>\n",
              "      <td>0.009487</td>\n",
              "      <td>0.965499</td>\n",
              "      <td>0.016841</td>\n",
              "      <td>0.008173</td>\n",
              "    </tr>\n",
              "    <tr>\n",
              "      <th>7</th>\n",
              "      <td>0.017696</td>\n",
              "      <td>0.799209</td>\n",
              "      <td>0.141732</td>\n",
              "      <td>0.041362</td>\n",
              "    </tr>\n",
              "    <tr>\n",
              "      <th>8</th>\n",
              "      <td>0.011059</td>\n",
              "      <td>0.035876</td>\n",
              "      <td>0.946575</td>\n",
              "      <td>0.006490</td>\n",
              "    </tr>\n",
              "    <tr>\n",
              "      <th>9</th>\n",
              "      <td>0.979404</td>\n",
              "      <td>0.007134</td>\n",
              "      <td>0.003540</td>\n",
              "      <td>0.009922</td>\n",
              "    </tr>\n",
              "    <tr>\n",
              "      <th>10</th>\n",
              "      <td>0.015721</td>\n",
              "      <td>0.299468</td>\n",
              "      <td>0.011711</td>\n",
              "      <td>0.673100</td>\n",
              "    </tr>\n",
              "    <tr>\n",
              "      <th>11</th>\n",
              "      <td>0.018443</td>\n",
              "      <td>0.911560</td>\n",
              "      <td>0.058098</td>\n",
              "      <td>0.011900</td>\n",
              "    </tr>\n",
              "    <tr>\n",
              "      <th>12</th>\n",
              "      <td>0.982237</td>\n",
              "      <td>0.010113</td>\n",
              "      <td>0.003906</td>\n",
              "      <td>0.003744</td>\n",
              "    </tr>\n",
              "    <tr>\n",
              "      <th>13</th>\n",
              "      <td>0.019971</td>\n",
              "      <td>0.206310</td>\n",
              "      <td>0.761678</td>\n",
              "      <td>0.012041</td>\n",
              "    </tr>\n",
              "    <tr>\n",
              "      <th>14</th>\n",
              "      <td>0.011039</td>\n",
              "      <td>0.040550</td>\n",
              "      <td>0.941966</td>\n",
              "      <td>0.006446</td>\n",
              "    </tr>\n",
              "    <tr>\n",
              "      <th>15</th>\n",
              "      <td>0.016696</td>\n",
              "      <td>0.919045</td>\n",
              "      <td>0.035873</td>\n",
              "      <td>0.028386</td>\n",
              "    </tr>\n",
              "    <tr>\n",
              "      <th>16</th>\n",
              "      <td>0.978701</td>\n",
              "      <td>0.013580</td>\n",
              "      <td>0.003800</td>\n",
              "      <td>0.003919</td>\n",
              "    </tr>\n",
              "    <tr>\n",
              "      <th>17</th>\n",
              "      <td>0.020038</td>\n",
              "      <td>0.596010</td>\n",
              "      <td>0.361568</td>\n",
              "      <td>0.022384</td>\n",
              "    </tr>\n",
              "    <tr>\n",
              "      <th>18</th>\n",
              "      <td>0.013032</td>\n",
              "      <td>0.944259</td>\n",
              "      <td>0.034243</td>\n",
              "      <td>0.008466</td>\n",
              "    </tr>\n",
              "    <tr>\n",
              "      <th>19</th>\n",
              "      <td>0.981063</td>\n",
              "      <td>0.011411</td>\n",
              "      <td>0.004276</td>\n",
              "      <td>0.003249</td>\n",
              "    </tr>\n",
              "    <tr>\n",
              "      <th>20</th>\n",
              "      <td>0.980282</td>\n",
              "      <td>0.007154</td>\n",
              "      <td>0.003392</td>\n",
              "      <td>0.009172</td>\n",
              "    </tr>\n",
              "    <tr>\n",
              "      <th>21</th>\n",
              "      <td>0.013956</td>\n",
              "      <td>0.938716</td>\n",
              "      <td>0.034226</td>\n",
              "      <td>0.013102</td>\n",
              "    </tr>\n",
              "    <tr>\n",
              "      <th>22</th>\n",
              "      <td>0.979809</td>\n",
              "      <td>0.007786</td>\n",
              "      <td>0.003605</td>\n",
              "      <td>0.008799</td>\n",
              "    </tr>\n",
              "    <tr>\n",
              "      <th>23</th>\n",
              "      <td>0.016873</td>\n",
              "      <td>0.154677</td>\n",
              "      <td>0.816034</td>\n",
              "      <td>0.012416</td>\n",
              "    </tr>\n",
              "    <tr>\n",
              "      <th>24</th>\n",
              "      <td>0.015716</td>\n",
              "      <td>0.130044</td>\n",
              "      <td>0.845121</td>\n",
              "      <td>0.009119</td>\n",
              "    </tr>\n",
              "    <tr>\n",
              "      <th>25</th>\n",
              "      <td>0.980545</td>\n",
              "      <td>0.008207</td>\n",
              "      <td>0.007949</td>\n",
              "      <td>0.003299</td>\n",
              "    </tr>\n",
              "    <tr>\n",
              "      <th>26</th>\n",
              "      <td>0.981201</td>\n",
              "      <td>0.004838</td>\n",
              "      <td>0.010687</td>\n",
              "      <td>0.003275</td>\n",
              "    </tr>\n",
              "    <tr>\n",
              "      <th>27</th>\n",
              "      <td>0.023460</td>\n",
              "      <td>0.847741</td>\n",
              "      <td>0.050081</td>\n",
              "      <td>0.078718</td>\n",
              "    </tr>\n",
              "    <tr>\n",
              "      <th>28</th>\n",
              "      <td>0.979344</td>\n",
              "      <td>0.008283</td>\n",
              "      <td>0.003707</td>\n",
              "      <td>0.008666</td>\n",
              "    </tr>\n",
              "    <tr>\n",
              "      <th>29</th>\n",
              "      <td>0.006610</td>\n",
              "      <td>0.009760</td>\n",
              "      <td>0.979930</td>\n",
              "      <td>0.003700</td>\n",
              "    </tr>\n",
              "    <tr>\n",
              "      <th>...</th>\n",
              "      <td>...</td>\n",
              "      <td>...</td>\n",
              "      <td>...</td>\n",
              "      <td>...</td>\n",
              "    </tr>\n",
              "    <tr>\n",
              "      <th>1266</th>\n",
              "      <td>0.007123</td>\n",
              "      <td>0.011400</td>\n",
              "      <td>0.977145</td>\n",
              "      <td>0.004332</td>\n",
              "    </tr>\n",
              "    <tr>\n",
              "      <th>1267</th>\n",
              "      <td>0.012407</td>\n",
              "      <td>0.954127</td>\n",
              "      <td>0.016581</td>\n",
              "      <td>0.016885</td>\n",
              "    </tr>\n",
              "    <tr>\n",
              "      <th>1268</th>\n",
              "      <td>0.012082</td>\n",
              "      <td>0.953903</td>\n",
              "      <td>0.025774</td>\n",
              "      <td>0.008241</td>\n",
              "    </tr>\n",
              "    <tr>\n",
              "      <th>1269</th>\n",
              "      <td>0.019015</td>\n",
              "      <td>0.130729</td>\n",
              "      <td>0.838168</td>\n",
              "      <td>0.012087</td>\n",
              "    </tr>\n",
              "    <tr>\n",
              "      <th>1270</th>\n",
              "      <td>0.012362</td>\n",
              "      <td>0.068844</td>\n",
              "      <td>0.911758</td>\n",
              "      <td>0.007036</td>\n",
              "    </tr>\n",
              "    <tr>\n",
              "      <th>1271</th>\n",
              "      <td>0.014047</td>\n",
              "      <td>0.934535</td>\n",
              "      <td>0.026664</td>\n",
              "      <td>0.024754</td>\n",
              "    </tr>\n",
              "    <tr>\n",
              "      <th>1272</th>\n",
              "      <td>0.015320</td>\n",
              "      <td>0.196473</td>\n",
              "      <td>0.011288</td>\n",
              "      <td>0.776918</td>\n",
              "    </tr>\n",
              "    <tr>\n",
              "      <th>1273</th>\n",
              "      <td>0.978118</td>\n",
              "      <td>0.009605</td>\n",
              "      <td>0.008690</td>\n",
              "      <td>0.003587</td>\n",
              "    </tr>\n",
              "    <tr>\n",
              "      <th>1274</th>\n",
              "      <td>0.019000</td>\n",
              "      <td>0.203180</td>\n",
              "      <td>0.765211</td>\n",
              "      <td>0.012609</td>\n",
              "    </tr>\n",
              "    <tr>\n",
              "      <th>1275</th>\n",
              "      <td>0.009225</td>\n",
              "      <td>0.031438</td>\n",
              "      <td>0.953496</td>\n",
              "      <td>0.005841</td>\n",
              "    </tr>\n",
              "    <tr>\n",
              "      <th>1276</th>\n",
              "      <td>0.024870</td>\n",
              "      <td>0.396614</td>\n",
              "      <td>0.554882</td>\n",
              "      <td>0.023635</td>\n",
              "    </tr>\n",
              "    <tr>\n",
              "      <th>1277</th>\n",
              "      <td>0.011976</td>\n",
              "      <td>0.949693</td>\n",
              "      <td>0.016854</td>\n",
              "      <td>0.021478</td>\n",
              "    </tr>\n",
              "    <tr>\n",
              "      <th>1278</th>\n",
              "      <td>0.013076</td>\n",
              "      <td>0.948923</td>\n",
              "      <td>0.018857</td>\n",
              "      <td>0.019144</td>\n",
              "    </tr>\n",
              "    <tr>\n",
              "      <th>1279</th>\n",
              "      <td>0.022716</td>\n",
              "      <td>0.281141</td>\n",
              "      <td>0.682126</td>\n",
              "      <td>0.014016</td>\n",
              "    </tr>\n",
              "    <tr>\n",
              "      <th>1280</th>\n",
              "      <td>0.023154</td>\n",
              "      <td>0.619087</td>\n",
              "      <td>0.342935</td>\n",
              "      <td>0.014824</td>\n",
              "    </tr>\n",
              "    <tr>\n",
              "      <th>1281</th>\n",
              "      <td>0.978321</td>\n",
              "      <td>0.005254</td>\n",
              "      <td>0.013095</td>\n",
              "      <td>0.003331</td>\n",
              "    </tr>\n",
              "    <tr>\n",
              "      <th>1282</th>\n",
              "      <td>0.013596</td>\n",
              "      <td>0.878301</td>\n",
              "      <td>0.096138</td>\n",
              "      <td>0.011964</td>\n",
              "    </tr>\n",
              "    <tr>\n",
              "      <th>1283</th>\n",
              "      <td>0.008981</td>\n",
              "      <td>0.023496</td>\n",
              "      <td>0.961342</td>\n",
              "      <td>0.006181</td>\n",
              "    </tr>\n",
              "    <tr>\n",
              "      <th>1284</th>\n",
              "      <td>0.980576</td>\n",
              "      <td>0.007074</td>\n",
              "      <td>0.008819</td>\n",
              "      <td>0.003530</td>\n",
              "    </tr>\n",
              "    <tr>\n",
              "      <th>1285</th>\n",
              "      <td>0.011867</td>\n",
              "      <td>0.953832</td>\n",
              "      <td>0.015564</td>\n",
              "      <td>0.018736</td>\n",
              "    </tr>\n",
              "    <tr>\n",
              "      <th>1286</th>\n",
              "      <td>0.009979</td>\n",
              "      <td>0.965008</td>\n",
              "      <td>0.016632</td>\n",
              "      <td>0.008381</td>\n",
              "    </tr>\n",
              "    <tr>\n",
              "      <th>1287</th>\n",
              "      <td>0.015673</td>\n",
              "      <td>0.926417</td>\n",
              "      <td>0.047557</td>\n",
              "      <td>0.010352</td>\n",
              "    </tr>\n",
              "    <tr>\n",
              "      <th>1288</th>\n",
              "      <td>0.981348</td>\n",
              "      <td>0.010995</td>\n",
              "      <td>0.004385</td>\n",
              "      <td>0.003272</td>\n",
              "    </tr>\n",
              "    <tr>\n",
              "      <th>1289</th>\n",
              "      <td>0.007807</td>\n",
              "      <td>0.024987</td>\n",
              "      <td>0.962626</td>\n",
              "      <td>0.004581</td>\n",
              "    </tr>\n",
              "    <tr>\n",
              "      <th>1290</th>\n",
              "      <td>0.978623</td>\n",
              "      <td>0.004828</td>\n",
              "      <td>0.013222</td>\n",
              "      <td>0.003327</td>\n",
              "    </tr>\n",
              "    <tr>\n",
              "      <th>1291</th>\n",
              "      <td>0.978211</td>\n",
              "      <td>0.005085</td>\n",
              "      <td>0.013255</td>\n",
              "      <td>0.003449</td>\n",
              "    </tr>\n",
              "    <tr>\n",
              "      <th>1292</th>\n",
              "      <td>0.026313</td>\n",
              "      <td>0.397657</td>\n",
              "      <td>0.554608</td>\n",
              "      <td>0.021421</td>\n",
              "    </tr>\n",
              "    <tr>\n",
              "      <th>1293</th>\n",
              "      <td>0.016273</td>\n",
              "      <td>0.844851</td>\n",
              "      <td>0.120656</td>\n",
              "      <td>0.018221</td>\n",
              "    </tr>\n",
              "    <tr>\n",
              "      <th>1294</th>\n",
              "      <td>0.021131</td>\n",
              "      <td>0.193395</td>\n",
              "      <td>0.772686</td>\n",
              "      <td>0.012788</td>\n",
              "    </tr>\n",
              "    <tr>\n",
              "      <th>1295</th>\n",
              "      <td>0.978545</td>\n",
              "      <td>0.008019</td>\n",
              "      <td>0.010032</td>\n",
              "      <td>0.003403</td>\n",
              "    </tr>\n",
              "  </tbody>\n",
              "</table>\n",
              "<p>1296 rows × 4 columns</p>\n",
              "</div>"
            ],
            "text/plain": [
              "            p0        p1        p3        p4\n",
              "0     0.026653  0.345048  0.567654  0.060645\n",
              "1     0.978929  0.003959  0.013972  0.003140\n",
              "2     0.980671  0.007117  0.008915  0.003296\n",
              "3     0.015715  0.081953  0.893168  0.009164\n",
              "4     0.020956  0.118277  0.846555  0.014212\n",
              "5     0.004968  0.005773  0.986398  0.002861\n",
              "6     0.009487  0.965499  0.016841  0.008173\n",
              "7     0.017696  0.799209  0.141732  0.041362\n",
              "8     0.011059  0.035876  0.946575  0.006490\n",
              "9     0.979404  0.007134  0.003540  0.009922\n",
              "10    0.015721  0.299468  0.011711  0.673100\n",
              "11    0.018443  0.911560  0.058098  0.011900\n",
              "12    0.982237  0.010113  0.003906  0.003744\n",
              "13    0.019971  0.206310  0.761678  0.012041\n",
              "14    0.011039  0.040550  0.941966  0.006446\n",
              "15    0.016696  0.919045  0.035873  0.028386\n",
              "16    0.978701  0.013580  0.003800  0.003919\n",
              "17    0.020038  0.596010  0.361568  0.022384\n",
              "18    0.013032  0.944259  0.034243  0.008466\n",
              "19    0.981063  0.011411  0.004276  0.003249\n",
              "20    0.980282  0.007154  0.003392  0.009172\n",
              "21    0.013956  0.938716  0.034226  0.013102\n",
              "22    0.979809  0.007786  0.003605  0.008799\n",
              "23    0.016873  0.154677  0.816034  0.012416\n",
              "24    0.015716  0.130044  0.845121  0.009119\n",
              "25    0.980545  0.008207  0.007949  0.003299\n",
              "26    0.981201  0.004838  0.010687  0.003275\n",
              "27    0.023460  0.847741  0.050081  0.078718\n",
              "28    0.979344  0.008283  0.003707  0.008666\n",
              "29    0.006610  0.009760  0.979930  0.003700\n",
              "...        ...       ...       ...       ...\n",
              "1266  0.007123  0.011400  0.977145  0.004332\n",
              "1267  0.012407  0.954127  0.016581  0.016885\n",
              "1268  0.012082  0.953903  0.025774  0.008241\n",
              "1269  0.019015  0.130729  0.838168  0.012087\n",
              "1270  0.012362  0.068844  0.911758  0.007036\n",
              "1271  0.014047  0.934535  0.026664  0.024754\n",
              "1272  0.015320  0.196473  0.011288  0.776918\n",
              "1273  0.978118  0.009605  0.008690  0.003587\n",
              "1274  0.019000  0.203180  0.765211  0.012609\n",
              "1275  0.009225  0.031438  0.953496  0.005841\n",
              "1276  0.024870  0.396614  0.554882  0.023635\n",
              "1277  0.011976  0.949693  0.016854  0.021478\n",
              "1278  0.013076  0.948923  0.018857  0.019144\n",
              "1279  0.022716  0.281141  0.682126  0.014016\n",
              "1280  0.023154  0.619087  0.342935  0.014824\n",
              "1281  0.978321  0.005254  0.013095  0.003331\n",
              "1282  0.013596  0.878301  0.096138  0.011964\n",
              "1283  0.008981  0.023496  0.961342  0.006181\n",
              "1284  0.980576  0.007074  0.008819  0.003530\n",
              "1285  0.011867  0.953832  0.015564  0.018736\n",
              "1286  0.009979  0.965008  0.016632  0.008381\n",
              "1287  0.015673  0.926417  0.047557  0.010352\n",
              "1288  0.981348  0.010995  0.004385  0.003272\n",
              "1289  0.007807  0.024987  0.962626  0.004581\n",
              "1290  0.978623  0.004828  0.013222  0.003327\n",
              "1291  0.978211  0.005085  0.013255  0.003449\n",
              "1292  0.026313  0.397657  0.554608  0.021421\n",
              "1293  0.016273  0.844851  0.120656  0.018221\n",
              "1294  0.021131  0.193395  0.772686  0.012788\n",
              "1295  0.978545  0.008019  0.010032  0.003403\n",
              "\n",
              "[1296 rows x 4 columns]"
            ]
          },
          "metadata": {
            "tags": []
          },
          "execution_count": 19
        }
      ]
    }
  ]
}
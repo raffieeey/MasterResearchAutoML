{
  "nbformat": 4,
  "nbformat_minor": 0,
  "metadata": {
    "kernelspec": {
      "display_name": "Python 3",
      "language": "python",
      "name": "python3"
    },
    "language_info": {
      "codemirror_mode": {
        "name": "ipython",
        "version": 3
      },
      "file_extension": ".py",
      "mimetype": "text/x-python",
      "name": "python",
      "nbconvert_exporter": "python",
      "pygments_lexer": "ipython3",
      "version": "3.7.0"
    },
    "colab": {
      "name": "02A_H2OAutoml.ipynb",
      "provenance": [],
      "include_colab_link": true
    }
  },
  "cells": [
    {
      "cell_type": "markdown",
      "metadata": {
        "id": "view-in-github",
        "colab_type": "text"
      },
      "source": [
        "<a href=\"https://colab.research.google.com/github/raffieeey/MasterResearchAutoML/blob/master/02A_H2OAutoml_Regres.ipynb\" target=\"_parent\"><img src=\"https://colab.research.google.com/assets/colab-badge.svg\" alt=\"Open In Colab\"/></a>"
      ]
    },
    {
      "cell_type": "markdown",
      "metadata": {
        "id": "9oybUxHpDAhG",
        "colab_type": "text"
      },
      "source": [
        "#Installing dependecies for H2O automl"
      ]
    },
    {
      "cell_type": "code",
      "metadata": {
        "id": "T08L4fWu722_",
        "colab_type": "code",
        "outputId": "a3dccc0c-4d09-4dfa-bd15-e2f5c2eefe1d",
        "colab": {
          "base_uri": "https://localhost:8080/",
          "height": 510
        }
      },
      "source": [
        "!pip install pmlb\n",
        "!pip install requests\n",
        "!pip install tabulate\n",
        "!pip install \"colorama>=0.3.8\"\n",
        "!pip install future\n",
        "!pip install pytictoc"
      ],
      "execution_count": 1,
      "outputs": [
        {
          "output_type": "stream",
          "text": [
            "Collecting pmlb\n",
            "  Downloading https://files.pythonhosted.org/packages/0d/38/bb7bf1785add978af1e6c2bd27926405959c71ebaeefa6ff610bf53d8b25/pmlb-0.3.tar.gz\n",
            "Requirement already satisfied: pandas in /usr/local/lib/python3.6/dist-packages (from pmlb) (0.24.2)\n",
            "Requirement already satisfied: python-dateutil>=2.5.0 in /usr/local/lib/python3.6/dist-packages (from pandas->pmlb) (2.5.3)\n",
            "Requirement already satisfied: pytz>=2011k in /usr/local/lib/python3.6/dist-packages (from pandas->pmlb) (2018.9)\n",
            "Requirement already satisfied: numpy>=1.12.0 in /usr/local/lib/python3.6/dist-packages (from pandas->pmlb) (1.16.5)\n",
            "Requirement already satisfied: six>=1.5 in /usr/local/lib/python3.6/dist-packages (from python-dateutil>=2.5.0->pandas->pmlb) (1.12.0)\n",
            "Building wheels for collected packages: pmlb\n",
            "  Building wheel for pmlb (setup.py) ... \u001b[?25l\u001b[?25hdone\n",
            "  Created wheel for pmlb: filename=pmlb-0.3-cp36-none-any.whl size=11918 sha256=09e90ca85e977b672969a6ffe5b2c46deb3048e4ac23081b547639c9969a224c\n",
            "  Stored in directory: /root/.cache/pip/wheels/5a/c7/a4/be59e63a2cb56f6c58f068305b95c212e0aac1a930fd77d6b0\n",
            "Successfully built pmlb\n",
            "Installing collected packages: pmlb\n",
            "Successfully installed pmlb-0.3\n",
            "Requirement already satisfied: requests in /usr/local/lib/python3.6/dist-packages (2.21.0)\n",
            "Requirement already satisfied: certifi>=2017.4.17 in /usr/local/lib/python3.6/dist-packages (from requests) (2019.6.16)\n",
            "Requirement already satisfied: urllib3<1.25,>=1.21.1 in /usr/local/lib/python3.6/dist-packages (from requests) (1.24.3)\n",
            "Requirement already satisfied: idna<2.9,>=2.5 in /usr/local/lib/python3.6/dist-packages (from requests) (2.8)\n",
            "Requirement already satisfied: chardet<3.1.0,>=3.0.2 in /usr/local/lib/python3.6/dist-packages (from requests) (3.0.4)\n",
            "Requirement already satisfied: tabulate in /usr/local/lib/python3.6/dist-packages (0.8.3)\n",
            "Collecting colorama>=0.3.8\n",
            "  Downloading https://files.pythonhosted.org/packages/4f/a6/728666f39bfff1719fc94c481890b2106837da9318031f71a8424b662e12/colorama-0.4.1-py2.py3-none-any.whl\n",
            "Installing collected packages: colorama\n",
            "Successfully installed colorama-0.4.1\n",
            "Requirement already satisfied: future in /usr/local/lib/python3.6/dist-packages (0.16.0)\n",
            "Collecting pytictoc\n",
            "  Downloading https://files.pythonhosted.org/packages/d5/cf/87661e4a929be7023172b7684a704df8379d78a2ed1b86cc01a6cd32cd11/pytictoc-1.5.0-py2.py3-none-any.whl\n",
            "Installing collected packages: pytictoc\n",
            "Successfully installed pytictoc-1.5.0\n"
          ],
          "name": "stdout"
        }
      ]
    },
    {
      "cell_type": "code",
      "metadata": {
        "id": "OQzfHPmW723D",
        "colab_type": "code",
        "colab": {}
      },
      "source": [
        "#!pip uninstall h2o -y"
      ],
      "execution_count": 0,
      "outputs": []
    },
    {
      "cell_type": "markdown",
      "metadata": {
        "id": "dsuBpRx1DU_Q",
        "colab_type": "text"
      },
      "source": [
        "## Installing H2O"
      ]
    },
    {
      "cell_type": "code",
      "metadata": {
        "id": "5kOTV6Zi723F",
        "colab_type": "code",
        "outputId": "ca0c757f-f704-48bd-ca5c-81aa93efb3ea",
        "colab": {
          "base_uri": "https://localhost:8080/",
          "height": 377
        }
      },
      "source": [
        "!pip install -f http://h2o-release.s3.amazonaws.com/h2o/latest_stable_Py.html h2o"
      ],
      "execution_count": 3,
      "outputs": [
        {
          "output_type": "stream",
          "text": [
            "Looking in links: http://h2o-release.s3.amazonaws.com/h2o/latest_stable_Py.html\n",
            "Collecting h2o\n",
            "\u001b[33m  WARNING: The repository located at h2o-release.s3.amazonaws.com is not a trusted or secure host and is being ignored. If this repository is available via HTTPS we recommend you use HTTPS instead, otherwise you may silence this warning and allow it anyway with '--trusted-host h2o-release.s3.amazonaws.com'.\u001b[0m\n",
            "\u001b[?25l  Downloading https://files.pythonhosted.org/packages/43/e5/3d75dfc75f7ef5018acf4f1f2e73cdd6ac41eca44a6908f20dd1be71acb6/h2o-3.26.0.5.tar.gz (123.6MB)\n",
            "\u001b[K     |████████████████████████████████| 123.6MB 133kB/s \n",
            "\u001b[?25hRequirement already satisfied: requests in /usr/local/lib/python3.6/dist-packages (from h2o) (2.21.0)\n",
            "Requirement already satisfied: tabulate in /usr/local/lib/python3.6/dist-packages (from h2o) (0.8.3)\n",
            "Requirement already satisfied: future in /usr/local/lib/python3.6/dist-packages (from h2o) (0.16.0)\n",
            "Requirement already satisfied: colorama>=0.3.8 in /usr/local/lib/python3.6/dist-packages (from h2o) (0.4.1)\n",
            "Requirement already satisfied: certifi>=2017.4.17 in /usr/local/lib/python3.6/dist-packages (from requests->h2o) (2019.6.16)\n",
            "Requirement already satisfied: urllib3<1.25,>=1.21.1 in /usr/local/lib/python3.6/dist-packages (from requests->h2o) (1.24.3)\n",
            "Requirement already satisfied: chardet<3.1.0,>=3.0.2 in /usr/local/lib/python3.6/dist-packages (from requests->h2o) (3.0.4)\n",
            "Requirement already satisfied: idna<2.9,>=2.5 in /usr/local/lib/python3.6/dist-packages (from requests->h2o) (2.8)\n",
            "Building wheels for collected packages: h2o\n",
            "  Building wheel for h2o (setup.py) ... \u001b[?25l\u001b[?25hdone\n",
            "  Created wheel for h2o: filename=h2o-3.26.0.5-py2.py3-none-any.whl size=123672284 sha256=9429089d5def1f5e780367c34b4edf5ad554eeb6bdde2beddbe36c14008bbc19\n",
            "  Stored in directory: /root/.cache/pip/wheels/c9/d2/24/eeb5f07ff6826ea23325338cd3fb5754b99592a3f2b4e67f27\n",
            "Successfully built h2o\n",
            "Installing collected packages: h2o\n",
            "Successfully installed h2o-3.26.0.5\n"
          ],
          "name": "stdout"
        }
      ]
    },
    {
      "cell_type": "markdown",
      "metadata": {
        "id": "rOq9n7WjzGkm",
        "colab_type": "text"
      },
      "source": [
        "## Getting the number of Cores"
      ]
    },
    {
      "cell_type": "code",
      "metadata": {
        "id": "6iRoIwaLx6Bc",
        "colab_type": "code",
        "outputId": "f2756161-97d4-4dc7-b557-e315d07141c7",
        "colab": {
          "base_uri": "https://localhost:8080/",
          "height": 955
        }
      },
      "source": [
        "!cat /proc/cpuinfo"
      ],
      "execution_count": 4,
      "outputs": [
        {
          "output_type": "stream",
          "text": [
            "processor\t: 0\n",
            "vendor_id\t: GenuineIntel\n",
            "cpu family\t: 6\n",
            "model\t\t: 79\n",
            "model name\t: Intel(R) Xeon(R) CPU @ 2.20GHz\n",
            "stepping\t: 0\n",
            "microcode\t: 0x1\n",
            "cpu MHz\t\t: 2200.000\n",
            "cache size\t: 56320 KB\n",
            "physical id\t: 0\n",
            "siblings\t: 2\n",
            "core id\t\t: 0\n",
            "cpu cores\t: 1\n",
            "apicid\t\t: 0\n",
            "initial apicid\t: 0\n",
            "fpu\t\t: yes\n",
            "fpu_exception\t: yes\n",
            "cpuid level\t: 13\n",
            "wp\t\t: yes\n",
            "flags\t\t: fpu vme de pse tsc msr pae mce cx8 apic sep mtrr pge mca cmov pat pse36 clflush mmx fxsr sse sse2 ss ht syscall nx pdpe1gb rdtscp lm constant_tsc rep_good nopl xtopology nonstop_tsc cpuid tsc_known_freq pni pclmulqdq ssse3 fma cx16 pcid sse4_1 sse4_2 x2apic movbe popcnt aes xsave avx f16c rdrand hypervisor lahf_lm abm 3dnowprefetch invpcid_single ssbd ibrs ibpb stibp fsgsbase tsc_adjust bmi1 hle avx2 smep bmi2 erms invpcid rtm rdseed adx smap xsaveopt arat md_clear arch_capabilities\n",
            "bugs\t\t: cpu_meltdown spectre_v1 spectre_v2 spec_store_bypass l1tf mds swapgs\n",
            "bogomips\t: 4400.00\n",
            "clflush size\t: 64\n",
            "cache_alignment\t: 64\n",
            "address sizes\t: 46 bits physical, 48 bits virtual\n",
            "power management:\n",
            "\n",
            "processor\t: 1\n",
            "vendor_id\t: GenuineIntel\n",
            "cpu family\t: 6\n",
            "model\t\t: 79\n",
            "model name\t: Intel(R) Xeon(R) CPU @ 2.20GHz\n",
            "stepping\t: 0\n",
            "microcode\t: 0x1\n",
            "cpu MHz\t\t: 2200.000\n",
            "cache size\t: 56320 KB\n",
            "physical id\t: 0\n",
            "siblings\t: 2\n",
            "core id\t\t: 0\n",
            "cpu cores\t: 1\n",
            "apicid\t\t: 1\n",
            "initial apicid\t: 1\n",
            "fpu\t\t: yes\n",
            "fpu_exception\t: yes\n",
            "cpuid level\t: 13\n",
            "wp\t\t: yes\n",
            "flags\t\t: fpu vme de pse tsc msr pae mce cx8 apic sep mtrr pge mca cmov pat pse36 clflush mmx fxsr sse sse2 ss ht syscall nx pdpe1gb rdtscp lm constant_tsc rep_good nopl xtopology nonstop_tsc cpuid tsc_known_freq pni pclmulqdq ssse3 fma cx16 pcid sse4_1 sse4_2 x2apic movbe popcnt aes xsave avx f16c rdrand hypervisor lahf_lm abm 3dnowprefetch invpcid_single ssbd ibrs ibpb stibp fsgsbase tsc_adjust bmi1 hle avx2 smep bmi2 erms invpcid rtm rdseed adx smap xsaveopt arat md_clear arch_capabilities\n",
            "bugs\t\t: cpu_meltdown spectre_v1 spectre_v2 spec_store_bypass l1tf mds swapgs\n",
            "bogomips\t: 4400.00\n",
            "clflush size\t: 64\n",
            "cache_alignment\t: 64\n",
            "address sizes\t: 46 bits physical, 48 bits virtual\n",
            "power management:\n",
            "\n"
          ],
          "name": "stdout"
        }
      ]
    },
    {
      "cell_type": "markdown",
      "metadata": {
        "id": "ii1wM5mLDa7Q",
        "colab_type": "text"
      },
      "source": [
        "##Starting H2O"
      ]
    },
    {
      "cell_type": "code",
      "metadata": {
        "id": "DvpyYQTa723H",
        "colab_type": "code",
        "colab": {}
      },
      "source": [
        "import h2o"
      ],
      "execution_count": 0,
      "outputs": []
    },
    {
      "cell_type": "code",
      "metadata": {
        "id": "xqc5HsNy723J",
        "colab_type": "code",
        "outputId": "1c7f4a84-b41f-460a-ca4c-2b15a2ca1a48",
        "colab": {
          "base_uri": "https://localhost:8080/",
          "height": 508
        }
      },
      "source": [
        "h2o.init(nthreads=2,\n",
        "                 min_mem_size=\"2048M\",\n",
        "                 max_mem_size=\"2048M\")"
      ],
      "execution_count": 6,
      "outputs": [
        {
          "output_type": "stream",
          "text": [
            "Checking whether there is an H2O instance running at http://localhost:54321 ..... not found.\n",
            "Attempting to start a local H2O server...\n",
            "  Java Version: openjdk version \"11.0.4\" 2019-07-16; OpenJDK Runtime Environment (build 11.0.4+11-post-Ubuntu-1ubuntu218.04.3); OpenJDK 64-Bit Server VM (build 11.0.4+11-post-Ubuntu-1ubuntu218.04.3, mixed mode, sharing)\n",
            "  Starting server from /usr/local/lib/python3.6/dist-packages/h2o/backend/bin/h2o.jar\n",
            "  Ice root: /tmp/tmptpdk6ygy\n",
            "  JVM stdout: /tmp/tmptpdk6ygy/h2o_unknownUser_started_from_python.out\n",
            "  JVM stderr: /tmp/tmptpdk6ygy/h2o_unknownUser_started_from_python.err\n",
            "  Server is running at http://127.0.0.1:54321\n",
            "Connecting to H2O server at http://127.0.0.1:54321 ... successful.\n"
          ],
          "name": "stdout"
        },
        {
          "output_type": "display_data",
          "data": {
            "text/html": [
              "<div style=\"overflow:auto\"><table style=\"width:50%\"><tr><td>H2O cluster uptime:</td>\n",
              "<td>02 secs</td></tr>\n",
              "<tr><td>H2O cluster timezone:</td>\n",
              "<td>Etc/UTC</td></tr>\n",
              "<tr><td>H2O data parsing timezone:</td>\n",
              "<td>UTC</td></tr>\n",
              "<tr><td>H2O cluster version:</td>\n",
              "<td>3.26.0.5</td></tr>\n",
              "<tr><td>H2O cluster version age:</td>\n",
              "<td>8 days </td></tr>\n",
              "<tr><td>H2O cluster name:</td>\n",
              "<td>H2O_from_python_unknownUser_mo3tpn</td></tr>\n",
              "<tr><td>H2O cluster total nodes:</td>\n",
              "<td>1</td></tr>\n",
              "<tr><td>H2O cluster free memory:</td>\n",
              "<td>2 Gb</td></tr>\n",
              "<tr><td>H2O cluster total cores:</td>\n",
              "<td>2</td></tr>\n",
              "<tr><td>H2O cluster allowed cores:</td>\n",
              "<td>2</td></tr>\n",
              "<tr><td>H2O cluster status:</td>\n",
              "<td>accepting new members, healthy</td></tr>\n",
              "<tr><td>H2O connection url:</td>\n",
              "<td>http://127.0.0.1:54321</td></tr>\n",
              "<tr><td>H2O connection proxy:</td>\n",
              "<td>None</td></tr>\n",
              "<tr><td>H2O internal security:</td>\n",
              "<td>False</td></tr>\n",
              "<tr><td>H2O API Extensions:</td>\n",
              "<td>Amazon S3, XGBoost, Algos, AutoML, Core V3, TargetEncoder, Core V4</td></tr>\n",
              "<tr><td>Python version:</td>\n",
              "<td>3.6.8 final</td></tr></table></div>"
            ],
            "text/plain": [
              "--------------------------  ------------------------------------------------------------------\n",
              "H2O cluster uptime:         02 secs\n",
              "H2O cluster timezone:       Etc/UTC\n",
              "H2O data parsing timezone:  UTC\n",
              "H2O cluster version:        3.26.0.5\n",
              "H2O cluster version age:    8 days\n",
              "H2O cluster name:           H2O_from_python_unknownUser_mo3tpn\n",
              "H2O cluster total nodes:    1\n",
              "H2O cluster free memory:    2 Gb\n",
              "H2O cluster total cores:    2\n",
              "H2O cluster allowed cores:  2\n",
              "H2O cluster status:         accepting new members, healthy\n",
              "H2O connection url:         http://127.0.0.1:54321\n",
              "H2O connection proxy:\n",
              "H2O internal security:      False\n",
              "H2O API Extensions:         Amazon S3, XGBoost, Algos, AutoML, Core V3, TargetEncoder, Core V4\n",
              "Python version:             3.6.8 final\n",
              "--------------------------  ------------------------------------------------------------------"
            ]
          },
          "metadata": {
            "tags": []
          }
        }
      ]
    },
    {
      "cell_type": "markdown",
      "metadata": {
        "id": "GsEUX9Sa8TsZ",
        "colab_type": "text"
      },
      "source": [
        "## Creating all the metrics for Classification algorithm"
      ]
    },
    {
      "cell_type": "code",
      "metadata": {
        "id": "Q0BTp81w_vcL",
        "colab_type": "code",
        "colab": {}
      },
      "source": [
        "from sklearn.metrics import mean_absolute_error, mean_squared_error, mean_squared_log_error, r2_score\n",
        "import math\n",
        "\n",
        "class MetricsCalc:\n",
        "\n",
        "    def __init__(self, truth, predictions):\n",
        "        self.truth = truth.as_data_frame()\n",
        "        self.predictions = predictions\n",
        "        self._type = 'regression'\n",
        "\n",
        "    def mae(self):\n",
        "        return float(mean_absolute_error(self.truth, self.predictions))\n",
        "\n",
        "    def mse(self):\n",
        "        return float(mean_squared_error(self.truth, self.predictions))\n",
        "\n",
        "    def msle(self):\n",
        "        return float(mean_squared_log_error(self.truth, self.predictions))\n",
        "\n",
        "    def rmse(self):\n",
        "        return math.sqrt(self.mse())\n",
        "\n",
        "    def rmsle(self):\n",
        "        return math.sqrt(self.msle())\n",
        "\n",
        "    def r2(self):\n",
        "        return float(r2_score(self.truth, self.predictions))"
      ],
      "execution_count": 0,
      "outputs": []
    },
    {
      "cell_type": "markdown",
      "metadata": {
        "id": "6XG_0zgR8cqZ",
        "colab_type": "text"
      },
      "source": [
        "## Running H2O autoML with \n",
        "- 120 seconds\n",
        "- Seed 69\n",
        "- 2 Cores\n",
        "- 2GB memory\n",
        "\n",
        "- Tested for metrics: \n",
        "> - Deviance\n",
        "> - Mean Squared error\n",
        "> - Root Mean Squared error\n",
        "> - Mean Absolute error\n",
        "> - Root Mean Squared Logarithmic Error\n",
        "\n",
        "- Recorded for metrics: \n",
        "> - Mean Absolute error\n",
        "> - Mean Squared error\n",
        "> - Mean Squared Logarithmic Error\n",
        "> - Root Mean Squared error\n",
        "> - Root Mean Squared Logarithmic Error\n",
        "> - r2"
      ]
    },
    {
      "cell_type": "code",
      "metadata": {
        "id": "Qutk8kEF723M",
        "colab_type": "code",
        "outputId": "7365acd3-f3b1-452f-a5af-f48daf174317",
        "colab": {
          "base_uri": "https://localhost:8080/",
          "height": 136
        }
      },
      "source": [
        "from pmlb import classification_dataset_names, regression_dataset_names,fetch_data\n",
        "from h2o.automl import H2OAutoML\n",
        "from sklearn.model_selection import train_test_split\n",
        "from pytictoc import TicToc\n",
        "\n",
        "\n",
        "preds = {}\n",
        "mae_preds = {}\n",
        "mse_preds = {}\n",
        "msle_preds = {}\n",
        "rmse_preds = {}\n",
        "rmsle_preds = {}\n",
        "r2_preds = {}\n",
        "top_algo = {}\n",
        "t = TicToc()\n",
        "\n",
        "\n",
        "sel_clss_dtst = ['adult','agaricus-lepiota', 'churn', 'nursery', 'satimage','texture']\n",
        "sel_rgrs_dtst = ['294_satellite_image','218_house_8L', '227_cpu_small', '503_wind', '344_mv','215_2dplanes']\n",
        "\n",
        "for rgrs_dtst in sel_rgrs_dtst:\n",
        "  for metrics_test in ['RMSLE', 'MAE', 'RMSE', 'MSE', 'deviance']:\n",
        "        print(\"_\"*80)\n",
        "        print(f\"*** Dataset Name: {rgrs_dtst} ***\")\n",
        "        X, y = fetch_data(rgrs_dtst, return_X_y=True)\n",
        "        X_train, X_test, y_train, y_test = train_test_split(X, y, test_size=0.1, random_state=69)\n",
        "        X_train = h2o.H2OFrame(X_train)\n",
        "        X_test = h2o.H2OFrame(X_test)\n",
        "        y_train = h2o.H2OFrame(y_train)\n",
        "        y_test = h2o.H2OFrame(y_test)\n",
        "        aml = H2OAutoML(seed=69, max_runtime_secs=120,sort_metric=metrics_test)\n",
        "        t.tic()\n",
        "        aml.train(x=X_train.columns, y=X_train.cbind(y_train)[:,-1].columns[0], training_frame=X_train.cbind(y_train))\n",
        "        t.toc()    \n",
        "        lb = aml.leaderboard\n",
        "        top_algo[rgrs_dtst] = lb.head(5)\n",
        "        print(\"*** Top algorithm: ***\", lb.head(5))\n",
        "        preds[rgrs_dtst] = aml.leader.predict(X_test).as_data_frame()\n",
        "        p = MetricsCalc(y_test,preds[rgrs_dtst])\n",
        "        mae_preds[rgrs_dtst] = p.mae()\n",
        "        mse_preds[rgrs_dtst] = p.mse()\n",
        "        msle_preds[rgrs_dtst] = p.msle()\n",
        "        rmse_preds[rgrs_dtst] = p.rmse()\n",
        "        rmsle_preds[rgrs_dtst] = p.rmsle()\n",
        "        r2_preds[rgrs_dtst] = p.r2()"
      ],
      "execution_count": 0,
      "outputs": [
        {
          "output_type": "stream",
          "text": [
            "________________________________________________________________________________\n",
            "*** Dataset Name: 294_satellite_image ***\n",
            "Parse progress: |█████████████████████████████████████████████████████████| 100%\n",
            "Parse progress: |█████████████████████████████████████████████████████████| 100%\n",
            "Parse progress: |█████████████████████████████████████████████████████████| 100%\n",
            "Parse progress: |█████████████████████████████████████████████████████████| 100%\n",
            "AutoML progress: |███████████████████████████████████████████"
          ],
          "name": "stdout"
        }
      ]
    },
    {
      "cell_type": "markdown",
      "metadata": {
        "id": "yZ8HfEvy9mF5",
        "colab_type": "text"
      },
      "source": [
        "## Looking at the predictions"
      ]
    },
    {
      "cell_type": "code",
      "metadata": {
        "id": "fr3jMCKTkJYb",
        "colab_type": "code",
        "outputId": "e9e12ea6-f6cf-4714-99a0-967920bbae4d",
        "colab": {
          "base_uri": "https://localhost:8080/",
          "height": 1000
        }
      },
      "source": [
        "for i, val in enumerate(preds):\n",
        "  print(preds[val])"
      ],
      "execution_count": 0,
      "outputs": [
        {
          "output_type": "stream",
          "text": [
            "      predict        p0        p1\n",
            "0           1  0.012280  0.987720\n",
            "1           1  0.459342  0.540658\n",
            "2           0  0.991891  0.008109\n",
            "3           1  0.005298  0.994702\n",
            "4           0  0.986920  0.013080\n",
            "5           1  0.021513  0.978487\n",
            "6           1  0.007122  0.992878\n",
            "7           1  0.062034  0.937966\n",
            "8           1  0.028168  0.971832\n",
            "9           1  0.020400  0.979600\n",
            "10          1  0.432165  0.567835\n",
            "11          1  0.098851  0.901149\n",
            "12          1  0.450483  0.549517\n",
            "13          1  0.016101  0.983899\n",
            "14          1  0.440736  0.559264\n",
            "15          1  0.005915  0.994085\n",
            "16          1  0.130246  0.869754\n",
            "17          1  0.252730  0.747270\n",
            "18          1  0.026730  0.973270\n",
            "19          1  0.225238  0.774762\n",
            "20          1  0.316445  0.683555\n",
            "21          0  0.986181  0.013819\n",
            "22          0  0.765557  0.234443\n",
            "23          0  0.505974  0.494026\n",
            "24          1  0.167111  0.832889\n",
            "25          1  0.173166  0.826834\n",
            "26          1  0.051029  0.948971\n",
            "27          1  0.105806  0.894194\n",
            "28          1  0.010020  0.989980\n",
            "29          1  0.236498  0.763502\n",
            "...       ...       ...       ...\n",
            "4855        1  0.461848  0.538152\n",
            "4856        0  0.815544  0.184456\n",
            "4857        1  0.011247  0.988753\n",
            "4858        1  0.002256  0.997744\n",
            "4859        1  0.054332  0.945668\n",
            "4860        1  0.018191  0.981809\n",
            "4861        1  0.460533  0.539467\n",
            "4862        1  0.453869  0.546131\n",
            "4863        1  0.486236  0.513764\n",
            "4864        1  0.003555  0.996445\n",
            "4865        1  0.493094  0.506906\n",
            "4866        1  0.025299  0.974701\n",
            "4867        1  0.453022  0.546978\n",
            "4868        1  0.002461  0.997539\n",
            "4869        1  0.021810  0.978190\n",
            "4870        1  0.024346  0.975654\n",
            "4871        1  0.079474  0.920526\n",
            "4872        1  0.004908  0.995092\n",
            "4873        0  0.949950  0.050050\n",
            "4874        0  0.982885  0.017115\n",
            "4875        1  0.046704  0.953296\n",
            "4876        1  0.005497  0.994503\n",
            "4877        1  0.006077  0.993923\n",
            "4878        1  0.004985  0.995015\n",
            "4879        1  0.036847  0.963153\n",
            "4880        1  0.014242  0.985758\n",
            "4881        1  0.003420  0.996580\n",
            "4882        1  0.017509  0.982491\n",
            "4883        1  0.005369  0.994631\n",
            "4884        1  0.105181  0.894819\n",
            "\n",
            "[4885 rows x 3 columns]\n",
            "     predict        p0        p1\n",
            "0          0  0.997989  0.002011\n",
            "1          0  0.997774  0.002226\n",
            "2          0  0.997986  0.002014\n",
            "3          0  0.997846  0.002154\n",
            "4          1  0.001790  0.998210\n",
            "5          0  0.997998  0.002002\n",
            "6          1  0.001504  0.998496\n",
            "7          0  0.997994  0.002006\n",
            "8          1  0.001509  0.998491\n",
            "9          0  0.998007  0.001993\n",
            "10         0  0.998008  0.001992\n",
            "11         1  0.001518  0.998482\n",
            "12         1  0.004169  0.995831\n",
            "13         0  0.997900  0.002100\n",
            "14         1  0.001515  0.998485\n",
            "15         1  0.001512  0.998488\n",
            "16         1  0.001504  0.998496\n",
            "17         1  0.001496  0.998504\n",
            "18         0  0.998008  0.001992\n",
            "19         1  0.001771  0.998229\n",
            "20         0  0.997260  0.002740\n",
            "21         1  0.002073  0.997927\n",
            "22         0  0.997999  0.002001\n",
            "23         1  0.001518  0.998482\n",
            "24         0  0.997962  0.002038\n",
            "25         1  0.001508  0.998492\n",
            "26         0  0.997987  0.002013\n",
            "27         1  0.001509  0.998491\n",
            "28         0  0.997987  0.002013\n",
            "29         0  0.997917  0.002083\n",
            "..       ...       ...       ...\n",
            "785        0  0.997990  0.002010\n",
            "786        1  0.001515  0.998485\n",
            "787        1  0.001508  0.998492\n",
            "788        1  0.001941  0.998059\n",
            "789        0  0.997981  0.002019\n",
            "790        0  0.997953  0.002047\n",
            "791        1  0.001504  0.998496\n",
            "792        1  0.001506  0.998494\n",
            "793        0  0.998005  0.001995\n",
            "794        0  0.997993  0.002007\n",
            "795        0  0.998001  0.001999\n",
            "796        1  0.001520  0.998480\n",
            "797        0  0.997995  0.002005\n",
            "798        0  0.997978  0.002022\n",
            "799        0  0.998000  0.002000\n",
            "800        0  0.997936  0.002064\n",
            "801        0  0.997995  0.002005\n",
            "802        1  0.001518  0.998482\n",
            "803        0  0.997682  0.002318\n",
            "804        1  0.001514  0.998486\n",
            "805        0  0.998002  0.001998\n",
            "806        1  0.001509  0.998491\n",
            "807        0  0.997939  0.002061\n",
            "808        0  0.997615  0.002385\n",
            "809        1  0.001496  0.998504\n",
            "810        0  0.997763  0.002237\n",
            "811        0  0.997964  0.002036\n",
            "812        1  0.001520  0.998480\n",
            "813        1  0.001506  0.998494\n",
            "814        0  0.997821  0.002179\n",
            "\n",
            "[815 rows x 3 columns]\n",
            "     predict        p0        p1\n",
            "0          0  0.976246  0.023754\n",
            "1          0  0.980562  0.019438\n",
            "2          0  0.979330  0.020670\n",
            "3          0  0.978751  0.021249\n",
            "4          0  0.963372  0.036628\n",
            "5          1  0.026598  0.973402\n",
            "6          0  0.979612  0.020388\n",
            "7          0  0.974900  0.025100\n",
            "8          0  0.979343  0.020657\n",
            "9          0  0.617535  0.382465\n",
            "10         0  0.981407  0.018593\n",
            "11         0  0.965215  0.034785\n",
            "12         0  0.977944  0.022056\n",
            "13         0  0.979169  0.020831\n",
            "14         0  0.980477  0.019523\n",
            "15         0  0.978913  0.021087\n",
            "16         0  0.978767  0.021233\n",
            "17         0  0.979761  0.020239\n",
            "18         0  0.838525  0.161475\n",
            "19         0  0.980695  0.019305\n",
            "20         0  0.979870  0.020130\n",
            "21         0  0.870101  0.129899\n",
            "22         0  0.979259  0.020741\n",
            "23         0  0.981004  0.018996\n",
            "24         0  0.976287  0.023713\n",
            "25         0  0.980034  0.019966\n",
            "26         0  0.980478  0.019522\n",
            "27         0  0.981503  0.018497\n",
            "28         0  0.948791  0.051209\n",
            "29         0  0.979635  0.020365\n",
            "..       ...       ...       ...\n",
            "470        0  0.980113  0.019887\n",
            "471        0  0.979476  0.020524\n",
            "472        0  0.979723  0.020277\n",
            "473        0  0.974574  0.025426\n",
            "474        0  0.980295  0.019705\n",
            "475        0  0.571296  0.428704\n",
            "476        0  0.864146  0.135854\n",
            "477        0  0.978279  0.021721\n",
            "478        0  0.977726  0.022274\n",
            "479        0  0.980124  0.019876\n",
            "480        1  0.009453  0.990547\n",
            "481        0  0.976699  0.023301\n",
            "482        0  0.981415  0.018585\n",
            "483        0  0.974217  0.025783\n",
            "484        0  0.950676  0.049324\n",
            "485        0  0.977745  0.022255\n",
            "486        0  0.963367  0.036633\n",
            "487        0  0.976575  0.023425\n",
            "488        0  0.976048  0.023952\n",
            "489        0  0.977227  0.022773\n",
            "490        0  0.980402  0.019598\n",
            "491        0  0.938954  0.061046\n",
            "492        0  0.584228  0.415772\n",
            "493        0  0.977436  0.022564\n",
            "494        0  0.979438  0.020562\n",
            "495        0  0.980449  0.019551\n",
            "496        0  0.979096  0.020904\n",
            "497        1  0.030707  0.969293\n",
            "498        0  0.976246  0.023754\n",
            "499        0  0.972052  0.027948\n",
            "\n",
            "[500 rows x 3 columns]\n",
            "      predict        p0        p1        p3        p4\n",
            "0           3  0.013286  0.341719  0.607064  0.037931\n",
            "1           0  0.993164  0.001024  0.005089  0.000723\n",
            "2           0  0.994221  0.002159  0.002858  0.000762\n",
            "3           3  0.006112  0.050591  0.940170  0.003127\n",
            "4           3  0.009026  0.102667  0.882743  0.005565\n",
            "5           3  0.001326  0.001608  0.996423  0.000643\n",
            "6           1  0.002692  0.988754  0.005994  0.002561\n",
            "7           1  0.007996  0.858576  0.108674  0.024755\n",
            "8           3  0.003738  0.017480  0.976899  0.001882\n",
            "9           0  0.994138  0.001995  0.000799  0.003068\n",
            "10          4  0.006075  0.212856  0.004597  0.776472\n",
            "11          1  0.006665  0.956690  0.032635  0.004009\n",
            "12          0  0.994873  0.003036  0.001004  0.001087\n",
            "13          3  0.008796  0.164505  0.822021  0.004678\n",
            "14          3  0.004312  0.029411  0.964187  0.002089\n",
            "15          1  0.005456  0.966639  0.016715  0.011191\n",
            "16          0  0.993000  0.005132  0.000939  0.000929\n",
            "17          1  0.009469  0.608903  0.369784  0.011844\n",
            "18          1  0.004030  0.977158  0.016236  0.002576\n",
            "19          0  0.994647  0.003456  0.001106  0.000790\n",
            "20          0  0.994356  0.001970  0.000772  0.002902\n",
            "21          1  0.004739  0.973198  0.017451  0.004613\n",
            "22          0  0.994259  0.002140  0.000872  0.002729\n",
            "23          3  0.007877  0.116204  0.870068  0.005851\n",
            "24          3  0.005770  0.080728  0.910544  0.002957\n",
            "25          0  0.994223  0.002777  0.002218  0.000782\n",
            "26          0  0.994022  0.001439  0.003756  0.000782\n",
            "27          1  0.009489  0.913911  0.026986  0.049614\n",
            "28          0  0.994001  0.002346  0.000882  0.002772\n",
            "29          3  0.001948  0.003593  0.993522  0.000938\n",
            "...       ...       ...       ...       ...       ...\n",
            "1266        3  0.002123  0.004520  0.992224  0.001132\n",
            "1267        1  0.004171  0.981057  0.007564  0.007208\n",
            "1268        1  0.003762  0.983639  0.010235  0.002364\n",
            "1269        3  0.007959  0.093771  0.893774  0.004496\n",
            "1270        3  0.003863  0.033271  0.960941  0.001924\n",
            "1271        1  0.004567  0.974962  0.010715  0.009756\n",
            "1272        4  0.004993  0.110249  0.004189  0.880569\n",
            "1273        0  0.994084  0.002799  0.002279  0.000838\n",
            "1274        3  0.008504  0.166723  0.819417  0.005355\n",
            "1275        3  0.002736  0.013187  0.982484  0.001593\n",
            "1276        3  0.012951  0.427801  0.546615  0.012632\n",
            "1277        1  0.004639  0.975770  0.007493  0.012098\n",
            "1278        1  0.004097  0.981685  0.006983  0.007235\n",
            "1279        3  0.009621  0.220243  0.764582  0.005553\n",
            "1280        1  0.010985  0.655000  0.327655  0.006360\n",
            "1281        0  0.992655  0.001823  0.004738  0.000785\n",
            "1282        1  0.005153  0.933744  0.056958  0.004146\n",
            "1283        3  0.002868  0.010668  0.984693  0.001771\n",
            "1284        0  0.994322  0.002061  0.002784  0.000833\n",
            "1285        1  0.004407  0.978179  0.006850  0.010563\n",
            "1286        1  0.003041  0.987954  0.006198  0.002807\n",
            "1287        1  0.004862  0.970011  0.022052  0.003075\n",
            "1288        0  0.994916  0.003314  0.001030  0.000740\n",
            "1289        3  0.002310  0.010777  0.985710  0.001203\n",
            "1290        0  0.993638  0.001227  0.004390  0.000746\n",
            "1291        0  0.992992  0.001392  0.004816  0.000801\n",
            "1292        3  0.012631  0.461905  0.515798  0.009666\n",
            "1293        1  0.006488  0.896974  0.087215  0.009324\n",
            "1294        3  0.009270  0.176377  0.809356  0.004997\n",
            "1295        0  0.994017  0.002308  0.002915  0.000760\n",
            "\n",
            "[1296 rows x 5 columns]\n",
            "     predict        p1        p2        p3        p4        p5        p7\n",
            "0          4  0.001242  0.001145  0.001289  0.971380  0.001734  0.023210\n",
            "1          3  0.027417  0.008509  0.425512  0.413089  0.014511  0.110962\n",
            "2          7  0.009070  0.006655  0.004210  0.107122  0.107172  0.765771\n",
            "3          3  0.002131  0.001759  0.930095  0.025015  0.002586  0.038414\n",
            "4          1  0.998317  0.000263  0.000396  0.000385  0.000409  0.000230\n",
            "5          1  0.961207  0.000701  0.000876  0.001400  0.035126  0.000690\n",
            "6          5  0.000813  0.000960  0.000422  0.000913  0.993312  0.003579\n",
            "7          3  0.003646  0.001218  0.990210  0.003079  0.000850  0.000997\n",
            "8          7  0.000619  0.000557  0.000558  0.003943  0.000955  0.993368\n",
            "9          1  0.983211  0.004964  0.001077  0.001257  0.006549  0.002942\n",
            "10         3  0.007048  0.002984  0.920122  0.054319  0.003700  0.011828\n",
            "11         1  0.995136  0.000538  0.001338  0.001184  0.001184  0.000621\n",
            "12         5  0.001053  0.000630  0.000359  0.000572  0.995515  0.001871\n",
            "13         3  0.005865  0.004621  0.550432  0.392344  0.005704  0.041034\n",
            "14         1  0.998007  0.000285  0.000493  0.000405  0.000537  0.000272\n",
            "15         4  0.030396  0.096196  0.051543  0.660601  0.061341  0.099923\n",
            "16         1  0.998121  0.000417  0.000419  0.000379  0.000416  0.000248\n",
            "17         3  0.000740  0.000341  0.996124  0.001988  0.000381  0.000426\n",
            "18         7  0.000592  0.000591  0.000521  0.003407  0.001134  0.993755\n",
            "19         1  0.997512  0.000548  0.000269  0.000428  0.000754  0.000489\n",
            "20         5  0.355373  0.008963  0.002012  0.003190  0.627990  0.002472\n",
            "21         5  0.017975  0.013755  0.008452  0.008220  0.929124  0.022476\n",
            "22         1  0.995580  0.000310  0.000632  0.001381  0.001757  0.000339\n",
            "23         2  0.000810  0.997436  0.000322  0.000313  0.000772  0.000347\n",
            "24         1  0.524739  0.004239  0.008177  0.010194  0.445852  0.006798\n",
            "25         2  0.000807  0.997381  0.000326  0.000311  0.000808  0.000367\n",
            "26         3  0.005727  0.002581  0.808348  0.177073  0.003091  0.003180\n",
            "27         2  0.001146  0.994845  0.000418  0.000419  0.002693  0.000479\n",
            "28         2  0.001090  0.996739  0.000357  0.000360  0.001037  0.000417\n",
            "29         7  0.001424  0.001766  0.001293  0.025737  0.003435  0.966345\n",
            "..       ...       ...       ...       ...       ...       ...       ...\n",
            "614        2  0.000810  0.997436  0.000322  0.000313  0.000772  0.000347\n",
            "615        7  0.000441  0.000433  0.000478  0.001904  0.000787  0.995957\n",
            "616        3  0.004225  0.002110  0.880231  0.052050  0.002512  0.058872\n",
            "617        3  0.000747  0.000420  0.995085  0.002731  0.000459  0.000557\n",
            "618        3  0.001167  0.000375  0.996593  0.000980  0.000427  0.000457\n",
            "619        7  0.000562  0.000681  0.000583  0.004257  0.001601  0.992316\n",
            "620        7  0.002663  0.003577  0.002116  0.166852  0.002848  0.821943\n",
            "621        5  0.001248  0.001410  0.000362  0.000497  0.995621  0.000862\n",
            "622        1  0.995634  0.000431  0.000785  0.001099  0.001625  0.000425\n",
            "623        1  0.994678  0.001002  0.000319  0.000468  0.002896  0.000638\n",
            "624        7  0.000869  0.000730  0.000623  0.001583  0.003173  0.993022\n",
            "625        7  0.010688  0.006122  0.280547  0.267369  0.010752  0.424521\n",
            "626        2  0.000810  0.997436  0.000322  0.000313  0.000772  0.000347\n",
            "627        1  0.995501  0.000504  0.001777  0.000825  0.000861  0.000532\n",
            "628        1  0.841937  0.016868  0.006296  0.010279  0.114270  0.010350\n",
            "629        2  0.000793  0.997460  0.000315  0.000313  0.000772  0.000347\n",
            "630        7  0.001680  0.001578  0.001221  0.023293  0.019906  0.952321\n",
            "631        2  0.000791  0.997170  0.000327  0.000319  0.001036  0.000357\n",
            "632        1  0.983748  0.001465  0.001056  0.001457  0.008713  0.003561\n",
            "633        5  0.001360  0.000730  0.000430  0.000595  0.992333  0.004552\n",
            "634        3  0.000648  0.000378  0.995791  0.002307  0.000407  0.000468\n",
            "635        3  0.001493  0.000704  0.990528  0.005213  0.000771  0.001292\n",
            "636        3  0.002586  0.001248  0.966527  0.025376  0.001360  0.002903\n",
            "637        5  0.003252  0.002509  0.000562  0.000879  0.990130  0.002668\n",
            "638        3  0.006673  0.002753  0.923589  0.060126  0.003298  0.003561\n",
            "639        7  0.005752  0.005343  0.134834  0.322630  0.008701  0.522739\n",
            "640        1  0.672564  0.008552  0.002184  0.002722  0.308931  0.005047\n",
            "641        1  0.997068  0.000845  0.000591  0.000598  0.000587  0.000310\n",
            "642        1  0.997876  0.000511  0.000462  0.000437  0.000462  0.000252\n",
            "643        1  0.991934  0.000622  0.000975  0.000933  0.004435  0.001101\n",
            "\n",
            "[644 rows x 7 columns]\n",
            "     predict        p2        p3  ...       p12       p13       p14\n",
            "0          6  0.001635  0.000612  ...  0.000514  0.000533  0.000707\n",
            "1          3  0.001572  0.991037  ...  0.000569  0.000533  0.000814\n",
            "2          7  0.000843  0.000535  ...  0.000399  0.000432  0.000498\n",
            "3         10  0.002843  0.002717  ...  0.002254  0.004415  0.007878\n",
            "4         14  0.008378  0.038929  ...  0.004992  0.004930  0.878660\n",
            "5          6  0.001213  0.000817  ...  0.000511  0.000652  0.006071\n",
            "6         10  0.000581  0.001222  ...  0.000521  0.000523  0.000752\n",
            "7          9  0.018532  0.038471  ...  0.002288  0.002376  0.004655\n",
            "8          8  0.002308  0.002373  ...  0.002003  0.002360  0.020430\n",
            "9          4  0.001275  0.000512  ...  0.000523  0.000345  0.000390\n",
            "10         3  0.000866  0.991095  ...  0.000439  0.000447  0.002106\n",
            "11        14  0.002210  0.002382  ...  0.001941  0.004674  0.946007\n",
            "12         2  0.992646  0.001351  ...  0.000405  0.000421  0.000553\n",
            "13        13  0.000351  0.000365  ...  0.000308  0.994221  0.000919\n",
            "14         2  0.750613  0.127156  ...  0.007782  0.008080  0.010708\n",
            "15         9  0.009009  0.010107  ...  0.007678  0.009346  0.019223\n",
            "16        13  0.003455  0.003338  ...  0.002769  0.914982  0.018594\n",
            "17         7  0.000620  0.000631  ...  0.000421  0.000529  0.000602\n",
            "18         4  0.004992  0.002349  ...  0.006155  0.000870  0.002086\n",
            "19         8  0.001010  0.000741  ...  0.000644  0.000646  0.001513\n",
            "20        12  0.003604  0.002746  ...  0.979729  0.000904  0.002237\n",
            "21        10  0.055786  0.029109  ...  0.020935  0.020675  0.045004\n",
            "22         2  0.970508  0.001909  ...  0.001109  0.001152  0.001518\n",
            "23         9  0.185944  0.080684  ...  0.002888  0.002796  0.004208\n",
            "24        10  0.000526  0.000625  ...  0.000449  0.000476  0.000606\n",
            "25         3  0.013938  0.951726  ...  0.001911  0.001564  0.003181\n",
            "26        10  0.002967  0.003084  ...  0.002605  0.003122  0.004097\n",
            "27         3  0.001539  0.981380  ...  0.001035  0.001040  0.002224\n",
            "28         4  0.001413  0.000664  ...  0.000642  0.000392  0.000443\n",
            "29         7  0.000577  0.000508  ...  0.000392  0.000424  0.000506\n",
            "..       ...       ...       ...  ...       ...       ...       ...\n",
            "520       14  0.007120  0.012867  ...  0.002796  0.002845  0.932297\n",
            "521        2  0.992015  0.001720  ...  0.000406  0.000408  0.000655\n",
            "522        3  0.315040  0.463375  ...  0.010950  0.011370  0.027502\n",
            "523        3  0.011368  0.939356  ...  0.001501  0.001476  0.003049\n",
            "524        9  0.025499  0.116761  ...  0.003800  0.003386  0.005002\n",
            "525       10  0.000835  0.000886  ...  0.000748  0.000914  0.001066\n",
            "526       10  0.006335  0.041637  ...  0.005185  0.005121  0.041260\n",
            "527       12  0.000959  0.001119  ...  0.993210  0.000436  0.000655\n",
            "528       10  0.023753  0.006334  ...  0.005595  0.005930  0.006781\n",
            "529        4  0.001113  0.000680  ...  0.000655  0.000358  0.000429\n",
            "530        4  0.001316  0.000944  ...  0.002961  0.000362  0.000463\n",
            "531        6  0.000639  0.000428  ...  0.000353  0.000393  0.000454\n",
            "532        6  0.001227  0.000716  ...  0.000488  0.000545  0.000854\n",
            "533       13  0.000949  0.000788  ...  0.000664  0.984852  0.002071\n",
            "534       14  0.000822  0.004286  ...  0.000600  0.000629  0.985199\n",
            "535        9  0.006844  0.030923  ...  0.001249  0.001297  0.001796\n",
            "536       12  0.000780  0.000724  ...  0.994653  0.000390  0.000586\n",
            "537        3  0.004806  0.979892  ...  0.000880  0.000895  0.004968\n",
            "538        4  0.001269  0.000681  ...  0.002535  0.000334  0.000393\n",
            "539       10  0.000870  0.000894  ...  0.000755  0.000953  0.001709\n",
            "540        8  0.003008  0.003267  ...  0.002326  0.002297  0.010643\n",
            "541        2  0.763600  0.012723  ...  0.004388  0.004334  0.006014\n",
            "542        9  0.001141  0.001001  ...  0.000659  0.000664  0.000988\n",
            "543       13  0.000381  0.000372  ...  0.000314  0.993797  0.001116\n",
            "544        6  0.002784  0.001225  ...  0.000832  0.000863  0.001062\n",
            "545       14  0.000941  0.002353  ...  0.000428  0.000430  0.991516\n",
            "546        4  0.002964  0.001702  ...  0.005330  0.000651  0.000881\n",
            "547        2  0.986819  0.003995  ...  0.000831  0.000784  0.001076\n",
            "548        9  0.044004  0.025222  ...  0.006777  0.007036  0.022788\n",
            "549        6  0.002489  0.001642  ...  0.000900  0.002154  0.002644\n",
            "\n",
            "[550 rows x 12 columns]\n"
          ],
          "name": "stdout"
        }
      ]
    },
    {
      "cell_type": "markdown",
      "metadata": {
        "id": "b5P6Ym2R9q9L",
        "colab_type": "text"
      },
      "source": [
        "## Saving the predictions"
      ]
    },
    {
      "cell_type": "code",
      "metadata": {
        "id": "_nq6Z5ZnhbvK",
        "colab_type": "code",
        "colab": {}
      },
      "source": [
        "for i, val in enumerate(preds):\n",
        "  preds[val].to_csv(f\"{val}.csv\")"
      ],
      "execution_count": 0,
      "outputs": []
    },
    {
      "cell_type": "markdown",
      "metadata": {
        "id": "atPPsPY-9v80",
        "colab_type": "text"
      },
      "source": [
        "## Looking at the AUC"
      ]
    },
    {
      "cell_type": "code",
      "metadata": {
        "id": "D6MDJzUMevkl",
        "colab_type": "code",
        "outputId": "e36e070a-fbc1-4188-c567-16e5969bd794",
        "colab": {
          "base_uri": "https://localhost:8080/",
          "height": 69
        }
      },
      "source": [
        "auc_preds"
      ],
      "execution_count": 0,
      "outputs": [
        {
          "output_type": "execute_result",
          "data": {
            "text/plain": [
              "{'adult': 0.7229667606199257,\n",
              " 'agaricus-lepiota': 0.9304409707145269,\n",
              " 'churn': 0.5109163137332151}"
            ]
          },
          "metadata": {
            "tags": []
          },
          "execution_count": 74
        }
      ]
    },
    {
      "cell_type": "markdown",
      "metadata": {
        "id": "1DhtQWqA90Xf",
        "colab_type": "text"
      },
      "source": [
        "## Looking at the mean per class error"
      ]
    },
    {
      "cell_type": "code",
      "metadata": {
        "id": "PIGfWX4Lh2Qj",
        "colab_type": "code",
        "outputId": "b8b1e0b5-f57d-4c86-f5c1-02d69152433f",
        "colab": {
          "base_uri": "https://localhost:8080/",
          "height": 121
        }
      },
      "source": [
        "acc_preds"
      ],
      "execution_count": 0,
      "outputs": [
        {
          "output_type": "execute_result",
          "data": {
            "text/plain": [
              "{'adult': 0.8730808597748209,\n",
              " 'agaricus-lepiota': 1.0,\n",
              " 'churn': 0.954,\n",
              " 'nursery': 0.9868827160493827,\n",
              " 'satimage': 0.9254658385093167,\n",
              " 'texture': 0.9709090909090909}"
            ]
          },
          "metadata": {
            "tags": []
          },
          "execution_count": 75
        }
      ]
    },
    {
      "cell_type": "markdown",
      "metadata": {
        "id": "5_oudRPy98rx",
        "colab_type": "text"
      },
      "source": [
        "## Looking at the logloss"
      ]
    },
    {
      "cell_type": "code",
      "metadata": {
        "id": "0sEafNA8h35p",
        "colab_type": "code",
        "outputId": "851958e3-238c-40dd-8cac-d11684aeb452",
        "colab": {
          "base_uri": "https://localhost:8080/",
          "height": 121
        }
      },
      "source": [
        "log_preds "
      ],
      "execution_count": 0,
      "outputs": [
        {
          "output_type": "execute_result",
          "data": {
            "text/plain": [
              "{'adult': 0.2831267640789399,\n",
              " 'agaricus-lepiota': 0.0022438681568249562,\n",
              " 'churn': 0.1629397796280997,\n",
              " 'nursery': 0.06983445570445292,\n",
              " 'satimage': 0.19901229525743525,\n",
              " 'texture': 0.10517689601330076}"
            ]
          },
          "metadata": {
            "tags": []
          },
          "execution_count": 76
        }
      ]
    },
    {
      "cell_type": "markdown",
      "metadata": {
        "id": "ct032vMU-DCq",
        "colab_type": "text"
      },
      "source": [
        "## Looking at the F1 score"
      ]
    },
    {
      "cell_type": "code",
      "metadata": {
        "id": "dP5TwhUYh4SB",
        "colab_type": "code",
        "outputId": "207ffd33-fe4e-440a-dda9-dff11f68d0e9",
        "colab": {
          "base_uri": "https://localhost:8080/",
          "height": 121
        }
      },
      "source": [
        "f1_preds"
      ],
      "execution_count": 0,
      "outputs": [
        {
          "output_type": "execute_result",
          "data": {
            "text/plain": [
              "{'adult': 0.919459599896077,\n",
              " 'agaricus-lepiota': 1.0,\n",
              " 'churn': 0.8188976377952756,\n",
              " 'nursery': 0.9708319505727816,\n",
              " 'satimage': 0.910897014500192,\n",
              " 'texture': 0.9706980992581422}"
            ]
          },
          "metadata": {
            "tags": []
          },
          "execution_count": 77
        }
      ]
    },
    {
      "cell_type": "markdown",
      "metadata": {
        "id": "l2A3XVVl-JiD",
        "colab_type": "text"
      },
      "source": [
        "## Looking at the confusion matrix"
      ]
    },
    {
      "cell_type": "code",
      "metadata": {
        "id": "Hr0ZvLNxfJjy",
        "colab_type": "code",
        "outputId": "a19ad719-b40f-49e2-cdf7-76a3de1e28bc",
        "colab": {
          "base_uri": "https://localhost:8080/",
          "height": 484
        }
      },
      "source": [
        "import pprint\n",
        "pprint.pprint(cm_preds)"
      ],
      "execution_count": 0,
      "outputs": [
        {
          "output_type": "stream",
          "text": [
            "{'adult': array([[ 726,  443],\n",
            "       [ 177, 3539]]),\n",
            " 'agaricus-lepiota': array([[423,   0],\n",
            "       [  0, 392]]),\n",
            " 'churn': array([[425,   4],\n",
            "       [ 19,  52]]),\n",
            " 'nursery': array([[432,   0,   0,   0],\n",
            "       [  0, 415,  12,   0],\n",
            "       [  0,   0, 404,   0],\n",
            "       [  0,   5,   0,  28]]),\n",
            " 'satimage': array([[150,   0,   1,   0,   2,   0],\n",
            "       [  0,  69,   0,   0,   1,   0],\n",
            "       [  1,   0, 130,   3,   0,   2],\n",
            "       [  0,   0,  12,  43,   0,   8],\n",
            "       [  4,   1,   0,   0,  61,   5],\n",
            "       [  0,   0,   3,   5,   0, 143]]),\n",
            " 'texture': array([[44,  1,  0,  0,  0,  1,  4,  0,  0,  0,  0],\n",
            "       [ 0, 49,  0,  0,  0,  0,  0,  1,  0,  0,  0],\n",
            "       [ 0,  0, 50,  0,  0,  0,  0,  0,  0,  0,  0],\n",
            "       [ 0,  0,  0, 50,  0,  0,  0,  0,  0,  0,  0],\n",
            "       [ 0,  0,  0,  0, 50,  0,  0,  0,  0,  0,  0],\n",
            "       [ 1,  0,  0,  0,  0, 45,  0,  3,  0,  1,  0],\n",
            "       [ 0,  0,  0,  0,  0,  2, 48,  0,  0,  0,  0],\n",
            "       [ 0,  0,  0,  0,  0,  0,  0, 50,  0,  0,  0],\n",
            "       [ 0,  0,  0,  0,  0,  0,  0,  0, 50,  0,  0],\n",
            "       [ 0,  0,  0,  0,  0,  0,  0,  0,  0, 50,  0],\n",
            "       [ 0,  1,  0,  0,  0,  0,  0,  0,  0,  1, 48]])}\n"
          ],
          "name": "stdout"
        }
      ]
    },
    {
      "cell_type": "markdown",
      "metadata": {
        "id": "6uJyyXSn-pYJ",
        "colab_type": "text"
      },
      "source": [
        "## Looking at the top algorithm used by the AutoML"
      ]
    },
    {
      "cell_type": "code",
      "metadata": {
        "id": "xKEz9ChYe65R",
        "colab_type": "code",
        "outputId": "e68b2586-8aca-484c-886c-4511a515134f",
        "colab": {
          "base_uri": "https://localhost:8080/",
          "height": 521
        }
      },
      "source": [
        "top_algo"
      ],
      "execution_count": 0,
      "outputs": [
        {
          "output_type": "display_data",
          "data": {
            "text/html": [
              "<table>\n",
              "<thead>\n",
              "<tr><th>model_id                        </th><th style=\"text-align: right;\">     auc</th><th style=\"text-align: right;\">  logloss</th><th style=\"text-align: right;\">  mean_per_class_error</th><th style=\"text-align: right;\">   rmse</th><th style=\"text-align: right;\">      mse</th></tr>\n",
              "</thead>\n",
              "<tbody>\n",
              "<tr><td>XGBoost_1_AutoML_20190924_150125</td><td style=\"text-align: right;\">0.925427</td><td style=\"text-align: right;\"> 0.283603</td><td style=\"text-align: right;\">              0.213986</td><td style=\"text-align: right;\">0.29956</td><td style=\"text-align: right;\">0.0897362</td></tr>\n",
              "</tbody>\n",
              "</table>"
            ]
          },
          "metadata": {
            "tags": []
          }
        },
        {
          "output_type": "display_data",
          "data": {
            "text/html": [
              "<table>\n",
              "<thead>\n",
              "<tr><th>model_id                                           </th><th style=\"text-align: right;\">     auc</th><th style=\"text-align: right;\">   logloss</th><th style=\"text-align: right;\">  mean_per_class_error</th><th style=\"text-align: right;\">      rmse</th><th style=\"text-align: right;\">        mse</th></tr>\n",
              "</thead>\n",
              "<tbody>\n",
              "<tr><td>StackedEnsemble_AllModels_AutoML_20190924_150742   </td><td style=\"text-align: right;\">1       </td><td style=\"text-align: right;\">0.00305679</td><td style=\"text-align: right;\">           0          </td><td style=\"text-align: right;\">0.0120521 </td><td style=\"text-align: right;\">0.000145253</td></tr>\n",
              "<tr><td>StackedEnsemble_BestOfFamily_AutoML_20190924_150742</td><td style=\"text-align: right;\">1       </td><td style=\"text-align: right;\">0.00417655</td><td style=\"text-align: right;\">           0          </td><td style=\"text-align: right;\">0.00575588</td><td style=\"text-align: right;\">3.31301e-05</td></tr>\n",
              "<tr><td>XGBoost_1_AutoML_20190924_150742                   </td><td style=\"text-align: right;\">1       </td><td style=\"text-align: right;\">0.00546667</td><td style=\"text-align: right;\">           0          </td><td style=\"text-align: right;\">0.0163674 </td><td style=\"text-align: right;\">0.000267892</td></tr>\n",
              "<tr><td>XGBoost_2_AutoML_20190924_150742                   </td><td style=\"text-align: right;\">0.999999</td><td style=\"text-align: right;\">0.0177353 </td><td style=\"text-align: right;\">           0.000415094</td><td style=\"text-align: right;\">0.0443477 </td><td style=\"text-align: right;\">0.00196672 </td></tr>\n",
              "</tbody>\n",
              "</table>"
            ]
          },
          "metadata": {
            "tags": []
          }
        },
        {
          "output_type": "display_data",
          "data": {
            "text/html": [
              "<table>\n",
              "<thead>\n",
              "<tr><th>model_id                                           </th><th style=\"text-align: right;\">     auc</th><th style=\"text-align: right;\">  logloss</th><th style=\"text-align: right;\">  mean_per_class_error</th><th style=\"text-align: right;\">    rmse</th><th style=\"text-align: right;\">      mse</th></tr>\n",
              "</thead>\n",
              "<tbody>\n",
              "<tr><td>StackedEnsemble_AllModels_AutoML_20190924_151404   </td><td style=\"text-align: right;\">0.915669</td><td style=\"text-align: right;\"> 0.136714</td><td style=\"text-align: right;\">             0.106203 </td><td style=\"text-align: right;\">0.179663</td><td style=\"text-align: right;\">0.0322787</td></tr>\n",
              "<tr><td>StackedEnsemble_BestOfFamily_AutoML_20190924_151404</td><td style=\"text-align: right;\">0.916532</td><td style=\"text-align: right;\"> 0.136819</td><td style=\"text-align: right;\">             0.103576 </td><td style=\"text-align: right;\">0.17996 </td><td style=\"text-align: right;\">0.0323856</td></tr>\n",
              "<tr><td>GBM_2_AutoML_20190924_151404                       </td><td style=\"text-align: right;\">0.920925</td><td style=\"text-align: right;\"> 0.147283</td><td style=\"text-align: right;\">             0.101457 </td><td style=\"text-align: right;\">0.184037</td><td style=\"text-align: right;\">0.0338697</td></tr>\n",
              "<tr><td>GBM_1_AutoML_20190924_151404                       </td><td style=\"text-align: right;\">0.92049 </td><td style=\"text-align: right;\"> 0.14864 </td><td style=\"text-align: right;\">             0.114204 </td><td style=\"text-align: right;\">0.186358</td><td style=\"text-align: right;\">0.0347294</td></tr>\n",
              "<tr><td>GBM_3_AutoML_20190924_151404                       </td><td style=\"text-align: right;\">0.921822</td><td style=\"text-align: right;\"> 0.149167</td><td style=\"text-align: right;\">             0.0972377</td><td style=\"text-align: right;\">0.186209</td><td style=\"text-align: right;\">0.0346737</td></tr>\n",
              "</tbody>\n",
              "</table>"
            ]
          },
          "metadata": {
            "tags": []
          }
        },
        {
          "output_type": "display_data",
          "data": {
            "text/html": [
              "<table>\n",
              "<thead>\n",
              "<tr><th>model_id                        </th><th style=\"text-align: right;\">  mean_per_class_error</th><th style=\"text-align: right;\">  logloss</th><th style=\"text-align: right;\">    rmse</th><th style=\"text-align: right;\">      mse</th></tr>\n",
              "</thead>\n",
              "<tbody>\n",
              "<tr><td>XGBoost_1_AutoML_20190924_152019</td><td style=\"text-align: right;\">             0.0383015</td><td style=\"text-align: right;\">0.0768247</td><td style=\"text-align: right;\">0.121806</td><td style=\"text-align: right;\">0.0148368</td></tr>\n",
              "</tbody>\n",
              "</table>"
            ]
          },
          "metadata": {
            "tags": []
          }
        },
        {
          "output_type": "display_data",
          "data": {
            "text/html": [
              "<table>\n",
              "<thead>\n",
              "<tr><th>model_id                        </th><th style=\"text-align: right;\">  mean_per_class_error</th><th style=\"text-align: right;\">  logloss</th><th style=\"text-align: right;\">    rmse</th><th style=\"text-align: right;\">      mse</th></tr>\n",
              "</thead>\n",
              "<tbody>\n",
              "<tr><td>XGBoost_1_AutoML_20190924_152650</td><td style=\"text-align: right;\">              0.109243</td><td style=\"text-align: right;\"> 0.235863</td><td style=\"text-align: right;\">0.268897</td><td style=\"text-align: right;\">0.0723054</td></tr>\n",
              "</tbody>\n",
              "</table>"
            ]
          },
          "metadata": {
            "tags": []
          }
        },
        {
          "output_type": "display_data",
          "data": {
            "text/html": [
              "<table>\n",
              "<thead>\n",
              "<tr><th>model_id                        </th><th style=\"text-align: right;\">  mean_per_class_error</th><th style=\"text-align: right;\">  logloss</th><th style=\"text-align: right;\">    rmse</th><th style=\"text-align: right;\">      mse</th></tr>\n",
              "</thead>\n",
              "<tbody>\n",
              "<tr><td>XGBoost_1_AutoML_20190924_153347</td><td style=\"text-align: right;\">             0.0250505</td><td style=\"text-align: right;\"> 0.103416</td><td style=\"text-align: right;\">0.160859</td><td style=\"text-align: right;\">0.0258755</td></tr>\n",
              "</tbody>\n",
              "</table>"
            ]
          },
          "metadata": {
            "tags": []
          }
        },
        {
          "output_type": "execute_result",
          "data": {
            "text/plain": [
              "{'adult': ,\n",
              " 'agaricus-lepiota': ,\n",
              " 'churn': ,\n",
              " 'nursery': ,\n",
              " 'satimage': ,\n",
              " 'texture': }"
            ]
          },
          "metadata": {
            "tags": []
          },
          "execution_count": 79
        }
      ]
    }
  ]
}
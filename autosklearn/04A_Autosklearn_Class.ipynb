{
  "nbformat": 4,
  "nbformat_minor": 0,
  "metadata": {
    "colab": {
      "name": "03A_TPOT_Class.ipynb",
      "provenance": [],
      "include_colab_link": true
    },
    "kernelspec": {
      "name": "python3",
      "display_name": "Python 3"
    }
  },
  "cells": [
    {
      "cell_type": "markdown",
      "metadata": {
        "id": "view-in-github",
        "colab_type": "text"
      },
      "source": [
        "<a href=\"https://colab.research.google.com/github/raffieeey/MasterResearchAutoML/blob/master/autosklearn/04A_Autosklearn_Class.ipynb\" target=\"_parent\"><img src=\"https://colab.research.google.com/assets/colab-badge.svg\" alt=\"Open In Colab\"/></a>"
      ]
    },
    {
      "cell_type": "code",
      "metadata": {
        "id": "gmHh2wsDSUj_",
        "colab_type": "code",
        "colab": {
          "base_uri": "https://localhost:8080/",
          "height": 119
        },
        "outputId": "ee8039b1-ba76-444b-ab35-3cb34208f5ff"
      },
      "source": [
        "!apt install gcc"
      ],
      "execution_count": 1,
      "outputs": [
        {
          "output_type": "stream",
          "text": [
            "\rReading package lists... 0%\r\rReading package lists... 0%\r\rReading package lists... 0%\r\rReading package lists... 7%\r\rReading package lists... 7%\r\rReading package lists... 7%\r\rReading package lists... 7%\r\rReading package lists... 58%\r\rReading package lists... 66%\r\rReading package lists... 66%\r\rReading package lists... 67%\r\rReading package lists... 67%\r\rReading package lists... 73%\r\rReading package lists... 73%\r\rReading package lists... 74%\r\rReading package lists... 74%\r\rReading package lists... 83%\r\rReading package lists... 83%\r\rReading package lists... 83%\r\rReading package lists... 83%\r\rReading package lists... 83%\r\rReading package lists... 83%\r\rReading package lists... 83%\r\rReading package lists... 83%\r\rReading package lists... 87%\r\rReading package lists... 87%\r\rReading package lists... 87%\r\rReading package lists... 87%\r\rReading package lists... 93%\r\rReading package lists... 93%\r\rReading package lists... 93%\r\rReading package lists... 93%\r\rReading package lists... 94%\r\rReading package lists... 94%\r\rReading package lists... 94%\r\rReading package lists... 94%\r\rReading package lists... 95%\r\rReading package lists... 95%\r\rReading package lists... 98%\r\rReading package lists... 98%\r\rReading package lists... 98%\r\rReading package lists... 98%\r\rReading package lists... Done\r\n",
            "\rBuilding dependency tree... 0%\r\rBuilding dependency tree... 0%\r\rBuilding dependency tree... 50%\r\rBuilding dependency tree... 50%\r\rBuilding dependency tree... 93%\r\rBuilding dependency tree       \r\n",
            "\rReading state information... 0%\r\rReading state information... 0%\r\rReading state information... Done\r\n",
            "gcc is already the newest version (4:7.4.0-1ubuntu2.3).\n",
            "gcc set to manually installed.\n",
            "0 upgraded, 0 newly installed, 0 to remove and 35 not upgraded.\n"
          ],
          "name": "stdout"
        }
      ]
    },
    {
      "cell_type": "code",
      "metadata": {
        "id": "DPWfwP3oTbas",
        "colab_type": "code",
        "colab": {
          "base_uri": "https://localhost:8080/",
          "height": 102
        },
        "outputId": "52376fec-1e64-428e-a677-7b8cb0133bab"
      },
      "source": [
        "!gcc --version"
      ],
      "execution_count": 2,
      "outputs": [
        {
          "output_type": "stream",
          "text": [
            "gcc (Ubuntu 7.4.0-1ubuntu1~18.04.1) 7.4.0\n",
            "Copyright (C) 2017 Free Software Foundation, Inc.\n",
            "This is free software; see the source for copying conditions.  There is NO\n",
            "warranty; not even for MERCHANTABILITY or FITNESS FOR A PARTICULAR PURPOSE.\n",
            "\n"
          ],
          "name": "stdout"
        }
      ]
    },
    {
      "cell_type": "code",
      "metadata": {
        "id": "7z6MdyGzcBMs",
        "colab_type": "code",
        "colab": {
          "base_uri": "https://localhost:8080/",
          "height": 425
        },
        "outputId": "e424c2e3-3249-4bb0-a435-24c9ef50c02c"
      },
      "source": [
        "!apt-get install build-essential swig"
      ],
      "execution_count": 3,
      "outputs": [
        {
          "output_type": "stream",
          "text": [
            "\rReading package lists... 0%\r\rReading package lists... 0%\r\rReading package lists... 0%\r\rReading package lists... 7%\r\rReading package lists... 7%\r\rReading package lists... 7%\r\rReading package lists... 7%\r\rReading package lists... 57%\r\rReading package lists... 66%\r\rReading package lists... 66%\r\rReading package lists... 67%\r\rReading package lists... 67%\r\rReading package lists... 73%\r\rReading package lists... 73%\r\rReading package lists... 74%\r\rReading package lists... 74%\r\rReading package lists... 83%\r\rReading package lists... 83%\r\rReading package lists... 83%\r\rReading package lists... 83%\r\rReading package lists... 83%\r\rReading package lists... 83%\r\rReading package lists... 83%\r\rReading package lists... 83%\r\rReading package lists... 87%\r\rReading package lists... 87%\r\rReading package lists... 87%\r\rReading package lists... 87%\r\rReading package lists... 93%\r\rReading package lists... 93%\r\rReading package lists... 93%\r\rReading package lists... 93%\r\rReading package lists... 94%\r\rReading package lists... 94%\r\rReading package lists... 94%\r\rReading package lists... 94%\r\rReading package lists... 95%\r\rReading package lists... 95%\r\rReading package lists... 98%\r\rReading package lists... 98%\r\rReading package lists... 98%\r\rReading package lists... 98%\r\rReading package lists... Done\r\n",
            "\rBuilding dependency tree... 0%\r\rBuilding dependency tree... 0%\r\rBuilding dependency tree... 50%\r\rBuilding dependency tree... 50%\r\rBuilding dependency tree       \r\n",
            "\rReading state information... 0%\r\rReading state information... 0%\r\rReading state information... Done\r\n",
            "build-essential is already the newest version (12.4ubuntu1).\n",
            "Suggested packages:\n",
            "  swig-doc swig-examples swig3.0-examples swig3.0-doc\n",
            "The following NEW packages will be installed:\n",
            "  swig swig3.0\n",
            "0 upgraded, 2 newly installed, 0 to remove and 35 not upgraded.\n",
            "Need to get 1,100 kB of archives.\n",
            "After this operation, 5,822 kB of additional disk space will be used.\n",
            "\r0% [Working]\r            \rGet:1 http://archive.ubuntu.com/ubuntu bionic/universe amd64 swig3.0 amd64 3.0.12-1 [1,094 kB]\n",
            "\r0% [1 swig3.0 0 B/1,094 kB 0%]\r11% [1 swig3.0 144 kB/1,094 kB 13%]\r                                   \r90% [Working]\r             \rGet:2 http://archive.ubuntu.com/ubuntu bionic/universe amd64 swig amd64 3.0.12-1 [6,460 B]\n",
            "Fetched 1,100 kB in 1s (737 kB/s)\n",
            "Selecting previously unselected package swig3.0.\n",
            "(Reading database ... 132684 files and directories currently installed.)\n",
            "Preparing to unpack .../swig3.0_3.0.12-1_amd64.deb ...\n",
            "Unpacking swig3.0 (3.0.12-1) ...\n",
            "Selecting previously unselected package swig.\n",
            "Preparing to unpack .../swig_3.0.12-1_amd64.deb ...\n",
            "Unpacking swig (3.0.12-1) ...\n",
            "Setting up swig3.0 (3.0.12-1) ...\n",
            "Processing triggers for man-db (2.8.3-2ubuntu0.1) ...\n",
            "Setting up swig (3.0.12-1) ...\n"
          ],
          "name": "stdout"
        }
      ]
    },
    {
      "cell_type": "code",
      "metadata": {
        "id": "lwp-UvuecfMU",
        "colab_type": "code",
        "colab": {
          "base_uri": "https://localhost:8080/",
          "height": 1000
        },
        "outputId": "fa5543e5-da75-4b65-c9de-6923329d7841"
      },
      "source": [
        "!curl https://raw.githubusercontent.com/automl/auto-sklearn/master/requirements.txt | xargs -n 1 -L 1 pip install"
      ],
      "execution_count": 4,
      "outputs": [
        {
          "output_type": "stream",
          "text": [
            "  % Total    % Received % Xferd  Average Speed   Time    Time     Time  Current\n",
            "                                 Dload  Upload   Total   Spent    Left  Speed\n",
            "\r  0     0    0     0    0     0      0      0 --:--:-- --:--:-- --:--:--     0\r100   194  100   194    0     0    989      0 --:--:-- --:--:-- --:--:--   989\n",
            "Requirement already satisfied: setuptools in /usr/local/lib/python3.6/dist-packages (41.4.0)\n",
            "Collecting nose\n",
            "\u001b[?25l  Downloading https://files.pythonhosted.org/packages/15/d8/dd071918c040f50fa1cf80da16423af51ff8ce4a0f2399b7bf8de45ac3d9/nose-1.3.7-py3-none-any.whl (154kB)\n",
            "\u001b[K     |████████████████████████████████| 163kB 4.9MB/s \n",
            "\u001b[?25hInstalling collected packages: nose\n",
            "Successfully installed nose-1.3.7\n",
            "Requirement already satisfied: Cython in /usr/local/lib/python3.6/dist-packages (0.29.14)\n",
            "Requirement already satisfied: numpy>=1.9.0 in /usr/local/lib/python3.6/dist-packages (1.17.3)\n",
            "Requirement already satisfied: scipy>=0.14.1 in /usr/local/lib/python3.6/dist-packages (1.3.1)\n",
            "Requirement already satisfied: numpy>=1.13.3 in /usr/local/lib/python3.6/dist-packages (from scipy>=0.14.1) (1.17.3)\n",
            "Requirement already satisfied: scikit-learn<0.22,>=0.21.0 in /usr/local/lib/python3.6/dist-packages (0.21.3)\n",
            "Requirement already satisfied: numpy>=1.11.0 in /usr/local/lib/python3.6/dist-packages (from scikit-learn<0.22,>=0.21.0) (1.17.3)\n",
            "Requirement already satisfied: scipy>=0.17.0 in /usr/local/lib/python3.6/dist-packages (from scikit-learn<0.22,>=0.21.0) (1.3.1)\n",
            "Requirement already satisfied: joblib>=0.11 in /usr/local/lib/python3.6/dist-packages (from scikit-learn<0.22,>=0.21.0) (0.14.0)\n",
            "Collecting lockfile\n",
            "  Downloading https://files.pythonhosted.org/packages/c8/22/9460e311f340cb62d26a38c419b1381b8593b0bb6b5d1f056938b086d362/lockfile-0.12.2-py2.py3-none-any.whl\n",
            "Installing collected packages: lockfile\n",
            "Successfully installed lockfile-0.12.2\n",
            "Requirement already satisfied: joblib in /usr/local/lib/python3.6/dist-packages (0.14.0)\n",
            "Requirement already satisfied: psutil in /usr/local/lib/python3.6/dist-packages (5.4.8)\n",
            "Requirement already satisfied: pyyaml in /usr/local/lib/python3.6/dist-packages (3.13)\n",
            "Collecting liac-arff\n",
            "  Downloading https://files.pythonhosted.org/packages/e9/35/fbc9217cfa91d98888b43e1a19c03a50d716108c58494c558c65e308f372/liac-arff-2.4.0.tar.gz\n",
            "Building wheels for collected packages: liac-arff\n",
            "  Building wheel for liac-arff (setup.py) ... \u001b[?25l\u001b[?25hdone\n",
            "  Created wheel for liac-arff: filename=liac_arff-2.4.0-cp36-none-any.whl size=13333 sha256=bba3c7e2f1dc36a023e972b534810d18be3577742d2a31577b05a1ec84fa6337\n",
            "  Stored in directory: /root/.cache/pip/wheels/d1/6a/e7/529dc54d76ecede4346164a09ae3168df358945612710f5203\n",
            "Successfully built liac-arff\n",
            "Installing collected packages: liac-arff\n",
            "Successfully installed liac-arff-2.4.0\n",
            "Requirement already satisfied: pandas in /usr/local/lib/python3.6/dist-packages (0.25.3)\n",
            "Requirement already satisfied: pytz>=2017.2 in /usr/local/lib/python3.6/dist-packages (from pandas) (2018.9)\n",
            "Requirement already satisfied: python-dateutil>=2.6.1 in /usr/local/lib/python3.6/dist-packages (from pandas) (2.6.1)\n",
            "Requirement already satisfied: numpy>=1.13.3 in /usr/local/lib/python3.6/dist-packages (from pandas) (1.17.3)\n",
            "Requirement already satisfied: six>=1.5 in /usr/local/lib/python3.6/dist-packages (from python-dateutil>=2.6.1->pandas) (1.12.0)\n",
            "Collecting ConfigSpace<0.5,>=0.4.0\n",
            "\u001b[?25l  Downloading https://files.pythonhosted.org/packages/be/07/ebb7c6c6d03c82ffe6314161f2c8da32599c841e74b08f5c23812fee0e6f/ConfigSpace-0.4.11.tar.gz (957kB)\n",
            "\u001b[K     |████████████████████████████████| 962kB 4.8MB/s \n",
            "\u001b[?25hRequirement already satisfied: numpy in /usr/local/lib/python3.6/dist-packages (from ConfigSpace<0.5,>=0.4.0) (1.17.3)\n",
            "Requirement already satisfied: cython in /usr/local/lib/python3.6/dist-packages (from ConfigSpace<0.5,>=0.4.0) (0.29.14)\n",
            "Requirement already satisfied: pyparsing in /usr/local/lib/python3.6/dist-packages (from ConfigSpace<0.5,>=0.4.0) (2.4.4)\n",
            "Building wheels for collected packages: ConfigSpace\n",
            "  Building wheel for ConfigSpace (setup.py) ... \u001b[?25l\u001b[?25hdone\n",
            "  Created wheel for ConfigSpace: filename=ConfigSpace-0.4.11-cp36-cp36m-linux_x86_64.whl size=2907914 sha256=81d0535246a64914614c80bcd8121b610ea032c2175040757c770302af6d80b0\n",
            "  Stored in directory: /root/.cache/pip/wheels/9f/bf/27/d224e97900342ebed7f81311458a572b557b99dd9492e00bf5\n",
            "Successfully built ConfigSpace\n",
            "Installing collected packages: ConfigSpace\n",
            "Successfully installed ConfigSpace-0.4.11\n",
            "Collecting pynisher>=0.4.2\n",
            "  Downloading https://files.pythonhosted.org/packages/b2/21/c86c64c305da6d43fb89780d33cbc839c07736b71955a8bdb642a02b7538/pynisher-0.5.0.tar.gz\n",
            "Requirement already satisfied: docutils>=0.3 in /usr/local/lib/python3.6/dist-packages (from pynisher>=0.4.2) (0.15.2)\n",
            "Requirement already satisfied: setuptools in /usr/local/lib/python3.6/dist-packages (from pynisher>=0.4.2) (41.4.0)\n",
            "Requirement already satisfied: psutil in /usr/local/lib/python3.6/dist-packages (from pynisher>=0.4.2) (5.4.8)\n",
            "Building wheels for collected packages: pynisher\n",
            "  Building wheel for pynisher (setup.py) ... \u001b[?25l\u001b[?25hdone\n",
            "  Created wheel for pynisher: filename=pynisher-0.5.0-cp36-none-any.whl size=4360 sha256=96e2641a5ec326f0a59c216179ddc1b376af0f22b155e906e0c8e06692a13208\n",
            "  Stored in directory: /root/.cache/pip/wheels/af/2a/c4/ec3abc8a2f786ef9786ea8fe6ff629a4e54812a3f98cc41b47\n",
            "Successfully built pynisher\n",
            "Installing collected packages: pynisher\n",
            "Successfully installed pynisher-0.5.0\n",
            "Collecting pyrfr<0.9,>=0.7\n",
            "\u001b[?25l  Downloading https://files.pythonhosted.org/packages/ed/0f/4d7e42a9dfef3a1898e03cffa8f1cfcd1f96507d718808b2db584c6f8401/pyrfr-0.8.0.tar.gz (293kB)\n",
            "\u001b[K     |████████████████████████████████| 296kB 4.9MB/s \n",
            "\u001b[?25hBuilding wheels for collected packages: pyrfr\n",
            "  Building wheel for pyrfr (setup.py) ... \u001b[?25l\u001b[?25hdone\n",
            "  Created wheel for pyrfr: filename=pyrfr-0.8.0-cp36-cp36m-linux_x86_64.whl size=2540575 sha256=e072a303443f309d2fb718bd8e5baa8fc23f99193085647d675b7cef4894e612\n",
            "  Stored in directory: /root/.cache/pip/wheels/61/1a/d2/b5aee388a492a01946143d3c976b2ca810af537480e1f16999\n",
            "Successfully built pyrfr\n",
            "Installing collected packages: pyrfr\n",
            "Successfully installed pyrfr-0.8.0\n",
            "Collecting smac==0.8\n",
            "\u001b[?25l  Downloading https://files.pythonhosted.org/packages/33/ab/2b0a6fb00bd76e2415a04dcca453ad0b0db9b4218b02401306ff2bc6135d/smac-0.8.0.tar.gz (94kB)\n",
            "\u001b[K     |████████████████████████████████| 102kB 4.6MB/s \n",
            "\u001b[?25hRequirement already satisfied: setuptools in /usr/local/lib/python3.6/dist-packages (from smac==0.8) (41.4.0)\n",
            "Requirement already satisfied: cython in /usr/local/lib/python3.6/dist-packages (from smac==0.8) (0.29.14)\n",
            "Requirement already satisfied: numpy>=1.7.1 in /usr/local/lib/python3.6/dist-packages (from smac==0.8) (1.17.3)\n",
            "Requirement already satisfied: scipy>=0.18.1 in /usr/local/lib/python3.6/dist-packages (from smac==0.8) (1.3.1)\n",
            "Requirement already satisfied: six in /usr/local/lib/python3.6/dist-packages (from smac==0.8) (1.12.0)\n",
            "Requirement already satisfied: psutil in /usr/local/lib/python3.6/dist-packages (from smac==0.8) (5.4.8)\n",
            "Requirement already satisfied: pynisher>=0.4.1 in /usr/local/lib/python3.6/dist-packages (from smac==0.8) (0.5.0)\n",
            "Requirement already satisfied: ConfigSpace<0.5,>=0.4.3 in /usr/local/lib/python3.6/dist-packages (from smac==0.8) (0.4.11)\n",
            "Requirement already satisfied: scikit-learn>=0.18.0 in /usr/local/lib/python3.6/dist-packages (from smac==0.8) (0.21.3)\n",
            "Requirement already satisfied: typing in /usr/local/lib/python3.6/dist-packages (from smac==0.8) (3.6.6)\n",
            "Requirement already satisfied: pyrfr>=0.5.0 in /usr/local/lib/python3.6/dist-packages (from smac==0.8) (0.8.0)\n",
            "Requirement already satisfied: sphinx in /usr/local/lib/python3.6/dist-packages (from smac==0.8) (1.8.5)\n",
            "Collecting sphinx_rtd_theme\n",
            "\u001b[?25l  Downloading https://files.pythonhosted.org/packages/60/b4/4df37087a1d36755e3a3bfd2a30263f358d2dea21938240fa02313d45f51/sphinx_rtd_theme-0.4.3-py2.py3-none-any.whl (6.4MB)\n",
            "\u001b[K     |████████████████████████████████| 6.4MB 16.0MB/s \n",
            "\u001b[?25hRequirement already satisfied: joblib in /usr/local/lib/python3.6/dist-packages (from smac==0.8) (0.14.0)\n",
            "Requirement already satisfied: docutils>=0.3 in /usr/local/lib/python3.6/dist-packages (from pynisher>=0.4.1->smac==0.8) (0.15.2)\n",
            "Requirement already satisfied: pyparsing in /usr/local/lib/python3.6/dist-packages (from ConfigSpace<0.5,>=0.4.3->smac==0.8) (2.4.4)\n",
            "Requirement already satisfied: requests>=2.0.0 in /usr/local/lib/python3.6/dist-packages (from sphinx->smac==0.8) (2.21.0)\n",
            "Requirement already satisfied: sphinxcontrib-websupport in /usr/local/lib/python3.6/dist-packages (from sphinx->smac==0.8) (1.1.2)\n",
            "Requirement already satisfied: Pygments>=2.0 in /usr/local/lib/python3.6/dist-packages (from sphinx->smac==0.8) (2.1.3)\n",
            "Requirement already satisfied: snowballstemmer>=1.1 in /usr/local/lib/python3.6/dist-packages (from sphinx->smac==0.8) (2.0.0)\n",
            "Requirement already satisfied: babel!=2.0,>=1.3 in /usr/local/lib/python3.6/dist-packages (from sphinx->smac==0.8) (2.7.0)\n",
            "Requirement already satisfied: imagesize in /usr/local/lib/python3.6/dist-packages (from sphinx->smac==0.8) (1.1.0)\n",
            "Requirement already satisfied: packaging in /usr/local/lib/python3.6/dist-packages (from sphinx->smac==0.8) (19.2)\n",
            "Requirement already satisfied: alabaster<0.8,>=0.7 in /usr/local/lib/python3.6/dist-packages (from sphinx->smac==0.8) (0.7.12)\n",
            "Requirement already satisfied: Jinja2>=2.3 in /usr/local/lib/python3.6/dist-packages (from sphinx->smac==0.8) (2.10.3)\n",
            "Requirement already satisfied: certifi>=2017.4.17 in /usr/local/lib/python3.6/dist-packages (from requests>=2.0.0->sphinx->smac==0.8) (2019.9.11)\n",
            "Requirement already satisfied: chardet<3.1.0,>=3.0.2 in /usr/local/lib/python3.6/dist-packages (from requests>=2.0.0->sphinx->smac==0.8) (3.0.4)\n",
            "Requirement already satisfied: urllib3<1.25,>=1.21.1 in /usr/local/lib/python3.6/dist-packages (from requests>=2.0.0->sphinx->smac==0.8) (1.24.3)\n",
            "Requirement already satisfied: idna<2.9,>=2.5 in /usr/local/lib/python3.6/dist-packages (from requests>=2.0.0->sphinx->smac==0.8) (2.8)\n",
            "Requirement already satisfied: pytz>=2015.7 in /usr/local/lib/python3.6/dist-packages (from babel!=2.0,>=1.3->sphinx->smac==0.8) (2018.9)\n",
            "Requirement already satisfied: MarkupSafe>=0.23 in /usr/local/lib/python3.6/dist-packages (from Jinja2>=2.3->sphinx->smac==0.8) (1.1.1)\n",
            "Building wheels for collected packages: smac\n",
            "  Building wheel for smac (setup.py) ... \u001b[?25l\u001b[?25hdone\n",
            "  Created wheel for smac: filename=smac-0.8.0-cp36-none-any.whl size=97294 sha256=9d4791d8cb861728389906dc3fe5776dbbf5dcfc7d6ad24f53c33984fe91a75c\n",
            "  Stored in directory: /root/.cache/pip/wheels/12/52/83/d2d66a840968025d072ddb1cd776fdc5eb5e337e1cc887bc3f\n",
            "Successfully built smac\n",
            "Installing collected packages: sphinx-rtd-theme, smac\n",
            "Successfully installed smac-0.8.0 sphinx-rtd-theme-0.4.3\n"
          ],
          "name": "stdout"
        }
      ]
    },
    {
      "cell_type": "code",
      "metadata": {
        "id": "9XSHVQn9citq",
        "colab_type": "code",
        "colab": {
          "base_uri": "https://localhost:8080/",
          "height": 1000
        },
        "outputId": "b8494313-76c5-4171-a303-202150b31727"
      },
      "source": [
        "!pip install auto-sklearn"
      ],
      "execution_count": 5,
      "outputs": [
        {
          "output_type": "stream",
          "text": [
            "Collecting auto-sklearn\n",
            "\u001b[?25l  Downloading https://files.pythonhosted.org/packages/1d/99/27caac4f6804be48722158e31c630e0737110581774df0615a36b21239aa/auto-sklearn-0.5.2.tar.gz (3.4MB)\n",
            "\u001b[K     |████████████████████████████████| 3.4MB 24kB/s \n",
            "\u001b[?25hRequirement already satisfied: setuptools in /usr/local/lib/python3.6/dist-packages (from auto-sklearn) (41.4.0)\n",
            "Requirement already satisfied: nose in /usr/local/lib/python3.6/dist-packages (from auto-sklearn) (1.3.7)\n",
            "Requirement already satisfied: Cython in /usr/local/lib/python3.6/dist-packages (from auto-sklearn) (0.29.14)\n",
            "Requirement already satisfied: numpy>=1.9.0 in /usr/local/lib/python3.6/dist-packages (from auto-sklearn) (1.17.3)\n",
            "Requirement already satisfied: scipy>=0.14.1 in /usr/local/lib/python3.6/dist-packages (from auto-sklearn) (1.3.1)\n",
            "Collecting scikit-learn<0.20,>=0.19\n",
            "\u001b[?25l  Downloading https://files.pythonhosted.org/packages/f9/c8/8db4108aba5e2166cd2ea4eafa1a4b82f89240a1fa85733029cc2358ad1f/scikit_learn-0.19.2-cp36-cp36m-manylinux1_x86_64.whl (4.9MB)\n",
            "\u001b[K     |████████████████████████████████| 4.9MB 32.7MB/s \n",
            "\u001b[?25hRequirement already satisfied: xgboost>=0.80 in /usr/local/lib/python3.6/dist-packages (from auto-sklearn) (0.90)\n",
            "Requirement already satisfied: lockfile in /usr/local/lib/python3.6/dist-packages (from auto-sklearn) (0.12.2)\n",
            "Requirement already satisfied: joblib in /usr/local/lib/python3.6/dist-packages (from auto-sklearn) (0.14.0)\n",
            "Requirement already satisfied: psutil in /usr/local/lib/python3.6/dist-packages (from auto-sklearn) (5.4.8)\n",
            "Requirement already satisfied: pyyaml in /usr/local/lib/python3.6/dist-packages (from auto-sklearn) (3.13)\n",
            "Requirement already satisfied: liac-arff in /usr/local/lib/python3.6/dist-packages (from auto-sklearn) (2.4.0)\n",
            "Requirement already satisfied: pandas in /usr/local/lib/python3.6/dist-packages (from auto-sklearn) (0.25.3)\n",
            "Requirement already satisfied: ConfigSpace<0.5,>=0.4.0 in /usr/local/lib/python3.6/dist-packages (from auto-sklearn) (0.4.11)\n",
            "Requirement already satisfied: pynisher>=0.4.2 in /usr/local/lib/python3.6/dist-packages (from auto-sklearn) (0.5.0)\n",
            "Collecting pyrfr<0.8,>=0.7\n",
            "\u001b[?25l  Downloading https://files.pythonhosted.org/packages/c3/c6/c555cfa3c7d0078dded091d4901ed52344bbb925077aa70b871faf35fd58/pyrfr-0.7.4.tar.gz (291kB)\n",
            "\u001b[K     |████████████████████████████████| 296kB 48.1MB/s \n",
            "\u001b[?25hRequirement already satisfied: smac==0.8 in /usr/local/lib/python3.6/dist-packages (from auto-sklearn) (0.8.0)\n",
            "Requirement already satisfied: python-dateutil>=2.6.1 in /usr/local/lib/python3.6/dist-packages (from pandas->auto-sklearn) (2.6.1)\n",
            "Requirement already satisfied: pytz>=2017.2 in /usr/local/lib/python3.6/dist-packages (from pandas->auto-sklearn) (2018.9)\n",
            "Requirement already satisfied: pyparsing in /usr/local/lib/python3.6/dist-packages (from ConfigSpace<0.5,>=0.4.0->auto-sklearn) (2.4.4)\n",
            "Requirement already satisfied: docutils>=0.3 in /usr/local/lib/python3.6/dist-packages (from pynisher>=0.4.2->auto-sklearn) (0.15.2)\n",
            "Requirement already satisfied: typing in /usr/local/lib/python3.6/dist-packages (from smac==0.8->auto-sklearn) (3.6.6)\n",
            "Requirement already satisfied: sphinx in /usr/local/lib/python3.6/dist-packages (from smac==0.8->auto-sklearn) (1.8.5)\n",
            "Requirement already satisfied: six in /usr/local/lib/python3.6/dist-packages (from smac==0.8->auto-sklearn) (1.12.0)\n",
            "Requirement already satisfied: sphinx-rtd-theme in /usr/local/lib/python3.6/dist-packages (from smac==0.8->auto-sklearn) (0.4.3)\n",
            "Requirement already satisfied: imagesize in /usr/local/lib/python3.6/dist-packages (from sphinx->smac==0.8->auto-sklearn) (1.1.0)\n",
            "Requirement already satisfied: packaging in /usr/local/lib/python3.6/dist-packages (from sphinx->smac==0.8->auto-sklearn) (19.2)\n",
            "Requirement already satisfied: Pygments>=2.0 in /usr/local/lib/python3.6/dist-packages (from sphinx->smac==0.8->auto-sklearn) (2.1.3)\n",
            "Requirement already satisfied: requests>=2.0.0 in /usr/local/lib/python3.6/dist-packages (from sphinx->smac==0.8->auto-sklearn) (2.21.0)\n",
            "Requirement already satisfied: alabaster<0.8,>=0.7 in /usr/local/lib/python3.6/dist-packages (from sphinx->smac==0.8->auto-sklearn) (0.7.12)\n",
            "Requirement already satisfied: babel!=2.0,>=1.3 in /usr/local/lib/python3.6/dist-packages (from sphinx->smac==0.8->auto-sklearn) (2.7.0)\n",
            "Requirement already satisfied: sphinxcontrib-websupport in /usr/local/lib/python3.6/dist-packages (from sphinx->smac==0.8->auto-sklearn) (1.1.2)\n",
            "Requirement already satisfied: Jinja2>=2.3 in /usr/local/lib/python3.6/dist-packages (from sphinx->smac==0.8->auto-sklearn) (2.10.3)\n",
            "Requirement already satisfied: snowballstemmer>=1.1 in /usr/local/lib/python3.6/dist-packages (from sphinx->smac==0.8->auto-sklearn) (2.0.0)\n",
            "Requirement already satisfied: idna<2.9,>=2.5 in /usr/local/lib/python3.6/dist-packages (from requests>=2.0.0->sphinx->smac==0.8->auto-sklearn) (2.8)\n",
            "Requirement already satisfied: urllib3<1.25,>=1.21.1 in /usr/local/lib/python3.6/dist-packages (from requests>=2.0.0->sphinx->smac==0.8->auto-sklearn) (1.24.3)\n",
            "Requirement already satisfied: chardet<3.1.0,>=3.0.2 in /usr/local/lib/python3.6/dist-packages (from requests>=2.0.0->sphinx->smac==0.8->auto-sklearn) (3.0.4)\n",
            "Requirement already satisfied: certifi>=2017.4.17 in /usr/local/lib/python3.6/dist-packages (from requests>=2.0.0->sphinx->smac==0.8->auto-sklearn) (2019.9.11)\n",
            "Requirement already satisfied: MarkupSafe>=0.23 in /usr/local/lib/python3.6/dist-packages (from Jinja2>=2.3->sphinx->smac==0.8->auto-sklearn) (1.1.1)\n",
            "Building wheels for collected packages: auto-sklearn, pyrfr\n",
            "  Building wheel for auto-sklearn (setup.py) ... \u001b[?25l\u001b[?25hdone\n",
            "  Created wheel for auto-sklearn: filename=auto_sklearn-0.5.2-cp36-cp36m-linux_x86_64.whl size=3716698 sha256=253be59b33082f5d7e3db5b0248e4d113a5f95b2dc9bc974576fca93b921147e\n",
            "  Stored in directory: /root/.cache/pip/wheels/67/21/43/182fed664b6474f88600c110c4ebd254d6256ba59175cef3fd\n",
            "  Building wheel for pyrfr (setup.py) ... \u001b[?25l\u001b[?25hdone\n",
            "  Created wheel for pyrfr: filename=pyrfr-0.7.4-cp36-cp36m-linux_x86_64.whl size=2511795 sha256=4caa16ec6dd3019d1143af460b023301bfc12129b5f4e4c388b672320c89d9d4\n",
            "  Stored in directory: /root/.cache/pip/wheels/fb/98/fd/b1d53cab6d5ed836980777d9733d7e549d82a727650eed6f6d\n",
            "Successfully built auto-sklearn pyrfr\n",
            "\u001b[31mERROR: yellowbrick 0.9.1 has requirement scikit-learn>=0.20, but you'll have scikit-learn 0.19.2 which is incompatible.\u001b[0m\n",
            "\u001b[31mERROR: imbalanced-learn 0.4.3 has requirement scikit-learn>=0.20, but you'll have scikit-learn 0.19.2 which is incompatible.\u001b[0m\n",
            "Installing collected packages: scikit-learn, pyrfr, auto-sklearn\n",
            "  Found existing installation: scikit-learn 0.21.3\n",
            "    Uninstalling scikit-learn-0.21.3:\n",
            "      Successfully uninstalled scikit-learn-0.21.3\n",
            "  Found existing installation: pyrfr 0.8.0\n",
            "    Uninstalling pyrfr-0.8.0:\n",
            "      Successfully uninstalled pyrfr-0.8.0\n",
            "Successfully installed auto-sklearn-0.5.2 pyrfr-0.7.4 scikit-learn-0.19.2\n"
          ],
          "name": "stdout"
        }
      ]
    },
    {
      "cell_type": "code",
      "metadata": {
        "id": "V3A3f8GQqyjU",
        "colab_type": "code",
        "colab": {
          "base_uri": "https://localhost:8080/",
          "height": 323
        },
        "outputId": "231873e0-92cd-4bda-ecd2-32d51ec105ac"
      },
      "source": [
        "!pip install pmlb\n",
        "!pip install pytictoc"
      ],
      "execution_count": 14,
      "outputs": [
        {
          "output_type": "stream",
          "text": [
            "Collecting pmlb\n",
            "  Downloading https://files.pythonhosted.org/packages/0d/38/bb7bf1785add978af1e6c2bd27926405959c71ebaeefa6ff610bf53d8b25/pmlb-0.3.tar.gz\n",
            "Requirement already satisfied: pandas in /usr/local/lib/python3.6/dist-packages (from pmlb) (0.25.3)\n",
            "Requirement already satisfied: python-dateutil>=2.6.1 in /usr/local/lib/python3.6/dist-packages (from pandas->pmlb) (2.6.1)\n",
            "Requirement already satisfied: numpy>=1.13.3 in /usr/local/lib/python3.6/dist-packages (from pandas->pmlb) (1.17.3)\n",
            "Requirement already satisfied: pytz>=2017.2 in /usr/local/lib/python3.6/dist-packages (from pandas->pmlb) (2018.9)\n",
            "Requirement already satisfied: six>=1.5 in /usr/local/lib/python3.6/dist-packages (from python-dateutil>=2.6.1->pandas->pmlb) (1.12.0)\n",
            "Building wheels for collected packages: pmlb\n",
            "  Building wheel for pmlb (setup.py) ... \u001b[?25l\u001b[?25hdone\n",
            "  Created wheel for pmlb: filename=pmlb-0.3-cp36-none-any.whl size=11918 sha256=9ee4a304a7e560525e763f181d739129f9ada7cb8a17ecc9e6c8325164caf83a\n",
            "  Stored in directory: /root/.cache/pip/wheels/5a/c7/a4/be59e63a2cb56f6c58f068305b95c212e0aac1a930fd77d6b0\n",
            "Successfully built pmlb\n",
            "Installing collected packages: pmlb\n",
            "Successfully installed pmlb-0.3\n",
            "Collecting pytictoc\n",
            "  Downloading https://files.pythonhosted.org/packages/d5/cf/87661e4a929be7023172b7684a704df8379d78a2ed1b86cc01a6cd32cd11/pytictoc-1.5.0-py2.py3-none-any.whl\n",
            "Installing collected packages: pytictoc\n",
            "Successfully installed pytictoc-1.5.0\n"
          ],
          "name": "stdout"
        }
      ]
    },
    {
      "cell_type": "code",
      "metadata": {
        "id": "ItC7HSko9TKN",
        "colab_type": "code",
        "outputId": "ecebbaa5-21b7-4e18-a3dc-991d6580022b",
        "colab": {
          "base_uri": "https://localhost:8080/",
          "height": 34
        }
      },
      "source": [
        "%matplotlib inline\n",
        "from sklearn.metrics import roc_curve, precision_recall_curve, auc\n",
        "import matplotlib.pyplot as plt\n",
        "import numpy as np\n",
        "\n",
        "\n",
        "\n",
        "def get_auc(labels, scores):\n",
        "    fpr, tpr, thresholds = roc_curve(labels, scores)\n",
        "    auc_score = auc(fpr, tpr)\n",
        "    return fpr, tpr, auc_score\n",
        "\n",
        "\n",
        "def get_aucpr(labels, scores):\n",
        "    precision, recall, th = precision_recall_curve(labels, scores)\n",
        "    aucpr_score = np.trapz(recall, precision)\n",
        "    return precision, recall, aucpr_score\n",
        "\n",
        "\n",
        "def plot_metric(ax, x, y, x_label, y_label, plot_label, style=\"-\"):\n",
        "    ax.plot(x, y, style, label=plot_label)\n",
        "    ax.legend()\n",
        "    \n",
        "    ax.set_ylabel(x_label)\n",
        "    ax.set_xlabel(y_label)\n",
        "\n",
        "\n",
        "def prediction_summary(labels, predicted_score, info, plot_baseline=True, axes=None):\n",
        "    if axes is None:\n",
        "        axes = [plt.subplot(1, 2, 1), plt.subplot(1, 2, 2)]\n",
        "\n",
        "    fpr, tpr, auc_score = get_auc(labels, predicted_score)\n",
        "    plot_metric(axes[0], fpr, tpr, \"False positive rate\",\"True positive rate\", \"{} AUC = {:.4f}\".format(info, auc_score))\n",
        "    if plot_baseline:\n",
        "        plot_metric(axes[0], [0, 1], [0, 1], \"False positive rate\",\"True positive rate\", \"baseline AUC = 0.5\", \"r--\")\n",
        "\n",
        "    precision, recall, aucpr_score = get_aucpr(labels, predicted_score)\n",
        "    plot_metric(axes[1], recall, precision, \"Recall\",\"Precision\", \"{} AUCPR = {:.4f}\".format(info, aucpr_score))\n",
        "    if plot_baseline:\n",
        "        thr = (np.sum(labels)/len(labels))[0]\n",
        "        plot_metric(axes[1], [0, 1], [thr, thr], \"Recall\",\"Precision\", \"baseline AUCPR = {:.4f}\".format(thr), \"r--\")\n",
        "\n",
        "    plt.show()\n",
        "    return axes\n",
        "\n",
        "\n",
        "def figure():\n",
        "    fig_size = 4.5\n",
        "    f = plt.figure()\n",
        "    f.set_figheight(fig_size)\n",
        "    f.set_figwidth(fig_size*2)\n",
        "\n",
        "figure()"
      ],
      "execution_count": 9,
      "outputs": [
        {
          "output_type": "display_data",
          "data": {
            "text/plain": [
              "<Figure size 648x324 with 0 Axes>"
            ]
          },
          "metadata": {
            "tags": []
          }
        }
      ]
    },
    {
      "cell_type": "code",
      "metadata": {
        "id": "UXznw3dS9XCa",
        "colab_type": "code",
        "colab": {}
      },
      "source": [
        "from autosklearn.estimators import AutoSklearnClassifier, AutoSklearnRegressor\n",
        "import autosklearn.metrics as metrics\n",
        "\n",
        "from sklearn.metrics import accuracy_score, roc_auc_score, confusion_matrix, f1_score, log_loss\n",
        "import numpy as np\n",
        "import pandas as pd\n",
        "\n",
        "\n",
        "class CheckBinomial:\n",
        "  def __init__(self, checkunique):\n",
        "    self._bintype = 'binomial' if pd.Series(checkunique).nunique() == 2 else 'multinomial'\n",
        "\n",
        "  def MLMetrics(self):\n",
        "    if self._bintype == 'binomial':\n",
        "      return [metrics.accuracy,  metrics.roc_auc , metrics.log_loss]\n",
        "    elif self._bintype == 'multinomial':\n",
        "      return [metrics.accuracy, metrics.log_loss]\n",
        "\n",
        "class MetricsCalc:\n",
        "  def __init__(self, truth, predictions, probab, dattype):\n",
        "    self.truth = truth\n",
        "    self.predictions = predictions\n",
        "    self._target = predictions\n",
        "    self._probabmax = np.max(probab, axis=1)\n",
        "    self._probab = probab\n",
        "    self._type = dattype\n",
        "\n",
        "  def acc(self):\n",
        "    return float(accuracy_score(self.truth,self._target))\n",
        "\n",
        "  def auc(self):\n",
        "    if self._type == \"binomial\":\n",
        "      return float(roc_auc_score(self.truth, self._probabmax))\n",
        "    elif self._type == \"multinomial\":\n",
        "      return np.nan \n",
        "\n",
        "  def logloss(self):\n",
        "    return float(log_loss(self.truth, self._probab))\n",
        "  \n",
        "  def cm(self):\n",
        "    return confusion_matrix(self.truth, self._target)\n",
        "  \n",
        "  def f1(self):\n",
        "    if self._type == \"binomial\":\n",
        "      return float(f1_score(self.truth, self._target, average='binary'))\n",
        "    elif self._type == \"multinomial\":\n",
        "      return float(f1_score(self.truth, self._target, average='macro'))"
      ],
      "execution_count": 0,
      "outputs": []
    },
    {
      "cell_type": "code",
      "metadata": {
        "id": "u7l4yNhYsDUp",
        "colab_type": "code",
        "colab": {}
      },
      "source": [
        "X, y = fetch_data('adult', return_X_y=True)\n",
        "c=CheckBinomial(y)\n",
        "X_train, X_test, y_train, y_test = train_test_split(X, y, test_size=0.1, random_state=69, stratify=y)"
      ],
      "execution_count": 0,
      "outputs": []
    },
    {
      "cell_type": "code",
      "metadata": {
        "id": "Sdt6xG0usL4C",
        "colab_type": "code",
        "colab": {
          "base_uri": "https://localhost:8080/",
          "height": 1000
        },
        "outputId": "6b4da3a8-07ff-43ae-c44f-6f21a56794b0"
      },
      "source": [
        "X_train = pd.DataFrame(X_train)\n",
        "X_test = pd.DataFrame(X_test)\n",
        "y_train = pd.DataFrame(y_train).values.ravel()\n",
        "y_test = pd.DataFrame(y_test).values.ravel()\n",
        "list_metrics = c.MLMetrics()\n",
        "automl = AutoSklearnClassifier(seed=69, n_jobs=2, ml_memory_limit=2048,time_left_for_this_task=120)\n",
        "t.tic()\n",
        "automl.fit(X_train,y_train, metric=metrics_test if metrics_test in list_metrics else None)\n",
        "t.toc()"
      ],
      "execution_count": 17,
      "outputs": [
        {
          "output_type": "stream",
          "text": [
            "/usr/local/lib/python3.6/dist-packages/autosklearn/evaluation/train_evaluator.py:197: RuntimeWarning: Mean of empty slice\n",
            "  Y_train_pred = np.nanmean(Y_train_pred_full, axis=0)\n",
            "/usr/local/lib/python3.6/dist-packages/autosklearn/evaluation/train_evaluator.py:197: RuntimeWarning: Mean of empty slice\n",
            "  Y_train_pred = np.nanmean(Y_train_pred_full, axis=0)\n"
          ],
          "name": "stderr"
        },
        {
          "output_type": "stream",
          "text": [
            "[WARNING] [2019-11-12 08:18:15,136:EnsembleBuilder(1272380470):a1f5f33b1562b5706e870c202da1d4e5] No models better than random - using Dummy Score!\n",
            "[WARNING] [2019-11-12 08:18:15,168:EnsembleBuilder(1272380470):a1f5f33b1562b5706e870c202da1d4e5] No models better than random - using Dummy Score!\n",
            "Time limit for a single run is higher than total time limit. Capping the limit for a single run to the total time given to SMAC (119.191573)\n",
            "Time limit for a single run is higher than total time limit. Capping the limit for a single run to the total time given to SMAC (119.334025)\n",
            "[WARNING] [2019-11-12 08:18:17,184:EnsembleBuilder(1272380470):a1f5f33b1562b5706e870c202da1d4e5] No models better than random - using Dummy Score!\n",
            "[WARNING] [2019-11-12 08:18:19,196:EnsembleBuilder(1272380470):a1f5f33b1562b5706e870c202da1d4e5] No models better than random - using Dummy Score!\n"
          ],
          "name": "stdout"
        },
        {
          "output_type": "stream",
          "text": [
            "/usr/local/lib/python3.6/dist-packages/autosklearn/evaluation/train_evaluator.py:197: RuntimeWarning: Mean of empty slice\n",
            "  Y_train_pred = np.nanmean(Y_train_pred_full, axis=0)\n",
            "/usr/local/lib/python3.6/dist-packages/autosklearn/evaluation/train_evaluator.py:197: RuntimeWarning: Mean of empty slice\n",
            "  Y_train_pred = np.nanmean(Y_train_pred_full, axis=0)\n",
            "/usr/local/lib/python3.6/dist-packages/autosklearn/evaluation/train_evaluator.py:197: RuntimeWarning: Mean of empty slice\n",
            "  Y_train_pred = np.nanmean(Y_train_pred_full, axis=0)\n",
            "/usr/local/lib/python3.6/dist-packages/autosklearn/evaluation/train_evaluator.py:197: RuntimeWarning: Mean of empty slice\n",
            "  Y_train_pred = np.nanmean(Y_train_pred_full, axis=0)\n",
            "/usr/local/lib/python3.6/dist-packages/autosklearn/evaluation/train_evaluator.py:197: RuntimeWarning: Mean of empty slice\n",
            "  Y_train_pred = np.nanmean(Y_train_pred_full, axis=0)\n",
            "/usr/local/lib/python3.6/dist-packages/autosklearn/evaluation/train_evaluator.py:197: RuntimeWarning: Mean of empty slice\n",
            "  Y_train_pred = np.nanmean(Y_train_pred_full, axis=0)\n",
            "/usr/local/lib/python3.6/dist-packages/autosklearn/evaluation/train_evaluator.py:197: RuntimeWarning: Mean of empty slice\n",
            "  Y_train_pred = np.nanmean(Y_train_pred_full, axis=0)\n",
            "/usr/local/lib/python3.6/dist-packages/autosklearn/evaluation/train_evaluator.py:197: RuntimeWarning: Mean of empty slice\n",
            "  Y_train_pred = np.nanmean(Y_train_pred_full, axis=0)\n",
            "/usr/local/lib/python3.6/dist-packages/autosklearn/evaluation/train_evaluator.py:197: RuntimeWarning: Mean of empty slice\n",
            "  Y_train_pred = np.nanmean(Y_train_pred_full, axis=0)\n",
            "/usr/local/lib/python3.6/dist-packages/autosklearn/evaluation/train_evaluator.py:197: RuntimeWarning: Mean of empty slice\n",
            "  Y_train_pred = np.nanmean(Y_train_pred_full, axis=0)\n",
            "/usr/local/lib/python3.6/dist-packages/autosklearn/evaluation/train_evaluator.py:197: RuntimeWarning: Mean of empty slice\n",
            "  Y_train_pred = np.nanmean(Y_train_pred_full, axis=0)\n",
            "/usr/local/lib/python3.6/dist-packages/autosklearn/evaluation/train_evaluator.py:197: RuntimeWarning: Mean of empty slice\n",
            "  Y_train_pred = np.nanmean(Y_train_pred_full, axis=0)\n",
            "/usr/local/lib/python3.6/dist-packages/autosklearn/evaluation/train_evaluator.py:197: RuntimeWarning: Mean of empty slice\n",
            "  Y_train_pred = np.nanmean(Y_train_pred_full, axis=0)\n",
            "/usr/local/lib/python3.6/dist-packages/autosklearn/evaluation/train_evaluator.py:197: RuntimeWarning: Mean of empty slice\n",
            "  Y_train_pred = np.nanmean(Y_train_pred_full, axis=0)\n",
            "/usr/local/lib/python3.6/dist-packages/autosklearn/evaluation/train_evaluator.py:197: RuntimeWarning: Mean of empty slice\n",
            "  Y_train_pred = np.nanmean(Y_train_pred_full, axis=0)\n",
            "/usr/local/lib/python3.6/dist-packages/autosklearn/evaluation/train_evaluator.py:197: RuntimeWarning: Mean of empty slice\n",
            "  Y_train_pred = np.nanmean(Y_train_pred_full, axis=0)\n",
            "/usr/local/lib/python3.6/dist-packages/autosklearn/evaluation/train_evaluator.py:197: RuntimeWarning: Mean of empty slice\n",
            "  Y_train_pred = np.nanmean(Y_train_pred_full, axis=0)\n",
            "/usr/local/lib/python3.6/dist-packages/autosklearn/evaluation/train_evaluator.py:197: RuntimeWarning: Mean of empty slice\n",
            "  Y_train_pred = np.nanmean(Y_train_pred_full, axis=0)\n",
            "/usr/local/lib/python3.6/dist-packages/autosklearn/evaluation/train_evaluator.py:197: RuntimeWarning: Mean of empty slice\n",
            "  Y_train_pred = np.nanmean(Y_train_pred_full, axis=0)\n",
            "/usr/local/lib/python3.6/dist-packages/autosklearn/evaluation/train_evaluator.py:197: RuntimeWarning: Mean of empty slice\n",
            "  Y_train_pred = np.nanmean(Y_train_pred_full, axis=0)\n",
            "/usr/local/lib/python3.6/dist-packages/autosklearn/evaluation/train_evaluator.py:197: RuntimeWarning: Mean of empty slice\n",
            "  Y_train_pred = np.nanmean(Y_train_pred_full, axis=0)\n",
            "/usr/local/lib/python3.6/dist-packages/autosklearn/evaluation/train_evaluator.py:197: RuntimeWarning: Mean of empty slice\n",
            "  Y_train_pred = np.nanmean(Y_train_pred_full, axis=0)\n",
            "/usr/local/lib/python3.6/dist-packages/autosklearn/evaluation/train_evaluator.py:197: RuntimeWarning: Mean of empty slice\n",
            "  Y_train_pred = np.nanmean(Y_train_pred_full, axis=0)\n"
          ],
          "name": "stderr"
        },
        {
          "output_type": "stream",
          "text": [
            "-1\n",
            "['/tmp/autosklearn_tmp_125_8128/.auto-sklearn/ensembles/1272380470.0000000000.ensemble', '/tmp/autosklearn_tmp_125_8128/.auto-sklearn/ensembles/1272380470.0000000001.ensemble', '/tmp/autosklearn_tmp_125_8128/.auto-sklearn/ensembles/1272380470.0000000002.ensemble', '/tmp/autosklearn_tmp_125_8128/.auto-sklearn/ensembles/1272380470.0000000003.ensemble', '/tmp/autosklearn_tmp_125_8128/.auto-sklearn/ensembles/1272380470.0000000004.ensemble', '/tmp/autosklearn_tmp_125_8128/.auto-sklearn/ensembles/1272380470.0000000005.ensemble', '/tmp/autosklearn_tmp_125_8128/.auto-sklearn/ensembles/1272380470.0000000006.ensemble', '/tmp/autosklearn_tmp_125_8128/.auto-sklearn/ensembles/1272380470.0000000007.ensemble', '/tmp/autosklearn_tmp_125_8128/.auto-sklearn/ensembles/1272380470.0000000008.ensemble', '/tmp/autosklearn_tmp_125_8128/.auto-sklearn/ensembles/1272380470.0000000009.ensemble', '/tmp/autosklearn_tmp_125_8128/.auto-sklearn/ensembles/1272380470.0000000010.ensemble', '/tmp/autosklearn_tmp_125_8128/.auto-sklearn/ensembles/1272380470.0000000011.ensemble', '/tmp/autosklearn_tmp_125_8128/.auto-sklearn/ensembles/1272380470.0000000012.ensemble', '/tmp/autosklearn_tmp_125_8128/.auto-sklearn/ensembles/1272380470.0000000013.ensemble', '/tmp/autosklearn_tmp_125_8128/.auto-sklearn/ensembles/1272380470.0000000014.ensemble', '/tmp/autosklearn_tmp_125_8128/.auto-sklearn/ensembles/1272380470.0000000015.ensemble', '/tmp/autosklearn_tmp_125_8128/.auto-sklearn/ensembles/1272380470.0000000016.ensemble', '/tmp/autosklearn_tmp_125_8128/.auto-sklearn/ensembles/1272380470.0000000017.ensemble', '/tmp/autosklearn_tmp_125_8128/.auto-sklearn/ensembles/1272380470.0000000018.ensemble', '/tmp/autosklearn_tmp_125_8128/.auto-sklearn/ensembles/1272380470.0000000019.ensemble']\n",
            "Elapsed time is 117.606028 seconds.\n"
          ],
          "name": "stdout"
        }
      ]
    },
    {
      "cell_type": "code",
      "metadata": {
        "id": "Il8CsYpAtGTd",
        "colab_type": "code",
        "colab": {}
      },
      "source": [
        "from pprint import pprint\n",
        "inse = automl.show_models()"
      ],
      "execution_count": 0,
      "outputs": []
    },
    {
      "cell_type": "code",
      "metadata": {
        "id": "qLSPshrz4Pjo",
        "colab_type": "code",
        "colab": {
          "base_uri": "https://localhost:8080/",
          "height": 34
        },
        "outputId": "4b9c88ce-8b08-483c-cd07-cf380f95537c"
      },
      "source": [
        "len(inse.split(\"(\"))"
      ],
      "execution_count": 83,
      "outputs": [
        {
          "output_type": "execute_result",
          "data": {
            "text/plain": [
              "15"
            ]
          },
          "metadata": {
            "tags": []
          },
          "execution_count": 83
        }
      ]
    },
    {
      "cell_type": "code",
      "metadata": {
        "id": "pilX2q1h0zIL",
        "colab_type": "code",
        "colab": {
          "base_uri": "https://localhost:8080/",
          "height": 100
        },
        "outputId": "84b05aa5-4ca4-4ee0-fc73-72be29826a24"
      },
      "source": [
        "pd.DataFrame(eval(inse.split(\"(\")[2].split(\"))\")[0].split(\"dataset_properties\")[0]))"
      ],
      "execution_count": 84,
      "outputs": [
        {
          "output_type": "execute_result",
          "data": {
            "text/html": [
              "<div>\n",
              "<style scoped>\n",
              "    .dataframe tbody tr th:only-of-type {\n",
              "        vertical-align: middle;\n",
              "    }\n",
              "\n",
              "    .dataframe tbody tr th {\n",
              "        vertical-align: top;\n",
              "    }\n",
              "\n",
              "    .dataframe thead th {\n",
              "        text-align: right;\n",
              "    }\n",
              "</style>\n",
              "<table border=\"1\" class=\"dataframe\">\n",
              "  <thead>\n",
              "    <tr style=\"text-align: right;\">\n",
              "      <th></th>\n",
              "      <th>balancing:strategy</th>\n",
              "      <th>categorical_encoding:__choice__</th>\n",
              "      <th>classifier:__choice__</th>\n",
              "      <th>imputation:strategy</th>\n",
              "      <th>preprocessor:__choice__</th>\n",
              "      <th>rescaling:__choice__</th>\n",
              "      <th>classifier:adaboost:algorithm</th>\n",
              "      <th>classifier:adaboost:learning_rate</th>\n",
              "      <th>classifier:adaboost:max_depth</th>\n",
              "      <th>classifier:adaboost:n_estimators</th>\n",
              "      <th>preprocessor:select_rates:alpha</th>\n",
              "      <th>preprocessor:select_rates:mode</th>\n",
              "      <th>preprocessor:select_rates:score_func</th>\n",
              "      <th>rescaling:robust_scaler:q_max</th>\n",
              "      <th>rescaling:robust_scaler:q_min</th>\n",
              "    </tr>\n",
              "  </thead>\n",
              "  <tbody>\n",
              "    <tr>\n",
              "      <th>0</th>\n",
              "      <td>none</td>\n",
              "      <td>no_encoding</td>\n",
              "      <td>adaboost</td>\n",
              "      <td>mean</td>\n",
              "      <td>select_rates</td>\n",
              "      <td>robust_scaler</td>\n",
              "      <td>SAMME</td>\n",
              "      <td>1.217687</td>\n",
              "      <td>4</td>\n",
              "      <td>165</td>\n",
              "      <td>0.272794</td>\n",
              "      <td>fwe</td>\n",
              "      <td>f_classif</td>\n",
              "      <td>0.911539</td>\n",
              "      <td>0.185194</td>\n",
              "    </tr>\n",
              "  </tbody>\n",
              "</table>\n",
              "</div>"
            ],
            "text/plain": [
              "  balancing:strategy  ... rescaling:robust_scaler:q_min\n",
              "0               none  ...                      0.185194\n",
              "\n",
              "[1 rows x 15 columns]"
            ]
          },
          "metadata": {
            "tags": []
          },
          "execution_count": 84
        }
      ]
    },
    {
      "cell_type": "code",
      "metadata": {
        "id": "tv4BeILSzZlR",
        "colab_type": "code",
        "colab": {}
      },
      "source": [
        "(0.460000, SimpleClassificationPipeline({'balancing:strategy': 'none', 'categorical_encoding:__choice__': 'no_encoding', 'classifier:__choice__': 'adaboost', 'imputation:strategy': 'mean', 'preprocessor:__choice__': 'select_rates', 'rescaling:__choice__': 'robust_scaler', 'classifier:adaboost:algorithm': 'SAMME', 'classifier:adaboost:learning_rate': 1.2176873695186874, 'classifier:adaboost:max_depth': 4, 'classifier:adaboost:n_estimators': 165, 'preprocessor:select_rates:alpha': 0.2727937247451989, 'preprocessor:select_rates:mode': 'fwe', 'preprocessor:select_rates:score_func': 'f_classif', 'rescaling:robust_scaler:q_max': 0.9115393784718231, 'rescaling:robust_scaler:q_min': 0.18519409584795082},\n",
        "dataset_properties={\n",
        "  'task': 1,\n",
        "  'sparse': False,\n",
        "  'multilabel': False,\n",
        "  'multiclass': False,\n",
        "  'target_type': 'classification',\n",
        "  'signed': False}))"
      ],
      "execution_count": 0,
      "outputs": []
    },
    {
      "cell_type": "code",
      "metadata": {
        "id": "3jVRf4BCrqzC",
        "colab_type": "code",
        "colab": {}
      },
      "source": [
        "X, y = fetch_data(class_dtst, return_X_y=True)\n",
        "c=CheckBinomial(y)\n",
        "X_train, X_test, y_train, y_test = train_test_split(X, y, test_size=0.1, random_state=69, stratify=y)\n",
        "X_train = pd.DataFrame(X_train)\n",
        "X_test = pd.DataFrame(X_test)\n",
        "y_train = pd.DataFrame(y_train).values.ravel()\n",
        "y_test = pd.DataFrame(y_test).values.ravel()\n",
        "list_metrics = c.MLMetrics()\n",
        "automl = AutoSklearnClassifier(seed=69, n_jobs=2, ml_memory_limit=2048,time_left_for_this_task=120)\n",
        "t.tic()\n",
        "automl.fit(X_train,y_train, metric=metrics_test if metrics_test in list_metrics else None)\n",
        "t.toc()\n",
        "top_algo[class_dtst] = [v[0] for i, v in tpot.pareto_front_fitted_pipelines_.items()][0]\n",
        "print(\"*** Top algorithm: ***\", [v[0] for i, v in tpot.pareto_front_fitted_pipelines_.items()][0])\n",
        "preds[class_dtst] = automl.predict(X_test)\n",
        "preds_prob[class_dtst] = automl.predict_proba(X_test)\n",
        "p = MetricsCalc(y_test,preds[class_dtst], preds_prob[class_dtst], c._bintype )\n",
        "if c._bintype == \"binomial\":\n",
        "  df_result.loc[ix,\"AUC\"] = p.auc()\n",
        "  df_result.loc[ix,\"ACC\"] = p.acc()\n",
        "  df_result.loc[ix,\"logloss\"] = p.logloss()\n",
        "  cm_preds[class_dtst] = p.cm()\n",
        "  df_result.loc[ix,\"f1_score\"] = p.f1()\n",
        "  prediction_summary( pd.DataFrame(y_test), preds[class_dtst], \"tpot\")\n",
        "  ix+=1\n",
        "elif c._bintype == \"multinomial\":\n",
        "  df_result.loc[ix,\"AUC\"] = p.auc()\n",
        "  df_result.loc[ix,\"ACC\"] = p.acc()\n",
        "  df_result.loc[ix,\"logloss\"] = p.logloss()\n",
        "  cm_preds[class_dtst] = p.cm()\n",
        "  df_result.loc[ix,\"f1_score\"] = p.f1()\n",
        "  ix+=1"
      ],
      "execution_count": 0,
      "outputs": []
    },
    {
      "cell_type": "code",
      "metadata": {
        "id": "NODrDIYu9aA6",
        "colab_type": "code",
        "outputId": "45043409-d79a-4733-c6b9-c92c1cfc016f",
        "colab": {
          "base_uri": "https://localhost:8080/",
          "height": 1000
        }
      },
      "source": [
        "from pmlb import classification_dataset_names, regression_dataset_names,fetch_data\n",
        "from autosklearn.classification import AutoSklearnClassifier\n",
        "from sklearn.model_selection import train_test_split\n",
        "from pytictoc import TicToc\n",
        "import pandas as pd\n",
        "\n",
        "df_result = pd.DataFrame(columns=[\"dataset_name\", \"metrics_recorded\", \"AUC\", \"ACC\",\"logloss\", \"f1_score\"])\n",
        "\n",
        "preds = {}\n",
        "preds_prob = {}\n",
        "cm_preds = {}\n",
        "top_algo = {}\n",
        "t = TicToc()\n",
        "\n",
        "\n",
        "sel_clss_dtst = ['adult','agaricus-lepiota', 'churn', 'nursery', 'satimage','texture']\n",
        "sel_rgrs_dtst = ['294_satellite_image','218_house_8L', '227_cpu_small', '503_wind', '344_mv','215_2dplanes']\n",
        "\n",
        "ix = 0\n",
        "\n",
        "for class_dtst in sel_clss_dtst:\n",
        "  for metrics_test in [metrics.accuracy, metrics.roc_auc, metrics.log_loss]:\n",
        "        print(\"_\"*80)\n",
        "        print(f\"*** Dataset Name: {class_dtst} ***\")\n",
        "        df_result.loc[ix,\"dataset_name\"] = class_dtst\n",
        "        df_result.loc[ix,\"metrics_recorded\"] = metrics_test\n",
        "        X, y = fetch_data(class_dtst, return_X_y=True)\n",
        "        c=CheckBinomial(y)\n",
        "        X_train, X_test, y_train, y_test = train_test_split(X, y, test_size=0.1, random_state=69, stratify=y)\n",
        "        X_train = pd.DataFrame(X_train)\n",
        "        X_test = pd.DataFrame(X_test)\n",
        "        y_train = pd.DataFrame(y_train).values.ravel()\n",
        "        y_test = pd.DataFrame(y_test).values.ravel()\n",
        "        list_metrics = c.MLMetrics()\n",
        "        automl = AutoSklearnClassifier(seed=69, n_jobs=2, ml_memory_limit=2048,time_left_for_this_task=120)\n",
        "        t.tic()\n",
        "        automl.fit(X_train,y_train, metric=metrics_test if metrics_test in list_metrics else None)\n",
        "        t.toc()\n",
        "        top_algo[class_dtst] = [v[0] for i, v in tpot.pareto_front_fitted_pipelines_.items()][0]\n",
        "        print(\"*** Top algorithm: ***\", [v[0] for i, v in tpot.pareto_front_fitted_pipelines_.items()][0])\n",
        "        preds[class_dtst] = automl.predict(X_test)\n",
        "        preds_prob[class_dtst] = automl.predict_proba(X_test)\n",
        "        p = MetricsCalc(y_test,preds[class_dtst], preds_prob[class_dtst], c._bintype )\n",
        "        if c._bintype == \"binomial\":\n",
        "          df_result.loc[ix,\"AUC\"] = p.auc()\n",
        "          df_result.loc[ix,\"ACC\"] = p.acc()\n",
        "          df_result.loc[ix,\"logloss\"] = p.logloss()\n",
        "          cm_preds[class_dtst] = p.cm()\n",
        "          df_result.loc[ix,\"f1_score\"] = p.f1()\n",
        "          prediction_summary( pd.DataFrame(y_test), preds[class_dtst], \"tpot\")\n",
        "          ix+=1\n",
        "        elif c._bintype == \"multinomial\":\n",
        "          df_result.loc[ix,\"AUC\"] = p.auc()\n",
        "          df_result.loc[ix,\"ACC\"] = p.acc()\n",
        "          df_result.loc[ix,\"logloss\"] = p.logloss()\n",
        "          cm_preds[class_dtst] = p.cm()\n",
        "          df_result.loc[ix,\"f1_score\"] = p.f1()\n",
        "          ix+=1"
      ],
      "execution_count": 15,
      "outputs": [
        {
          "output_type": "stream",
          "text": [
            "________________________________________________________________________________\n",
            "*** Dataset Name: adult ***\n"
          ],
          "name": "stdout"
        },
        {
          "output_type": "stream",
          "text": [
            "/usr/local/lib/python3.6/dist-packages/autosklearn/evaluation/train_evaluator.py:197: RuntimeWarning: Mean of empty slice\n",
            "  Y_train_pred = np.nanmean(Y_train_pred_full, axis=0)\n",
            "/usr/local/lib/python3.6/dist-packages/autosklearn/evaluation/train_evaluator.py:197: RuntimeWarning: Mean of empty slice\n",
            "  Y_train_pred = np.nanmean(Y_train_pred_full, axis=0)\n"
          ],
          "name": "stderr"
        },
        {
          "output_type": "stream",
          "text": [
            "[WARNING] [2019-11-12 08:12:20,513:EnsembleBuilder(1272380470):a1f5f33b1562b5706e870c202da1d4e5] No models better than random - using Dummy Score!\n",
            "[WARNING] [2019-11-12 08:12:20,559:EnsembleBuilder(1272380470):a1f5f33b1562b5706e870c202da1d4e5] No models better than random - using Dummy Score!\n",
            "Time limit for a single run is higher than total time limit. Capping the limit for a single run to the total time given to SMAC (119.306106)\n",
            "Time limit for a single run is higher than total time limit. Capping the limit for a single run to the total time given to SMAC (119.345611)\n",
            "[WARNING] [2019-11-12 08:12:22,577:EnsembleBuilder(1272380470):a1f5f33b1562b5706e870c202da1d4e5] No models better than random - using Dummy Score!\n",
            "[WARNING] [2019-11-12 08:12:24,590:EnsembleBuilder(1272380470):a1f5f33b1562b5706e870c202da1d4e5] No models better than random - using Dummy Score!\n"
          ],
          "name": "stdout"
        },
        {
          "output_type": "stream",
          "text": [
            "/usr/local/lib/python3.6/dist-packages/autosklearn/evaluation/train_evaluator.py:197: RuntimeWarning: Mean of empty slice\n",
            "  Y_train_pred = np.nanmean(Y_train_pred_full, axis=0)\n",
            "/usr/local/lib/python3.6/dist-packages/autosklearn/evaluation/train_evaluator.py:197: RuntimeWarning: Mean of empty slice\n",
            "  Y_train_pred = np.nanmean(Y_train_pred_full, axis=0)\n",
            "/usr/local/lib/python3.6/dist-packages/autosklearn/evaluation/train_evaluator.py:197: RuntimeWarning: Mean of empty slice\n",
            "  Y_train_pred = np.nanmean(Y_train_pred_full, axis=0)\n",
            "/usr/local/lib/python3.6/dist-packages/autosklearn/evaluation/train_evaluator.py:197: RuntimeWarning: Mean of empty slice\n",
            "  Y_train_pred = np.nanmean(Y_train_pred_full, axis=0)\n",
            "/usr/local/lib/python3.6/dist-packages/autosklearn/evaluation/train_evaluator.py:197: RuntimeWarning: Mean of empty slice\n",
            "  Y_train_pred = np.nanmean(Y_train_pred_full, axis=0)\n",
            "/usr/local/lib/python3.6/dist-packages/autosklearn/evaluation/train_evaluator.py:197: RuntimeWarning: Mean of empty slice\n",
            "  Y_train_pred = np.nanmean(Y_train_pred_full, axis=0)\n",
            "/usr/local/lib/python3.6/dist-packages/autosklearn/evaluation/train_evaluator.py:197: RuntimeWarning: Mean of empty slice\n",
            "  Y_train_pred = np.nanmean(Y_train_pred_full, axis=0)\n",
            "/usr/local/lib/python3.6/dist-packages/autosklearn/evaluation/train_evaluator.py:197: RuntimeWarning: Mean of empty slice\n",
            "  Y_train_pred = np.nanmean(Y_train_pred_full, axis=0)\n",
            "/usr/local/lib/python3.6/dist-packages/autosklearn/evaluation/train_evaluator.py:197: RuntimeWarning: Mean of empty slice\n",
            "  Y_train_pred = np.nanmean(Y_train_pred_full, axis=0)\n",
            "/usr/local/lib/python3.6/dist-packages/autosklearn/evaluation/train_evaluator.py:197: RuntimeWarning: Mean of empty slice\n",
            "  Y_train_pred = np.nanmean(Y_train_pred_full, axis=0)\n",
            "/usr/local/lib/python3.6/dist-packages/autosklearn/evaluation/train_evaluator.py:197: RuntimeWarning: Mean of empty slice\n",
            "  Y_train_pred = np.nanmean(Y_train_pred_full, axis=0)\n",
            "/usr/local/lib/python3.6/dist-packages/autosklearn/evaluation/train_evaluator.py:197: RuntimeWarning: Mean of empty slice\n",
            "  Y_train_pred = np.nanmean(Y_train_pred_full, axis=0)\n",
            "/usr/local/lib/python3.6/dist-packages/autosklearn/evaluation/train_evaluator.py:197: RuntimeWarning: Mean of empty slice\n",
            "  Y_train_pred = np.nanmean(Y_train_pred_full, axis=0)\n",
            "/usr/local/lib/python3.6/dist-packages/autosklearn/evaluation/train_evaluator.py:197: RuntimeWarning: Mean of empty slice\n",
            "  Y_train_pred = np.nanmean(Y_train_pred_full, axis=0)\n",
            "/usr/local/lib/python3.6/dist-packages/autosklearn/evaluation/train_evaluator.py:197: RuntimeWarning: Mean of empty slice\n",
            "  Y_train_pred = np.nanmean(Y_train_pred_full, axis=0)\n"
          ],
          "name": "stderr"
        },
        {
          "output_type": "stream",
          "text": [
            "-1\n",
            "['/tmp/autosklearn_tmp_125_4629/.auto-sklearn/ensembles/1272380470.0000000000.ensemble', '/tmp/autosklearn_tmp_125_4629/.auto-sklearn/ensembles/1272380470.0000000001.ensemble', '/tmp/autosklearn_tmp_125_4629/.auto-sklearn/ensembles/1272380470.0000000002.ensemble', '/tmp/autosklearn_tmp_125_4629/.auto-sklearn/ensembles/1272380470.0000000003.ensemble', '/tmp/autosklearn_tmp_125_4629/.auto-sklearn/ensembles/1272380470.0000000004.ensemble', '/tmp/autosklearn_tmp_125_4629/.auto-sklearn/ensembles/1272380470.0000000005.ensemble', '/tmp/autosklearn_tmp_125_4629/.auto-sklearn/ensembles/1272380470.0000000006.ensemble', '/tmp/autosklearn_tmp_125_4629/.auto-sklearn/ensembles/1272380470.0000000007.ensemble', '/tmp/autosklearn_tmp_125_4629/.auto-sklearn/ensembles/1272380470.0000000008.ensemble', '/tmp/autosklearn_tmp_125_4629/.auto-sklearn/ensembles/1272380470.0000000009.ensemble', '/tmp/autosklearn_tmp_125_4629/.auto-sklearn/ensembles/1272380470.0000000010.ensemble', '/tmp/autosklearn_tmp_125_4629/.auto-sklearn/ensembles/1272380470.0000000011.ensemble', '/tmp/autosklearn_tmp_125_4629/.auto-sklearn/ensembles/1272380470.0000000012.ensemble']\n",
            "Elapsed time is 117.118817 seconds.\n"
          ],
          "name": "stdout"
        },
        {
          "output_type": "error",
          "ename": "NameError",
          "evalue": "ignored",
          "traceback": [
            "\u001b[0;31m---------------------------------------------------------------------------\u001b[0m",
            "\u001b[0;31mNameError\u001b[0m                                 Traceback (most recent call last)",
            "\u001b[0;32m<ipython-input-15-d814ba05b149>\u001b[0m in \u001b[0;36m<module>\u001b[0;34m()\u001b[0m\n\u001b[1;32m     37\u001b[0m         \u001b[0mautoml\u001b[0m\u001b[0;34m.\u001b[0m\u001b[0mfit\u001b[0m\u001b[0;34m(\u001b[0m\u001b[0mX_train\u001b[0m\u001b[0;34m,\u001b[0m\u001b[0my_train\u001b[0m\u001b[0;34m,\u001b[0m \u001b[0mmetric\u001b[0m\u001b[0;34m=\u001b[0m\u001b[0mmetrics_test\u001b[0m \u001b[0;32mif\u001b[0m \u001b[0mmetrics_test\u001b[0m \u001b[0;32min\u001b[0m \u001b[0mlist_metrics\u001b[0m \u001b[0;32melse\u001b[0m \u001b[0;32mNone\u001b[0m\u001b[0;34m)\u001b[0m\u001b[0;34m\u001b[0m\u001b[0;34m\u001b[0m\u001b[0m\n\u001b[1;32m     38\u001b[0m         \u001b[0mt\u001b[0m\u001b[0;34m.\u001b[0m\u001b[0mtoc\u001b[0m\u001b[0;34m(\u001b[0m\u001b[0;34m)\u001b[0m\u001b[0;34m\u001b[0m\u001b[0;34m\u001b[0m\u001b[0m\n\u001b[0;32m---> 39\u001b[0;31m         \u001b[0mtop_algo\u001b[0m\u001b[0;34m[\u001b[0m\u001b[0mclass_dtst\u001b[0m\u001b[0;34m]\u001b[0m \u001b[0;34m=\u001b[0m \u001b[0;34m[\u001b[0m\u001b[0mv\u001b[0m\u001b[0;34m[\u001b[0m\u001b[0;36m0\u001b[0m\u001b[0;34m]\u001b[0m \u001b[0;32mfor\u001b[0m \u001b[0mi\u001b[0m\u001b[0;34m,\u001b[0m \u001b[0mv\u001b[0m \u001b[0;32min\u001b[0m \u001b[0mtpot\u001b[0m\u001b[0;34m.\u001b[0m\u001b[0mpareto_front_fitted_pipelines_\u001b[0m\u001b[0;34m.\u001b[0m\u001b[0mitems\u001b[0m\u001b[0;34m(\u001b[0m\u001b[0;34m)\u001b[0m\u001b[0;34m]\u001b[0m\u001b[0;34m[\u001b[0m\u001b[0;36m0\u001b[0m\u001b[0;34m]\u001b[0m\u001b[0;34m\u001b[0m\u001b[0;34m\u001b[0m\u001b[0m\n\u001b[0m\u001b[1;32m     40\u001b[0m         \u001b[0mprint\u001b[0m\u001b[0;34m(\u001b[0m\u001b[0;34m\"*** Top algorithm: ***\"\u001b[0m\u001b[0;34m,\u001b[0m \u001b[0;34m[\u001b[0m\u001b[0mv\u001b[0m\u001b[0;34m[\u001b[0m\u001b[0;36m0\u001b[0m\u001b[0;34m]\u001b[0m \u001b[0;32mfor\u001b[0m \u001b[0mi\u001b[0m\u001b[0;34m,\u001b[0m \u001b[0mv\u001b[0m \u001b[0;32min\u001b[0m \u001b[0mtpot\u001b[0m\u001b[0;34m.\u001b[0m\u001b[0mpareto_front_fitted_pipelines_\u001b[0m\u001b[0;34m.\u001b[0m\u001b[0mitems\u001b[0m\u001b[0;34m(\u001b[0m\u001b[0;34m)\u001b[0m\u001b[0;34m]\u001b[0m\u001b[0;34m[\u001b[0m\u001b[0;36m0\u001b[0m\u001b[0;34m]\u001b[0m\u001b[0;34m)\u001b[0m\u001b[0;34m\u001b[0m\u001b[0;34m\u001b[0m\u001b[0m\n\u001b[1;32m     41\u001b[0m         \u001b[0mpreds\u001b[0m\u001b[0;34m[\u001b[0m\u001b[0mclass_dtst\u001b[0m\u001b[0;34m]\u001b[0m \u001b[0;34m=\u001b[0m \u001b[0mautoml\u001b[0m\u001b[0;34m.\u001b[0m\u001b[0mpredict\u001b[0m\u001b[0;34m(\u001b[0m\u001b[0mX_test\u001b[0m\u001b[0;34m)\u001b[0m\u001b[0;34m\u001b[0m\u001b[0;34m\u001b[0m\u001b[0m\n",
            "\u001b[0;31mNameError\u001b[0m: name 'tpot' is not defined"
          ]
        }
      ]
    },
    {
      "cell_type": "code",
      "metadata": {
        "id": "4D-iUG-4WwAq",
        "colab_type": "code",
        "outputId": "997630ea-fb13-4842-ffd1-c22914ceeb1a",
        "colab": {
          "base_uri": "https://localhost:8080/",
          "height": 1000
        }
      },
      "source": [
        "for i, val in enumerate(preds):\n",
        "  print(preds[val])"
      ],
      "execution_count": 0,
      "outputs": [
        {
          "output_type": "stream",
          "text": [
            "[1 1 0 ... 1 1 1]\n",
            "[0 0 0 0 1 0 1 0 1 0 0 1 1 0 1 1 1 1 0 1 0 1 0 1 0 1 0 1 0 0 0 1 0 0 1 1 0\n",
            " 0 0 0 1 0 0 0 1 0 0 0 1 1 1 0 0 0 1 1 0 0 0 1 0 1 1 1 1 0 0 0 1 1 0 1 0 1\n",
            " 0 1 1 0 0 0 1 1 1 0 1 0 0 1 1 1 1 0 0 0 0 0 1 0 0 1 0 1 0 1 1 0 0 1 0 0 0\n",
            " 0 1 0 0 0 1 0 0 1 1 0 0 1 1 1 0 0 1 1 1 0 0 0 0 1 1 0 1 0 1 0 0 0 0 0 1 1\n",
            " 1 1 1 0 0 0 0 0 1 1 1 1 0 0 0 0 1 1 1 0 0 1 1 1 0 0 0 0 1 0 1 1 0 1 0 0 1\n",
            " 1 1 1 0 0 1 0 0 1 0 1 1 0 0 1 1 1 0 1 1 0 0 1 0 0 0 0 1 0 1 0 1 1 0 0 1 0\n",
            " 0 1 1 0 0 0 0 0 1 0 0 1 0 0 1 0 1 1 0 0 0 0 1 0 0 1 1 0 0 1 0 1 0 0 1 1 1\n",
            " 0 1 0 1 0 0 0 1 0 0 0 1 0 0 1 1 0 1 1 0 1 1 0 0 0 0 0 0 1 1 1 1 1 0 0 0 0\n",
            " 0 1 1 1 0 1 1 0 1 0 1 0 1 0 0 1 1 0 0 0 1 1 0 0 0 1 1 1 0 1 1 0 0 1 0 0 0\n",
            " 1 1 0 1 1 1 0 1 1 1 0 1 1 0 1 1 0 1 1 0 1 0 0 1 1 1 0 0 1 0 1 0 1 1 0 0 0\n",
            " 0 0 0 1 1 0 1 0 1 1 1 1 1 1 0 0 0 0 1 1 0 1 0 1 0 1 1 0 0 0 1 1 0 1 0 0 0\n",
            " 1 0 0 1 0 0 0 0 0 1 1 0 0 0 1 0 0 1 0 0 1 1 1 0 1 1 1 0 1 0 1 1 0 1 1 1 0\n",
            " 1 1 1 1 1 1 0 1 1 1 1 1 1 0 1 1 0 0 0 1 0 1 0 1 1 1 1 0 0 1 1 0 1 1 1 0 1\n",
            " 0 1 1 1 0 0 0 1 0 1 0 0 1 1 1 1 1 1 1 0 0 1 0 1 1 0 1 0 1 0 0 1 0 1 1 0 1\n",
            " 0 0 0 0 1 0 1 1 1 1 0 1 1 1 0 1 0 1 1 0 0 1 1 1 0 0 0 0 1 0 1 0 1 0 1 1 0\n",
            " 1 0 1 0 0 0 0 1 0 1 0 1 1 0 1 1 1 0 1 0 1 1 1 0 0 0 0 0 0 1 0 0 0 0 1 1 1\n",
            " 0 1 0 1 0 0 0 1 0 1 0 0 1 1 0 0 1 1 0 1 0 1 0 0 0 1 0 0 1 1 0 0 0 0 0 0 1\n",
            " 1 0 1 0 1 1 0 0 0 0 1 1 1 0 1 1 1 0 1 0 0 0 0 0 0 0 0 1 1 0 1 1 1 0 1 1 0\n",
            " 1 1 1 1 0 0 0 0 0 0 0 1 0 0 1 1 1 0 0 0 0 0 0 0 1 1 1 0 1 1 1 0 0 1 1 1 0\n",
            " 1 1 1 1 0 1 1 1 0 1 1 0 1 1 0 1 0 1 1 0 0 1 1 1 1 1 0 1 1 0 0 0 0 0 0 0 1\n",
            " 0 0 0 1 0 0 0 0 1 0 1 1 0 1 0 0 1 1 1 1 0 1 0 0 1 0 0 0 0 1 0 1 0 0 0 0 0\n",
            " 0 1 1 0 1 1 1 1 0 1 1 1 0 0 1 1 0 0 0 1 0 0 0 0 0 1 0 1 0 1 0 0 1 0 0 1 1\n",
            " 0]\n",
            "[1 0 0 0 0 1 0 0 0 0 0 0 0 0 0 0 0 0 0 0 0 0 0 0 0 0 0 0 0 0 0 0 0 0 0 1 0\n",
            " 0 0 0 0 0 1 1 0 0 1 0 0 0 0 0 0 0 0 0 0 0 0 0 0 0 0 0 0 0 0 0 0 0 0 0 0 0\n",
            " 0 0 0 0 0 0 0 0 0 0 1 0 1 0 0 0 0 0 0 0 0 0 0 0 0 0 0 0 0 0 0 0 0 0 1 0 0\n",
            " 0 0 0 0 1 0 0 0 0 1 0 0 0 1 0 0 0 0 0 0 0 0 0 0 0 0 0 0 0 0 0 0 0 0 0 0 0\n",
            " 0 0 0 0 1 0 0 1 1 0 0 0 0 0 0 0 1 0 0 0 1 0 0 1 0 0 0 0 1 0 0 0 0 0 0 0 0\n",
            " 0 0 0 0 0 0 0 0 0 0 0 0 0 0 1 0 0 1 0 0 1 0 1 0 0 0 0 1 1 1 0 0 1 0 0 0 0\n",
            " 0 0 0 0 0 0 0 0 0 0 1 0 0 0 0 0 0 0 0 0 0 0 0 0 0 0 0 0 0 0 0 0 0 0 0 0 0\n",
            " 0 0 0 0 0 0 0 0 0 0 0 0 1 0 1 0 0 0 0 0 1 0 0 1 0 0 0 0 0 0 0 0 1 0 0 0 0\n",
            " 0 0 0 0 1 0 0 0 0 1 0 0 0 1 0 0 0 0 0 0 0 0 1 0 0 1 0 0 0 0 0 1 0 0 0 0 1\n",
            " 1 1 1 1 0 0 0 0 0 0 0 0 0 1 0 0 0 0 0 0 0 0 1 0 0 0 0 0 0 0 0 0 0 0 0 0 0\n",
            " 0 0 0 0 1 0 0 0 0 0 0 0 0 0 0 0 0 0 0 0 0 0 0 0 1 0 1 0 0 0 1 0 0 0 0 0 0\n",
            " 0 0 0 0 0 0 1 1 0 0 0 0 0 0 0 1 0 0 1 0 0 0 0 0 0 0 1 0 0 0 0 0 1 0 0 1 0\n",
            " 0 0 1 0 0 0 0 0 0 0 0 0 0 1 0 0 0 0 0 0 0 1 1 0 0 0 0 0 0 0 0 0 0 0 0 0 1\n",
            " 0 0 0 0 0 0 0 0 0 0 0 0 0 0 0 0 1 0 0]\n",
            "[3 0 0 ... 1 3 0]\n",
            "[4 4 7 3 1 1 5 3 7 1 3 1 5 3 1 4 1 3 7 1 5 5 1 2 1 2 3 2 2 7 2 7 7 7 3 1 7\n",
            " 7 3 3 3 7 4 7 5 1 4 3 1 3 5 3 1 5 7 3 1 7 4 7 7 7 3 7 7 4 7 1 5 3 7 1 3 4\n",
            " 1 4 2 2 3 7 3 7 5 1 3 7 3 1 4 3 3 3 1 4 1 1 3 3 3 1 1 4 7 7 2 1 1 2 1 3 2\n",
            " 4 1 1 7 2 7 3 1 3 7 2 5 3 3 2 4 1 3 7 7 5 3 7 7 3 7 3 2 7 1 3 5 7 3 4 7 2\n",
            " 5 3 7 7 7 1 4 3 7 2 3 1 1 1 7 1 7 4 1 7 3 5 4 7 4 2 1 3 7 1 1 2 5 2 1 7 7\n",
            " 7 3 3 1 3 3 7 7 5 7 7 7 1 3 5 7 2 1 4 7 2 4 1 7 1 7 2 1 4 1 1 2 7 3 7 3 1\n",
            " 5 1 2 7 1 3 3 1 1 3 7 7 3 5 2 7 4 1 7 4 1 2 7 2 3 2 1 4 1 3 5 1 2 2 4 7 3\n",
            " 3 1 4 7 4 1 7 1 5 5 7 1 1 3 4 7 1 1 1 3 1 7 7 5 4 5 2 4 2 4 1 3 7 3 1 3 5\n",
            " 3 3 3 7 3 1 2 7 3 7 1 4 7 1 1 5 3 2 5 5 1 7 7 5 5 3 7 3 7 5 1 3 2 1 5 5 5\n",
            " 5 7 1 5 3 3 2 7 2 1 5 7 3 1 4 3 5 3 2 1 1 5 7 1 3 7 3 7 1 3 7 3 7 1 2 7 7\n",
            " 3 3 7 7 3 2 7 3 5 7 5 3 2 5 1 3 3 3 1 7 4 1 2 7 7 5 7 5 7 5 7 3 2 7 4 3 4\n",
            " 4 7 3 2 3 7 2 3 2 7 2 7 7 1 7 1 7 3 2 7 1 5 4 7 1 1 1 3 7 3 3 3 7 3 2 1 1\n",
            " 1 4 7 7 3 3 3 4 1 7 1 7 7 2 5 5 1 5 2 1 1 1 7 7 4 2 5 1 2 3 5 1 3 1 3 1 3\n",
            " 7 7 7 3 4 3 1 1 1 3 1 1 4 5 7 1 7 5 3 4 3 7 5 4 1 4 2 7 1 3 1 1 1 4 1 5 5\n",
            " 1 3 2 3 3 1 1 7 3 1 3 3 3 3 4 5 5 7 7 7 3 2 4 1 2 7 3 1 2 2 2 7 7 3 1 5 7\n",
            " 3 1 7 2 7 1 5 3 3 1 7 3 1 7 2 3 3 7 7 1 1 5 1 3 1 4 7 3 1 1 7 7 1 3 2 2 3\n",
            " 3 1 5 7 2 4 7 7 7 3 1 4 1 7 7 1 3 1 1 1 7 4 2 7 3 3 3 7 7 5 1 1 7 3 2 1 1\n",
            " 2 7 2 1 5 3 3 3 5 3 4 5 1 1 1]\n",
            "[ 6  3  7 10 14  6 10  9  8  4  3 14  2 13  2  7 13  7  4  8 12 10  2  9\n",
            " 10  3 10  3  4  7 13  2 14  4  7  8 12  3  4 13  9 14  8  8 13  9  6 14\n",
            " 13 13 14 12 12  2 12  6  6  3 10  4  7  3 14  4  2 14 13  6  2  9  6  3\n",
            " 10  6  9 13  8 10  6 14 12  2  9  6  6  2  3  8 14  8  2 13  9  7  9 13\n",
            "  8  6  4 10  2 13  3 13  2 12  8  4  3  6  7  2  2  9  8  2  3  2 10  8\n",
            "  3 13  8 14  9  3  8  3 10 14 14  9  9  6  9 12 12  3 10  6  9 12 12  4\n",
            " 12 12  6 10 10 14 10 10  6  9  8  9 10  6  9  8  9 12  3 12  8  6  8  4\n",
            " 13  8  9  3  8  9  2 12 12 14 12 10  7  8 14 12  8 14  2  9  7 13  6  6\n",
            "  4  3  2 13 12 13 10 14 10  8  7 13 12 14  2  8  4  9  2  4  8  8 13 14\n",
            "  6  2 10  6 10  2 13  7  4  8 14  7  8  4 10  4 12 14  9 12  4 14 10 14\n",
            " 12 10  3  3 10 13 10  8 10  2  6 13 10  2  3  2  3  4  9 12  3  2 14  8\n",
            "  8 12  3 10  9  4  4  9  4  7  8  9  8 13 14  2 12  6  7  7  6  6 12 14\n",
            "  9  4  9  4  8  7 13 14  7  6 12  7  3  2  3  9  7  8 10  3  4 13  8  6\n",
            " 10 13  7 13 13 12  8  6  7  7 12 14  6 10  9 13  9  2  3 10  7  4  6  3\n",
            "  3  7  7  4 13 12 14  3 13 14  7 13  3  4  9  8  6 13 13 10  7 12 12  6\n",
            "  6  3  8  4  3  8  7  3  7  6  6  9  4 13  4 14  4  9 13 13  4  2  3 10\n",
            "  4  6 14 10 13  3 12  7  4  9  3  7  2 13  8 12  9  2 13  7 12  8  8 14\n",
            "  3  2  2 10  8 14 14 13  4  7  8  2 13 13  4 14 13  3 12 14  3 12  7  2\n",
            " 10  6  9  4  9 10  8 14  6  9  7  7  4 12  8 12 14  9 12  7  4  6 12  6\n",
            "  4 13  2  4  7 14 12  9  7  4  8 12  8  8 12 14  9  7  3 12 10 13 12  2\n",
            "  7  7  7  3 10  7 10  6 14 10 10  3  4  7 10  6  2  9  4  7  4  4  9 10\n",
            " 13 14  7  6  6  3  7  3 13  9 14  8 14  2  7  9 12  2  9  3  9 10 10 12\n",
            " 10  4  4  6  6 13 14  9 12  3  4 10  8  2  9 13  6 14  4  2  9  6]\n"
          ],
          "name": "stdout"
        }
      ]
    },
    {
      "cell_type": "code",
      "metadata": {
        "id": "jsSUCZ8NKEmW",
        "colab_type": "code",
        "colab": {}
      },
      "source": [
        "for i, val in enumerate(preds):\n",
        "  pd.DataFrame(preds[val]).to_csv(f\"{val}.csv\")"
      ],
      "execution_count": 0,
      "outputs": []
    },
    {
      "cell_type": "code",
      "metadata": {
        "id": "K2NZZymmPb-a",
        "colab_type": "code",
        "outputId": "83fc0699-9fdc-4bb1-cbec-437911d6748a",
        "colab": {
          "base_uri": "https://localhost:8080/",
          "height": 607
        }
      },
      "source": [
        "df_result"
      ],
      "execution_count": 0,
      "outputs": [
        {
          "output_type": "execute_result",
          "data": {
            "text/html": [
              "<div>\n",
              "<style scoped>\n",
              "    .dataframe tbody tr th:only-of-type {\n",
              "        vertical-align: middle;\n",
              "    }\n",
              "\n",
              "    .dataframe tbody tr th {\n",
              "        vertical-align: top;\n",
              "    }\n",
              "\n",
              "    .dataframe thead th {\n",
              "        text-align: right;\n",
              "    }\n",
              "</style>\n",
              "<table border=\"1\" class=\"dataframe\">\n",
              "  <thead>\n",
              "    <tr style=\"text-align: right;\">\n",
              "      <th></th>\n",
              "      <th>dataset_name</th>\n",
              "      <th>metrics_recorded</th>\n",
              "      <th>AUC</th>\n",
              "      <th>ACC</th>\n",
              "      <th>logloss</th>\n",
              "      <th>f1_score</th>\n",
              "    </tr>\n",
              "  </thead>\n",
              "  <tbody>\n",
              "    <tr>\n",
              "      <th>0</th>\n",
              "      <td>adult</td>\n",
              "      <td>accuracy</td>\n",
              "      <td>0.707134</td>\n",
              "      <td>0.865302</td>\n",
              "      <td>0.300258</td>\n",
              "      <td>0.914211</td>\n",
              "    </tr>\n",
              "    <tr>\n",
              "      <th>1</th>\n",
              "      <td>adult</td>\n",
              "      <td>roc_auc</td>\n",
              "      <td>0.707134</td>\n",
              "      <td>0.865302</td>\n",
              "      <td>0.300258</td>\n",
              "      <td>0.914211</td>\n",
              "    </tr>\n",
              "    <tr>\n",
              "      <th>2</th>\n",
              "      <td>adult</td>\n",
              "      <td>neg_log_loss</td>\n",
              "      <td>0.707134</td>\n",
              "      <td>0.865302</td>\n",
              "      <td>0.300258</td>\n",
              "      <td>0.914211</td>\n",
              "    </tr>\n",
              "    <tr>\n",
              "      <th>3</th>\n",
              "      <td>agaricus-lepiota</td>\n",
              "      <td>accuracy</td>\n",
              "      <td>0.472488</td>\n",
              "      <td>1</td>\n",
              "      <td>6.11043e-05</td>\n",
              "      <td>1</td>\n",
              "    </tr>\n",
              "    <tr>\n",
              "      <th>4</th>\n",
              "      <td>agaricus-lepiota</td>\n",
              "      <td>roc_auc</td>\n",
              "      <td>0.513557</td>\n",
              "      <td>1</td>\n",
              "      <td>3.98841e-05</td>\n",
              "      <td>1</td>\n",
              "    </tr>\n",
              "    <tr>\n",
              "      <th>5</th>\n",
              "      <td>agaricus-lepiota</td>\n",
              "      <td>neg_log_loss</td>\n",
              "      <td>0.5</td>\n",
              "      <td>1</td>\n",
              "      <td>9.99201e-16</td>\n",
              "      <td>1</td>\n",
              "    </tr>\n",
              "    <tr>\n",
              "      <th>6</th>\n",
              "      <td>churn</td>\n",
              "      <td>accuracy</td>\n",
              "      <td>0.237664</td>\n",
              "      <td>0.944</td>\n",
              "      <td>0.19536</td>\n",
              "      <td>0.791045</td>\n",
              "    </tr>\n",
              "    <tr>\n",
              "      <th>7</th>\n",
              "      <td>churn</td>\n",
              "      <td>roc_auc</td>\n",
              "      <td>0.237664</td>\n",
              "      <td>0.944</td>\n",
              "      <td>0.19536</td>\n",
              "      <td>0.791045</td>\n",
              "    </tr>\n",
              "    <tr>\n",
              "      <th>8</th>\n",
              "      <td>churn</td>\n",
              "      <td>neg_log_loss</td>\n",
              "      <td>0.237664</td>\n",
              "      <td>0.944</td>\n",
              "      <td>0.19536</td>\n",
              "      <td>0.791045</td>\n",
              "    </tr>\n",
              "    <tr>\n",
              "      <th>9</th>\n",
              "      <td>nursery</td>\n",
              "      <td>accuracy</td>\n",
              "      <td>NaN</td>\n",
              "      <td>0.934414</td>\n",
              "      <td>0.132644</td>\n",
              "      <td>0.802692</td>\n",
              "    </tr>\n",
              "    <tr>\n",
              "      <th>10</th>\n",
              "      <td>nursery</td>\n",
              "      <td>roc_auc</td>\n",
              "      <td>NaN</td>\n",
              "      <td>0.934414</td>\n",
              "      <td>0.132644</td>\n",
              "      <td>0.802692</td>\n",
              "    </tr>\n",
              "    <tr>\n",
              "      <th>11</th>\n",
              "      <td>nursery</td>\n",
              "      <td>neg_log_loss</td>\n",
              "      <td>NaN</td>\n",
              "      <td>0.934414</td>\n",
              "      <td>0.132644</td>\n",
              "      <td>0.802692</td>\n",
              "    </tr>\n",
              "    <tr>\n",
              "      <th>12</th>\n",
              "      <td>satimage</td>\n",
              "      <td>accuracy</td>\n",
              "      <td>NaN</td>\n",
              "      <td>0.925466</td>\n",
              "      <td>0.224575</td>\n",
              "      <td>0.908502</td>\n",
              "    </tr>\n",
              "    <tr>\n",
              "      <th>13</th>\n",
              "      <td>satimage</td>\n",
              "      <td>roc_auc</td>\n",
              "      <td>NaN</td>\n",
              "      <td>0.925466</td>\n",
              "      <td>0.224575</td>\n",
              "      <td>0.908502</td>\n",
              "    </tr>\n",
              "    <tr>\n",
              "      <th>14</th>\n",
              "      <td>satimage</td>\n",
              "      <td>neg_log_loss</td>\n",
              "      <td>NaN</td>\n",
              "      <td>0.925466</td>\n",
              "      <td>0.224575</td>\n",
              "      <td>0.908502</td>\n",
              "    </tr>\n",
              "    <tr>\n",
              "      <th>15</th>\n",
              "      <td>texture</td>\n",
              "      <td>accuracy</td>\n",
              "      <td>NaN</td>\n",
              "      <td>0.965455</td>\n",
              "      <td>0.197201</td>\n",
              "      <td>0.965332</td>\n",
              "    </tr>\n",
              "    <tr>\n",
              "      <th>16</th>\n",
              "      <td>texture</td>\n",
              "      <td>roc_auc</td>\n",
              "      <td>NaN</td>\n",
              "      <td>0.965455</td>\n",
              "      <td>0.197201</td>\n",
              "      <td>0.965332</td>\n",
              "    </tr>\n",
              "    <tr>\n",
              "      <th>17</th>\n",
              "      <td>texture</td>\n",
              "      <td>neg_log_loss</td>\n",
              "      <td>NaN</td>\n",
              "      <td>0.934545</td>\n",
              "      <td>0.215747</td>\n",
              "      <td>0.934659</td>\n",
              "    </tr>\n",
              "  </tbody>\n",
              "</table>\n",
              "</div>"
            ],
            "text/plain": [
              "        dataset_name metrics_recorded  ...      logloss  f1_score\n",
              "0              adult         accuracy  ...     0.300258  0.914211\n",
              "1              adult          roc_auc  ...     0.300258  0.914211\n",
              "2              adult     neg_log_loss  ...     0.300258  0.914211\n",
              "3   agaricus-lepiota         accuracy  ...  6.11043e-05         1\n",
              "4   agaricus-lepiota          roc_auc  ...  3.98841e-05         1\n",
              "5   agaricus-lepiota     neg_log_loss  ...  9.99201e-16         1\n",
              "6              churn         accuracy  ...      0.19536  0.791045\n",
              "7              churn          roc_auc  ...      0.19536  0.791045\n",
              "8              churn     neg_log_loss  ...      0.19536  0.791045\n",
              "9            nursery         accuracy  ...     0.132644  0.802692\n",
              "10           nursery          roc_auc  ...     0.132644  0.802692\n",
              "11           nursery     neg_log_loss  ...     0.132644  0.802692\n",
              "12          satimage         accuracy  ...     0.224575  0.908502\n",
              "13          satimage          roc_auc  ...     0.224575  0.908502\n",
              "14          satimage     neg_log_loss  ...     0.224575  0.908502\n",
              "15           texture         accuracy  ...     0.197201  0.965332\n",
              "16           texture          roc_auc  ...     0.197201  0.965332\n",
              "17           texture     neg_log_loss  ...     0.215747  0.934659\n",
              "\n",
              "[18 rows x 6 columns]"
            ]
          },
          "metadata": {
            "tags": []
          },
          "execution_count": 8
        }
      ]
    },
    {
      "cell_type": "code",
      "metadata": {
        "id": "3coeqePkKIIr",
        "colab_type": "code",
        "outputId": "33c0e9d4-1de9-48d0-f94f-036773f88272",
        "colab": {
          "base_uri": "https://localhost:8080/",
          "height": 476
        }
      },
      "source": [
        "import pprint\n",
        "pprint.pprint(cm_preds)"
      ],
      "execution_count": 0,
      "outputs": [
        {
          "output_type": "stream",
          "text": [
            "{'adult': array([[ 721,  448],\n",
            "       [ 210, 3506]]),\n",
            " 'agaricus-lepiota': array([[423,   0],\n",
            "       [  0, 392]]),\n",
            " 'churn': array([[419,  10],\n",
            "       [ 18,  53]]),\n",
            " 'nursery': array([[432,   0,   0,   0],\n",
            "       [  0, 389,  37,   1],\n",
            "       [  0,  22, 382,   0],\n",
            "       [  0,  25,   0,   8]]),\n",
            " 'satimage': array([[150,   1,   1,   0,   1,   0],\n",
            "       [  0,  67,   0,   1,   2,   0],\n",
            "       [  1,   0, 132,   3,   0,   0],\n",
            "       [  0,   0,  10,  43,   0,  10],\n",
            "       [  2,   1,   0,   0,  63,   5],\n",
            "       [  0,   0,   2,   8,   0, 141]]),\n",
            " 'texture': array([[43,  1,  1,  0,  0,  0,  5,  0,  0,  0,  0],\n",
            "       [ 0, 45,  0,  0,  0,  0,  1,  2,  0,  0,  2],\n",
            "       [ 0,  0, 50,  0,  0,  0,  0,  0,  0,  0,  0],\n",
            "       [ 0,  0,  0, 50,  0,  0,  0,  0,  0,  0,  0],\n",
            "       [ 0,  0,  0,  0, 49,  0,  1,  0,  0,  0,  0],\n",
            "       [ 0,  0,  0,  0,  0, 43,  1,  4,  0,  1,  1],\n",
            "       [ 1,  1,  0,  0,  1,  3, 44,  0,  0,  0,  0],\n",
            "       [ 0,  0,  0,  0,  0,  5,  0, 45,  0,  0,  0],\n",
            "       [ 0,  0,  0,  0,  0,  0,  0,  0, 50,  0,  0],\n",
            "       [ 0,  0,  0,  0,  0,  0,  0,  0,  0, 50,  0],\n",
            "       [ 0,  2,  0,  0,  0,  1,  1,  0,  1,  0, 45]])}\n"
          ],
          "name": "stdout"
        }
      ]
    },
    {
      "cell_type": "code",
      "metadata": {
        "id": "lqh5gbfJfHfP",
        "colab_type": "code",
        "outputId": "b942337f-b8af-4611-c1ab-5c4c47c7f4d5",
        "colab": {
          "base_uri": "https://localhost:8080/",
          "height": 1000
        }
      },
      "source": [
        "top_algo"
      ],
      "execution_count": 0,
      "outputs": [
        {
          "output_type": "execute_result",
          "data": {
            "text/plain": [
              "{'adult': GradientBoostingClassifier(criterion='friedman_mse', init=None,\n",
              "                            learning_rate=1.0, loss='deviance', max_depth=2,\n",
              "                            max_features=0.1, max_leaf_nodes=None,\n",
              "                            min_impurity_decrease=0.0, min_impurity_split=None,\n",
              "                            min_samples_leaf=6, min_samples_split=8,\n",
              "                            min_weight_fraction_leaf=0.0, n_estimators=100,\n",
              "                            n_iter_no_change=None, presort='auto',\n",
              "                            random_state=None, subsample=0.9500000000000001,\n",
              "                            tol=0.0001, validation_fraction=0.1, verbose=0,\n",
              "                            warm_start=False),\n",
              " 'agaricus-lepiota': GradientBoostingClassifier(criterion='friedman_mse', init=None,\n",
              "                            learning_rate=1.0, loss='deviance', max_depth=10,\n",
              "                            max_features=0.4, max_leaf_nodes=None,\n",
              "                            min_impurity_decrease=0.0, min_impurity_split=None,\n",
              "                            min_samples_leaf=6, min_samples_split=15,\n",
              "                            min_weight_fraction_leaf=0.0, n_estimators=100,\n",
              "                            n_iter_no_change=None, presort='auto',\n",
              "                            random_state=None, subsample=0.15000000000000002,\n",
              "                            tol=0.0001, validation_fraction=0.1, verbose=0,\n",
              "                            warm_start=False),\n",
              " 'churn': GradientBoostingClassifier(criterion='friedman_mse', init=None,\n",
              "                            learning_rate=0.1, loss='deviance', max_depth=5,\n",
              "                            max_features=0.8500000000000001, max_leaf_nodes=None,\n",
              "                            min_impurity_decrease=0.0, min_impurity_split=None,\n",
              "                            min_samples_leaf=1, min_samples_split=6,\n",
              "                            min_weight_fraction_leaf=0.0, n_estimators=100,\n",
              "                            n_iter_no_change=None, presort='auto',\n",
              "                            random_state=None, subsample=0.7000000000000001,\n",
              "                            tol=0.0001, validation_fraction=0.1, verbose=0,\n",
              "                            warm_start=False),\n",
              " 'nursery': DecisionTreeClassifier(class_weight=None, criterion='entropy', max_depth=8,\n",
              "                        max_features=None, max_leaf_nodes=None,\n",
              "                        min_impurity_decrease=0.0, min_impurity_split=None,\n",
              "                        min_samples_leaf=18, min_samples_split=11,\n",
              "                        min_weight_fraction_leaf=0.0, presort=False,\n",
              "                        random_state=None, splitter='best'),\n",
              " 'satimage': FeatureUnion(n_jobs=None,\n",
              "              transformer_list=[('functiontransformer-1',\n",
              "                                 FunctionTransformer(accept_sparse=False,\n",
              "                                                     check_inverse=True,\n",
              "                                                     func=<function copy at 0x7f338f8d8ae8>,\n",
              "                                                     inv_kw_args=None,\n",
              "                                                     inverse_func=None,\n",
              "                                                     kw_args=None,\n",
              "                                                     pass_y='deprecated',\n",
              "                                                     validate=None)),\n",
              "                                ('functiontransformer-2',\n",
              "                                 FunctionTransformer(accept_sparse=False,\n",
              "                                                     check_inverse=True,\n",
              "                                                     func=<function copy at 0x7f338f8d8ae8>,\n",
              "                                                     inv_kw_args=None,\n",
              "                                                     inverse_func=None,\n",
              "                                                     kw_args=None,\n",
              "                                                     pass_y='deprecated',\n",
              "                                                     validate=None))],\n",
              "              transformer_weights=None, verbose=False),\n",
              " 'texture': RandomForestClassifier(bootstrap=False, class_weight=None, criterion='entropy',\n",
              "                        max_depth=None, max_features=0.7000000000000001,\n",
              "                        max_leaf_nodes=None, min_impurity_decrease=0.0,\n",
              "                        min_impurity_split=None, min_samples_leaf=15,\n",
              "                        min_samples_split=3, min_weight_fraction_leaf=0.0,\n",
              "                        n_estimators=100, n_jobs=None, oob_score=False,\n",
              "                        random_state=None, verbose=0, warm_start=False)}"
            ]
          },
          "metadata": {
            "tags": []
          },
          "execution_count": 10
        }
      ]
    }
  ]
}
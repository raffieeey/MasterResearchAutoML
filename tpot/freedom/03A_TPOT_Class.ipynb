{
  "nbformat": 4,
  "nbformat_minor": 0,
  "metadata": {
    "colab": {
      "name": "03A_TPOT_Class.ipynb",
      "provenance": [],
      "include_colab_link": true
    },
    "kernelspec": {
      "name": "python3",
      "display_name": "Python 3"
    }
  },
  "cells": [
    {
      "cell_type": "markdown",
      "metadata": {
        "id": "view-in-github",
        "colab_type": "text"
      },
      "source": [
        "<a href=\"https://colab.research.google.com/github/raffieeey/MasterResearchAutoML/blob/master/tpot/freedom/03A_TPOT_Class.ipynb\" target=\"_parent\"><img src=\"https://colab.research.google.com/assets/colab-badge.svg\" alt=\"Open In Colab\"/></a>"
      ]
    },
    {
      "cell_type": "code",
      "metadata": {
        "id": "89CD_mTpmWuK",
        "colab_type": "code",
        "outputId": "26688875-5a48-4519-ac25-202544bbd2ee",
        "colab": {
          "base_uri": "https://localhost:8080/",
          "height": 1000
        }
      },
      "source": [
        "!pip install numpy scipy scikit-learn pandas joblib\n",
        "!pip install deap update_checker tqdm stopit\n",
        "!pip install xgboost\n",
        "!pip install dask[delayed] dask-ml\n",
        "!pip install scikit-mdr skrebate\n",
        "!pip install tpot\n",
        "!pip install pmlb\n",
        "!pip install pytictoc"
      ],
      "execution_count": 5,
      "outputs": [
        {
          "output_type": "stream",
          "text": [
            "Requirement already satisfied: numpy in /usr/local/lib/python3.6/dist-packages (1.18.4)\n",
            "Requirement already satisfied: scipy in /usr/local/lib/python3.6/dist-packages (1.4.1)\n",
            "Requirement already satisfied: scikit-learn in /usr/local/lib/python3.6/dist-packages (0.23.1)\n",
            "Requirement already satisfied: pandas in /usr/local/lib/python3.6/dist-packages (1.0.3)\n",
            "Requirement already satisfied: joblib in /usr/local/lib/python3.6/dist-packages (0.15.1)\n",
            "Requirement already satisfied: threadpoolctl>=2.0.0 in /usr/local/lib/python3.6/dist-packages (from scikit-learn) (2.0.0)\n",
            "Requirement already satisfied: pytz>=2017.2 in /usr/local/lib/python3.6/dist-packages (from pandas) (2018.9)\n",
            "Requirement already satisfied: python-dateutil>=2.6.1 in /usr/local/lib/python3.6/dist-packages (from pandas) (2.8.1)\n",
            "Requirement already satisfied: six>=1.5 in /usr/local/lib/python3.6/dist-packages (from python-dateutil>=2.6.1->pandas) (1.12.0)\n",
            "Requirement already satisfied: deap in /usr/local/lib/python3.6/dist-packages (1.3.1)\n",
            "Requirement already satisfied: update_checker in /usr/local/lib/python3.6/dist-packages (0.17)\n",
            "Requirement already satisfied: tqdm in /usr/local/lib/python3.6/dist-packages (4.41.1)\n",
            "Requirement already satisfied: stopit in /usr/local/lib/python3.6/dist-packages (1.1.2)\n",
            "Requirement already satisfied: numpy in /usr/local/lib/python3.6/dist-packages (from deap) (1.18.4)\n",
            "Requirement already satisfied: requests>=2.3.0 in /usr/local/lib/python3.6/dist-packages (from update_checker) (2.23.0)\n",
            "Requirement already satisfied: urllib3!=1.25.0,!=1.25.1,<1.26,>=1.21.1 in /usr/local/lib/python3.6/dist-packages (from requests>=2.3.0->update_checker) (1.24.3)\n",
            "Requirement already satisfied: idna<3,>=2.5 in /usr/local/lib/python3.6/dist-packages (from requests>=2.3.0->update_checker) (2.9)\n",
            "Requirement already satisfied: certifi>=2017.4.17 in /usr/local/lib/python3.6/dist-packages (from requests>=2.3.0->update_checker) (2020.4.5.1)\n",
            "Requirement already satisfied: chardet<4,>=3.0.2 in /usr/local/lib/python3.6/dist-packages (from requests>=2.3.0->update_checker) (3.0.4)\n",
            "Requirement already satisfied: xgboost in /usr/local/lib/python3.6/dist-packages (0.90)\n",
            "Requirement already satisfied: scipy in /usr/local/lib/python3.6/dist-packages (from xgboost) (1.4.1)\n",
            "Requirement already satisfied: numpy in /usr/local/lib/python3.6/dist-packages (from xgboost) (1.18.4)\n",
            "Requirement already satisfied: dask[delayed] in /usr/local/lib/python3.6/dist-packages (2.12.0)\n",
            "Requirement already satisfied: dask-ml in /usr/local/lib/python3.6/dist-packages (1.5.0)\n",
            "Requirement already satisfied: toolz>=0.7.3; extra == \"delayed\" in /usr/local/lib/python3.6/dist-packages (from dask[delayed]) (0.10.0)\n",
            "Requirement already satisfied: cloudpickle>=0.2.1; extra == \"delayed\" in /usr/local/lib/python3.6/dist-packages (from dask[delayed]) (1.3.0)\n",
            "Requirement already satisfied: numba in /usr/local/lib/python3.6/dist-packages (from dask-ml) (0.48.0)\n",
            "Requirement already satisfied: scipy in /usr/local/lib/python3.6/dist-packages (from dask-ml) (1.4.1)\n",
            "Requirement already satisfied: scikit-learn>=0.23 in /usr/local/lib/python3.6/dist-packages (from dask-ml) (0.23.1)\n",
            "Requirement already satisfied: numpy>=1.17.3 in /usr/local/lib/python3.6/dist-packages (from dask-ml) (1.18.4)\n",
            "Requirement already satisfied: multipledispatch>=0.4.9 in /usr/local/lib/python3.6/dist-packages (from dask-ml) (0.6.0)\n",
            "Requirement already satisfied: dask-glm>=0.2.0 in /usr/local/lib/python3.6/dist-packages (from dask-ml) (0.2.0)\n",
            "Requirement already satisfied: pandas>=0.23.4 in /usr/local/lib/python3.6/dist-packages (from dask-ml) (1.0.3)\n",
            "Requirement already satisfied: packaging in /usr/local/lib/python3.6/dist-packages (from dask-ml) (20.4)\n",
            "Requirement already satisfied: distributed>=2.4.0 in /usr/local/lib/python3.6/dist-packages (from dask-ml) (2.17.0)\n",
            "Requirement already satisfied: setuptools in /usr/local/lib/python3.6/dist-packages (from numba->dask-ml) (46.3.0)\n",
            "Requirement already satisfied: llvmlite<0.32.0,>=0.31.0dev0 in /usr/local/lib/python3.6/dist-packages (from numba->dask-ml) (0.31.0)\n",
            "Requirement already satisfied: joblib>=0.11 in /usr/local/lib/python3.6/dist-packages (from scikit-learn>=0.23->dask-ml) (0.15.1)\n",
            "Requirement already satisfied: threadpoolctl>=2.0.0 in /usr/local/lib/python3.6/dist-packages (from scikit-learn>=0.23->dask-ml) (2.0.0)\n",
            "Requirement already satisfied: six in /usr/local/lib/python3.6/dist-packages (from multipledispatch>=0.4.9->dask-ml) (1.12.0)\n",
            "Requirement already satisfied: python-dateutil>=2.6.1 in /usr/local/lib/python3.6/dist-packages (from pandas>=0.23.4->dask-ml) (2.8.1)\n",
            "Requirement already satisfied: pytz>=2017.2 in /usr/local/lib/python3.6/dist-packages (from pandas>=0.23.4->dask-ml) (2018.9)\n",
            "Requirement already satisfied: pyparsing>=2.0.2 in /usr/local/lib/python3.6/dist-packages (from packaging->dask-ml) (2.4.7)\n",
            "Requirement already satisfied: tornado>=5; python_version < \"3.8\" in /usr/local/lib/python3.6/dist-packages (from distributed>=2.4.0->dask-ml) (6.0.4)\n",
            "Requirement already satisfied: zict>=0.1.3 in /usr/local/lib/python3.6/dist-packages (from distributed>=2.4.0->dask-ml) (2.0.0)\n",
            "Requirement already satisfied: contextvars; python_version < \"3.7\" in /usr/local/lib/python3.6/dist-packages (from distributed>=2.4.0->dask-ml) (2.4)\n",
            "Requirement already satisfied: click>=6.6 in /usr/local/lib/python3.6/dist-packages (from distributed>=2.4.0->dask-ml) (7.1.2)\n",
            "Requirement already satisfied: psutil>=5.0 in /usr/local/lib/python3.6/dist-packages (from distributed>=2.4.0->dask-ml) (5.4.8)\n",
            "Requirement already satisfied: msgpack>=0.6.0 in /usr/local/lib/python3.6/dist-packages (from distributed>=2.4.0->dask-ml) (1.0.0)\n",
            "Requirement already satisfied: tblib>=1.6.0 in /usr/local/lib/python3.6/dist-packages (from distributed>=2.4.0->dask-ml) (1.6.0)\n",
            "Requirement already satisfied: pyyaml in /usr/local/lib/python3.6/dist-packages (from distributed>=2.4.0->dask-ml) (3.13)\n",
            "Requirement already satisfied: sortedcontainers!=2.0.0,!=2.0.1 in /usr/local/lib/python3.6/dist-packages (from distributed>=2.4.0->dask-ml) (2.1.0)\n",
            "Requirement already satisfied: heapdict in /usr/local/lib/python3.6/dist-packages (from zict>=0.1.3->distributed>=2.4.0->dask-ml) (1.0.1)\n",
            "Requirement already satisfied: immutables>=0.9 in /usr/local/lib/python3.6/dist-packages (from contextvars; python_version < \"3.7\"->distributed>=2.4.0->dask-ml) (0.14)\n",
            "Requirement already satisfied: scikit-mdr in /usr/local/lib/python3.6/dist-packages (0.4.4)\n",
            "Requirement already satisfied: skrebate in /usr/local/lib/python3.6/dist-packages (0.6)\n",
            "Requirement already satisfied: scipy in /usr/local/lib/python3.6/dist-packages (from scikit-mdr) (1.4.1)\n",
            "Requirement already satisfied: numpy in /usr/local/lib/python3.6/dist-packages (from scikit-mdr) (1.18.4)\n",
            "Requirement already satisfied: scikit-learn in /usr/local/lib/python3.6/dist-packages (from scikit-mdr) (0.23.1)\n",
            "Requirement already satisfied: matplotlib in /usr/local/lib/python3.6/dist-packages (from scikit-mdr) (3.2.1)\n",
            "Requirement already satisfied: threadpoolctl>=2.0.0 in /usr/local/lib/python3.6/dist-packages (from scikit-learn->scikit-mdr) (2.0.0)\n",
            "Requirement already satisfied: joblib>=0.11 in /usr/local/lib/python3.6/dist-packages (from scikit-learn->scikit-mdr) (0.15.1)\n",
            "Requirement already satisfied: python-dateutil>=2.1 in /usr/local/lib/python3.6/dist-packages (from matplotlib->scikit-mdr) (2.8.1)\n",
            "Requirement already satisfied: pyparsing!=2.0.4,!=2.1.2,!=2.1.6,>=2.0.1 in /usr/local/lib/python3.6/dist-packages (from matplotlib->scikit-mdr) (2.4.7)\n",
            "Requirement already satisfied: kiwisolver>=1.0.1 in /usr/local/lib/python3.6/dist-packages (from matplotlib->scikit-mdr) (1.2.0)\n",
            "Requirement already satisfied: cycler>=0.10 in /usr/local/lib/python3.6/dist-packages (from matplotlib->scikit-mdr) (0.10.0)\n",
            "Requirement already satisfied: six>=1.5 in /usr/local/lib/python3.6/dist-packages (from python-dateutil>=2.1->matplotlib->scikit-mdr) (1.12.0)\n",
            "Requirement already satisfied: tpot in /usr/local/lib/python3.6/dist-packages (0.11.3)\n",
            "Requirement already satisfied: joblib>=0.13.2 in /usr/local/lib/python3.6/dist-packages (from tpot) (0.15.1)\n",
            "Requirement already satisfied: stopit>=1.1.1 in /usr/local/lib/python3.6/dist-packages (from tpot) (1.1.2)\n",
            "Requirement already satisfied: deap>=1.2 in /usr/local/lib/python3.6/dist-packages (from tpot) (1.3.1)\n",
            "Requirement already satisfied: scipy>=1.3.1 in /usr/local/lib/python3.6/dist-packages (from tpot) (1.4.1)\n",
            "Requirement already satisfied: scikit-learn>=0.22.0 in /usr/local/lib/python3.6/dist-packages (from tpot) (0.23.1)\n",
            "Requirement already satisfied: update-checker>=0.16 in /usr/local/lib/python3.6/dist-packages (from tpot) (0.17)\n",
            "Requirement already satisfied: pandas>=0.24.2 in /usr/local/lib/python3.6/dist-packages (from tpot) (1.0.3)\n",
            "Requirement already satisfied: tqdm>=4.36.1 in /usr/local/lib/python3.6/dist-packages (from tpot) (4.41.1)\n",
            "Requirement already satisfied: numpy>=1.16.3 in /usr/local/lib/python3.6/dist-packages (from tpot) (1.18.4)\n",
            "Requirement already satisfied: threadpoolctl>=2.0.0 in /usr/local/lib/python3.6/dist-packages (from scikit-learn>=0.22.0->tpot) (2.0.0)\n",
            "Requirement already satisfied: requests>=2.3.0 in /usr/local/lib/python3.6/dist-packages (from update-checker>=0.16->tpot) (2.23.0)\n",
            "Requirement already satisfied: pytz>=2017.2 in /usr/local/lib/python3.6/dist-packages (from pandas>=0.24.2->tpot) (2018.9)\n",
            "Requirement already satisfied: python-dateutil>=2.6.1 in /usr/local/lib/python3.6/dist-packages (from pandas>=0.24.2->tpot) (2.8.1)\n",
            "Requirement already satisfied: idna<3,>=2.5 in /usr/local/lib/python3.6/dist-packages (from requests>=2.3.0->update-checker>=0.16->tpot) (2.9)\n",
            "Requirement already satisfied: chardet<4,>=3.0.2 in /usr/local/lib/python3.6/dist-packages (from requests>=2.3.0->update-checker>=0.16->tpot) (3.0.4)\n",
            "Requirement already satisfied: certifi>=2017.4.17 in /usr/local/lib/python3.6/dist-packages (from requests>=2.3.0->update-checker>=0.16->tpot) (2020.4.5.1)\n",
            "Requirement already satisfied: urllib3!=1.25.0,!=1.25.1,<1.26,>=1.21.1 in /usr/local/lib/python3.6/dist-packages (from requests>=2.3.0->update-checker>=0.16->tpot) (1.24.3)\n",
            "Requirement already satisfied: six>=1.5 in /usr/local/lib/python3.6/dist-packages (from python-dateutil>=2.6.1->pandas>=0.24.2->tpot) (1.12.0)\n",
            "Requirement already satisfied: pmlb in /usr/local/lib/python3.6/dist-packages (0.3)\n",
            "Requirement already satisfied: pandas in /usr/local/lib/python3.6/dist-packages (from pmlb) (1.0.3)\n",
            "Requirement already satisfied: numpy>=1.13.3 in /usr/local/lib/python3.6/dist-packages (from pandas->pmlb) (1.18.4)\n",
            "Requirement already satisfied: python-dateutil>=2.6.1 in /usr/local/lib/python3.6/dist-packages (from pandas->pmlb) (2.8.1)\n",
            "Requirement already satisfied: pytz>=2017.2 in /usr/local/lib/python3.6/dist-packages (from pandas->pmlb) (2018.9)\n",
            "Requirement already satisfied: six>=1.5 in /usr/local/lib/python3.6/dist-packages (from python-dateutil>=2.6.1->pandas->pmlb) (1.12.0)\n",
            "Requirement already satisfied: pytictoc in /usr/local/lib/python3.6/dist-packages (1.5.0)\n"
          ],
          "name": "stdout"
        }
      ]
    },
    {
      "cell_type": "code",
      "metadata": {
        "id": "ItC7HSko9TKN",
        "colab_type": "code",
        "outputId": "585215f4-dce2-4763-c098-dfc3569cd891",
        "colab": {
          "base_uri": "https://localhost:8080/",
          "height": 35
        }
      },
      "source": [
        "%matplotlib inline\n",
        "from sklearn.metrics import roc_curve, precision_recall_curve, auc\n",
        "import matplotlib.pyplot as plt\n",
        "import numpy as np\n",
        "\n",
        "\n",
        "\n",
        "def get_auc(labels, scores):\n",
        "    fpr, tpr, thresholds = roc_curve(labels, scores)\n",
        "    auc_score = auc(fpr, tpr)\n",
        "    return fpr, tpr, auc_score\n",
        "\n",
        "\n",
        "def get_aucpr(labels, scores):\n",
        "    precision, recall, th = precision_recall_curve(labels, scores)\n",
        "    aucpr_score = np.trapz(recall, precision)\n",
        "    return precision, recall, aucpr_score\n",
        "\n",
        "\n",
        "def plot_metric(ax, x, y, x_label, y_label, plot_label, style=\"-\"):\n",
        "    ax.plot(x, y, style, label=plot_label)\n",
        "    ax.legend()\n",
        "    \n",
        "    ax.set_ylabel(x_label)\n",
        "    ax.set_xlabel(y_label)\n",
        "\n",
        "\n",
        "def prediction_summary(labels, predicted_score, info, plot_baseline=True, axes=None):\n",
        "    if axes is None:\n",
        "        axes = [plt.subplot(1, 2, 1), plt.subplot(1, 2, 2)]\n",
        "\n",
        "    fpr, tpr, auc_score = get_auc(labels, predicted_score)\n",
        "    plot_metric(axes[0], fpr, tpr, \"False positive rate\",\"True positive rate\", \"{} AUC = {:.4f}\".format(info, auc_score))\n",
        "    if plot_baseline:\n",
        "        plot_metric(axes[0], [0, 1], [0, 1], \"False positive rate\",\"True positive rate\", \"baseline AUC = 0.5\", \"r--\")\n",
        "\n",
        "    precision, recall, aucpr_score = get_aucpr(labels, predicted_score)\n",
        "    plot_metric(axes[1], recall, precision, \"Recall\",\"Precision\", \"{} AUCPR = {:.4f}\".format(info, aucpr_score))\n",
        "    if plot_baseline:\n",
        "        thr = (np.sum(labels)/len(labels))[0]\n",
        "        plot_metric(axes[1], [0, 1], [thr, thr], \"Recall\",\"Precision\", \"baseline AUCPR = {:.4f}\".format(thr), \"r--\")\n",
        "\n",
        "    plt.show()\n",
        "    return axes\n",
        "\n",
        "\n",
        "def figure():\n",
        "    fig_size = 4.5\n",
        "    f = plt.figure()\n",
        "    f.set_figheight(fig_size)\n",
        "    f.set_figwidth(fig_size*2)\n",
        "\n",
        "figure()"
      ],
      "execution_count": 6,
      "outputs": [
        {
          "output_type": "display_data",
          "data": {
            "text/plain": [
              "<Figure size 648x324 with 0 Axes>"
            ]
          },
          "metadata": {
            "tags": []
          }
        }
      ]
    },
    {
      "cell_type": "code",
      "metadata": {
        "id": "UXznw3dS9XCa",
        "colab_type": "code",
        "colab": {}
      },
      "source": [
        "from sklearn.metrics import accuracy_score, roc_auc_score, confusion_matrix, f1_score, log_loss\n",
        "import numpy as np\n",
        "import pandas as pd\n",
        "\n",
        "\n",
        "class CheckBinomial:\n",
        "  def __init__(self, checkunique):\n",
        "    self._bintype = 'binomial' if pd.Series(checkunique).nunique() == 2 else 'multinomial'\n",
        "\n",
        "  def MLMetrics(self):\n",
        "    if self._bintype == 'binomial':\n",
        "      return ['accuracy', 'roc_auc', 'neg_log_loss']\n",
        "    elif self._bintype == 'multinomial':\n",
        "      return ['accuracy', 'neg_log_loss']\n",
        "\n",
        "class MetricsCalc:\n",
        "  def __init__(self, truth, predictions, probab, dattype):\n",
        "    self.truth = truth\n",
        "    self.predictions = predictions\n",
        "    self._target = predictions\n",
        "    self._probabmax = np.max(probab, axis=1)\n",
        "    self._probab = probab\n",
        "    self._type = dattype\n",
        "\n",
        "  def acc(self):\n",
        "    return float(accuracy_score(self.truth,self._target))\n",
        "\n",
        "  def auc(self):\n",
        "    if self._type == \"binomial\":\n",
        "      return float(roc_auc_score(self.truth, self._probabmax))\n",
        "    elif self._type == \"multinomial\":\n",
        "      return np.nan \n",
        "\n",
        "  def logloss(self):\n",
        "    return float(log_loss(self.truth, self._probab))\n",
        "  \n",
        "  def cm(self):\n",
        "    return confusion_matrix(self.truth, self._target)\n",
        "  \n",
        "  def f1(self):\n",
        "    if self._type == \"binomial\":\n",
        "      return float(f1_score(self.truth, self._target, average='binary'))\n",
        "    elif self._type == \"multinomial\":\n",
        "      return float(f1_score(self.truth, self._target, average='macro'))"
      ],
      "execution_count": 0,
      "outputs": []
    },
    {
      "cell_type": "code",
      "metadata": {
        "id": "NODrDIYu9aA6",
        "colab_type": "code",
        "outputId": "f4999a29-be2b-4243-e6ea-31534f800a18",
        "colab": {
          "base_uri": "https://localhost:8080/",
          "height": 1000
        }
      },
      "source": [
        "from pmlb import classification_dataset_names, regression_dataset_names,fetch_data\n",
        "from tpot import TPOTClassifier, TPOTRegressor\n",
        "from sklearn.model_selection import train_test_split\n",
        "from pytictoc import TicToc\n",
        "import pandas as pd\n",
        "\n",
        "df_result = pd.DataFrame(columns=[\"dataset_name\", \"metrics_recorded\", \"AUC\", \"ACC\",\"logloss\", \"f1_score\"])\n",
        "\n",
        "preds = {}\n",
        "preds_prob = {}\n",
        "cm_preds = {}\n",
        "top_algo = {}\n",
        "t = TicToc()\n",
        "\n",
        "\n",
        "sel_clss_dtst = ['adult','agaricus-lepiota', 'churn', 'nursery', 'satimage','texture']\n",
        "sel_rgrs_dtst = ['294_satellite_image','218_house_8L', '227_cpu_small', '503_wind', '344_mv','215_2dplanes']\n",
        "\n",
        "ix = 0\n",
        "\n",
        "for class_dtst in sel_clss_dtst:\n",
        "  for metrics_test in ['accuracy']:\n",
        "        print(\"_\"*80)\n",
        "        print(f\"*** Dataset Name: {class_dtst} ***\")\n",
        "        df_result.loc[ix,\"dataset_name\"] = class_dtst\n",
        "        df_result.loc[ix,\"metrics_recorded\"] = metrics_test\n",
        "        X, y = fetch_data(class_dtst, return_X_y=True)\n",
        "        c=CheckBinomial(y)\n",
        "        X_train, X_test, y_train, y_test = train_test_split(X, y, test_size=0.1, random_state=69, stratify=y)\n",
        "        X_train = pd.DataFrame(X_train)\n",
        "        X_test = pd.DataFrame(X_test)\n",
        "        y_train = pd.DataFrame(y_train).values.ravel()\n",
        "        y_test = pd.DataFrame(y_test).values.ravel()\n",
        "        list_metrics = c.MLMetrics()\n",
        "        tpot = TPOTClassifier(random_state=69, max_time_mins=30, n_jobs=4,  scoring=metrics_test if metrics_test in list_metrics else None)\n",
        "        t.tic()\n",
        "        tpot.fit(X_train,y_train)\n",
        "        t.toc()\n",
        "        top_algo[class_dtst] = [v[0] for i, v in tpot.pareto_front_fitted_pipelines_.items()][0]\n",
        "        print(\"*** Top algorithm: ***\", [v[0] for i, v in tpot.pareto_front_fitted_pipelines_.items()][0])\n",
        "        preds[class_dtst] = tpot.predict(X_test)\n",
        "        preds_prob[class_dtst] = tpot.predict_proba(X_test)\n",
        "        p = MetricsCalc(y_test,preds[class_dtst], preds_prob[class_dtst], c._bintype )\n",
        "        if c._bintype == \"binomial\":\n",
        "          df_result.loc[ix,\"AUC\"] = p.auc()\n",
        "          df_result.loc[ix,\"ACC\"] = p.acc()\n",
        "          df_result.loc[ix,\"logloss\"] = p.logloss()\n",
        "          cm_preds[class_dtst] = p.cm()\n",
        "          df_result.loc[ix,\"f1_score\"] = p.f1()\n",
        "          prediction_summary( pd.DataFrame(y_test), preds[class_dtst], \"tpot\")\n",
        "          ix+=1\n",
        "        elif c._bintype == \"multinomial\":\n",
        "          df_result.loc[ix,\"AUC\"] = p.auc()\n",
        "          df_result.loc[ix,\"ACC\"] = p.acc()\n",
        "          df_result.loc[ix,\"logloss\"] = p.logloss()\n",
        "          cm_preds[class_dtst] = p.cm()\n",
        "          df_result.loc[ix,\"f1_score\"] = p.f1()\n",
        "          ix+=1"
      ],
      "execution_count": 8,
      "outputs": [
        {
          "output_type": "stream",
          "text": [
            "________________________________________________________________________________\n",
            "*** Dataset Name: adult ***\n",
            "Elapsed time is 1947.228389 seconds.\n",
            "*** Top algorithm: *** GradientBoostingClassifier(max_depth=6, max_features=0.7500000000000001,\n",
            "                           min_samples_leaf=19, min_samples_split=6,\n",
            "                           random_state=69, subsample=0.8)\n"
          ],
          "name": "stdout"
        },
        {
          "output_type": "display_data",
          "data": {
            "image/png": "[encoded data removed]",
            "text/plain": [
              "<Figure size 432x288 with 2 Axes>"
            ]
          },
          "metadata": {
            "tags": [],
            "needs_background": "light"
          }
        },
        {
          "output_type": "stream",
          "text": [
            "________________________________________________________________________________\n",
            "*** Dataset Name: agaricus-lepiota ***\n",
            "Elapsed time is 1800.592325 seconds.\n",
            "*** Top algorithm: *** KNeighborsClassifier(n_neighbors=3, p=1)\n"
          ],
          "name": "stdout"
        },
        {
          "output_type": "display_data",
          "data": {
            "image/png": "[encoded data removed]",
            "text/plain": [
              "<Figure size 432x288 with 2 Axes>"
            ]
          },
          "metadata": {
            "tags": [],
            "needs_background": "light"
          }
        },
        {
          "output_type": "stream",
          "text": [
            "________________________________________________________________________________\n",
            "*** Dataset Name: churn ***\n",
            "Elapsed time is 1832.255078 seconds.\n",
            "*** Top algorithm: *** ExtraTreesClassifier(bootstrap=True, criterion='entropy', max_features=1.0,\n",
            "                     min_samples_leaf=5, min_samples_split=8, random_state=69)\n"
          ],
          "name": "stdout"
        },
        {
          "output_type": "display_data",
          "data": {
            "image/png": "[encoded data removed]",
            "text/plain": [
              "<Figure size 432x288 with 2 Axes>"
            ]
          },
          "metadata": {
            "tags": [],
            "needs_background": "light"
          }
        },
        {
          "output_type": "stream",
          "text": [
            "________________________________________________________________________________\n",
            "*** Dataset Name: nursery ***\n",
            "Elapsed time is 1841.682656 seconds.\n",
            "*** Top algorithm: *** XGBClassifier(learning_rate=1.0, max_depth=6, min_child_weight=5, nthread=1,\n",
            "              objective='multi:softprob', random_state=69,\n",
            "              subsample=0.6500000000000001)\n",
            "________________________________________________________________________________\n",
            "*** Dataset Name: satimage ***\n",
            "Elapsed time is 1941.319076 seconds.\n",
            "*** Top algorithm: *** XGBClassifier(learning_rate=0.5, max_depth=10, nthread=1,\n",
            "              objective='multi:softprob', random_state=69,\n",
            "              subsample=0.7000000000000001)\n",
            "________________________________________________________________________________\n",
            "*** Dataset Name: texture ***\n",
            "Elapsed time is 1818.097945 seconds.\n",
            "*** Top algorithm: *** LinearSVC(C=5.0, random_state=69)\n"
          ],
          "name": "stdout"
        },
        {
          "output_type": "error",
          "ename": "RuntimeError",
          "evalue": "ignored",
          "traceback": [
            "\u001b[0;31m---------------------------------------------------------------------------\u001b[0m",
            "\u001b[0;31mRuntimeError\u001b[0m                              Traceback (most recent call last)",
            "\u001b[0;32m<ipython-input-8-81cb6ad31e5e>\u001b[0m in \u001b[0;36m<module>\u001b[0;34m()\u001b[0m\n\u001b[1;32m     40\u001b[0m         \u001b[0mprint\u001b[0m\u001b[0;34m(\u001b[0m\u001b[0;34m\"*** Top algorithm: ***\"\u001b[0m\u001b[0;34m,\u001b[0m \u001b[0;34m[\u001b[0m\u001b[0mv\u001b[0m\u001b[0;34m[\u001b[0m\u001b[0;36m0\u001b[0m\u001b[0;34m]\u001b[0m \u001b[0;32mfor\u001b[0m \u001b[0mi\u001b[0m\u001b[0;34m,\u001b[0m \u001b[0mv\u001b[0m \u001b[0;32min\u001b[0m \u001b[0mtpot\u001b[0m\u001b[0;34m.\u001b[0m\u001b[0mpareto_front_fitted_pipelines_\u001b[0m\u001b[0;34m.\u001b[0m\u001b[0mitems\u001b[0m\u001b[0;34m(\u001b[0m\u001b[0;34m)\u001b[0m\u001b[0;34m]\u001b[0m\u001b[0;34m[\u001b[0m\u001b[0;36m0\u001b[0m\u001b[0;34m]\u001b[0m\u001b[0;34m)\u001b[0m\u001b[0;34m\u001b[0m\u001b[0;34m\u001b[0m\u001b[0m\n\u001b[1;32m     41\u001b[0m         \u001b[0mpreds\u001b[0m\u001b[0;34m[\u001b[0m\u001b[0mclass_dtst\u001b[0m\u001b[0;34m]\u001b[0m \u001b[0;34m=\u001b[0m \u001b[0mtpot\u001b[0m\u001b[0;34m.\u001b[0m\u001b[0mpredict\u001b[0m\u001b[0;34m(\u001b[0m\u001b[0mX_test\u001b[0m\u001b[0;34m)\u001b[0m\u001b[0;34m\u001b[0m\u001b[0;34m\u001b[0m\u001b[0m\n\u001b[0;32m---> 42\u001b[0;31m         \u001b[0mpreds_prob\u001b[0m\u001b[0;34m[\u001b[0m\u001b[0mclass_dtst\u001b[0m\u001b[0;34m]\u001b[0m \u001b[0;34m=\u001b[0m \u001b[0mtpot\u001b[0m\u001b[0;34m.\u001b[0m\u001b[0mpredict_proba\u001b[0m\u001b[0;34m(\u001b[0m\u001b[0mX_test\u001b[0m\u001b[0;34m)\u001b[0m\u001b[0;34m\u001b[0m\u001b[0;34m\u001b[0m\u001b[0m\n\u001b[0m\u001b[1;32m     43\u001b[0m         \u001b[0mp\u001b[0m \u001b[0;34m=\u001b[0m \u001b[0mMetricsCalc\u001b[0m\u001b[0;34m(\u001b[0m\u001b[0my_test\u001b[0m\u001b[0;34m,\u001b[0m\u001b[0mpreds\u001b[0m\u001b[0;34m[\u001b[0m\u001b[0mclass_dtst\u001b[0m\u001b[0;34m]\u001b[0m\u001b[0;34m,\u001b[0m \u001b[0mpreds_prob\u001b[0m\u001b[0;34m[\u001b[0m\u001b[0mclass_dtst\u001b[0m\u001b[0;34m]\u001b[0m\u001b[0;34m,\u001b[0m \u001b[0mc\u001b[0m\u001b[0;34m.\u001b[0m\u001b[0m_bintype\u001b[0m \u001b[0;34m)\u001b[0m\u001b[0;34m\u001b[0m\u001b[0;34m\u001b[0m\u001b[0m\n\u001b[1;32m     44\u001b[0m         \u001b[0;32mif\u001b[0m \u001b[0mc\u001b[0m\u001b[0;34m.\u001b[0m\u001b[0m_bintype\u001b[0m \u001b[0;34m==\u001b[0m \u001b[0;34m\"binomial\"\u001b[0m\u001b[0;34m:\u001b[0m\u001b[0;34m\u001b[0m\u001b[0;34m\u001b[0m\u001b[0m\n",
            "\u001b[0;32m/usr/local/lib/python3.6/dist-packages/tpot/base.py\u001b[0m in \u001b[0;36mpredict_proba\u001b[0;34m(self, features)\u001b[0m\n\u001b[1;32m    968\u001b[0m         \u001b[0;32melse\u001b[0m\u001b[0;34m:\u001b[0m\u001b[0;34m\u001b[0m\u001b[0;34m\u001b[0m\u001b[0m\n\u001b[1;32m    969\u001b[0m             \u001b[0;32mif\u001b[0m \u001b[0;32mnot\u001b[0m \u001b[0;34m(\u001b[0m\u001b[0mhasattr\u001b[0m\u001b[0;34m(\u001b[0m\u001b[0mself\u001b[0m\u001b[0;34m.\u001b[0m\u001b[0mfitted_pipeline_\u001b[0m\u001b[0;34m,\u001b[0m \u001b[0;34m'predict_proba'\u001b[0m\u001b[0;34m)\u001b[0m\u001b[0;34m)\u001b[0m\u001b[0;34m:\u001b[0m\u001b[0;34m\u001b[0m\u001b[0;34m\u001b[0m\u001b[0m\n\u001b[0;32m--> 970\u001b[0;31m                 \u001b[0;32mraise\u001b[0m \u001b[0mRuntimeError\u001b[0m\u001b[0;34m(\u001b[0m\u001b[0;34m'The fitted pipeline does not have the predict_proba() function.'\u001b[0m\u001b[0;34m)\u001b[0m\u001b[0;34m\u001b[0m\u001b[0;34m\u001b[0m\u001b[0m\n\u001b[0m\u001b[1;32m    971\u001b[0m \u001b[0;34m\u001b[0m\u001b[0m\n\u001b[1;32m    972\u001b[0m             \u001b[0mfeatures\u001b[0m \u001b[0;34m=\u001b[0m \u001b[0mself\u001b[0m\u001b[0;34m.\u001b[0m\u001b[0m_check_dataset\u001b[0m\u001b[0;34m(\u001b[0m\u001b[0mfeatures\u001b[0m\u001b[0;34m,\u001b[0m \u001b[0mtarget\u001b[0m\u001b[0;34m=\u001b[0m\u001b[0;32mNone\u001b[0m\u001b[0;34m,\u001b[0m \u001b[0msample_weight\u001b[0m\u001b[0;34m=\u001b[0m\u001b[0;32mNone\u001b[0m\u001b[0;34m)\u001b[0m\u001b[0;34m\u001b[0m\u001b[0;34m\u001b[0m\u001b[0m\n",
            "\u001b[0;31mRuntimeError\u001b[0m: The fitted pipeline does not have the predict_proba() function."
          ]
        }
      ]
    },
    {
      "cell_type": "code",
      "metadata": {
        "id": "4D-iUG-4WwAq",
        "colab_type": "code",
        "colab": {}
      },
      "source": [
        "for i, val in enumerate(preds):\n",
        "  print(preds[val])"
      ],
      "execution_count": 0,
      "outputs": []
    },
    {
      "cell_type": "code",
      "metadata": {
        "id": "jsSUCZ8NKEmW",
        "colab_type": "code",
        "colab": {}
      },
      "source": [
        "for i, val in enumerate(preds):\n",
        "  pd.DataFrame(preds[val]).to_csv(f\"{val}.csv\")"
      ],
      "execution_count": 0,
      "outputs": []
    },
    {
      "cell_type": "code",
      "metadata": {
        "id": "K2NZZymmPb-a",
        "colab_type": "code",
        "outputId": "7a336159-bfcd-4bf4-b90d-b6df933b78fb",
        "colab": {
          "base_uri": "https://localhost:8080/",
          "height": 238
        }
      },
      "source": [
        "df_result"
      ],
      "execution_count": 9,
      "outputs": [
        {
          "output_type": "execute_result",
          "data": {
            "text/html": [
              "<div>\n",
              "<style scoped>\n",
              "    .dataframe tbody tr th:only-of-type {\n",
              "        vertical-align: middle;\n",
              "    }\n",
              "\n",
              "    .dataframe tbody tr th {\n",
              "        vertical-align: top;\n",
              "    }\n",
              "\n",
              "    .dataframe thead th {\n",
              "        text-align: right;\n",
              "    }\n",
              "</style>\n",
              "<table border=\"1\" class=\"dataframe\">\n",
              "  <thead>\n",
              "    <tr style=\"text-align: right;\">\n",
              "      <th></th>\n",
              "      <th>dataset_name</th>\n",
              "      <th>metrics_recorded</th>\n",
              "      <th>AUC</th>\n",
              "      <th>ACC</th>\n",
              "      <th>logloss</th>\n",
              "      <th>f1_score</th>\n",
              "    </tr>\n",
              "  </thead>\n",
              "  <tbody>\n",
              "    <tr>\n",
              "      <th>0</th>\n",
              "      <td>adult</td>\n",
              "      <td>accuracy</td>\n",
              "      <td>0.724808</td>\n",
              "      <td>0.875128</td>\n",
              "      <td>0.278358</td>\n",
              "      <td>0.920532</td>\n",
              "    </tr>\n",
              "    <tr>\n",
              "      <th>1</th>\n",
              "      <td>agaricus-lepiota</td>\n",
              "      <td>accuracy</td>\n",
              "      <td>0.5</td>\n",
              "      <td>1</td>\n",
              "      <td>9.99201e-16</td>\n",
              "      <td>1</td>\n",
              "    </tr>\n",
              "    <tr>\n",
              "      <th>2</th>\n",
              "      <td>churn</td>\n",
              "      <td>accuracy</td>\n",
              "      <td>0.249647</td>\n",
              "      <td>0.958</td>\n",
              "      <td>0.161309</td>\n",
              "      <td>0.832</td>\n",
              "    </tr>\n",
              "    <tr>\n",
              "      <th>3</th>\n",
              "      <td>nursery</td>\n",
              "      <td>accuracy</td>\n",
              "      <td>NaN</td>\n",
              "      <td>1</td>\n",
              "      <td>0.0074406</td>\n",
              "      <td>1</td>\n",
              "    </tr>\n",
              "    <tr>\n",
              "      <th>4</th>\n",
              "      <td>satimage</td>\n",
              "      <td>accuracy</td>\n",
              "      <td>NaN</td>\n",
              "      <td>0.934783</td>\n",
              "      <td>0.660941</td>\n",
              "      <td>0.921074</td>\n",
              "    </tr>\n",
              "    <tr>\n",
              "      <th>5</th>\n",
              "      <td>texture</td>\n",
              "      <td>accuracy</td>\n",
              "      <td>NaN</td>\n",
              "      <td>NaN</td>\n",
              "      <td>NaN</td>\n",
              "      <td>NaN</td>\n",
              "    </tr>\n",
              "  </tbody>\n",
              "</table>\n",
              "</div>"
            ],
            "text/plain": [
              "       dataset_name metrics_recorded       AUC       ACC      logloss  f1_score\n",
              "0             adult         accuracy  0.724808  0.875128     0.278358  0.920532\n",
              "1  agaricus-lepiota         accuracy       0.5         1  9.99201e-16         1\n",
              "2             churn         accuracy  0.249647     0.958     0.161309     0.832\n",
              "3           nursery         accuracy       NaN         1    0.0074406         1\n",
              "4          satimage         accuracy       NaN  0.934783     0.660941  0.921074\n",
              "5           texture         accuracy       NaN       NaN          NaN       NaN"
            ]
          },
          "metadata": {
            "tags": []
          },
          "execution_count": 9
        }
      ]
    },
    {
      "cell_type": "code",
      "metadata": {
        "id": "3coeqePkKIIr",
        "colab_type": "code",
        "colab": {}
      },
      "source": [
        "import pprint\n",
        "pprint.pprint(cm_preds)"
      ],
      "execution_count": 0,
      "outputs": []
    },
    {
      "cell_type": "code",
      "metadata": {
        "id": "lqh5gbfJfHfP",
        "colab_type": "code",
        "outputId": "4da81ca4-1ac2-4b8d-d209-2bf1610a335f",
        "colab": {
          "base_uri": "https://localhost:8080/",
          "height": 256
        }
      },
      "source": [
        "top_algo"
      ],
      "execution_count": 10,
      "outputs": [
        {
          "output_type": "execute_result",
          "data": {
            "text/plain": [
              "{'adult': GradientBoostingClassifier(max_depth=6, max_features=0.7500000000000001,\n",
              "                            min_samples_leaf=19, min_samples_split=6,\n",
              "                            random_state=69, subsample=0.8),\n",
              " 'agaricus-lepiota': KNeighborsClassifier(n_neighbors=3, p=1),\n",
              " 'churn': ExtraTreesClassifier(bootstrap=True, criterion='entropy', max_features=1.0,\n",
              "                      min_samples_leaf=5, min_samples_split=8, random_state=69),\n",
              " 'nursery': XGBClassifier(learning_rate=1.0, max_depth=6, min_child_weight=5, nthread=1,\n",
              "               objective='multi:softprob', random_state=69,\n",
              "               subsample=0.6500000000000001),\n",
              " 'satimage': XGBClassifier(learning_rate=0.5, max_depth=10, nthread=1,\n",
              "               objective='multi:softprob', random_state=69,\n",
              "               subsample=0.7000000000000001),\n",
              " 'texture': LinearSVC(C=5.0, random_state=69)}"
            ]
          },
          "metadata": {
            "tags": []
          },
          "execution_count": 10
        }
      ]
    },
    {
      "cell_type": "code",
      "metadata": {
        "id": "au58WlmrGax-",
        "colab_type": "code",
        "colab": {}
      },
      "source": [
        "from google.colab import files\n",
        "df_result.to_csv(\"data_2.csv\")\n",
        "#files.download('data_2.csv')\n",
        "\n",
        "\n",
        "\n",
        "with open('data_2.txt', 'w') as f:\n",
        "    f.write(str(top_algo))\n",
        "\n",
        "#files.download('data_2.txt')"
      ],
      "execution_count": 0,
      "outputs": []
    }
  ]
}
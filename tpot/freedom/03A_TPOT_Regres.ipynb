{
  "nbformat": 4,
  "nbformat_minor": 0,
  "metadata": {
    "colab": {
      "name": "03A_TPOT_Class.ipynb",
      "provenance": [],
      "include_colab_link": true
    },
    "kernelspec": {
      "name": "python3",
      "display_name": "Python 3"
    }
  },
  "cells": [
    {
      "cell_type": "markdown",
      "metadata": {
        "id": "view-in-github",
        "colab_type": "text"
      },
      "source": [
        "<a href=\"https://colab.research.google.com/github/raffieeey/MasterResearchAutoML/blob/master/tpot/freedom/03A_TPOT_Regres.ipynb\" target=\"_parent\"><img src=\"https://colab.research.google.com/assets/colab-badge.svg\" alt=\"Open In Colab\"/></a>"
      ]
    },
    {
      "cell_type": "code",
      "metadata": {
        "id": "89CD_mTpmWuK",
        "colab_type": "code",
        "outputId": "a9edf761-b2b6-4f99-f400-45c9e073f3a4",
        "colab": {
          "base_uri": "https://localhost:8080/",
          "height": 1000
        }
      },
      "source": [
        "!pip install numpy scipy scikit-learn pandas joblib\n",
        "!pip install deap update_checker tqdm stopit\n",
        "!pip install xgboost\n",
        "!pip install dask[delayed] dask-ml\n",
        "!pip install scikit-mdr skrebate\n",
        "!pip install tpot\n",
        "!pip install pmlb\n",
        "!pip install pytictoc"
      ],
      "execution_count": 3,
      "outputs": [
        {
          "output_type": "stream",
          "text": [
            "Requirement already satisfied: numpy in /usr/local/lib/python3.6/dist-packages (1.18.4)\n",
            "Requirement already satisfied: scipy in /usr/local/lib/python3.6/dist-packages (1.4.1)\n",
            "Requirement already satisfied: scikit-learn in /usr/local/lib/python3.6/dist-packages (0.23.1)\n",
            "Requirement already satisfied: pandas in /usr/local/lib/python3.6/dist-packages (1.0.3)\n",
            "Requirement already satisfied: joblib in /usr/local/lib/python3.6/dist-packages (0.15.1)\n",
            "Requirement already satisfied: threadpoolctl>=2.0.0 in /usr/local/lib/python3.6/dist-packages (from scikit-learn) (2.0.0)\n",
            "Requirement already satisfied: python-dateutil>=2.6.1 in /usr/local/lib/python3.6/dist-packages (from pandas) (2.8.1)\n",
            "Requirement already satisfied: pytz>=2017.2 in /usr/local/lib/python3.6/dist-packages (from pandas) (2018.9)\n",
            "Requirement already satisfied: six>=1.5 in /usr/local/lib/python3.6/dist-packages (from python-dateutil>=2.6.1->pandas) (1.12.0)\n",
            "Requirement already satisfied: deap in /usr/local/lib/python3.6/dist-packages (1.3.1)\n",
            "Requirement already satisfied: update_checker in /usr/local/lib/python3.6/dist-packages (0.17)\n",
            "Requirement already satisfied: tqdm in /usr/local/lib/python3.6/dist-packages (4.41.1)\n",
            "Requirement already satisfied: stopit in /usr/local/lib/python3.6/dist-packages (1.1.2)\n",
            "Requirement already satisfied: numpy in /usr/local/lib/python3.6/dist-packages (from deap) (1.18.4)\n",
            "Requirement already satisfied: requests>=2.3.0 in /usr/local/lib/python3.6/dist-packages (from update_checker) (2.23.0)\n",
            "Requirement already satisfied: idna<3,>=2.5 in /usr/local/lib/python3.6/dist-packages (from requests>=2.3.0->update_checker) (2.9)\n",
            "Requirement already satisfied: urllib3!=1.25.0,!=1.25.1,<1.26,>=1.21.1 in /usr/local/lib/python3.6/dist-packages (from requests>=2.3.0->update_checker) (1.24.3)\n",
            "Requirement already satisfied: certifi>=2017.4.17 in /usr/local/lib/python3.6/dist-packages (from requests>=2.3.0->update_checker) (2020.4.5.1)\n",
            "Requirement already satisfied: chardet<4,>=3.0.2 in /usr/local/lib/python3.6/dist-packages (from requests>=2.3.0->update_checker) (3.0.4)\n",
            "Requirement already satisfied: xgboost in /usr/local/lib/python3.6/dist-packages (0.90)\n",
            "Requirement already satisfied: numpy in /usr/local/lib/python3.6/dist-packages (from xgboost) (1.18.4)\n",
            "Requirement already satisfied: scipy in /usr/local/lib/python3.6/dist-packages (from xgboost) (1.4.1)\n",
            "Requirement already satisfied: dask[delayed] in /usr/local/lib/python3.6/dist-packages (2.12.0)\n",
            "Requirement already satisfied: dask-ml in /usr/local/lib/python3.6/dist-packages (1.5.0)\n",
            "Requirement already satisfied: cloudpickle>=0.2.1; extra == \"delayed\" in /usr/local/lib/python3.6/dist-packages (from dask[delayed]) (1.3.0)\n",
            "Requirement already satisfied: toolz>=0.7.3; extra == \"delayed\" in /usr/local/lib/python3.6/dist-packages (from dask[delayed]) (0.10.0)\n",
            "Requirement already satisfied: distributed>=2.4.0 in /usr/local/lib/python3.6/dist-packages (from dask-ml) (2.17.0)\n",
            "Requirement already satisfied: multipledispatch>=0.4.9 in /usr/local/lib/python3.6/dist-packages (from dask-ml) (0.6.0)\n",
            "Requirement already satisfied: numpy>=1.17.3 in /usr/local/lib/python3.6/dist-packages (from dask-ml) (1.18.4)\n",
            "Requirement already satisfied: numba in /usr/local/lib/python3.6/dist-packages (from dask-ml) (0.48.0)\n",
            "Requirement already satisfied: scikit-learn>=0.23 in /usr/local/lib/python3.6/dist-packages (from dask-ml) (0.23.1)\n",
            "Requirement already satisfied: pandas>=0.23.4 in /usr/local/lib/python3.6/dist-packages (from dask-ml) (1.0.3)\n",
            "Requirement already satisfied: packaging in /usr/local/lib/python3.6/dist-packages (from dask-ml) (20.4)\n",
            "Requirement already satisfied: scipy in /usr/local/lib/python3.6/dist-packages (from dask-ml) (1.4.1)\n",
            "Requirement already satisfied: dask-glm>=0.2.0 in /usr/local/lib/python3.6/dist-packages (from dask-ml) (0.2.0)\n",
            "Requirement already satisfied: pyyaml in /usr/local/lib/python3.6/dist-packages (from distributed>=2.4.0->dask-ml) (3.13)\n",
            "Requirement already satisfied: click>=6.6 in /usr/local/lib/python3.6/dist-packages (from distributed>=2.4.0->dask-ml) (7.1.2)\n",
            "Requirement already satisfied: tblib>=1.6.0 in /usr/local/lib/python3.6/dist-packages (from distributed>=2.4.0->dask-ml) (1.6.0)\n",
            "Requirement already satisfied: tornado>=5; python_version < \"3.8\" in /usr/local/lib/python3.6/dist-packages (from distributed>=2.4.0->dask-ml) (6.0.4)\n",
            "Requirement already satisfied: setuptools in /usr/local/lib/python3.6/dist-packages (from distributed>=2.4.0->dask-ml) (46.3.0)\n",
            "Requirement already satisfied: contextvars; python_version < \"3.7\" in /usr/local/lib/python3.6/dist-packages (from distributed>=2.4.0->dask-ml) (2.4)\n",
            "Requirement already satisfied: zict>=0.1.3 in /usr/local/lib/python3.6/dist-packages (from distributed>=2.4.0->dask-ml) (2.0.0)\n",
            "Requirement already satisfied: msgpack>=0.6.0 in /usr/local/lib/python3.6/dist-packages (from distributed>=2.4.0->dask-ml) (1.0.0)\n",
            "Requirement already satisfied: psutil>=5.0 in /usr/local/lib/python3.6/dist-packages (from distributed>=2.4.0->dask-ml) (5.4.8)\n",
            "Requirement already satisfied: sortedcontainers!=2.0.0,!=2.0.1 in /usr/local/lib/python3.6/dist-packages (from distributed>=2.4.0->dask-ml) (2.1.0)\n",
            "Requirement already satisfied: six in /usr/local/lib/python3.6/dist-packages (from multipledispatch>=0.4.9->dask-ml) (1.12.0)\n",
            "Requirement already satisfied: llvmlite<0.32.0,>=0.31.0dev0 in /usr/local/lib/python3.6/dist-packages (from numba->dask-ml) (0.31.0)\n",
            "Requirement already satisfied: threadpoolctl>=2.0.0 in /usr/local/lib/python3.6/dist-packages (from scikit-learn>=0.23->dask-ml) (2.0.0)\n",
            "Requirement already satisfied: joblib>=0.11 in /usr/local/lib/python3.6/dist-packages (from scikit-learn>=0.23->dask-ml) (0.15.1)\n",
            "Requirement already satisfied: python-dateutil>=2.6.1 in /usr/local/lib/python3.6/dist-packages (from pandas>=0.23.4->dask-ml) (2.8.1)\n",
            "Requirement already satisfied: pytz>=2017.2 in /usr/local/lib/python3.6/dist-packages (from pandas>=0.23.4->dask-ml) (2018.9)\n",
            "Requirement already satisfied: pyparsing>=2.0.2 in /usr/local/lib/python3.6/dist-packages (from packaging->dask-ml) (2.4.7)\n",
            "Requirement already satisfied: immutables>=0.9 in /usr/local/lib/python3.6/dist-packages (from contextvars; python_version < \"3.7\"->distributed>=2.4.0->dask-ml) (0.14)\n",
            "Requirement already satisfied: heapdict in /usr/local/lib/python3.6/dist-packages (from zict>=0.1.3->distributed>=2.4.0->dask-ml) (1.0.1)\n",
            "Requirement already satisfied: scikit-mdr in /usr/local/lib/python3.6/dist-packages (0.4.4)\n",
            "Requirement already satisfied: skrebate in /usr/local/lib/python3.6/dist-packages (0.6)\n",
            "Requirement already satisfied: numpy in /usr/local/lib/python3.6/dist-packages (from scikit-mdr) (1.18.4)\n",
            "Requirement already satisfied: scipy in /usr/local/lib/python3.6/dist-packages (from scikit-mdr) (1.4.1)\n",
            "Requirement already satisfied: matplotlib in /usr/local/lib/python3.6/dist-packages (from scikit-mdr) (3.2.1)\n",
            "Requirement already satisfied: scikit-learn in /usr/local/lib/python3.6/dist-packages (from scikit-mdr) (0.23.1)\n",
            "Requirement already satisfied: kiwisolver>=1.0.1 in /usr/local/lib/python3.6/dist-packages (from matplotlib->scikit-mdr) (1.2.0)\n",
            "Requirement already satisfied: cycler>=0.10 in /usr/local/lib/python3.6/dist-packages (from matplotlib->scikit-mdr) (0.10.0)\n",
            "Requirement already satisfied: python-dateutil>=2.1 in /usr/local/lib/python3.6/dist-packages (from matplotlib->scikit-mdr) (2.8.1)\n",
            "Requirement already satisfied: pyparsing!=2.0.4,!=2.1.2,!=2.1.6,>=2.0.1 in /usr/local/lib/python3.6/dist-packages (from matplotlib->scikit-mdr) (2.4.7)\n",
            "Requirement already satisfied: threadpoolctl>=2.0.0 in /usr/local/lib/python3.6/dist-packages (from scikit-learn->scikit-mdr) (2.0.0)\n",
            "Requirement already satisfied: joblib>=0.11 in /usr/local/lib/python3.6/dist-packages (from scikit-learn->scikit-mdr) (0.15.1)\n",
            "Requirement already satisfied: six in /usr/local/lib/python3.6/dist-packages (from cycler>=0.10->matplotlib->scikit-mdr) (1.12.0)\n",
            "Requirement already satisfied: tpot in /usr/local/lib/python3.6/dist-packages (0.11.3)\n",
            "Requirement already satisfied: numpy>=1.16.3 in /usr/local/lib/python3.6/dist-packages (from tpot) (1.18.4)\n",
            "Requirement already satisfied: pandas>=0.24.2 in /usr/local/lib/python3.6/dist-packages (from tpot) (1.0.3)\n",
            "Requirement already satisfied: scipy>=1.3.1 in /usr/local/lib/python3.6/dist-packages (from tpot) (1.4.1)\n",
            "Requirement already satisfied: tqdm>=4.36.1 in /usr/local/lib/python3.6/dist-packages (from tpot) (4.41.1)\n",
            "Requirement already satisfied: stopit>=1.1.1 in /usr/local/lib/python3.6/dist-packages (from tpot) (1.1.2)\n",
            "Requirement already satisfied: joblib>=0.13.2 in /usr/local/lib/python3.6/dist-packages (from tpot) (0.15.1)\n",
            "Requirement already satisfied: update-checker>=0.16 in /usr/local/lib/python3.6/dist-packages (from tpot) (0.17)\n",
            "Requirement already satisfied: deap>=1.2 in /usr/local/lib/python3.6/dist-packages (from tpot) (1.3.1)\n",
            "Requirement already satisfied: scikit-learn>=0.22.0 in /usr/local/lib/python3.6/dist-packages (from tpot) (0.23.1)\n",
            "Requirement already satisfied: python-dateutil>=2.6.1 in /usr/local/lib/python3.6/dist-packages (from pandas>=0.24.2->tpot) (2.8.1)\n",
            "Requirement already satisfied: pytz>=2017.2 in /usr/local/lib/python3.6/dist-packages (from pandas>=0.24.2->tpot) (2018.9)\n",
            "Requirement already satisfied: requests>=2.3.0 in /usr/local/lib/python3.6/dist-packages (from update-checker>=0.16->tpot) (2.23.0)\n",
            "Requirement already satisfied: threadpoolctl>=2.0.0 in /usr/local/lib/python3.6/dist-packages (from scikit-learn>=0.22.0->tpot) (2.0.0)\n",
            "Requirement already satisfied: six>=1.5 in /usr/local/lib/python3.6/dist-packages (from python-dateutil>=2.6.1->pandas>=0.24.2->tpot) (1.12.0)\n",
            "Requirement already satisfied: idna<3,>=2.5 in /usr/local/lib/python3.6/dist-packages (from requests>=2.3.0->update-checker>=0.16->tpot) (2.9)\n",
            "Requirement already satisfied: certifi>=2017.4.17 in /usr/local/lib/python3.6/dist-packages (from requests>=2.3.0->update-checker>=0.16->tpot) (2020.4.5.1)\n",
            "Requirement already satisfied: urllib3!=1.25.0,!=1.25.1,<1.26,>=1.21.1 in /usr/local/lib/python3.6/dist-packages (from requests>=2.3.0->update-checker>=0.16->tpot) (1.24.3)\n",
            "Requirement already satisfied: chardet<4,>=3.0.2 in /usr/local/lib/python3.6/dist-packages (from requests>=2.3.0->update-checker>=0.16->tpot) (3.0.4)\n",
            "Requirement already satisfied: pmlb in /usr/local/lib/python3.6/dist-packages (0.3)\n",
            "Requirement already satisfied: pandas in /usr/local/lib/python3.6/dist-packages (from pmlb) (1.0.3)\n",
            "Requirement already satisfied: pytz>=2017.2 in /usr/local/lib/python3.6/dist-packages (from pandas->pmlb) (2018.9)\n",
            "Requirement already satisfied: numpy>=1.13.3 in /usr/local/lib/python3.6/dist-packages (from pandas->pmlb) (1.18.4)\n",
            "Requirement already satisfied: python-dateutil>=2.6.1 in /usr/local/lib/python3.6/dist-packages (from pandas->pmlb) (2.8.1)\n",
            "Requirement already satisfied: six>=1.5 in /usr/local/lib/python3.6/dist-packages (from python-dateutil>=2.6.1->pandas->pmlb) (1.12.0)\n",
            "Requirement already satisfied: pytictoc in /usr/local/lib/python3.6/dist-packages (1.5.0)\n"
          ],
          "name": "stdout"
        }
      ]
    },
    {
      "cell_type": "code",
      "metadata": {
        "id": "UXznw3dS9XCa",
        "colab_type": "code",
        "colab": {}
      },
      "source": [
        "from sklearn.metrics import mean_absolute_error, mean_squared_error, mean_squared_log_error, r2_score\n",
        "import math\n",
        "import numpy as np\n",
        "\n",
        "class MetricsCalc:\n",
        "\n",
        "    def __init__(self, truth, predictions):\n",
        "        self.truth = pd.DataFrame(truth)\n",
        "        self.predictions = predictions\n",
        "        self._type = 'regression'\n",
        "\n",
        "    def mae(self):\n",
        "        return float(mean_absolute_error(self.truth, self.predictions))\n",
        "\n",
        "    def mse(self):\n",
        "        return float(mean_squared_error(self.truth, self.predictions))\n",
        "\n",
        "    def msle(self):\n",
        "      try:\n",
        "        return float(mean_squared_log_error(self.truth, self.predictions))\n",
        "      except:\n",
        "        return np.nan\n",
        "    \n",
        "    def rmse(self):\n",
        "        return math.sqrt(self.mse())\n",
        "\n",
        "    def rmsle(self):\n",
        "        return math.sqrt(self.msle())\n",
        "\n",
        "    def r2(self):\n",
        "        return float(r2_score(self.truth, self.predictions))\n",
        "\n",
        "class CheckNegativeValue:\n",
        "  def __init__(self, checknegative):\n",
        "    self._is_negative = \"neg\" if np.min(checknegative) < 1 else \"pos\"\n",
        "  \n",
        "  def MLMetrics(self):\n",
        "    if self._is_negative == \"neg\" :\n",
        "      return ['neg_mean_absolute_error', 'neg_mean_squared_error', 'r2']\n",
        "    elif self._is_negative == \"pos\" :\n",
        "      return ['neg_mean_squared_log_error', 'neg_mean_absolute_error', 'neg_mean_squared_error', 'r2']"
      ],
      "execution_count": 0,
      "outputs": []
    },
    {
      "cell_type": "code",
      "metadata": {
        "id": "NODrDIYu9aA6",
        "colab_type": "code",
        "outputId": "9784a1fd-fb1d-4286-b10a-bf4fc251b158",
        "colab": {
          "base_uri": "https://localhost:8080/",
          "height": 568
        }
      },
      "source": [
        "from pmlb import classification_dataset_names, regression_dataset_names,fetch_data\n",
        "from tpot import TPOTClassifier, TPOTRegressor\n",
        "from sklearn.model_selection import train_test_split\n",
        "from pytictoc import TicToc\n",
        "import pandas as pd\n",
        "\n",
        "df_result = pd.DataFrame(columns=[\"dataset_name\", \"metrics_recorded\", \"MAE\", \"MSE\",\"MSLE\", \"RMSE\", \"RMSLE\", \"r2\"])\n",
        "\n",
        "preds = {}\n",
        "cm_preds = {}\n",
        "top_algo = {}\n",
        "t = TicToc()\n",
        "\n",
        "\n",
        "sel_clss_dtst = ['adult','agaricus-lepiota', 'churn', 'nursery', 'satimage','texture']\n",
        "sel_rgrs_dtst = ['294_satellite_image','218_house_8L', '227_cpu_small', '503_wind', '344_mv','215_2dplanes']\n",
        "\n",
        "ix = 0\n",
        "\n",
        "for rgrs_dtst in sel_rgrs_dtst:\n",
        "  for metrics_recorded  in ['neg_mean_squared_log_error']:\n",
        "        print(\"_\"*80)\n",
        "        print(f\"*** Dataset Name: {rgrs_dtst} ***\")\n",
        "        df_result.loc[ix,\"dataset_name\"] = rgrs_dtst \n",
        "        df_result.loc[ix,\"metrics_recorded\"] = metrics_recorded \n",
        "        X, y = fetch_data(rgrs_dtst , return_X_y=True)\n",
        "        c=CheckNegativeValue(y)\n",
        "        X_train, X_test, y_train, y_test = train_test_split(X, y, test_size=0.1, random_state=69)\n",
        "        X_train = pd.DataFrame(X_train)\n",
        "        X_test = pd.DataFrame(X_test)\n",
        "        y_train = pd.DataFrame(y_train).values.ravel()\n",
        "        y_test = pd.DataFrame(y_test).values.ravel()\n",
        "        list_metrics = c.MLMetrics()\n",
        "        tpot = TPOTRegressor(random_state=69, max_time_mins=30, n_jobs=4,  scoring=metrics_recorded if metrics_recorded in list_metrics else None )\n",
        "        t.tic()\n",
        "        tpot.fit(X_train,y_train)\n",
        "        t.toc()\n",
        "        top_algo[rgrs_dtst] = [v[0] for i, v in tpot.pareto_front_fitted_pipelines_.items()][0]\n",
        "        print(\"*** Top algorithm: ***\", [v[0] for i, v in tpot.pareto_front_fitted_pipelines_.items()][0])\n",
        "        preds[rgrs_dtst] = tpot.predict(X_test)\n",
        "        p = MetricsCalc(y_test,preds[rgrs_dtst])\n",
        "        df_result.loc[ix,'MAE'] = p.mae()\n",
        "        df_result.loc[ix,'MSE'] = p.mse()\n",
        "        df_result.loc[ix,'MSLE'] = p.msle()\n",
        "        df_result.loc[ix,'RMSE'] = p.rmse()\n",
        "        df_result.loc[ix,'RMSLE'] = p.rmsle()\n",
        "        df_result.loc[ix,'r2'] = p.r2()\n",
        "        ix+=1"
      ],
      "execution_count": 6,
      "outputs": [
        {
          "output_type": "stream",
          "text": [
            "________________________________________________________________________________\n",
            "*** Dataset Name: 294_satellite_image ***\n",
            "Elapsed time is 1820.096967 seconds.\n",
            "*** Top algorithm: *** KNeighborsRegressor(n_neighbors=6)\n",
            "________________________________________________________________________________\n",
            "*** Dataset Name: 218_house_8L ***\n",
            "Elapsed time is 1852.436664 seconds.\n",
            "*** Top algorithm: *** RandomForestRegressor(bootstrap=False, max_features=0.55, min_samples_leaf=3,\n",
            "                      min_samples_split=5, random_state=69)\n",
            "________________________________________________________________________________\n",
            "*** Dataset Name: 227_cpu_small ***\n",
            "Elapsed time is 1843.300812 seconds.\n",
            "*** Top algorithm: *** RandomForestRegressor(bootstrap=False, max_features=0.45, min_samples_leaf=3,\n",
            "                      min_samples_split=7, random_state=69)\n",
            "________________________________________________________________________________\n",
            "*** Dataset Name: 503_wind ***\n",
            "Elapsed time is 1811.236962 seconds.\n",
            "*** Top algorithm: *** XGBRegressor(max_depth=4, min_child_weight=3, nthread=1,\n",
            "             objective='reg:squarederror', random_state=69,\n",
            "             subsample=0.6000000000000001)\n",
            "________________________________________________________________________________\n",
            "*** Dataset Name: 344_mv ***\n",
            "Elapsed time is 1886.094031 seconds.\n",
            "*** Top algorithm: *** ExtraTreesRegressor(bootstrap=True, max_features=1.0, min_samples_leaf=5,\n",
            "                    min_samples_split=11, random_state=69)\n",
            "________________________________________________________________________________\n",
            "*** Dataset Name: 215_2dplanes ***\n",
            "Elapsed time is 1824.652589 seconds.\n",
            "*** Top algorithm: *** DecisionTreeRegressor(max_depth=7, min_samples_leaf=11, min_samples_split=16,\n",
            "                      random_state=69)\n"
          ],
          "name": "stdout"
        }
      ]
    },
    {
      "cell_type": "code",
      "metadata": {
        "id": "4D-iUG-4WwAq",
        "colab_type": "code",
        "colab": {}
      },
      "source": [
        "for i, val in enumerate(preds):\n",
        "  print(preds[val])"
      ],
      "execution_count": 0,
      "outputs": []
    },
    {
      "cell_type": "code",
      "metadata": {
        "id": "jsSUCZ8NKEmW",
        "colab_type": "code",
        "colab": {}
      },
      "source": [
        "for i, val in enumerate(preds):\n",
        "  pd.DataFrame(preds[val]).to_csv(f\"{val}.csv\")"
      ],
      "execution_count": 0,
      "outputs": []
    },
    {
      "cell_type": "code",
      "metadata": {
        "id": "K2NZZymmPb-a",
        "colab_type": "code",
        "outputId": "e884a5ff-08e3-47d7-fe68-c3a090db577e",
        "colab": {
          "base_uri": "https://localhost:8080/",
          "height": 238
        }
      },
      "source": [
        "df_result"
      ],
      "execution_count": 7,
      "outputs": [
        {
          "output_type": "execute_result",
          "data": {
            "text/html": [
              "<div>\n",
              "<style scoped>\n",
              "    .dataframe tbody tr th:only-of-type {\n",
              "        vertical-align: middle;\n",
              "    }\n",
              "\n",
              "    .dataframe tbody tr th {\n",
              "        vertical-align: top;\n",
              "    }\n",
              "\n",
              "    .dataframe thead th {\n",
              "        text-align: right;\n",
              "    }\n",
              "</style>\n",
              "<table border=\"1\" class=\"dataframe\">\n",
              "  <thead>\n",
              "    <tr style=\"text-align: right;\">\n",
              "      <th></th>\n",
              "      <th>dataset_name</th>\n",
              "      <th>metrics_recorded</th>\n",
              "      <th>MAE</th>\n",
              "      <th>MSE</th>\n",
              "      <th>MSLE</th>\n",
              "      <th>RMSE</th>\n",
              "      <th>RMSLE</th>\n",
              "      <th>r2</th>\n",
              "    </tr>\n",
              "  </thead>\n",
              "  <tbody>\n",
              "    <tr>\n",
              "      <th>0</th>\n",
              "      <td>294_satellite_image</td>\n",
              "      <td>neg_mean_squared_log_error</td>\n",
              "      <td>0.29089</td>\n",
              "      <td>0.512509</td>\n",
              "      <td>0.0182923</td>\n",
              "      <td>0.715897</td>\n",
              "      <td>0.135249</td>\n",
              "      <td>0.894068</td>\n",
              "    </tr>\n",
              "    <tr>\n",
              "      <th>1</th>\n",
              "      <td>218_house_8L</td>\n",
              "      <td>neg_mean_squared_log_error</td>\n",
              "      <td>15639.6</td>\n",
              "      <td>8.71583e+08</td>\n",
              "      <td>0.390546</td>\n",
              "      <td>29522.6</td>\n",
              "      <td>0.624936</td>\n",
              "      <td>0.663248</td>\n",
              "    </tr>\n",
              "    <tr>\n",
              "      <th>2</th>\n",
              "      <td>227_cpu_small</td>\n",
              "      <td>neg_mean_squared_log_error</td>\n",
              "      <td>1.93083</td>\n",
              "      <td>7.78171</td>\n",
              "      <td>0.00236246</td>\n",
              "      <td>2.78957</td>\n",
              "      <td>0.0486052</td>\n",
              "      <td>0.97547</td>\n",
              "    </tr>\n",
              "    <tr>\n",
              "      <th>3</th>\n",
              "      <td>503_wind</td>\n",
              "      <td>neg_mean_squared_log_error</td>\n",
              "      <td>2.32154</td>\n",
              "      <td>8.95707</td>\n",
              "      <td>0.0507667</td>\n",
              "      <td>2.99284</td>\n",
              "      <td>0.225315</td>\n",
              "      <td>0.797502</td>\n",
              "    </tr>\n",
              "    <tr>\n",
              "      <th>4</th>\n",
              "      <td>344_mv</td>\n",
              "      <td>neg_mean_squared_log_error</td>\n",
              "      <td>0.0262607</td>\n",
              "      <td>0.00387869</td>\n",
              "      <td>NaN</td>\n",
              "      <td>0.0622791</td>\n",
              "      <td>NaN</td>\n",
              "      <td>0.999964</td>\n",
              "    </tr>\n",
              "    <tr>\n",
              "      <th>5</th>\n",
              "      <td>215_2dplanes</td>\n",
              "      <td>neg_mean_squared_log_error</td>\n",
              "      <td>0.790474</td>\n",
              "      <td>0.994172</td>\n",
              "      <td>NaN</td>\n",
              "      <td>0.997082</td>\n",
              "      <td>NaN</td>\n",
              "      <td>0.947961</td>\n",
              "    </tr>\n",
              "  </tbody>\n",
              "</table>\n",
              "</div>"
            ],
            "text/plain": [
              "          dataset_name            metrics_recorded  ...      RMSLE        r2\n",
              "0  294_satellite_image  neg_mean_squared_log_error  ...   0.135249  0.894068\n",
              "1         218_house_8L  neg_mean_squared_log_error  ...   0.624936  0.663248\n",
              "2        227_cpu_small  neg_mean_squared_log_error  ...  0.0486052   0.97547\n",
              "3             503_wind  neg_mean_squared_log_error  ...   0.225315  0.797502\n",
              "4               344_mv  neg_mean_squared_log_error  ...        NaN  0.999964\n",
              "5         215_2dplanes  neg_mean_squared_log_error  ...        NaN  0.947961\n",
              "\n",
              "[6 rows x 8 columns]"
            ]
          },
          "metadata": {
            "tags": []
          },
          "execution_count": 7
        }
      ]
    },
    {
      "cell_type": "code",
      "metadata": {
        "id": "lqh5gbfJfHfP",
        "colab_type": "code",
        "outputId": "fe186649-72bd-4923-9358-0557ed393666",
        "colab": {
          "base_uri": "https://localhost:8080/",
          "height": 237
        }
      },
      "source": [
        "top_algo"
      ],
      "execution_count": 8,
      "outputs": [
        {
          "output_type": "execute_result",
          "data": {
            "text/plain": [
              "{'215_2dplanes': DecisionTreeRegressor(max_depth=7, min_samples_leaf=11, min_samples_split=16,\n",
              "                       random_state=69),\n",
              " '218_house_8L': RandomForestRegressor(bootstrap=False, max_features=0.55, min_samples_leaf=3,\n",
              "                       min_samples_split=5, random_state=69),\n",
              " '227_cpu_small': RandomForestRegressor(bootstrap=False, max_features=0.45, min_samples_leaf=3,\n",
              "                       min_samples_split=7, random_state=69),\n",
              " '294_satellite_image': KNeighborsRegressor(n_neighbors=6),\n",
              " '344_mv': ExtraTreesRegressor(bootstrap=True, max_features=1.0, min_samples_leaf=5,\n",
              "                     min_samples_split=11, random_state=69),\n",
              " '503_wind': XGBRegressor(max_depth=4, min_child_weight=3, nthread=1,\n",
              "              objective='reg:squarederror', random_state=69,\n",
              "              subsample=0.6000000000000001)}"
            ]
          },
          "metadata": {
            "tags": []
          },
          "execution_count": 8
        }
      ]
    },
    {
      "cell_type": "code",
      "metadata": {
        "id": "TsfAma_-Fj2y",
        "colab_type": "code",
        "colab": {}
      },
      "source": [
        "from google.colab import files\n",
        "df_result.to_csv(\"data_1.csv\")\n",
        "#files.download('data_1.csv')\n",
        "\n",
        "\n",
        "\n",
        "with open('data_1.txt', 'w') as f:\n",
        "    f.write(str(top_algo))\n",
        "\n",
        "#files.download('data_1.txt')"
      ],
      "execution_count": 0,
      "outputs": []
    }
  ]
}
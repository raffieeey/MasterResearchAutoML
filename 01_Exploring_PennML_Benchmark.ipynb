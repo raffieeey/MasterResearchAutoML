{
 "cells": [
  {
   "cell_type": "markdown",
   "metadata": {},
   "source": [
    "# Exploring datasets from PennML Benchmark library"
   ]
  },
  {
   "cell_type": "markdown",
   "metadata": {},
   "source": [
    "#### ==Classification Datasets=="
   ]
  },
  {
   "cell_type": "code",
   "execution_count": 18,
   "metadata": {},
   "outputs": [
    {
     "name": "stdout",
     "output_type": "stream",
     "text": [
      "Dataframe Name:  adult , Dataframe size:  (48842, 15)\n",
      "Dataframe Name:  agaricus-lepiota , Dataframe size:  (8145, 23)\n",
      "Dataframe Name:  ann-thyroid , Dataframe size:  (7200, 22)\n",
      "Dataframe Name:  banana , Dataframe size:  (5300, 3)\n",
      "Dataframe Name:  churn , Dataframe size:  (5000, 21)\n",
      "Dataframe Name:  clean2 , Dataframe size:  (6598, 169)\n",
      "Dataframe Name:  coil2000 , Dataframe size:  (9822, 86)\n",
      "Dataframe Name:  connect-4 , Dataframe size:  (67557, 43)\n",
      "Dataframe Name:  fars , Dataframe size:  (100968, 30)\n",
      "Dataframe Name:  kddcup , Dataframe size:  (494020, 42)\n",
      "Dataframe Name:  krkopt , Dataframe size:  (28056, 7)\n",
      "Dataframe Name:  letter , Dataframe size:  (20000, 17)\n",
      "Dataframe Name:  magic , Dataframe size:  (19020, 11)\n",
      "Dataframe Name:  mnist , Dataframe size:  (70000, 785)\n",
      "Dataframe Name:  mushroom , Dataframe size:  (8124, 23)\n",
      "Dataframe Name:  nursery , Dataframe size:  (12958, 9)\n",
      "Dataframe Name:  optdigits , Dataframe size:  (5620, 65)\n",
      "Dataframe Name:  page-blocks , Dataframe size:  (5473, 11)\n",
      "Dataframe Name:  pendigits , Dataframe size:  (10992, 17)\n",
      "Dataframe Name:  phoneme , Dataframe size:  (5404, 6)\n",
      "Dataframe Name:  poker , Dataframe size:  (1025009, 11)\n",
      "Dataframe Name:  ring , Dataframe size:  (7400, 21)\n",
      "Dataframe Name:  satimage , Dataframe size:  (6435, 37)\n",
      "Dataframe Name:  shuttle , Dataframe size:  (58000, 10)\n",
      "Dataframe Name:  sleep , Dataframe size:  (105908, 14)\n",
      "Dataframe Name:  texture , Dataframe size:  (5500, 41)\n",
      "Dataframe Name:  twonorm , Dataframe size:  (7400, 21)\n",
      "Dataframe Name:  waveform-21 , Dataframe size:  (5000, 22)\n",
      "Dataframe Name:  waveform-40 , Dataframe size:  (5000, 41)\n"
     ]
    }
   ],
   "source": [
    "from pmlb import classification_dataset_names, regression_dataset_names,fetch_data\n",
    "\n",
    "for classification_dataset in classification_dataset_names:\n",
    "    df = fetch_data(classification_dataset)\n",
    "    if len(df)>4999:\n",
    "        print(\"Dataframe Name: \",classification_dataset, \", Dataframe size: \", df.shape)"
   ]
  },
  {
   "cell_type": "markdown",
   "metadata": {},
   "source": [
    "#### ==Regression Datasets=="
   ]
  },
  {
   "cell_type": "code",
   "execution_count": 8,
   "metadata": {},
   "outputs": [
    {
     "name": "stdout",
     "output_type": "stream",
     "text": [
      "Dataframe Name:  1191_BNG_pbc , Dataframe size:  (1000000, 19)\n",
      "Dataframe Name:  1193_BNG_lowbwt , Dataframe size:  (31104, 10)\n",
      "Dataframe Name:  1196_BNG_pharynx , Dataframe size:  (1000000, 11)\n",
      "Dataframe Name:  1199_BNG_echoMonths , Dataframe size:  (17496, 10)\n",
      "Dataframe Name:  1201_BNG_breastTumor , Dataframe size:  (116640, 10)\n",
      "Dataframe Name:  1203_BNG_pwLinear , Dataframe size:  (177147, 11)\n",
      "Dataframe Name:  1595_poker , Dataframe size:  (1025010, 11)\n",
      "Dataframe Name:  197_cpu_act , Dataframe size:  (8192, 22)\n",
      "Dataframe Name:  201_pol , Dataframe size:  (15000, 49)\n",
      "Dataframe Name:  215_2dplanes , Dataframe size:  (40768, 11)\n",
      "Dataframe Name:  218_house_8L , Dataframe size:  (22784, 9)\n",
      "Dataframe Name:  225_puma8NH , Dataframe size:  (8192, 9)\n",
      "Dataframe Name:  227_cpu_small , Dataframe size:  (8192, 13)\n",
      "Dataframe Name:  294_satellite_image , Dataframe size:  (6435, 37)\n",
      "Dataframe Name:  344_mv , Dataframe size:  (40768, 11)\n",
      "Dataframe Name:  503_wind , Dataframe size:  (6574, 15)\n",
      "Dataframe Name:  537_houses , Dataframe size:  (20640, 9)\n",
      "Dataframe Name:  562_cpu_small , Dataframe size:  (8192, 13)\n",
      "Dataframe Name:  564_fried , Dataframe size:  (40768, 11)\n",
      "Dataframe Name:  573_cpu_act , Dataframe size:  (8192, 22)\n",
      "Dataframe Name:  574_house_16H , Dataframe size:  (22784, 17)\n"
     ]
    }
   ],
   "source": [
    "from pmlb import classification_dataset_names, regression_dataset_names,fetch_data\n",
    "\n",
    "for regression_dataset in regression_dataset_names:\n",
    "    df = fetch_data(regression_dataset)\n",
    "    if len(df)>4999:\n",
    "        print(\"Dataframe Name: \",regression_dataset, \", Dataframe size: \", df.shape)"
   ]
  },
  {
   "cell_type": "markdown",
   "metadata": {},
   "source": [
    "#### ==After going through all the datasets and research paper related to the dataset, below are the chosen list=="
   ]
  },
  {
   "cell_type": "code",
   "execution_count": 14,
   "metadata": {},
   "outputs": [],
   "source": [
    "sel_clss_dtst = ['adult','agaricus-lepiota', 'churn', 'nursery', 'satimage','texture']\n",
    "sel_rgrs_dtst = ['294_satellite_image','218_house_8L', '227_cpu_small', '503_wind', '344_mv','215_2dplanes']"
   ]
  },
  {
   "cell_type": "code",
   "execution_count": 15,
   "metadata": {},
   "outputs": [
    {
     "name": "stdout",
     "output_type": "stream",
     "text": [
      "Dataframe Name:  adult , Dataframe size:  (48842, 15)\n",
      "Dataframe Name:  agaricus-lepiota , Dataframe size:  (8145, 23)\n",
      "Dataframe Name:  churn , Dataframe size:  (5000, 21)\n",
      "Dataframe Name:  nursery , Dataframe size:  (12958, 9)\n",
      "Dataframe Name:  satimage , Dataframe size:  (6435, 37)\n",
      "Dataframe Name:  texture , Dataframe size:  (5500, 41)\n"
     ]
    }
   ],
   "source": [
    "for class_dtst in sel_clss_dtst:\n",
    "    df = fetch_data(class_dtst)\n",
    "    print(\"Dataframe Name: \",class_dtst, \", Dataframe size: \", df.shape)"
   ]
  },
  {
   "cell_type": "code",
   "execution_count": 17,
   "metadata": {},
   "outputs": [
    {
     "name": "stdout",
     "output_type": "stream",
     "text": [
      "Dataframe Name:  294_satellite_image , Dataframe size:  (6435, 37)\n",
      "Dataframe Name:  218_house_8L , Dataframe size:  (22784, 9)\n",
      "Dataframe Name:  227_cpu_small , Dataframe size:  (8192, 13)\n",
      "Dataframe Name:  503_wind , Dataframe size:  (6574, 15)\n",
      "Dataframe Name:  344_mv , Dataframe size:  (40768, 11)\n",
      "Dataframe Name:  215_2dplanes , Dataframe size:  (40768, 11)\n"
     ]
    }
   ],
   "source": [
    "for regrs_dtst in sel_rgrs_dtst:\n",
    "    df = fetch_data(regrs_dtst)\n",
    "    print(\"Dataframe Name: \",regrs_dtst, \", Dataframe size: \", df.shape)"
   ]
  },
  {
   "cell_type": "markdown",
   "metadata": {},
   "source": [
    "#### ==PennML benchmark datasets was chosen because it doesn't have any missing data and the categorical data have been labelly encoded. Let's check!=="
   ]
  },
  {
   "cell_type": "markdown",
   "metadata": {},
   "source": [
    "###### Checking missing value "
   ]
  },
  {
   "cell_type": "code",
   "execution_count": 25,
   "metadata": {},
   "outputs": [
    {
     "name": "stdout",
     "output_type": "stream",
     "text": [
      "Datasets Name:  adult  , Number of missing values :  0\n",
      "Datasets Name:  agaricus-lepiota  , Number of missing values :  0\n",
      "Datasets Name:  churn  , Number of missing values :  0\n",
      "Datasets Name:  nursery  , Number of missing values :  0\n",
      "Datasets Name:  satimage  , Number of missing values :  0\n",
      "Datasets Name:  texture  , Number of missing values :  0\n"
     ]
    }
   ],
   "source": [
    "for class_dtst in sel_clss_dtst:\n",
    "    df = fetch_data(class_dtst)\n",
    "    print(\"Datasets Name: \",class_dtst, \" , Number of missing values : \", df.isnull().sum().sum())"
   ]
  },
  {
   "cell_type": "code",
   "execution_count": 24,
   "metadata": {},
   "outputs": [
    {
     "name": "stdout",
     "output_type": "stream",
     "text": [
      "Datasets Name:  294_satellite_image  , Number of missing values :  0\n",
      "Datasets Name:  218_house_8L  , Number of missing values :  0\n",
      "Datasets Name:  227_cpu_small  , Number of missing values :  0\n",
      "Datasets Name:  503_wind  , Number of missing values :  0\n",
      "Datasets Name:  344_mv  , Number of missing values :  0\n",
      "Datasets Name:  215_2dplanes  , Number of missing values :  0\n"
     ]
    }
   ],
   "source": [
    "for regrs_dtst in sel_rgrs_dtst:\n",
    "    df = fetch_data(regrs_dtst)\n",
    "    print(\"Datasets Name: \",regrs_dtst, \" , Number of missing values : \", df.isnull().sum().sum())"
   ]
  },
  {
   "cell_type": "markdown",
   "metadata": {},
   "source": [
    "###### Checking datatypes "
   ]
  },
  {
   "cell_type": "code",
   "execution_count": 27,
   "metadata": {},
   "outputs": [
    {
     "name": "stdout",
     "output_type": "stream",
     "text": [
      "<class 'pandas.core.frame.DataFrame'>\n",
      "RangeIndex: 48842 entries, 0 to 48841\n",
      "Data columns (total 15 columns):\n",
      "age               48842 non-null float64\n",
      "workclass         48842 non-null int64\n",
      "fnlwgt            48842 non-null float64\n",
      "education         48842 non-null int64\n",
      "education-num     48842 non-null float64\n",
      "marital-status    48842 non-null int64\n",
      "occupation        48842 non-null int64\n",
      "relationship      48842 non-null int64\n",
      "race              48842 non-null int64\n",
      "sex               48842 non-null int64\n",
      "capital-gain      48842 non-null float64\n",
      "capital-loss      48842 non-null float64\n",
      "hours-per-week    48842 non-null float64\n",
      "native-country    48842 non-null int64\n",
      "target            48842 non-null int64\n",
      "dtypes: float64(6), int64(9)\n",
      "memory usage: 5.6 MB\n",
      "None\n",
      "<class 'pandas.core.frame.DataFrame'>\n",
      "RangeIndex: 8145 entries, 0 to 8144\n",
      "Data columns (total 23 columns):\n",
      "cap-shape                   8145 non-null int64\n",
      "cap-surface                 8145 non-null int64\n",
      "cap-color                   8145 non-null int64\n",
      "bruises?                    8145 non-null int64\n",
      "odor                        8145 non-null int64\n",
      "gill-attachment             8145 non-null int64\n",
      "gill-spacing                8145 non-null int64\n",
      "gill-size                   8145 non-null int64\n",
      "gill-color                  8145 non-null int64\n",
      "stalk-shape                 8145 non-null int64\n",
      "stalk-root                  8145 non-null int64\n",
      "stalk-surface-above-ring    8145 non-null int64\n",
      "stalk-surface-below-ring    8145 non-null int64\n",
      "stalk-color-above-ring      8145 non-null int64\n",
      "stalk-color-below-ring      8145 non-null int64\n",
      "veil-type                   8145 non-null int64\n",
      "veil-color                  8145 non-null int64\n",
      "ring-number                 8145 non-null int64\n",
      "ring-type                   8145 non-null int64\n",
      "spore-print-color           8145 non-null int64\n",
      "population                  8145 non-null int64\n",
      "habitat                     8145 non-null int64\n",
      "target                      8145 non-null int64\n",
      "dtypes: int64(23)\n",
      "memory usage: 1.4 MB\n",
      "None\n",
      "<class 'pandas.core.frame.DataFrame'>\n",
      "RangeIndex: 5000 entries, 0 to 4999\n",
      "Data columns (total 21 columns):\n",
      "state                            5000 non-null int64\n",
      "account length                   5000 non-null float64\n",
      "area code                        5000 non-null float64\n",
      "phone number                     5000 non-null int64\n",
      "international plan               5000 non-null int64\n",
      "voice mail plan                  5000 non-null int64\n",
      "number vmail messages            5000 non-null float64\n",
      "total day minutes                5000 non-null float64\n",
      "total day calls                  5000 non-null float64\n",
      "total day charge                 5000 non-null float64\n",
      "total eve minutes                5000 non-null float64\n",
      "total eve calls                  5000 non-null float64\n",
      "total eve charge                 5000 non-null float64\n",
      "total night minutes              5000 non-null float64\n",
      "total night calls                5000 non-null float64\n",
      "total night charge               5000 non-null float64\n",
      "total intl minutes               5000 non-null float64\n",
      "total intl calls                 5000 non-null float64\n",
      "total intl charge                5000 non-null float64\n",
      "number customer service calls    5000 non-null float64\n",
      "target                           5000 non-null int64\n",
      "dtypes: float64(16), int64(5)\n",
      "memory usage: 820.4 KB\n",
      "None\n",
      "<class 'pandas.core.frame.DataFrame'>\n",
      "RangeIndex: 12958 entries, 0 to 12957\n",
      "Data columns (total 9 columns):\n",
      "parents     12958 non-null int64\n",
      "has_nurs    12958 non-null int64\n",
      "form        12958 non-null int64\n",
      "children    12958 non-null int64\n",
      "housing     12958 non-null int64\n",
      "finance     12958 non-null int64\n",
      "social      12958 non-null int64\n",
      "health      12958 non-null int64\n",
      "target      12958 non-null int64\n",
      "dtypes: int64(9)\n",
      "memory usage: 911.2 KB\n",
      "None\n",
      "<class 'pandas.core.frame.DataFrame'>\n",
      "RangeIndex: 6435 entries, 0 to 6434\n",
      "Data columns (total 37 columns):\n",
      "A1        6435 non-null float64\n",
      "A2        6435 non-null float64\n",
      "A3        6435 non-null float64\n",
      "A4        6435 non-null float64\n",
      "A5        6435 non-null float64\n",
      "A6        6435 non-null float64\n",
      "A7        6435 non-null float64\n",
      "A8        6435 non-null float64\n",
      "A9        6435 non-null float64\n",
      "A10       6435 non-null float64\n",
      "A11       6435 non-null float64\n",
      "A12       6435 non-null float64\n",
      "A13       6435 non-null float64\n",
      "A14       6435 non-null float64\n",
      "A15       6435 non-null float64\n",
      "A16       6435 non-null float64\n",
      "A17       6435 non-null float64\n",
      "A18       6435 non-null float64\n",
      "A19       6435 non-null float64\n",
      "A20       6435 non-null float64\n",
      "A21       6435 non-null float64\n",
      "A22       6435 non-null float64\n",
      "A23       6435 non-null float64\n",
      "A24       6435 non-null float64\n",
      "A25       6435 non-null float64\n",
      "A26       6435 non-null float64\n",
      "A27       6435 non-null float64\n",
      "A28       6435 non-null float64\n",
      "A29       6435 non-null float64\n",
      "A30       6435 non-null float64\n",
      "A31       6435 non-null float64\n",
      "A32       6435 non-null float64\n",
      "A33       6435 non-null float64\n",
      "A34       6435 non-null float64\n",
      "A35       6435 non-null float64\n",
      "A36       6435 non-null float64\n",
      "target    6435 non-null int64\n",
      "dtypes: float64(36), int64(1)\n",
      "memory usage: 1.8 MB\n",
      "None\n",
      "<class 'pandas.core.frame.DataFrame'>\n",
      "RangeIndex: 5500 entries, 0 to 5499\n",
      "Data columns (total 41 columns):\n",
      "A1        5500 non-null float64\n",
      "A2        5500 non-null float64\n",
      "A3        5500 non-null float64\n",
      "A4        5500 non-null float64\n",
      "A5        5500 non-null float64\n",
      "A6        5500 non-null float64\n",
      "A7        5500 non-null float64\n",
      "A8        5500 non-null float64\n",
      "A9        5500 non-null float64\n",
      "A10       5500 non-null float64\n",
      "A11       5500 non-null float64\n",
      "A12       5500 non-null float64\n",
      "A13       5500 non-null float64\n",
      "A14       5500 non-null float64\n",
      "A15       5500 non-null float64\n",
      "A16       5500 non-null float64\n",
      "A17       5500 non-null float64\n",
      "A18       5500 non-null float64\n",
      "A19       5500 non-null float64\n",
      "A20       5500 non-null float64\n",
      "A21       5500 non-null float64\n",
      "A22       5500 non-null float64\n",
      "A23       5500 non-null float64\n",
      "A24       5500 non-null float64\n",
      "A25       5500 non-null float64\n",
      "A26       5500 non-null float64\n",
      "A27       5500 non-null float64\n",
      "A28       5500 non-null float64\n",
      "A29       5500 non-null float64\n",
      "A30       5500 non-null float64\n",
      "A31       5500 non-null float64\n",
      "A32       5500 non-null float64\n",
      "A33       5500 non-null float64\n",
      "A34       5500 non-null float64\n",
      "A35       5500 non-null float64\n",
      "A36       5500 non-null float64\n",
      "A37       5500 non-null float64\n",
      "A38       5500 non-null float64\n",
      "A39       5500 non-null float64\n",
      "A40       5500 non-null float64\n",
      "target    5500 non-null int64\n",
      "dtypes: float64(40), int64(1)\n",
      "memory usage: 1.7 MB\n",
      "None\n"
     ]
    }
   ],
   "source": [
    "for class_dtst in sel_clss_dtst:\n",
    "    df = fetch_data(class_dtst)\n",
    "    print(df.info())"
   ]
  },
  {
   "cell_type": "code",
   "execution_count": 26,
   "metadata": {},
   "outputs": [
    {
     "name": "stdout",
     "output_type": "stream",
     "text": [
      "<class 'pandas.core.frame.DataFrame'>\n",
      "RangeIndex: 6435 entries, 0 to 6434\n",
      "Data columns (total 37 columns):\n",
      "attr1     6435 non-null float64\n",
      "attr2     6435 non-null float64\n",
      "attr3     6435 non-null float64\n",
      "attr4     6435 non-null float64\n",
      "attr5     6435 non-null float64\n",
      "attr6     6435 non-null float64\n",
      "attr7     6435 non-null float64\n",
      "attr8     6435 non-null float64\n",
      "attr9     6435 non-null float64\n",
      "attr10    6435 non-null float64\n",
      "attr11    6435 non-null float64\n",
      "attr12    6435 non-null float64\n",
      "attr13    6435 non-null float64\n",
      "attr14    6435 non-null float64\n",
      "attr15    6435 non-null float64\n",
      "attr16    6435 non-null float64\n",
      "attr17    6435 non-null float64\n",
      "attr18    6435 non-null float64\n",
      "attr19    6435 non-null float64\n",
      "attr20    6435 non-null float64\n",
      "attr21    6435 non-null float64\n",
      "attr22    6435 non-null float64\n",
      "attr23    6435 non-null float64\n",
      "attr24    6435 non-null float64\n",
      "attr25    6435 non-null float64\n",
      "attr26    6435 non-null float64\n",
      "attr27    6435 non-null float64\n",
      "attr28    6435 non-null float64\n",
      "attr29    6435 non-null float64\n",
      "attr30    6435 non-null float64\n",
      "attr31    6435 non-null float64\n",
      "attr32    6435 non-null float64\n",
      "attr33    6435 non-null float64\n",
      "attr34    6435 non-null float64\n",
      "attr35    6435 non-null float64\n",
      "attr36    6435 non-null float64\n",
      "target    6435 non-null float64\n",
      "dtypes: float64(37)\n",
      "memory usage: 1.8 MB\n",
      "None\n",
      "<class 'pandas.core.frame.DataFrame'>\n",
      "RangeIndex: 22784 entries, 0 to 22783\n",
      "Data columns (total 9 columns):\n",
      "P3        22784 non-null float64\n",
      "P6p4      22784 non-null float64\n",
      "P11p3     22784 non-null float64\n",
      "P16p2     22784 non-null float64\n",
      "P19p2     22784 non-null float64\n",
      "H5p2      22784 non-null float64\n",
      "H15p1     22784 non-null float64\n",
      "H40p4     22784 non-null float64\n",
      "target    22784 non-null float64\n",
      "dtypes: float64(9)\n",
      "memory usage: 1.6 MB\n",
      "None\n",
      "<class 'pandas.core.frame.DataFrame'>\n",
      "RangeIndex: 8192 entries, 0 to 8191\n",
      "Data columns (total 13 columns):\n",
      "lread       8192 non-null float64\n",
      "lwrite      8192 non-null float64\n",
      "scall       8192 non-null float64\n",
      "sread       8192 non-null float64\n",
      "swrite      8192 non-null float64\n",
      "fork        8192 non-null float64\n",
      "exec        8192 non-null float64\n",
      "rchar       8192 non-null float64\n",
      "wchar       8192 non-null float64\n",
      "runqsz      8192 non-null float64\n",
      "freemem     8192 non-null float64\n",
      "freeswap    8192 non-null float64\n",
      "target      8192 non-null float64\n",
      "dtypes: float64(13)\n",
      "memory usage: 832.1 KB\n",
      "None\n",
      "<class 'pandas.core.frame.DataFrame'>\n",
      "RangeIndex: 6574 entries, 0 to 6573\n",
      "Data columns (total 15 columns):\n",
      "year      6574 non-null float64\n",
      "month     6574 non-null float64\n",
      "day       6574 non-null float64\n",
      "RPT       6574 non-null float64\n",
      "VAL       6574 non-null float64\n",
      "ROS       6574 non-null float64\n",
      "KIL       6574 non-null float64\n",
      "SHA       6574 non-null float64\n",
      "BIR       6574 non-null float64\n",
      "DUB       6574 non-null float64\n",
      "CLA       6574 non-null float64\n",
      "MUL       6574 non-null float64\n",
      "CLO       6574 non-null float64\n",
      "BEL       6574 non-null float64\n",
      "target    6574 non-null float64\n",
      "dtypes: float64(15)\n",
      "memory usage: 770.5 KB\n",
      "None\n",
      "<class 'pandas.core.frame.DataFrame'>\n",
      "RangeIndex: 40768 entries, 0 to 40767\n",
      "Data columns (total 11 columns):\n",
      "x1        40768 non-null float64\n",
      "x2        40768 non-null float64\n",
      "x3        40768 non-null float64\n",
      "x4        40768 non-null float64\n",
      "x5        40768 non-null float64\n",
      "x6        40768 non-null float64\n",
      "x7        40768 non-null float64\n",
      "x8        40768 non-null float64\n",
      "x9        40768 non-null float64\n",
      "x10       40768 non-null float64\n",
      "target    40768 non-null float64\n",
      "dtypes: float64(11)\n",
      "memory usage: 3.4 MB\n",
      "None\n",
      "<class 'pandas.core.frame.DataFrame'>\n",
      "RangeIndex: 40768 entries, 0 to 40767\n",
      "Data columns (total 11 columns):\n",
      "x1        40768 non-null float64\n",
      "x2        40768 non-null float64\n",
      "x3        40768 non-null float64\n",
      "x4        40768 non-null float64\n",
      "x5        40768 non-null float64\n",
      "x6        40768 non-null float64\n",
      "x7        40768 non-null float64\n",
      "x8        40768 non-null float64\n",
      "x9        40768 non-null float64\n",
      "x10       40768 non-null float64\n",
      "target    40768 non-null float64\n",
      "dtypes: float64(11)\n",
      "memory usage: 3.4 MB\n",
      "None\n"
     ]
    }
   ],
   "source": [
    "for regrs_dtst in sel_rgrs_dtst:\n",
    "    df = fetch_data(regrs_dtst)\n",
    "    print(df.info())"
   ]
  }
 ],
 "metadata": {
  "kernelspec": {
   "display_name": "Python 3",
   "language": "python",
   "name": "python3"
  },
  "language_info": {
   "codemirror_mode": {
    "name": "ipython",
    "version": 3
   },
   "file_extension": ".py",
   "mimetype": "text/x-python",
   "name": "python",
   "nbconvert_exporter": "python",
   "pygments_lexer": "ipython3",
   "version": "3.7.0"
  }
 },
 "nbformat": 4,
 "nbformat_minor": 2
}

{
  "nbformat": 4,
  "nbformat_minor": 0,
  "metadata": {
    "kernelspec": {
      "display_name": "Python 3",
      "language": "python",
      "name": "python3"
    },
    "language_info": {
      "codemirror_mode": {
        "name": "ipython",
        "version": 3
      },
      "file_extension": ".py",
      "mimetype": "text/x-python",
      "name": "python",
      "nbconvert_exporter": "python",
      "pygments_lexer": "ipython3",
      "version": "3.7.0"
    },
    "colab": {
      "name": "01_Exploring_PennML_Benchmark.ipynb",
      "version": "0.3.2",
      "provenance": [],
      "include_colab_link": true
    }
  },
  "cells": [
    {
      "cell_type": "markdown",
      "metadata": {
        "id": "view-in-github",
        "colab_type": "text"
      },
      "source": [
        "<a href=\"https://colab.research.google.com/github/raffieeey/MasterResearchAutoML/blob/master/01_Exploring_PennML_Benchmark.ipynb\" target=\"_parent\"><img src=\"https://colab.research.google.com/assets/colab-badge.svg\" alt=\"Open In Colab\"/></a>"
      ]
    },
    {
      "cell_type": "markdown",
      "metadata": {
        "id": "BDCK1UmtAi6Y",
        "colab_type": "text"
      },
      "source": [
        "# Exploring datasets from PennML Benchmark library"
      ]
    },
    {
      "cell_type": "markdown",
      "metadata": {
        "id": "QYWpkNU9Ai6a",
        "colab_type": "text"
      },
      "source": [
        "#### ==Classification Datasets=="
      ]
    },
    {
      "cell_type": "code",
      "metadata": {
        "id": "7XCie7F5A37U",
        "colab_type": "code",
        "colab": {
          "base_uri": "https://localhost:8080/",
          "height": 255
        },
        "outputId": "3f796771-937f-4890-db3e-5c235ff41d29"
      },
      "source": [
        "!pip install pmlb"
      ],
      "execution_count": 1,
      "outputs": [
        {
          "output_type": "stream",
          "text": [
            "Collecting pmlb\n",
            "  Downloading https://files.pythonhosted.org/packages/0d/38/bb7bf1785add978af1e6c2bd27926405959c71ebaeefa6ff610bf53d8b25/pmlb-0.3.tar.gz\n",
            "Requirement already satisfied: pandas in /usr/local/lib/python3.6/dist-packages (from pmlb) (0.24.2)\n",
            "Requirement already satisfied: numpy>=1.12.0 in /usr/local/lib/python3.6/dist-packages (from pandas->pmlb) (1.16.5)\n",
            "Requirement already satisfied: python-dateutil>=2.5.0 in /usr/local/lib/python3.6/dist-packages (from pandas->pmlb) (2.5.3)\n",
            "Requirement already satisfied: pytz>=2011k in /usr/local/lib/python3.6/dist-packages (from pandas->pmlb) (2018.9)\n",
            "Requirement already satisfied: six>=1.5 in /usr/local/lib/python3.6/dist-packages (from python-dateutil>=2.5.0->pandas->pmlb) (1.12.0)\n",
            "Building wheels for collected packages: pmlb\n",
            "  Building wheel for pmlb (setup.py) ... \u001b[?25l\u001b[?25hdone\n",
            "  Created wheel for pmlb: filename=pmlb-0.3-cp36-none-any.whl size=11918 sha256=ccf0ca974d6bf2ac7aafc680ee1dd0a25531a6663600ef6c06109826e55990b7\n",
            "  Stored in directory: /root/.cache/pip/wheels/5a/c7/a4/be59e63a2cb56f6c58f068305b95c212e0aac1a930fd77d6b0\n",
            "Successfully built pmlb\n",
            "Installing collected packages: pmlb\n",
            "Successfully installed pmlb-0.3\n"
          ],
          "name": "stdout"
        }
      ]
    },
    {
      "cell_type": "code",
      "metadata": {
        "id": "v-Daf45BAi6a",
        "colab_type": "code",
        "colab": {
          "base_uri": "https://localhost:8080/",
          "height": 510
        },
        "outputId": "29eb4ecb-6881-4927-9039-0c149ea5f3de"
      },
      "source": [
        "from pmlb import classification_dataset_names, regression_dataset_names,fetch_data\n",
        "\n",
        "for classification_dataset in classification_dataset_names:\n",
        "    df = fetch_data(classification_dataset)\n",
        "    if len(df)>4999:\n",
        "        print(\"Dataframe Name: \",classification_dataset, \", Dataframe size: \", df.shape)"
      ],
      "execution_count": 2,
      "outputs": [
        {
          "output_type": "stream",
          "text": [
            "Dataframe Name:  adult , Dataframe size:  (48842, 15)\n",
            "Dataframe Name:  agaricus-lepiota , Dataframe size:  (8145, 23)\n",
            "Dataframe Name:  ann-thyroid , Dataframe size:  (7200, 22)\n",
            "Dataframe Name:  banana , Dataframe size:  (5300, 3)\n",
            "Dataframe Name:  churn , Dataframe size:  (5000, 21)\n",
            "Dataframe Name:  clean2 , Dataframe size:  (6598, 169)\n",
            "Dataframe Name:  coil2000 , Dataframe size:  (9822, 86)\n",
            "Dataframe Name:  connect-4 , Dataframe size:  (67557, 43)\n",
            "Dataframe Name:  fars , Dataframe size:  (100968, 30)\n",
            "Dataframe Name:  kddcup , Dataframe size:  (494020, 42)\n",
            "Dataframe Name:  krkopt , Dataframe size:  (28056, 7)\n",
            "Dataframe Name:  letter , Dataframe size:  (20000, 17)\n",
            "Dataframe Name:  magic , Dataframe size:  (19020, 11)\n",
            "Dataframe Name:  mnist , Dataframe size:  (70000, 785)\n",
            "Dataframe Name:  mushroom , Dataframe size:  (8124, 23)\n",
            "Dataframe Name:  nursery , Dataframe size:  (12958, 9)\n",
            "Dataframe Name:  optdigits , Dataframe size:  (5620, 65)\n",
            "Dataframe Name:  page-blocks , Dataframe size:  (5473, 11)\n",
            "Dataframe Name:  pendigits , Dataframe size:  (10992, 17)\n",
            "Dataframe Name:  phoneme , Dataframe size:  (5404, 6)\n",
            "Dataframe Name:  poker , Dataframe size:  (1025009, 11)\n",
            "Dataframe Name:  ring , Dataframe size:  (7400, 21)\n",
            "Dataframe Name:  satimage , Dataframe size:  (6435, 37)\n",
            "Dataframe Name:  shuttle , Dataframe size:  (58000, 10)\n",
            "Dataframe Name:  sleep , Dataframe size:  (105908, 14)\n",
            "Dataframe Name:  texture , Dataframe size:  (5500, 41)\n",
            "Dataframe Name:  twonorm , Dataframe size:  (7400, 21)\n",
            "Dataframe Name:  waveform-21 , Dataframe size:  (5000, 22)\n",
            "Dataframe Name:  waveform-40 , Dataframe size:  (5000, 41)\n"
          ],
          "name": "stdout"
        }
      ]
    },
    {
      "cell_type": "markdown",
      "metadata": {
        "id": "nHRJ3BTrAi6e",
        "colab_type": "text"
      },
      "source": [
        "#### ==Regression Datasets=="
      ]
    },
    {
      "cell_type": "code",
      "metadata": {
        "id": "Qvg-ExYtAi6f",
        "colab_type": "code",
        "colab": {
          "base_uri": "https://localhost:8080/",
          "height": 374
        },
        "outputId": "f8419892-9b0a-4ebc-c2dd-3e56d7ba5605"
      },
      "source": [
        "from pmlb import classification_dataset_names, regression_dataset_names,fetch_data\n",
        "\n",
        "for regression_dataset in regression_dataset_names:\n",
        "    df = fetch_data(regression_dataset)\n",
        "    if len(df)>4999:\n",
        "        print(\"Dataframe Name: \",regression_dataset, \", Dataframe size: \", df.shape)"
      ],
      "execution_count": 5,
      "outputs": [
        {
          "output_type": "stream",
          "text": [
            "Dataframe Name:  1191_BNG_pbc , Dataframe size:  (1000000, 19)\n",
            "Dataframe Name:  1193_BNG_lowbwt , Dataframe size:  (31104, 10)\n",
            "Dataframe Name:  1196_BNG_pharynx , Dataframe size:  (1000000, 11)\n",
            "Dataframe Name:  1199_BNG_echoMonths , Dataframe size:  (17496, 10)\n",
            "Dataframe Name:  1201_BNG_breastTumor , Dataframe size:  (116640, 10)\n",
            "Dataframe Name:  1203_BNG_pwLinear , Dataframe size:  (177147, 11)\n",
            "Dataframe Name:  1595_poker , Dataframe size:  (1025010, 11)\n",
            "Dataframe Name:  197_cpu_act , Dataframe size:  (8192, 22)\n",
            "Dataframe Name:  201_pol , Dataframe size:  (15000, 49)\n",
            "Dataframe Name:  215_2dplanes , Dataframe size:  (40768, 11)\n",
            "Dataframe Name:  218_house_8L , Dataframe size:  (22784, 9)\n",
            "Dataframe Name:  225_puma8NH , Dataframe size:  (8192, 9)\n",
            "Dataframe Name:  227_cpu_small , Dataframe size:  (8192, 13)\n",
            "Dataframe Name:  294_satellite_image , Dataframe size:  (6435, 37)\n",
            "Dataframe Name:  344_mv , Dataframe size:  (40768, 11)\n",
            "Dataframe Name:  503_wind , Dataframe size:  (6574, 15)\n",
            "Dataframe Name:  537_houses , Dataframe size:  (20640, 9)\n",
            "Dataframe Name:  562_cpu_small , Dataframe size:  (8192, 13)\n",
            "Dataframe Name:  564_fried , Dataframe size:  (40768, 11)\n",
            "Dataframe Name:  573_cpu_act , Dataframe size:  (8192, 22)\n",
            "Dataframe Name:  574_house_16H , Dataframe size:  (22784, 17)\n"
          ],
          "name": "stdout"
        }
      ]
    },
    {
      "cell_type": "markdown",
      "metadata": {
        "id": "t1x5U5Z2Ai6h",
        "colab_type": "text"
      },
      "source": [
        "#### ==After going through all the datasets and research paper related to the dataset, below are the chosen list=="
      ]
    },
    {
      "cell_type": "code",
      "metadata": {
        "id": "usb-iCq6Ai6i",
        "colab_type": "code",
        "colab": {}
      },
      "source": [
        "sel_clss_dtst = ['adult','agaricus-lepiota', 'churn', 'nursery', 'satimage','texture']\n",
        "sel_rgrs_dtst = ['294_satellite_image','218_house_8L', '227_cpu_small', '503_wind', '344_mv','215_2dplanes']"
      ],
      "execution_count": 0,
      "outputs": []
    },
    {
      "cell_type": "code",
      "metadata": {
        "id": "IfYoHg-WAi6k",
        "colab_type": "code",
        "colab": {
          "base_uri": "https://localhost:8080/",
          "height": 119
        },
        "outputId": "6a7d2a5a-acbd-47df-f2cd-9e0e7ddfd712"
      },
      "source": [
        "for class_dtst in sel_clss_dtst:\n",
        "    df = fetch_data(class_dtst)\n",
        "    print(\"Dataframe Name: \",class_dtst, \", Dataframe size: \", df.shape)"
      ],
      "execution_count": 7,
      "outputs": [
        {
          "output_type": "stream",
          "text": [
            "Dataframe Name:  adult , Dataframe size:  (48842, 15)\n",
            "Dataframe Name:  agaricus-lepiota , Dataframe size:  (8145, 23)\n",
            "Dataframe Name:  churn , Dataframe size:  (5000, 21)\n",
            "Dataframe Name:  nursery , Dataframe size:  (12958, 9)\n",
            "Dataframe Name:  satimage , Dataframe size:  (6435, 37)\n",
            "Dataframe Name:  texture , Dataframe size:  (5500, 41)\n"
          ],
          "name": "stdout"
        }
      ]
    },
    {
      "cell_type": "code",
      "metadata": {
        "id": "VOvKnZw8Ai6o",
        "colab_type": "code",
        "colab": {
          "base_uri": "https://localhost:8080/",
          "height": 119
        },
        "outputId": "08c58e9c-60eb-44ba-c656-cce6429fde84"
      },
      "source": [
        "for regrs_dtst in sel_rgrs_dtst:\n",
        "    df = fetch_data(regrs_dtst)\n",
        "    print(\"Dataframe Name: \",regrs_dtst, \", Dataframe size: \", df.shape)"
      ],
      "execution_count": 8,
      "outputs": [
        {
          "output_type": "stream",
          "text": [
            "Dataframe Name:  294_satellite_image , Dataframe size:  (6435, 37)\n",
            "Dataframe Name:  218_house_8L , Dataframe size:  (22784, 9)\n",
            "Dataframe Name:  227_cpu_small , Dataframe size:  (8192, 13)\n",
            "Dataframe Name:  503_wind , Dataframe size:  (6574, 15)\n",
            "Dataframe Name:  344_mv , Dataframe size:  (40768, 11)\n",
            "Dataframe Name:  215_2dplanes , Dataframe size:  (40768, 11)\n"
          ],
          "name": "stdout"
        }
      ]
    },
    {
      "cell_type": "markdown",
      "metadata": {
        "id": "zVlKrZEcAi6q",
        "colab_type": "text"
      },
      "source": [
        "#### ==PennML benchmark datasets was chosen because it doesn't have any missing data and the categorical data have been labelly encoded. Let's check!=="
      ]
    },
    {
      "cell_type": "markdown",
      "metadata": {
        "id": "3CoRCnMhAi6q",
        "colab_type": "text"
      },
      "source": [
        "#### Checking missing value "
      ]
    },
    {
      "cell_type": "code",
      "metadata": {
        "id": "VIEv8IwlAi6r",
        "colab_type": "code",
        "colab": {
          "base_uri": "https://localhost:8080/",
          "height": 119
        },
        "outputId": "c7bf7643-e3f2-4572-c3a6-7aa21e659a8d"
      },
      "source": [
        "for class_dtst in sel_clss_dtst:\n",
        "    df = fetch_data(class_dtst)\n",
        "    print(\"Datasets Name: \",class_dtst, \" , Number of missing values : \", df.isnull().sum().sum())"
      ],
      "execution_count": 9,
      "outputs": [
        {
          "output_type": "stream",
          "text": [
            "Datasets Name:  adult  , Number of missing values :  0\n",
            "Datasets Name:  agaricus-lepiota  , Number of missing values :  0\n",
            "Datasets Name:  churn  , Number of missing values :  0\n",
            "Datasets Name:  nursery  , Number of missing values :  0\n",
            "Datasets Name:  satimage  , Number of missing values :  0\n",
            "Datasets Name:  texture  , Number of missing values :  0\n"
          ],
          "name": "stdout"
        }
      ]
    },
    {
      "cell_type": "code",
      "metadata": {
        "id": "WidyGrVjAi6t",
        "colab_type": "code",
        "colab": {
          "base_uri": "https://localhost:8080/",
          "height": 119
        },
        "outputId": "41f2dc89-8e05-48cb-f31e-5e9a3da80c80"
      },
      "source": [
        "for regrs_dtst in sel_rgrs_dtst:\n",
        "    df = fetch_data(regrs_dtst)\n",
        "    print(\"Datasets Name: \",regrs_dtst, \" , Number of missing values : \", df.isnull().sum().sum())"
      ],
      "execution_count": 10,
      "outputs": [
        {
          "output_type": "stream",
          "text": [
            "Datasets Name:  294_satellite_image  , Number of missing values :  0\n",
            "Datasets Name:  218_house_8L  , Number of missing values :  0\n",
            "Datasets Name:  227_cpu_small  , Number of missing values :  0\n",
            "Datasets Name:  503_wind  , Number of missing values :  0\n",
            "Datasets Name:  344_mv  , Number of missing values :  0\n",
            "Datasets Name:  215_2dplanes  , Number of missing values :  0\n"
          ],
          "name": "stdout"
        }
      ]
    },
    {
      "cell_type": "markdown",
      "metadata": {
        "id": "c3OIUQewAi6v",
        "colab_type": "text"
      },
      "source": [
        "#### Checking datatypes "
      ]
    },
    {
      "cell_type": "code",
      "metadata": {
        "id": "KqWsREC0Ai6w",
        "colab_type": "code",
        "colab": {
          "base_uri": "https://localhost:8080/",
          "height": 1000
        },
        "outputId": "cd56b0ab-d1d7-48d3-a92c-61743bef14dc"
      },
      "source": [
        "for class_dtst in sel_clss_dtst:\n",
        "    df = fetch_data(class_dtst)\n",
        "    print(df.info())"
      ],
      "execution_count": 11,
      "outputs": [
        {
          "output_type": "stream",
          "text": [
            "<class 'pandas.core.frame.DataFrame'>\n",
            "RangeIndex: 48842 entries, 0 to 48841\n",
            "Data columns (total 15 columns):\n",
            "age               48842 non-null float64\n",
            "workclass         48842 non-null int64\n",
            "fnlwgt            48842 non-null float64\n",
            "education         48842 non-null int64\n",
            "education-num     48842 non-null float64\n",
            "marital-status    48842 non-null int64\n",
            "occupation        48842 non-null int64\n",
            "relationship      48842 non-null int64\n",
            "race              48842 non-null int64\n",
            "sex               48842 non-null int64\n",
            "capital-gain      48842 non-null float64\n",
            "capital-loss      48842 non-null float64\n",
            "hours-per-week    48842 non-null float64\n",
            "native-country    48842 non-null int64\n",
            "target            48842 non-null int64\n",
            "dtypes: float64(6), int64(9)\n",
            "memory usage: 5.6 MB\n",
            "None\n",
            "<class 'pandas.core.frame.DataFrame'>\n",
            "RangeIndex: 8145 entries, 0 to 8144\n",
            "Data columns (total 23 columns):\n",
            "cap-shape                   8145 non-null int64\n",
            "cap-surface                 8145 non-null int64\n",
            "cap-color                   8145 non-null int64\n",
            "bruises?                    8145 non-null int64\n",
            "odor                        8145 non-null int64\n",
            "gill-attachment             8145 non-null int64\n",
            "gill-spacing                8145 non-null int64\n",
            "gill-size                   8145 non-null int64\n",
            "gill-color                  8145 non-null int64\n",
            "stalk-shape                 8145 non-null int64\n",
            "stalk-root                  8145 non-null int64\n",
            "stalk-surface-above-ring    8145 non-null int64\n",
            "stalk-surface-below-ring    8145 non-null int64\n",
            "stalk-color-above-ring      8145 non-null int64\n",
            "stalk-color-below-ring      8145 non-null int64\n",
            "veil-type                   8145 non-null int64\n",
            "veil-color                  8145 non-null int64\n",
            "ring-number                 8145 non-null int64\n",
            "ring-type                   8145 non-null int64\n",
            "spore-print-color           8145 non-null int64\n",
            "population                  8145 non-null int64\n",
            "habitat                     8145 non-null int64\n",
            "target                      8145 non-null int64\n",
            "dtypes: int64(23)\n",
            "memory usage: 1.4 MB\n",
            "None\n",
            "<class 'pandas.core.frame.DataFrame'>\n",
            "RangeIndex: 5000 entries, 0 to 4999\n",
            "Data columns (total 21 columns):\n",
            "state                            5000 non-null int64\n",
            "account length                   5000 non-null float64\n",
            "area code                        5000 non-null float64\n",
            "phone number                     5000 non-null int64\n",
            "international plan               5000 non-null int64\n",
            "voice mail plan                  5000 non-null int64\n",
            "number vmail messages            5000 non-null float64\n",
            "total day minutes                5000 non-null float64\n",
            "total day calls                  5000 non-null float64\n",
            "total day charge                 5000 non-null float64\n",
            "total eve minutes                5000 non-null float64\n",
            "total eve calls                  5000 non-null float64\n",
            "total eve charge                 5000 non-null float64\n",
            "total night minutes              5000 non-null float64\n",
            "total night calls                5000 non-null float64\n",
            "total night charge               5000 non-null float64\n",
            "total intl minutes               5000 non-null float64\n",
            "total intl calls                 5000 non-null float64\n",
            "total intl charge                5000 non-null float64\n",
            "number customer service calls    5000 non-null float64\n",
            "target                           5000 non-null int64\n",
            "dtypes: float64(16), int64(5)\n",
            "memory usage: 820.4 KB\n",
            "None\n",
            "<class 'pandas.core.frame.DataFrame'>\n",
            "RangeIndex: 12958 entries, 0 to 12957\n",
            "Data columns (total 9 columns):\n",
            "parents     12958 non-null int64\n",
            "has_nurs    12958 non-null int64\n",
            "form        12958 non-null int64\n",
            "children    12958 non-null int64\n",
            "housing     12958 non-null int64\n",
            "finance     12958 non-null int64\n",
            "social      12958 non-null int64\n",
            "health      12958 non-null int64\n",
            "target      12958 non-null int64\n",
            "dtypes: int64(9)\n",
            "memory usage: 911.2 KB\n",
            "None\n",
            "<class 'pandas.core.frame.DataFrame'>\n",
            "RangeIndex: 6435 entries, 0 to 6434\n",
            "Data columns (total 37 columns):\n",
            "A1        6435 non-null float64\n",
            "A2        6435 non-null float64\n",
            "A3        6435 non-null float64\n",
            "A4        6435 non-null float64\n",
            "A5        6435 non-null float64\n",
            "A6        6435 non-null float64\n",
            "A7        6435 non-null float64\n",
            "A8        6435 non-null float64\n",
            "A9        6435 non-null float64\n",
            "A10       6435 non-null float64\n",
            "A11       6435 non-null float64\n",
            "A12       6435 non-null float64\n",
            "A13       6435 non-null float64\n",
            "A14       6435 non-null float64\n",
            "A15       6435 non-null float64\n",
            "A16       6435 non-null float64\n",
            "A17       6435 non-null float64\n",
            "A18       6435 non-null float64\n",
            "A19       6435 non-null float64\n",
            "A20       6435 non-null float64\n",
            "A21       6435 non-null float64\n",
            "A22       6435 non-null float64\n",
            "A23       6435 non-null float64\n",
            "A24       6435 non-null float64\n",
            "A25       6435 non-null float64\n",
            "A26       6435 non-null float64\n",
            "A27       6435 non-null float64\n",
            "A28       6435 non-null float64\n",
            "A29       6435 non-null float64\n",
            "A30       6435 non-null float64\n",
            "A31       6435 non-null float64\n",
            "A32       6435 non-null float64\n",
            "A33       6435 non-null float64\n",
            "A34       6435 non-null float64\n",
            "A35       6435 non-null float64\n",
            "A36       6435 non-null float64\n",
            "target    6435 non-null int64\n",
            "dtypes: float64(36), int64(1)\n",
            "memory usage: 1.8 MB\n",
            "None\n",
            "<class 'pandas.core.frame.DataFrame'>\n",
            "RangeIndex: 5500 entries, 0 to 5499\n",
            "Data columns (total 41 columns):\n",
            "A1        5500 non-null float64\n",
            "A2        5500 non-null float64\n",
            "A3        5500 non-null float64\n",
            "A4        5500 non-null float64\n",
            "A5        5500 non-null float64\n",
            "A6        5500 non-null float64\n",
            "A7        5500 non-null float64\n",
            "A8        5500 non-null float64\n",
            "A9        5500 non-null float64\n",
            "A10       5500 non-null float64\n",
            "A11       5500 non-null float64\n",
            "A12       5500 non-null float64\n",
            "A13       5500 non-null float64\n",
            "A14       5500 non-null float64\n",
            "A15       5500 non-null float64\n",
            "A16       5500 non-null float64\n",
            "A17       5500 non-null float64\n",
            "A18       5500 non-null float64\n",
            "A19       5500 non-null float64\n",
            "A20       5500 non-null float64\n",
            "A21       5500 non-null float64\n",
            "A22       5500 non-null float64\n",
            "A23       5500 non-null float64\n",
            "A24       5500 non-null float64\n",
            "A25       5500 non-null float64\n",
            "A26       5500 non-null float64\n",
            "A27       5500 non-null float64\n",
            "A28       5500 non-null float64\n",
            "A29       5500 non-null float64\n",
            "A30       5500 non-null float64\n",
            "A31       5500 non-null float64\n",
            "A32       5500 non-null float64\n",
            "A33       5500 non-null float64\n",
            "A34       5500 non-null float64\n",
            "A35       5500 non-null float64\n",
            "A36       5500 non-null float64\n",
            "A37       5500 non-null float64\n",
            "A38       5500 non-null float64\n",
            "A39       5500 non-null float64\n",
            "A40       5500 non-null float64\n",
            "target    5500 non-null int64\n",
            "dtypes: float64(40), int64(1)\n",
            "memory usage: 1.7 MB\n",
            "None\n"
          ],
          "name": "stdout"
        }
      ]
    },
    {
      "cell_type": "code",
      "metadata": {
        "id": "tnp1P471Ai6z",
        "colab_type": "code",
        "colab": {
          "base_uri": "https://localhost:8080/",
          "height": 1000
        },
        "outputId": "de27439c-e2d0-4802-ca3e-69253c70d784"
      },
      "source": [
        "for regrs_dtst in sel_rgrs_dtst:\n",
        "    df = fetch_data(regrs_dtst)\n",
        "    print(df.info())"
      ],
      "execution_count": 12,
      "outputs": [
        {
          "output_type": "stream",
          "text": [
            "<class 'pandas.core.frame.DataFrame'>\n",
            "RangeIndex: 6435 entries, 0 to 6434\n",
            "Data columns (total 37 columns):\n",
            "attr1     6435 non-null float64\n",
            "attr2     6435 non-null float64\n",
            "attr3     6435 non-null float64\n",
            "attr4     6435 non-null float64\n",
            "attr5     6435 non-null float64\n",
            "attr6     6435 non-null float64\n",
            "attr7     6435 non-null float64\n",
            "attr8     6435 non-null float64\n",
            "attr9     6435 non-null float64\n",
            "attr10    6435 non-null float64\n",
            "attr11    6435 non-null float64\n",
            "attr12    6435 non-null float64\n",
            "attr13    6435 non-null float64\n",
            "attr14    6435 non-null float64\n",
            "attr15    6435 non-null float64\n",
            "attr16    6435 non-null float64\n",
            "attr17    6435 non-null float64\n",
            "attr18    6435 non-null float64\n",
            "attr19    6435 non-null float64\n",
            "attr20    6435 non-null float64\n",
            "attr21    6435 non-null float64\n",
            "attr22    6435 non-null float64\n",
            "attr23    6435 non-null float64\n",
            "attr24    6435 non-null float64\n",
            "attr25    6435 non-null float64\n",
            "attr26    6435 non-null float64\n",
            "attr27    6435 non-null float64\n",
            "attr28    6435 non-null float64\n",
            "attr29    6435 non-null float64\n",
            "attr30    6435 non-null float64\n",
            "attr31    6435 non-null float64\n",
            "attr32    6435 non-null float64\n",
            "attr33    6435 non-null float64\n",
            "attr34    6435 non-null float64\n",
            "attr35    6435 non-null float64\n",
            "attr36    6435 non-null float64\n",
            "target    6435 non-null float64\n",
            "dtypes: float64(37)\n",
            "memory usage: 1.8 MB\n",
            "None\n",
            "<class 'pandas.core.frame.DataFrame'>\n",
            "RangeIndex: 22784 entries, 0 to 22783\n",
            "Data columns (total 9 columns):\n",
            "P3        22784 non-null float64\n",
            "P6p4      22784 non-null float64\n",
            "P11p3     22784 non-null float64\n",
            "P16p2     22784 non-null float64\n",
            "P19p2     22784 non-null float64\n",
            "H5p2      22784 non-null float64\n",
            "H15p1     22784 non-null float64\n",
            "H40p4     22784 non-null float64\n",
            "target    22784 non-null float64\n",
            "dtypes: float64(9)\n",
            "memory usage: 1.6 MB\n",
            "None\n",
            "<class 'pandas.core.frame.DataFrame'>\n",
            "RangeIndex: 8192 entries, 0 to 8191\n",
            "Data columns (total 13 columns):\n",
            "lread       8192 non-null float64\n",
            "lwrite      8192 non-null float64\n",
            "scall       8192 non-null float64\n",
            "sread       8192 non-null float64\n",
            "swrite      8192 non-null float64\n",
            "fork        8192 non-null float64\n",
            "exec        8192 non-null float64\n",
            "rchar       8192 non-null float64\n",
            "wchar       8192 non-null float64\n",
            "runqsz      8192 non-null float64\n",
            "freemem     8192 non-null float64\n",
            "freeswap    8192 non-null float64\n",
            "target      8192 non-null float64\n",
            "dtypes: float64(13)\n",
            "memory usage: 832.1 KB\n",
            "None\n",
            "<class 'pandas.core.frame.DataFrame'>\n",
            "RangeIndex: 6574 entries, 0 to 6573\n",
            "Data columns (total 15 columns):\n",
            "year      6574 non-null float64\n",
            "month     6574 non-null float64\n",
            "day       6574 non-null float64\n",
            "RPT       6574 non-null float64\n",
            "VAL       6574 non-null float64\n",
            "ROS       6574 non-null float64\n",
            "KIL       6574 non-null float64\n",
            "SHA       6574 non-null float64\n",
            "BIR       6574 non-null float64\n",
            "DUB       6574 non-null float64\n",
            "CLA       6574 non-null float64\n",
            "MUL       6574 non-null float64\n",
            "CLO       6574 non-null float64\n",
            "BEL       6574 non-null float64\n",
            "target    6574 non-null float64\n",
            "dtypes: float64(15)\n",
            "memory usage: 770.5 KB\n",
            "None\n",
            "<class 'pandas.core.frame.DataFrame'>\n",
            "RangeIndex: 40768 entries, 0 to 40767\n",
            "Data columns (total 11 columns):\n",
            "x1        40768 non-null float64\n",
            "x2        40768 non-null float64\n",
            "x3        40768 non-null float64\n",
            "x4        40768 non-null float64\n",
            "x5        40768 non-null float64\n",
            "x6        40768 non-null float64\n",
            "x7        40768 non-null float64\n",
            "x8        40768 non-null float64\n",
            "x9        40768 non-null float64\n",
            "x10       40768 non-null float64\n",
            "target    40768 non-null float64\n",
            "dtypes: float64(11)\n",
            "memory usage: 3.4 MB\n",
            "None\n",
            "<class 'pandas.core.frame.DataFrame'>\n",
            "RangeIndex: 40768 entries, 0 to 40767\n",
            "Data columns (total 11 columns):\n",
            "x1        40768 non-null float64\n",
            "x2        40768 non-null float64\n",
            "x3        40768 non-null float64\n",
            "x4        40768 non-null float64\n",
            "x5        40768 non-null float64\n",
            "x6        40768 non-null float64\n",
            "x7        40768 non-null float64\n",
            "x8        40768 non-null float64\n",
            "x9        40768 non-null float64\n",
            "x10       40768 non-null float64\n",
            "target    40768 non-null float64\n",
            "dtypes: float64(11)\n",
            "memory usage: 3.4 MB\n",
            "None\n"
          ],
          "name": "stdout"
        }
      ]
    },
    {
      "cell_type": "markdown",
      "metadata": {
        "id": "0L_6fnUmWxe3",
        "colab_type": "text"
      },
      "source": [
        "### Check the real datatype from the documentation definition"
      ]
    },
    {
      "cell_type": "code",
      "metadata": {
        "id": "f9h-IiblSEB9",
        "colab_type": "code",
        "colab": {}
      },
      "source": [
        "def get_types(df):\n",
        "    data_types={}\n",
        "    for cols in df.columns:\n",
        "        if df[cols].dtype=='float64':\n",
        "           data_types[cols] = 'continous'\n",
        "        elif df[cols].dtype=='int64':\n",
        "            if len(set(df[cols].values)) <= 2:\n",
        "                data_types[cols] = 'binary'\n",
        "            else:\n",
        "                data_types[cols] = 'discrete'\n",
        "    return data_types"
      ],
      "execution_count": 0,
      "outputs": []
    },
    {
      "cell_type": "code",
      "metadata": {
        "id": "lC9nHJASSi_7",
        "colab_type": "code",
        "colab": {
          "base_uri": "https://localhost:8080/",
          "height": 139
        },
        "outputId": "7d2ea04f-0424-405d-c2e4-56f4955e6bc2"
      },
      "source": [
        "for regrs_dtst in sel_rgrs_dtst:\n",
        "    df = fetch_data(regrs_dtst)\n",
        "    print(f\"{regrs_dtst} dataset : \", get_types(df))"
      ],
      "execution_count": 60,
      "outputs": [
        {
          "output_type": "stream",
          "text": [
            "294_satellite_image dataset :  {'attr1': 'continous', 'attr2': 'continous', 'attr3': 'continous', 'attr4': 'continous', 'attr5': 'continous', 'attr6': 'continous', 'attr7': 'continous', 'attr8': 'continous', 'attr9': 'continous', 'attr10': 'continous', 'attr11': 'continous', 'attr12': 'continous', 'attr13': 'continous', 'attr14': 'continous', 'attr15': 'continous', 'attr16': 'continous', 'attr17': 'continous', 'attr18': 'continous', 'attr19': 'continous', 'attr20': 'continous', 'attr21': 'continous', 'attr22': 'continous', 'attr23': 'continous', 'attr24': 'continous', 'attr25': 'continous', 'attr26': 'continous', 'attr27': 'continous', 'attr28': 'continous', 'attr29': 'continous', 'attr30': 'continous', 'attr31': 'continous', 'attr32': 'continous', 'attr33': 'continous', 'attr34': 'continous', 'attr35': 'continous', 'attr36': 'continous', 'target': 'continous'}\n",
            "218_house_8L dataset :  {'P3': 'continous', 'P6p4': 'continous', 'P11p3': 'continous', 'P16p2': 'continous', 'P19p2': 'continous', 'H5p2': 'continous', 'H15p1': 'continous', 'H40p4': 'continous', 'target': 'continous'}\n",
            "227_cpu_small dataset :  {'lread': 'continous', 'lwrite': 'continous', 'scall': 'continous', 'sread': 'continous', 'swrite': 'continous', 'fork': 'continous', 'exec': 'continous', 'rchar': 'continous', 'wchar': 'continous', 'runqsz': 'continous', 'freemem': 'continous', 'freeswap': 'continous', 'target': 'continous'}\n",
            "503_wind dataset :  {'year': 'continous', 'month': 'continous', 'day': 'continous', 'RPT': 'continous', 'VAL': 'continous', 'ROS': 'continous', 'KIL': 'continous', 'SHA': 'continous', 'BIR': 'continous', 'DUB': 'continous', 'CLA': 'continous', 'MUL': 'continous', 'CLO': 'continous', 'BEL': 'continous', 'target': 'continous'}\n",
            "344_mv dataset :  {'x1': 'continous', 'x2': 'continous', 'x3': 'continous', 'x4': 'continous', 'x5': 'continous', 'x6': 'continous', 'x7': 'continous', 'x8': 'continous', 'x9': 'continous', 'x10': 'continous', 'target': 'continous'}\n",
            "215_2dplanes dataset :  {'x1': 'continous', 'x2': 'continous', 'x3': 'continous', 'x4': 'continous', 'x5': 'continous', 'x6': 'continous', 'x7': 'continous', 'x8': 'continous', 'x9': 'continous', 'x10': 'continous', 'target': 'continous'}\n"
          ],
          "name": "stdout"
        }
      ]
    },
    {
      "cell_type": "code",
      "metadata": {
        "id": "bZgpijxBSxXl",
        "colab_type": "code",
        "colab": {
          "base_uri": "https://localhost:8080/",
          "height": 139
        },
        "outputId": "8fa68f00-bbd3-4c1b-c072-0d8aa369d223"
      },
      "source": [
        "for class_dtst in sel_clss_dtst:\n",
        "    df = fetch_data(class_dtst)\n",
        "    print(f\"{class_dtst} dataset : \", get_types(df))"
      ],
      "execution_count": 61,
      "outputs": [
        {
          "output_type": "stream",
          "text": [
            "adult dataset :  {'age': 'continous', 'workclass': 'discrete', 'fnlwgt': 'continous', 'education': 'discrete', 'education-num': 'continous', 'marital-status': 'discrete', 'occupation': 'discrete', 'relationship': 'discrete', 'race': 'discrete', 'sex': 'binary', 'capital-gain': 'continous', 'capital-loss': 'continous', 'hours-per-week': 'continous', 'native-country': 'discrete', 'target': 'binary'}\n",
            "agaricus-lepiota dataset :  {'cap-shape': 'discrete', 'cap-surface': 'discrete', 'cap-color': 'discrete', 'bruises?': 'binary', 'odor': 'discrete', 'gill-attachment': 'binary', 'gill-spacing': 'binary', 'gill-size': 'binary', 'gill-color': 'discrete', 'stalk-shape': 'binary', 'stalk-root': 'discrete', 'stalk-surface-above-ring': 'discrete', 'stalk-surface-below-ring': 'discrete', 'stalk-color-above-ring': 'discrete', 'stalk-color-below-ring': 'discrete', 'veil-type': 'binary', 'veil-color': 'discrete', 'ring-number': 'discrete', 'ring-type': 'discrete', 'spore-print-color': 'discrete', 'population': 'discrete', 'habitat': 'discrete', 'target': 'binary'}\n",
            "churn dataset :  {'state': 'discrete', 'account length': 'continous', 'area code': 'continous', 'phone number': 'discrete', 'international plan': 'binary', 'voice mail plan': 'binary', 'number vmail messages': 'continous', 'total day minutes': 'continous', 'total day calls': 'continous', 'total day charge': 'continous', 'total eve minutes': 'continous', 'total eve calls': 'continous', 'total eve charge': 'continous', 'total night minutes': 'continous', 'total night calls': 'continous', 'total night charge': 'continous', 'total intl minutes': 'continous', 'total intl calls': 'continous', 'total intl charge': 'continous', 'number customer service calls': 'continous', 'target': 'binary'}\n",
            "nursery dataset :  {'parents': 'discrete', 'has_nurs': 'discrete', 'form': 'discrete', 'children': 'discrete', 'housing': 'discrete', 'finance': 'binary', 'social': 'discrete', 'health': 'discrete', 'target': 'discrete'}\n",
            "satimage dataset :  {'A1': 'continous', 'A2': 'continous', 'A3': 'continous', 'A4': 'continous', 'A5': 'continous', 'A6': 'continous', 'A7': 'continous', 'A8': 'continous', 'A9': 'continous', 'A10': 'continous', 'A11': 'continous', 'A12': 'continous', 'A13': 'continous', 'A14': 'continous', 'A15': 'continous', 'A16': 'continous', 'A17': 'continous', 'A18': 'continous', 'A19': 'continous', 'A20': 'continous', 'A21': 'continous', 'A22': 'continous', 'A23': 'continous', 'A24': 'continous', 'A25': 'continous', 'A26': 'continous', 'A27': 'continous', 'A28': 'continous', 'A29': 'continous', 'A30': 'continous', 'A31': 'continous', 'A32': 'continous', 'A33': 'continous', 'A34': 'continous', 'A35': 'continous', 'A36': 'continous', 'target': 'discrete'}\n",
            "texture dataset :  {'A1': 'continous', 'A2': 'continous', 'A3': 'continous', 'A4': 'continous', 'A5': 'continous', 'A6': 'continous', 'A7': 'continous', 'A8': 'continous', 'A9': 'continous', 'A10': 'continous', 'A11': 'continous', 'A12': 'continous', 'A13': 'continous', 'A14': 'continous', 'A15': 'continous', 'A16': 'continous', 'A17': 'continous', 'A18': 'continous', 'A19': 'continous', 'A20': 'continous', 'A21': 'continous', 'A22': 'continous', 'A23': 'continous', 'A24': 'continous', 'A25': 'continous', 'A26': 'continous', 'A27': 'continous', 'A28': 'continous', 'A29': 'continous', 'A30': 'continous', 'A31': 'continous', 'A32': 'continous', 'A33': 'continous', 'A34': 'continous', 'A35': 'continous', 'A36': 'continous', 'A37': 'continous', 'A38': 'continous', 'A39': 'continous', 'A40': 'continous', 'target': 'discrete'}\n"
          ],
          "name": "stdout"
        }
      ]
    }
  ]
}